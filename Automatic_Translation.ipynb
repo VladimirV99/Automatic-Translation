{
 "cells": [
  {
   "cell_type": "markdown",
   "metadata": {},
   "source": [
    "# Automatic Translation"
   ]
  },
  {
   "cell_type": "markdown",
   "metadata": {},
   "source": [
    "## Imports"
   ]
  },
  {
   "cell_type": "code",
   "execution_count": 2,
   "metadata": {},
   "outputs": [],
   "source": [
    "import numpy as np\n",
    "import pandas as pd\n",
    "import tensorflow as tf\n",
    "from tensorflow import keras"
   ]
  },
  {
   "cell_type": "markdown",
   "metadata": {},
   "source": [
    "## Download datasets\n",
    "\n",
    "Translation dataset used in original paper can be found [here](https://www.tensorflow.org/datasets/catalog/wmt14_translate)"
   ]
  },
  {
   "cell_type": "code",
   "execution_count": 2,
   "metadata": {},
   "outputs": [
    {
     "data": {
      "text/plain": [
       "[]"
      ]
     },
     "execution_count": 2,
     "metadata": {},
     "output_type": "execute_result"
    }
   ],
   "source": [
    "# make dataset directory if doesn't exist\n",
    "!!mkdir -p datasets"
   ]
  },
  {
   "cell_type": "markdown",
   "metadata": {},
   "source": [
    "### curl\n",
    "\n",
    "Use curl to download files from the Internet\n",
    "\n",
    "`-o` option to set file name when downloaded\n",
    "\n",
    "`-O` option to keep remote file name\n",
    "\n",
    "output path can't be specified so manually cd to wanted directory"
   ]
  },
  {
   "cell_type": "code",
   "execution_count": 17,
   "metadata": {},
   "outputs": [
    {
     "data": {
      "text/plain": [
       "['  % Total    % Received % Xferd  Average Speed   Time    Time     Time  Current',\n",
       " '                                 Dload  Upload   Total   Spent    Left  Speed',\n",
       " '',\n",
       " '  0     0    0     0    0     0      0      0 --:--:-- --:--:-- --:--:--     0',\n",
       " '100  5839  100  5839    0     0  11916      0 --:--:-- --:--:-- --:--:-- 11916']"
      ]
     },
     "execution_count": 17,
     "metadata": {},
     "output_type": "execute_result"
    }
   ],
   "source": [
    "# Download english language word list\n",
    "!!cd datasets && curl -o english_words.txt https://gist.githubusercontent.com/deekayen/4148741/raw/98d35708fa344717d8eee15d11987de6c8e26d7d/1-1000.txt"
   ]
  },
  {
   "cell_type": "code",
   "execution_count": 29,
   "metadata": {},
   "outputs": [
    {
     "data": {
      "text/plain": [
       "[]"
      ]
     },
     "execution_count": 29,
     "metadata": {},
     "output_type": "execute_result"
    }
   ],
   "source": [
    "# Download french language word list\n",
    "!!cd datasets && curl -O http://www.lexique.org/databases/Lexique383/Lexique383.zip\n",
    "!!cd datasets && unzip Lexique383.zip\n",
    "!!mv datasets/Lexique383.tsv datasets/french_words.txt"
   ]
  },
  {
   "cell_type": "code",
   "execution_count": 5,
   "metadata": {},
   "outputs": [
    {
     "data": {
      "text/plain": [
       "[]"
      ]
     },
     "execution_count": 5,
     "metadata": {},
     "output_type": "execute_result"
    }
   ],
   "source": [
    "# Download english-to-french translation dataset\n",
    "!!cd datasets && curl -O http://www.manythings.org/anki/fra-eng.zip\n",
    "!!cd datasets && unzip fra-eng.zip\n",
    "!!rm datasets/_about.txt"
   ]
  },
  {
   "cell_type": "markdown",
   "metadata": {},
   "source": [
    "## Preprocessing\n",
    "\n",
    "Sentences from the source and destination languages are converted to token sequences and padded to the same length. Source sentences are padded on the left and destination sentences on the right. Special tokens representing words not in dicionary (\\<UNK\\>), start of sequence (\\<SOS\\>) and end of sequence (\\<EOS\\>) are added to the destination sentences. There are two generated destination sentences, one for decoder input, and one for decoder ouput. Source language sequences are reversed for better results."
   ]
  },
  {
   "cell_type": "code",
   "execution_count": 7,
   "metadata": {},
   "outputs": [],
   "source": [
    "from tensorflow.keras.preprocessing.text import Tokenizer\n",
    "from tensorflow.keras.preprocessing.sequence import pad_sequences\n",
    "from tensorflow.keras.utils import to_categorical"
   ]
  },
  {
   "cell_type": "markdown",
   "metadata": {},
   "source": [
    "### English word list"
   ]
  },
  {
   "cell_type": "code",
   "execution_count": null,
   "metadata": {},
   "outputs": [],
   "source": [
    "# word list for source language\n",
    "input_words = []\n",
    "\n",
    "# load source language word list and convert characters to lower\n",
    "with open('datasets/english_words.txt') as f:\n",
    "    input_words = f.read().lower().split('\\n')\n",
    "# print(input_words)\n",
    "\n",
    "# Make source language tokenizer. UNK token is 1\n",
    "source_tokenizer = Tokenizer(num_words=len(input_words), oov_token=1)\n",
    "source_tokenizer.fit_on_texts(input_words)"
   ]
  },
  {
   "cell_type": "markdown",
   "metadata": {},
   "source": [
    "### French word list"
   ]
  },
  {
   "cell_type": "code",
   "execution_count": null,
   "metadata": {},
   "outputs": [],
   "source": [
    "# word list for destination language\n",
    "target_words = []\n",
    "\n",
    "# Target language\n",
    "# load target language word list and convert characters to lower\n",
    "# with open('datasets/french_words.txt') as f:\n",
    "#     target_words = f.read().lower().split('\\n')\n",
    "# print(target_words[0])\n",
    "df = pd.read_csv('datasets/french_words.txt')\n",
    "print(df.head())\n",
    "\n",
    "# # Make target language tokenizer. UNK token is 1\n",
    "# target_tokenizer = Tokenizer(num_words=len(target_words), oov_token=1)\n",
    "# target_tokenizer.fit_on_texts(target_words)"
   ]
  },
  {
   "cell_type": "markdown",
   "metadata": {},
   "source": [
    "### English-to-French translation dataset"
   ]
  },
  {
   "cell_type": "code",
   "execution_count": 4,
   "metadata": {},
   "outputs": [],
   "source": [
    "source_sentences = []\n",
    "target_sentences_input = []\n",
    "target_sentences_output = []\n",
    "\n",
    "lines = []\n",
    "with open('datasets/fra.txt') as f:\n",
    "    lines = f.read().split('\\n')\n",
    "# TODO remove limit after testing\n",
    "for line in lines[:50]:\n",
    "# for line in lines[:-1]:\n",
    "    input_sentence, target_sentence, _ = line.split('\\t')\n",
    "    source_sentences.append(input_sentence)\n",
    "    target_sentences_input.append('<SOS> ' + target_sentence)\n",
    "    target_sentences_output.append(target_sentence + ' <EOS>')"
   ]
  },
  {
   "cell_type": "code",
   "execution_count": 5,
   "metadata": {},
   "outputs": [],
   "source": [
    "NUM_SOURCE_WORDS = 50_000\n",
    "NUM_TARGET_WORDS = 50_000"
   ]
  },
  {
   "cell_type": "code",
   "execution_count": 8,
   "metadata": {},
   "outputs": [],
   "source": [
    "# Make source language tokenizer\n",
    "source_tokenizer = Tokenizer(num_words=NUM_SOURCE_WORDS)\n",
    "source_tokenizer.fit_on_texts(source_sentences)\n",
    "source_dict = source_tokenizer.word_index\n",
    "\n",
    "# Make destination language tokenizer\n",
    "target_tokenizer = Tokenizer(num_words=NUM_TARGET_WORDS)\n",
    "target_tokenizer.fit_on_texts(target_sentences_input + target_sentences_output)\n",
    "target_dict = target_tokenizer.word_index"
   ]
  },
  {
   "cell_type": "code",
   "execution_count": 10,
   "metadata": {},
   "outputs": [
    {
     "name": "stdout",
     "output_type": "stream",
     "text": [
      "[32  1] [ 1  3 65  0  0  0]\n"
     ]
    }
   ],
   "source": [
    "# Tokenize sentences to sequences\n",
    "source_sequences = source_tokenizer.texts_to_sequences(source_sentences)\n",
    "target_sequences_input = target_tokenizer.texts_to_sequences(target_sentences_input)\n",
    "target_sequences_output = target_tokenizer.texts_to_sequences(target_sentences_output)\n",
    "\n",
    "# Reverse source sequnces\n",
    "for sequence in source_sequences:\n",
    "    sequence.reverse()\n",
    "\n",
    "max_source_len = max([len(sequence) for sequence in source_sequences])\n",
    "max_target_len = max([len(sequence) for sequence in target_sequences_output])\n",
    "\n",
    "encoder_input_sequences = pad_sequences(source_sequences, maxlen=max_source_len, padding='pre')\n",
    "decoder_input_sequences = pad_sequences(target_sequences_input, maxlen=max_target_len, padding='post')\n",
    "decoder_output_sequences = pad_sequences(target_sequences_output, maxlen=max_target_len, padding='post')\n",
    "\n",
    "for i in range(49, 50):\n",
    "    print(str(encoder_input_sequences[i]) + ' ' + str(decoder_input_sequences[i]))"
   ]
  },
  {
   "cell_type": "markdown",
   "metadata": {},
   "source": [
    "## Build the Model"
   ]
  },
  {
   "cell_type": "code",
   "execution_count": 7,
   "metadata": {},
   "outputs": [],
   "source": [
    "from tensorflow.keras import Model\n",
    "from tensorflow.keras.layers import Input, Embedding, LSTM, Dense "
   ]
  },
  {
   "cell_type": "markdown",
   "metadata": {},
   "source": [
    "### Embedding layer\n",
    "\n",
    "Keras documentation: https://keras.io/api/layers/core_layers/embedding/\n",
    "\n",
    "Turns positive integers (indexes) into dense vectors of fixed size.\n",
    "\n",
    "e.g. [[4], [20]] -> [[0.25, 0.1], [0.6, -0.2]]\n",
    "\n",
    "This layer can only be used as the first layer in a model.\n",
    "\n",
    "Arguments:\n",
    "- **input_dim**: Integer. Size of the vocabulary, i.e. maximum integer index + 1.\n",
    "- **output_dim**: Integer. Dimension of the dense embedding."
   ]
  },
  {
   "cell_type": "markdown",
   "metadata": {},
   "source": [
    "### LSTM layer\n",
    "\n",
    "Keras documentation: https://keras.io/api/layers/recurrent_layers/lstm/\n",
    "\n",
    "Long Short-Term Memory layer\n",
    "\n",
    "Arguments:\n",
    "- **units**: Positive integer, dimensionality of the output space.\n",
    "- **kernel_initializer**: Initializer for the kernel weights matrix\n",
    "- **return_sequences**: Boolean. Whether to return the last output in the output sequence, or the full sequence. Default: False.\n",
    "- **return_state**: Boolean. Whether to return the last state in addition to the output. Default: False.\n",
    "\n",
    "return_state returns the lstm output, last hidden state and last cell state and return_sequences returns hidden states for each step as the main output. Both flags can be used at the same time and will return all hidden states, last hidden state and last cell state.\n",
    "\n",
    "For more information on return_sequences and return_state read [this](https://machinelearningmastery.com/return-sequences-and-return-states-for-lstms-in-keras/)"
   ]
  },
  {
   "cell_type": "markdown",
   "metadata": {},
   "source": [
    "### Layer initializers\n",
    "\n",
    "Keras documentation: https://keras.io/api/layers/initializers/\n",
    "\n",
    "Initializers define the way to set the initial random weights of Keras layers.\n",
    "\n",
    "Some of the available initializers:\n",
    "- RandomNormal\n",
    "- RandomUniform\n",
    "- Zeros\n",
    "- Ones\n",
    "\n",
    "Original paper uses uniform distribution in range \\[-0.08, 0.08\\]"
   ]
  },
  {
   "cell_type": "code",
   "execution_count": 8,
   "metadata": {},
   "outputs": [],
   "source": [
    "# Number of tokens is len of source_dict + UNK + 1\n",
    "n_encoder_tokens = len(source_dict)+2\n",
    "\n",
    "# Number of tokens is len of target_dict + UNK + 1\n",
    "n_decoder_tokens = len(target_dict)+2"
   ]
  },
  {
   "cell_type": "code",
   "execution_count": 9,
   "metadata": {},
   "outputs": [],
   "source": [
    "# # Number of tokens is len of input_words + UNK + 1\n",
    "# n_encoder_tokens = len(input_words)+2\n",
    "\n",
    "# # Number of tokens is len of target_words + UNK + 1\n",
    "# num_decoder_tokens = len(target_words)+2\n",
    "\n",
    "EMBEDDING_DIM = 1000\n",
    "LSTM_DIM = 256"
   ]
  },
  {
   "cell_type": "markdown",
   "metadata": {},
   "source": [
    "### Encoder"
   ]
  },
  {
   "cell_type": "code",
   "execution_count": 10,
   "metadata": {},
   "outputs": [],
   "source": [
    "encoder_inputs = Input(shape=(max_source_len,))\n",
    "x = Embedding(n_encoder_tokens, EMBEDDING_DIM)(encoder_inputs)\n",
    "x, state_h, state_c = LSTM(\n",
    "    LSTM_DIM,\n",
    "    kernel_initializer = tf.keras.initializers.RandomUniform(minval=-0.08, maxval=0.08, seed=None),\n",
    "    return_state=True\n",
    ")(x)\n",
    "\n",
    "encoder_states = [state_h, state_c]"
   ]
  },
  {
   "cell_type": "markdown",
   "metadata": {},
   "source": [
    "### Decoder"
   ]
  },
  {
   "cell_type": "code",
   "execution_count": 11,
   "metadata": {},
   "outputs": [],
   "source": [
    "decoder_inputs = Input(shape=(max_target_len,))\n",
    "x = Embedding(n_decoder_tokens, EMBEDDING_DIM)(decoder_inputs)\n",
    "x = LSTM(\n",
    "    LSTM_DIM, \n",
    "    kernel_initializer = tf.keras.initializers.RandomUniform(minval=-0.08, maxval=0.08, seed=None),\n",
    "    return_sequences=True\n",
    ")(x, initial_state=encoder_states)\n",
    "decoder_outputs = Dense(n_decoder_tokens, activation='softmax')(x)"
   ]
  },
  {
   "cell_type": "markdown",
   "metadata": {},
   "source": [
    "### Model"
   ]
  },
  {
   "cell_type": "markdown",
   "metadata": {},
   "source": [
    "TODO Use separate models for encoder and decoder\n",
    "\n",
    "TODO Use beam search\n",
    "\n",
    "Beam search:\n",
    "- https://machinelearningmastery.com/beam-search-decoder-natural-language-processing/\n",
    "- https://towardsdatascience.com/boosting-your-sequence-generation-performance-with-beam-search-language-model-decoding-74ee64de435a\n",
    "- https://medium.com/machine-learning-bites/deeplearning-series-sequence-to-sequence-architectures-4c4ca89e5654"
   ]
  },
  {
   "cell_type": "code",
   "execution_count": 12,
   "metadata": {},
   "outputs": [],
   "source": [
    "model = Model([encoder_inputs, decoder_inputs], decoder_outputs)\n",
    "\n",
    "# TODO Make adaptive learning rate using keras.callbacks.LearningRateScheduler\n",
    "# https://machinelearningmastery.com/understand-the-dynamics-of-learning-rate-on-deep-learning-neural-networks/\n",
    "# TODO Use SGD optimizer with no momentum, start rate 0.7\n",
    "# https://keras.io/api/optimizers/sgd/\n",
    "model.compile(optimizer='rmsprop', loss='categorical_crossentropy')"
   ]
  },
  {
   "cell_type": "markdown",
   "metadata": {},
   "source": [
    "### Plot the model"
   ]
  },
  {
   "cell_type": "code",
   "execution_count": 13,
   "metadata": {},
   "outputs": [
    {
     "data": {
      "image/png": "[encoded data removed]",
      "text/plain": [
       "<IPython.core.display.Image object>"
      ]
     },
     "execution_count": 13,
     "metadata": {},
     "output_type": "execute_result"
    }
   ],
   "source": [
    "from tensorflow.keras.utils import plot_model\n",
    "plot_model(model, to_file='model.png', show_shapes=True, show_layer_names=True)"
   ]
  },
  {
   "cell_type": "markdown",
   "metadata": {},
   "source": [
    "# Train the model"
   ]
  },
  {
   "cell_type": "code",
   "execution_count": null,
   "metadata": {},
   "outputs": [],
   "source": [
    "EPOCHS = 10\n",
    "BATCH_SIZE = 64\n",
    "VALIDATION_SPLIT = 0.2"
   ]
  },
  {
   "cell_type": "code",
   "execution_count": 11,
   "metadata": {},
   "outputs": [],
   "source": [
    "# Decoder outputs need to be one-hot-encoded for the dense softmax layer to work\n",
    "from tensorflow.keras.utils import to_categorical\n",
    "decoder_output = [to_categorical(output) for output in decoder_output_sequences]"
   ]
  },
  {
   "cell_type": "code",
   "execution_count": 13,
   "metadata": {},
   "outputs": [
    {
     "name": "stdout",
     "output_type": "stream",
     "text": [
      "[8 2 0 0 0 0]\n",
      "[[0. 0. 0. 0. 0. 0. 0. 0. 1.]\n",
      " [0. 0. 1. 0. 0. 0. 0. 0. 0.]\n",
      " [1. 0. 0. 0. 0. 0. 0. 0. 0.]\n",
      " [1. 0. 0. 0. 0. 0. 0. 0. 0.]\n",
      " [1. 0. 0. 0. 0. 0. 0. 0. 0.]\n",
      " [1. 0. 0. 0. 0. 0. 0. 0. 0.]]\n"
     ]
    }
   ],
   "source": [
    "print(decoder_output_sequences[0])\n",
    "print(decoder_output[0])"
   ]
  },
  {
   "cell_type": "code",
   "execution_count": null,
   "metadata": {},
   "outputs": [],
   "source": [
    "history = model.fit(\n",
    "    [encoder_input_sequences, decoder_input_sequences],\n",
    "    decoder_output,\n",
    "    epochs=EPOCHS,\n",
    "    batch_size=BATCH_SIZE,\n",
    "    validation_split=VALIDATION_SPLIT\n",
    ")"
   ]
  },
  {
   "cell_type": "markdown",
   "metadata": {},
   "source": [
    "# Analysis"
   ]
  },
  {
   "cell_type": "markdown",
   "metadata": {},
   "source": [
    "TODO 2-dimensional PCA of hidden state"
   ]
  },
  {
   "cell_type": "markdown",
   "metadata": {},
   "source": [
    "### BLEU score\n",
    "\n",
    "BLEU (Bilingual Evaluation Understudy) is a score for comparing machine-translated text to one or more reference translations made by a human. Scoring usuall works on indiviual sentences and is then averaged on the entire text. Scores have a value between 0 and 1.\n",
    "\n",
    "For more info:\n",
    "- https://en.wikipedia.org/wiki/BLEU\n",
    "- https://machinelearningmastery.com/calculate-bleu-score-for-text-python/\n",
    "- https://towardsdatascience.com/bleu-bilingual-evaluation-understudy-2b4eab9bcfd1"
   ]
  },
  {
   "cell_type": "code",
   "execution_count": null,
   "metadata": {},
   "outputs": [],
   "source": [
    "from nltk.translate.bleu_score import sentence_bleu"
   ]
  }
 ],
 "metadata": {
  "kernelspec": {
   "display_name": "Python 3",
   "language": "python",
   "name": "python3"
  },
  "language_info": {
   "codemirror_mode": {
    "name": "ipython",
    "version": 3
   },
   "file_extension": ".py",
   "mimetype": "text/x-python",
   "name": "python",
   "nbconvert_exporter": "python",
   "pygments_lexer": "ipython3",
   "version": "3.8.5"
  }
 },
 "nbformat": 4,
 "nbformat_minor": 4
}
