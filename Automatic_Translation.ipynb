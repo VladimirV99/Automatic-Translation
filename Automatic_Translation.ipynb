{
 "cells": [
  {
   "cell_type": "markdown",
   "metadata": {},
   "source": [
    "# Automatic Translation"
   ]
  },
  {
   "cell_type": "markdown",
   "metadata": {},
   "source": [
    "## Imports"
   ]
  },
  {
   "cell_type": "code",
   "execution_count": 33,
   "metadata": {},
   "outputs": [],
   "source": [
    "import numpy as np\n",
    "import pandas as pd\n",
    "import tensorflow as tf\n",
    "from tensorflow import keras"
   ]
  },
  {
   "cell_type": "markdown",
   "metadata": {},
   "source": [
    "## Download datasets"
   ]
  },
  {
   "cell_type": "code",
   "execution_count": 16,
   "metadata": {},
   "outputs": [
    {
     "data": {
      "text/plain": [
       "[]"
      ]
     },
     "execution_count": 16,
     "metadata": {},
     "output_type": "execute_result"
    }
   ],
   "source": [
    "# make dataset directory if doesn't exist\n",
    "!!mkdir -p datasets"
   ]
  },
  {
   "cell_type": "markdown",
   "metadata": {},
   "source": [
    "Use curl to download files from the Internet\n",
    "\n",
    "`-o` option to set file name when downloaded\n",
    "\n",
    "`-O` option to keep remote file name\n",
    "\n",
    "output path can't be specified so manually cd to wanted directory"
   ]
  },
  {
   "cell_type": "code",
   "execution_count": 17,
   "metadata": {},
   "outputs": [
    {
     "data": {
      "text/plain": [
       "['  % Total    % Received % Xferd  Average Speed   Time    Time     Time  Current',\n",
       " '                                 Dload  Upload   Total   Spent    Left  Speed',\n",
       " '',\n",
       " '  0     0    0     0    0     0      0      0 --:--:-- --:--:-- --:--:--     0',\n",
       " '100  5839  100  5839    0     0  11916      0 --:--:-- --:--:-- --:--:-- 11916']"
      ]
     },
     "execution_count": 17,
     "metadata": {},
     "output_type": "execute_result"
    }
   ],
   "source": [
    "# Download english language word list\n",
    "!!cd datasets && curl -o english_words.txt https://gist.githubusercontent.com/deekayen/4148741/raw/98d35708fa344717d8eee15d11987de6c8e26d7d/1-1000.txt"
   ]
  },
  {
   "cell_type": "code",
   "execution_count": 29,
   "metadata": {},
   "outputs": [
    {
     "data": {
      "text/plain": [
       "[]"
      ]
     },
     "execution_count": 29,
     "metadata": {},
     "output_type": "execute_result"
    }
   ],
   "source": [
    "# Download french language word list\n",
    "!!cd datasets && curl -O http://www.lexique.org/databases/Lexique383/Lexique383.zip\n",
    "!!cd datasets && unzip Lexique383.zip\n",
    "!!mv datasets/Lexique383.tsv datasets/french_words.txt"
   ]
  },
  {
   "cell_type": "code",
   "execution_count": 5,
   "metadata": {},
   "outputs": [
    {
     "data": {
      "text/plain": [
       "[]"
      ]
     },
     "execution_count": 5,
     "metadata": {},
     "output_type": "execute_result"
    }
   ],
   "source": [
    "# Download english-to-french translation dataset\n",
    "!!cd datasets && curl -O http://www.manythings.org/anki/fra-eng.zip\n",
    "!!cd datasets && unzip fra-eng.zip\n",
    "!!rm datasets/_about.txt"
   ]
  },
  {
   "cell_type": "markdown",
   "metadata": {},
   "source": [
    "## Preprocessing"
   ]
  },
  {
   "cell_type": "code",
   "execution_count": null,
   "metadata": {},
   "outputs": [],
   "source": [
    "from tensorflow.keras.preprocessing.text import Tokenizer"
   ]
  },
  {
   "cell_type": "markdown",
   "metadata": {},
   "source": [
    "### English word list"
   ]
  },
  {
   "cell_type": "code",
   "execution_count": null,
   "metadata": {},
   "outputs": [],
   "source": [
    "# word list for source language\n",
    "input_words = []\n",
    "\n",
    "# load source language word list and convert characters to lower\n",
    "with open('datasets/english_words.txt') as f:\n",
    "    input_words = f.read().lower().split('\\n')\n",
    "# print(input_words)\n",
    "\n",
    "# Make source language tokenizer. UNK token is 1\n",
    "source_tokenizer = Tokenizer(num_words=len(input_words), oov_token=1)\n",
    "source_tokenizer.fit_on_texts(input_words)"
   ]
  },
  {
   "cell_type": "markdown",
   "metadata": {},
   "source": [
    "### French word list"
   ]
  },
  {
   "cell_type": "code",
   "execution_count": null,
   "metadata": {},
   "outputs": [],
   "source": [
    "# word list for destination language\n",
    "target_words = []\n",
    "\n",
    "# Target language\n",
    "# load target language word list and convert characters to lower\n",
    "# with open('datasets/french_words.txt') as f:\n",
    "#     target_words = f.read().lower().split('\\n')\n",
    "# print(target_words[0])\n",
    "df = pd.read_csv('datasets/french_words.txt')\n",
    "print(df.head())\n",
    "\n",
    "# # Make target language tokenizer. UNK token is 1\n",
    "# target_tokenizer = Tokenizer(num_words=len(target_words), oov_token=1)\n",
    "# target_tokenizer.fit_on_texts(target_words)"
   ]
  },
  {
   "cell_type": "markdown",
   "metadata": {},
   "source": [
    "### English-to-French translation dataset"
   ]
  },
  {
   "cell_type": "code",
   "execution_count": null,
   "metadata": {},
   "outputs": [],
   "source": [
    "input_sentences = []\n",
    "target_sentences = []\n",
    "\n",
    "lines = []\n",
    "with open('datasets/fra.txt') as f:\n",
    "    lines = f.read().split('\\n')\n",
    "for line in lines[:-1]:\n",
    "    input_sentence, target_sentence, _ = line.split('\\t')\n",
    "    input_sentences.append(input_sentence)\n",
    "    target_sentences.append(target_sentence)\n",
    "\n",
    "# Tokenize sentences to sequences\n",
    "input_sequences = source_tokenizer.texts_to_sequences(input_sentences)\n",
    "target_sequences = target_tokenizer.texts_to_sequences(target_sentences)\n",
    "\n",
    "for i in range(0, 100):\n",
    "    print(input_sequences[i] + ' ' + target_sequences[i])\n",
    "    \n",
    "# TODO reverse source sequnces"
   ]
  }
 ],
 "metadata": {
  "kernelspec": {
   "display_name": "Python 3",
   "language": "python",
   "name": "python3"
  },
  "language_info": {
   "codemirror_mode": {
    "name": "ipython",
    "version": 3
   },
   "file_extension": ".py",
   "mimetype": "text/x-python",
   "name": "python",
   "nbconvert_exporter": "python",
   "pygments_lexer": "ipython3",
   "version": "3.8.5"
  }
 },
 "nbformat": 4,
 "nbformat_minor": 4
}
