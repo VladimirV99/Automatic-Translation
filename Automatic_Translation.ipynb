{
 "cells": [
  {
   "cell_type": "markdown",
   "metadata": {
    "id": "Ki_-MPUG59Xq"
   },
   "source": [
    "# Automatic Translation"
   ]
  },
  {
   "cell_type": "markdown",
   "metadata": {
    "id": "YRVd4foW59X0"
   },
   "source": [
    "## Make workspace"
   ]
  },
  {
   "cell_type": "code",
   "execution_count": 3,
   "metadata": {
    "executionInfo": {
     "elapsed": 1725,
     "status": "ok",
     "timestamp": 1617636268875,
     "user": {
      "displayName": "Vladimir Vuksanovic",
      "photoUrl": "https://lh3.googleusercontent.com/a-/AOh14GhDVInHUBph5hXktgkKO4i2JKO7UL5JRrz87Y5touM=s64",
      "userId": "04006842609994023267"
     },
     "user_tz": -120
    },
    "id": "RvBQWzJS59X1"
   },
   "outputs": [],
   "source": [
    "# Make directories if they don't exist\n",
    "!mkdir -p datasets\n",
    "!mkdir -p plot\n",
    "!mkdir -p model"
   ]
  },
  {
   "cell_type": "markdown",
   "metadata": {
    "id": "i68zQUJ959X2"
   },
   "source": [
    "## Imports"
   ]
  },
  {
   "cell_type": "code",
   "execution_count": 1,
   "metadata": {
    "executionInfo": {
     "elapsed": 2836,
     "status": "ok",
     "timestamp": 1617636311385,
     "user": {
      "displayName": "Vladimir Vuksanovic",
      "photoUrl": "https://lh3.googleusercontent.com/a-/AOh14GhDVInHUBph5hXktgkKO4i2JKO7UL5JRrz87Y5touM=s64",
      "userId": "04006842609994023267"
     },
     "user_tz": -120
    },
    "id": "7DbS-XzJ59X3"
   },
   "outputs": [
    {
     "name": "stderr",
     "output_type": "stream",
     "text": [
      "2021-07-21 11:19:03.475765: W tensorflow/stream_executor/platform/default/dso_loader.cc:64] Could not load dynamic library 'libcudart.so.11.0'; dlerror: libcudart.so.11.0: cannot open shared object file: No such file or directory\n",
      "2021-07-21 11:19:03.475805: I tensorflow/stream_executor/cuda/cudart_stub.cc:29] Ignore above cudart dlerror if you do not have a GPU set up on your machine.\n"
     ]
    }
   ],
   "source": [
    "import os\n",
    "import time\n",
    "\n",
    "import numpy as np\n",
    "import pandas as pd\n",
    "import tensorflow as tf\n",
    "from tensorflow import keras"
   ]
  },
  {
   "cell_type": "markdown",
   "metadata": {
    "id": "8UlTOuYe59X3"
   },
   "source": [
    "## Download datasets\n",
    "\n",
    "Translation dataset used in original paper can be found [here](https://www.tensorflow.org/datasets/catalog/wmt14_translate)"
   ]
  },
  {
   "cell_type": "code",
   "execution_count": 4,
   "metadata": {
    "id": "iIS8ggJN59X4"
   },
   "outputs": [
    {
     "name": "stdout",
     "output_type": "stream",
     "text": [
      "  % Total    % Received % Xferd  Average Speed   Time    Time     Time  Current\n",
      "                                 Dload  Upload   Total   Spent    Left  Speed\n",
      "100 4135k  100 4135k    0     0  3516k      0  0:00:01  0:00:01 --:--:-- 3516k\n"
     ]
    }
   ],
   "source": [
    "# Download english language word list\n",
    "if not os.path.exists('datasets/source_dictionary.txt'):\n",
    "    !cd datasets && curl -o source_dictionary.txt https://raw.githubusercontent.com/dwyl/english-words/master/words_alpha.txt"
   ]
  },
  {
   "cell_type": "code",
   "execution_count": 5,
   "metadata": {
    "id": "LrozlrdE59X5"
   },
   "outputs": [
    {
     "name": "stdout",
     "output_type": "stream",
     "text": [
      "  % Total    % Received % Xferd  Average Speed   Time    Time     Time  Current\n",
      "                                 Dload  Upload   Total   Spent    Left  Speed\n",
      "100 25.9M  100 25.9M    0     0  1342k      0  0:00:19  0:00:19 --:--:-- 1058k\n",
      "Archive:  Lexique383.zip\n",
      "  inflating: Lexique383.rds          \n",
      "  inflating: Lexique383.tsv          \n",
      "  inflating: Lexique383.xlsb         \n",
      "  inflating: Manuel_Lexique.3.pdf    \n",
      "  inflating: README-Lexique.txt      \n",
      "  inflating: RELEASE NOTES-Lexique.txt  \n",
      "  inflating: make_rds.R              \n"
     ]
    }
   ],
   "source": [
    "# Download french language word list\n",
    "if not os.path.exists('datasets/target_dictionary.tsv'):\n",
    "    !cd datasets && curl -O http://www.lexique.org/databases/Lexique383/Lexique383.zip\n",
    "    !cd datasets && unzip Lexique383.zip\n",
    "    !mv datasets/Lexique383.tsv datasets/target_dictionary.tsv"
   ]
  },
  {
   "cell_type": "code",
   "execution_count": 6,
   "metadata": {
    "colab": {
     "base_uri": "https://localhost:8080/"
    },
    "executionInfo": {
     "elapsed": 2018,
     "status": "ok",
     "timestamp": 1617636315666,
     "user": {
      "displayName": "Vladimir Vuksanovic",
      "photoUrl": "https://lh3.googleusercontent.com/a-/AOh14GhDVInHUBph5hXktgkKO4i2JKO7UL5JRrz87Y5touM=s64",
      "userId": "04006842609994023267"
     },
     "user_tz": -120
    },
    "id": "vOZzRV8X59X6",
    "outputId": "b2241599-fab1-4e12-c583-18448fbcb624"
   },
   "outputs": [
    {
     "name": "stdout",
     "output_type": "stream",
     "text": [
      "  % Total    % Received % Xferd  Average Speed   Time    Time     Time  Current\n",
      "                                 Dload  Upload   Total   Spent    Left  Speed\n",
      "100 6300k  100 6300k    0     0  3575k      0  0:00:01  0:00:01 --:--:-- 3573k\n",
      "Archive:  fra-eng.zip\n",
      "  inflating: fra.txt                 \n"
     ]
    }
   ],
   "source": [
    "# Download english-to-french translation dataset\n",
    "if not os.path.exists('datasets/translation.txt'):\n",
    "    !cd datasets && curl -O http://www.manythings.org/anki/fra-eng.zip\n",
    "    !cd datasets && unzip fra-eng.zip fra.txt\n",
    "    !mv datasets/fra.txt datasets/translation.txt"
   ]
  },
  {
   "cell_type": "code",
   "execution_count": 7,
   "metadata": {
    "colab": {
     "base_uri": "https://localhost:8080/"
    },
    "executionInfo": {
     "elapsed": 164282,
     "status": "ok",
     "timestamp": 1617636483339,
     "user": {
      "displayName": "Vladimir Vuksanovic",
      "photoUrl": "https://lh3.googleusercontent.com/a-/AOh14GhDVInHUBph5hXktgkKO4i2JKO7UL5JRrz87Y5touM=s64",
      "userId": "04006842609994023267"
     },
     "user_tz": -120
    },
    "id": "VeJbqeNB59X6",
    "outputId": "650bfb04-bc94-4278-8fec-d4eccc4f75f2"
   },
   "outputs": [
    {
     "name": "stdout",
     "output_type": "stream",
     "text": [
      "  % Total    % Received % Xferd  Average Speed   Time    Time     Time  Current\n",
      "                                 Dload  Upload   Total   Spent    Left  Speed\n",
      "  0   308    0     0    0     0      0      0 --:--:-- --:--:-- --:--:--     0\n",
      "  0   345    0     0    0     0      0      0 --:--:--  0:00:01 --:--:--     0\n",
      "100  822M  100  822M    0     0  4066k      0  0:03:27  0:03:27 --:--:-- 4971k 0     0  3277k      0  0:04:16  0:00:24  0:03:52 3313kk      0  0:03:13  0:01:36  0:01:37 5298k:03:31  0:03:02  0:00:29 4973k\n",
      "Archive:  glove.6B.zip\n",
      "  inflating: glove.6B.100d.txt       \n"
     ]
    }
   ],
   "source": [
    "# Download english word embeddings\n",
    "if not os.path.exists('datasets/glove.6B.100d.txt'):\n",
    "    !cd datasets && curl -LO http://nlp.stanford.edu/data/glove.6B.zip\n",
    "    !cd datasets && unzip glove.6B.zip glove.6B.100d.txt"
   ]
  },
  {
   "cell_type": "markdown",
   "metadata": {},
   "source": [
    "## Settings"
   ]
  },
  {
   "cell_type": "code",
   "execution_count": null,
   "metadata": {},
   "outputs": [],
   "source": [
    "# Use word lists from dictionary datasets or use words from translations\n",
    "USE_WORD_LIST = False\n",
    "# Use generators for loading data or load all at once\n",
    "# (Generators require less RAM but can be slower to train on)\n",
    "USE_DATA_GENERATORS = True"
   ]
  },
  {
   "cell_type": "markdown",
   "metadata": {
    "id": "zak78JKz59X7"
   },
   "source": [
    "## Preprocessing\n",
    "\n",
    "Sentences from the source and destination languages are converted to token sequences and padded to the same length. Source sentences are padded on the left and destination sentences on the right. Special tokens representing words not in dicionary (\\<unk\\>), start of sequence (\\<sos\\>) and end of sequence (\\<eos\\>) are added to the destination sentences. There are two generated destination sentences, one for decoder input (which has the start token appended), and one for decoder ouput (which has the end token appended). Source language sequences are reversed for better results."
   ]
  },
  {
   "cell_type": "code",
   "execution_count": 8,
   "metadata": {
    "executionInfo": {
     "elapsed": 681,
     "status": "ok",
     "timestamp": 1617636485275,
     "user": {
      "displayName": "Vladimir Vuksanovic",
      "photoUrl": "https://lh3.googleusercontent.com/a-/AOh14GhDVInHUBph5hXktgkKO4i2JKO7UL5JRrz87Y5touM=s64",
      "userId": "04006842609994023267"
     },
     "user_tz": -120
    },
    "id": "qcKvGvbL59X8"
   },
   "outputs": [],
   "source": [
    "from tensorflow.keras.preprocessing.text import Tokenizer\n",
    "from tensorflow.keras.preprocessing.sequence import pad_sequences\n",
    "from tensorflow.keras.utils import to_categorical"
   ]
  },
  {
   "cell_type": "markdown",
   "metadata": {
    "id": "AzgTLvqn59X8"
   },
   "source": [
    "### English word list"
   ]
  },
  {
   "cell_type": "code",
   "execution_count": 9,
   "metadata": {
    "id": "Vc8y8PUc59X9"
   },
   "outputs": [
    {
     "name": "stdout",
     "output_type": "stream",
     "text": [
      "['a', 'aa', 'aaa', 'aah', 'aahed', 'aahing', 'aahs', 'aal', 'aalii', 'aaliis', 'aals', 'aam', 'aani', 'aardvark', 'aardvarks', 'aardwolf', 'aardwolves', 'aargh', 'aaron', 'aaronic']\n"
     ]
    }
   ],
   "source": [
    "if USE_WORD_LIST:\n",
    "    # Word list for source language\n",
    "    source_words = []\n",
    "\n",
    "    # Load source language word list and convert characters to lower\n",
    "    with open('datasets/source_dictionary.txt') as f:\n",
    "        source_words = f.read().lower().split('\\n')\n",
    "    print(source_words[:20])\n",
    "\n",
    "    # Make source language tokenizer. UNK token is 1\n",
    "    source_tokenizer = Tokenizer(num_words=len(source_words), oov_token=1)\n",
    "    source_tokenizer.fit_on_texts(source_words)"
   ]
  },
  {
   "cell_type": "markdown",
   "metadata": {
    "id": "mQ3dc8c959X9"
   },
   "source": [
    "### French word list"
   ]
  },
  {
   "cell_type": "code",
   "execution_count": 10,
   "metadata": {
    "id": "er1SfE2L59X-",
    "scrolled": false
   },
   "outputs": [
    {
     "name": "stdout",
     "output_type": "stream",
     "text": [
      "['a', 'a', 'a', 'a capella', 'a cappella', 'a contrario', 'a fortiori', 'a giorno', 'a jeun', \"a l'instar\", 'a posteriori', 'a priori', 'a priori', 'aa', 'ab absurdo', 'ab initio', 'ab ovo', 'abaca', 'abaissa', 'abaissai']\n"
     ]
    }
   ],
   "source": [
    "if USE_WORD_LIST:\n",
    "    # Word list for target language\n",
    "    target_words = []\n",
    "\n",
    "    # Load target language word list and convert characters to lower\n",
    "    df = pd.read_csv('datasets/target_dictionary.tsv', sep='\\t', keep_default_na=False)['ortho'].tolist()\n",
    "    target_words = [w.lower() for w in df]\n",
    "    print(target_words[:20])\n",
    "\n",
    "    # Make target language tokenizer. UNK token is 1\n",
    "    target_tokenizer = Tokenizer(num_words=len(target_words), oov_token=1)\n",
    "    target_tokenizer.fit_on_texts(target_words)"
   ]
  },
  {
   "cell_type": "markdown",
   "metadata": {
    "id": "8fGvPrVH59X-"
   },
   "source": [
    "### English-to-French translation dataset"
   ]
  },
  {
   "cell_type": "code",
   "execution_count": 11,
   "metadata": {
    "executionInfo": {
     "elapsed": 1227,
     "status": "ok",
     "timestamp": 1617645153161,
     "user": {
      "displayName": "Vladimir Vuksanovic",
      "photoUrl": "https://lh3.googleusercontent.com/a-/AOh14GhDVInHUBph5hXktgkKO4i2JKO7UL5JRrz87Y5touM=s64",
      "userId": "04006842609994023267"
     },
     "user_tz": -120
    },
    "id": "TB6PfTXi59X_"
   },
   "outputs": [],
   "source": [
    "SOS_TOKEN = '<sos>'\n",
    "EOS_TOKEN = '<eos>'\n",
    "UNK_TOKEN = '<unk>'"
   ]
  },
  {
   "cell_type": "code",
   "execution_count": 16,
   "metadata": {
    "executionInfo": {
     "elapsed": 2087,
     "status": "ok",
     "timestamp": 1617658454421,
     "user": {
      "displayName": "Vladimir Vuksanovic",
      "photoUrl": "https://lh3.googleusercontent.com/a-/AOh14GhDVInHUBph5hXktgkKO4i2JKO7UL5JRrz87Y5touM=s64",
      "userId": "04006842609994023267"
     },
     "user_tz": -120
    },
    "id": "QktrLcW_59X_"
   },
   "outputs": [
    {
     "name": "stdout",
     "output_type": "stream",
     "text": [
      "20000\n",
      "['Go.', 'Hi.', 'Run!', 'Run.', 'Who?', 'Wow!', 'Duck!', 'Fire!', 'Help!', 'Hide.', 'Jump!', 'Jump.', 'Stop!', 'Wait!', 'Wait.', 'Begin.', 'Go on.', 'Hello!', 'I see.', 'I try.', 'I won!', 'I won.', 'Oh no!', 'Relax.', 'Smile.', 'Sorry?', 'Attack!', 'Buy it.', 'Cheers!', 'Eat it.', 'Get up.', 'Go now.', 'Got it!', 'Got it?', 'Hop in.', 'Hug me.', 'I fell.', 'I fled.', 'I knit.', 'I know.', 'I left.', 'I lied.', 'I lost.', 'I paid.', 'I quit.', \"I'm 19.\", \"I'm OK.\", 'Listen.', 'No way!', 'Really?']\n"
     ]
    }
   ],
   "source": [
    "source_sentences = []\n",
    "target_sentences_input = []\n",
    "target_sentences_output = []\n",
    "\n",
    "lines = []\n",
    "with open('datasets/translation.txt') as f:\n",
    "    lines = f.read().split('\\n')\n",
    "\n",
    "# Number of sentences to use\n",
    "NUM_LINES = 20_000\n",
    "count = 0\n",
    "last_sentence = None\n",
    "# Parse the source/target sentences and remove duplicates\n",
    "for line in lines:\n",
    "    source_sentence, target_sentence, _ = line.split('\\t')\n",
    "    if last_sentence is not None and last_sentence == source_sentence:\n",
    "        continue\n",
    "    last_sentence = source_sentence\n",
    "    source_sentences.append(source_sentence)\n",
    "    target_sentences_input.append(SOS_TOKEN + ' ' + target_sentence)\n",
    "    target_sentences_output.append(target_sentence + ' ' + EOS_TOKEN)\n",
    "    count += 1\n",
    "    if count >= NUM_LINES:\n",
    "        break\n",
    "\n",
    "print(len(source_sentences))\n",
    "print(source_sentences[:50])"
   ]
  },
  {
   "cell_type": "code",
   "execution_count": 17,
   "metadata": {
    "executionInfo": {
     "elapsed": 1372,
     "status": "ok",
     "timestamp": 1617636497205,
     "user": {
      "displayName": "Vladimir Vuksanovic",
      "photoUrl": "https://lh3.googleusercontent.com/a-/AOh14GhDVInHUBph5hXktgkKO4i2JKO7UL5JRrz87Y5touM=s64",
      "userId": "04006842609994023267"
     },
     "user_tz": -120
    },
    "id": "XZz2SbGL59YA"
   },
   "outputs": [],
   "source": [
    "MAX_NUM_SOURCE_WORDS = 50_000\n",
    "MAX_NUM_TARGET_WORDS = 50_000"
   ]
  },
  {
   "cell_type": "code",
   "execution_count": 18,
   "metadata": {
    "executionInfo": {
     "elapsed": 1843,
     "status": "ok",
     "timestamp": 1617658460170,
     "user": {
      "displayName": "Vladimir Vuksanovic",
      "photoUrl": "https://lh3.googleusercontent.com/a-/AOh14GhDVInHUBph5hXktgkKO4i2JKO7UL5JRrz87Y5touM=s64",
      "userId": "04006842609994023267"
     },
     "user_tz": -120
    },
    "id": "2nSO7NXv59YA"
   },
   "outputs": [],
   "source": [
    "if not USE_WORD_LIST:\n",
    "    # Make source language tokenizer\n",
    "    source_tokenizer = Tokenizer(num_words=MAX_NUM_SOURCE_WORDS)\n",
    "    source_tokenizer.fit_on_texts(source_sentences)\n",
    "\n",
    "    # Make destination language tokenizer\n",
    "    # Don't filter '<' and '>' because they're used for SOS and EOS tokens\n",
    "    target_tokenizer = Tokenizer(num_words=MAX_NUM_TARGET_WORDS, filters='!\"#$%&()*+,-./:;=?@[\\\\]^_`{|}~\\t\\n')\n",
    "    target_tokenizer.fit_on_texts(target_sentences_input + target_sentences_output)"
   ]
  },
  {
   "cell_type": "code",
   "execution_count": null,
   "metadata": {},
   "outputs": [],
   "source": [
    "# Build word dictionaries\n",
    "source_dict = source_tokenizer.word_index\n",
    "NUM_SOURCE_WORDS = len(source_dict)+1\n",
    "\n",
    "target_dict = target_tokenizer.word_index\n",
    "NUM_TARGET_WORDS = len(target_dict)+1"
   ]
  },
  {
   "cell_type": "code",
   "execution_count": 19,
   "metadata": {
    "colab": {
     "base_uri": "https://localhost:8080/"
    },
    "executionInfo": {
     "elapsed": 1129,
     "status": "ok",
     "timestamp": 1617645169075,
     "user": {
      "displayName": "Vladimir Vuksanovic",
      "photoUrl": "https://lh3.googleusercontent.com/a-/AOh14GhDVInHUBph5hXktgkKO4i2JKO7UL5JRrz87Y5touM=s64",
      "userId": "04006842609994023267"
     },
     "user_tz": -120
    },
    "id": "WhUgFY-H59YA",
    "outputId": "bfc18d06-9f65-48ea-ec50-8348ce9d11b8"
   },
   "outputs": [
    {
     "name": "stdout",
     "output_type": "stream",
     "text": [
      "4715\n",
      "7738\n",
      "{'i': 1, 'tom': 2, 'is': 3, 'a': 4, 'you': 5, 'it': 6, \"i'm\": 7, 'the': 8, 'he': 9, 'was': 10, 'this': 11, 'we': 12, 'that': 13, 'to': 14, \"it's\": 15, 'me': 16, 'my': 17, 'do': 18, 'not': 19, 'have': 20, 'are': 21, \"we're\": 22, 'your': 23, 'she': 24, \"don't\": 25, 'no': 26, 'can': 27, 'go': 28, \"you're\": 29, 'like': 30, 'they': 31, 'all': 32, 'what': 33, \"that's\": 34, 'in': 35, 'did': 36, \"i'll\": 37, 'here': 38, 'be': 39, 'need': 40, 'want': 41, 'on': 42, 'love': 43, 'him': 44, 'up': 45, 'one': 46, 'now': 47, 'how': 48, \"he's\": 49, 'get': 50, 'know': 51, \"let's\": 52, 'just': 53, 'has': 54, 'very': 55, \"can't\": 56, 'who': 57, 'come': 58, 'so': 59, 'will': 60, 'got': 61, 'too': 62, 'us': 63, \"they're\": 64, 'out': 65, 'am': 66, \"tom's\": 67, 'good': 68, 'of': 69, 'help': 70, 'there': 71, 'for': 72, 'at': 73, 'please': 74, 'see': 75, 'look': 76, 'stop': 77, 'hate': 78, \"isn't\": 79, 'had': 80, 'take': 81, 'her': 82, 'were': 83, 'work': 84, 'car': 85, 'his': 86, 'feel': 87, 'an': 88, \"didn't\": 89, 'back': 90, 'mary': 91, 'let': 92, 'must': 93, 'home': 94, 'try': 95, 'give': 96, 'made': 97, 'dog': 98, \"what's\": 99, 'never': 100, 'eat': 101, 'keep': 102, 'stay': 103, 'why': 104, 'saw': 105, 'where': 106, 'right': 107, 'may': 108, 'went': 109, 'bad': 110, \"i've\": 111, 'everyone': 112, 'lost': 113, 'them': 114, 'busy': 115, 'happy': 116, 'leave': 117, 'big': 118, 'should': 119, 'book': 120, 'well': 121, 'job': 122, 'looks': 123, 'french': 124, 'time': 125, 'lot': 126, 'off': 127, \"we'll\": 128, \"where's\": 129, 'really': 130, 'again': 131, 'alone': 132, 'wait': 133, 'down': 134, 'going': 135, 'still': 136, 'with': 137, 'say': 138, 'some': 139, 'does': 140, 'late': 141, \"won't\": 142, 'left': 143, 'felt': 144, 'money': 145, \"she's\": 146, 'our': 147, 'ready': 148, 'likes': 149, 'call': 150, 'cold': 151, 'old': 152, 'drink': 153, 'nice': 154, 'today': 155, 'fun': 156, 'done': 157, 'new': 158, 'tired': 159, 'could': 160, 'think': 161, 'tell': 162, 'came': 163, 'over': 164, 'hard': 165, 'room': 166, \"wasn't\": 167, 'hurt': 168, 'house': 169, 'talk': 170, 'day': 171, 'loves': 172, 'make': 173, 'easy': 174, 'away': 175, 'hope': 176, 'said': 177, 'live': 178, 'about': 179, 'kept': 180, 'safe': 181, 'gave': 182, 'read': 183, 'wrong': 184, 'idea': 185, \"who's\": 186, 'life': 187, 'water': 188, 'man': 189, 'nobody': 190, 'much': 191, 'watch': 192, 'enough': 193, 'ok': 194, 'way': 195, 'broke': 196, 'open': 197, 'died': 198, 'found': 199, 'more': 200, 'ask': 201, 'find': 202, 'mine': 203, 'true': 204, 'seems': 205, 'sleep': 206, 'cat': 207, 'sit': 208, 'swim': 209, 'nothing': 210, 'play': 211, \"there's\": 212, 'fast': 213, 'angry': 214, 'took': 215, 'everybody': 216, 'sad': 217, 'free': 218, 'sick': 219, \"i'd\": 220, 'better': 221, 'hungry': 222, 'boy': 223, 'called': 224, 'heard': 225, 'both': 226, 'miss': 227, 'sure': 228, 'die': 229, 'walk': 230, 'knows': 231, 'when': 232, 'everything': 233, 'bed': 234, 'stupid': 235, 'door': 236, 'from': 237, 'run': 238, 'win': 239, 'fine': 240, 'early': 241, 'turn': 242, 'hear': 243, 'pay': 244, 'wants': 245, 'hurry': 246, 'dead': 247, 'bit': 248, 'beer': 249, 'eyes': 250, 'ate': 251, 'only': 252, 'looked': 253, 'knew': 254, 'sing': 255, 'close': 256, 'these': 257, 'school': 258, 'start': 259, 'wine': 260, 'hat': 261, 'needs': 262, 'by': 263, 'yet': 264, 'show': 265, 'trust': 266, 'cry': 267, 'crazy': 268, 'drunk': 269, 'check': 270, 'two': 271, 'coming': 272, 'working': 273, 'put': 274, 'great': 275, 'already': 276, 'doing': 277, 'won': 278, 'buy': 279, 'long': 280, 'speak': 281, 'mean': 282, 'bring': 283, 'funny': 284, 'fish': 285, 'friend': 286, 'friends': 287, \"we've\": 288, 'hair': 289, 'cool': 290, 'hot': 291, 'lucky': 292, 'quiet': 293, 'met': 294, 'sat': 295, 'bus': 296, 'hand': 297, 'key': 298, 'needed': 299, 'yours': 300, 'anyone': 301, 'gone': 302, 'hates': 303, 'and': 304, 'coffee': 305, 'pretty': 306, 'been': 307, 'quit': 308, 'works': 309, 'red': 310, 'answer': 311, 'food': 312, 'serious': 313, 'change': 314, 'music': 315, 'bag': 316, 'something': 317, 'almost': 318, 'wanted': 319, 'sorry': 320, 'kind': 321, 'forget': 322, 'inside': 323, 'weird': 324, 'tv': 325, 'shot': 326, 'mad': 327, 'kids': 328, 'married': 329, 'lunch': 330, \"aren't\": 331, 'use': 332, 'rich': 333, 'tall': 334, 'remember': 335, 'best': 336, 'doctor': 337, 'enjoy': 338, 'plan': 339, 'drive': 340, 'tried': 341, 'perfect': 342, 'follow': 343, \"how's\": 344, 'first': 345, 'careful': 346, 'problem': 347, 'crying': 348, 'someone': 349, 'small': 350, 'choice': 351, 'name': 352, 'listen': 353, 'fat': 354, 'move': 355, 'shut': 356, 'cute': 357, 'helped': 358, 'write': 359, 'dogs': 360, 'lying': 361, 'rest': 362, 'around': 363, 'tea': 364, 'told': 365, 'study': 366, 'yourself': 367, 'started': 368, 'bought': 369, 'dream': 370, 'boston': 371, 'which': 372, 'being': 373, 'sounds': 374, 'paid': 375, 'fired': 376, 'lie': 377, 'ran': 378, 'soon': 379, 'loved': 380, 'once': 381, 'missed': 382, 'fight': 383, 'young': 384, 'asked': 385, 'song': 386, 'books': 387, 'wife': 388, 'those': 389, 'fell': 390, 'calm': 391, 'forgot': 392, 'alive': 393, 'clean': 394, 'outside': 395, 'smart': 396, 'liked': 397, 'son': 398, 'changed': 399, 'often': 400, 'talking': 401, 'quickly': 402, 'finished': 403, 'quite': 404, 'would': 405, \"doesn't\": 406, 'began': 407, 'word': 408, 'mother': 409, 'full': 410, \"here's\": 411, 'gun': 412, 'father': 413, 'family': 414, 'arrived': 415, 'stopped': 416, 'getting': 417, 'story': 418, 'hold': 419, 'agree': 420, 'smoke': 421, 'sign': 422, 'real': 423, 'spoke': 424, 'game': 425, 'hurts': 426, 'short': 427, 'worked': 428, 'girl': 429, 'eating': 430, 'strong': 431, 'smell': 432, 'deal': 433, 'caught': 434, 'drank': 435, 'news': 436, 'cats': 437, 'child': 438, 'believe': 439, 'myself': 440, 'might': 441, 'running': 442, 'singing': 443, 'together': 444, 'horse': 445, 'light': 446, \"one's\": 447, 'lied': 448, 'thanks': 449, 'cried': 450, 'smiled': 451, 'stand': 452, 'luck': 453, 'waited': 454, 'normal': 455, \"it'll\": 456, 'milk': 457, 'lose': 458, 'pen': 459, 'seen': 460, 'scared': 461, 'empty': 462, 'owe': 463, 'teacher': 464, 'tomorrow': 465, 'guy': 466, 'shy': 467, 'wake': 468, 'fix': 469, 'hands': 470, 'awful': 471, 'cook': 472, 'dark': 473, 'care': 474, 'yes': 475, 'sweet': 476, \"tom'll\": 477, 'box': 478, 'seat': 479, 'asleep': 480, 'upset': 481, 'slowly': 482, 'whose': 483, 'always': 484, 'confused': 485, 'coat': 486, 'became': 487, 'lives': 488, 'fault': 489, 'phone': 490, 'awesome': 491, 'failed': 492, 'lazy': 493, 'helps': 494, 'touch': 495, 'warm': 496, 'cut': 497, 'men': 498, 'face': 499, 'last': 500, 'joking': 501, 'kidding': 502, 'anybody': 503, 'break': 504, 'leaving': 505, 'reading': 506, 'happened': 507, 'joke': 508, 'team': 509, 'slept': 510, 'understand': 511, 'arm': 512, \"they'll\": 513, 'afraid': 514, 'dinner': 515, 'own': 516, 'as': 517, 'movie': 518, 'born': 519, 'place': 520, 'hit': 521, 'kill': 522, 'weak': 523, 'after': 524, 'walked': 525, 'duty': 526, 'blue': 527, 'night': 528, 'laugh': 529, 'dance': 530, 'nervous': 531, 'wish': 532, 'pain': 533, 'anything': 534, 'upstairs': 535, 'boss': 536, 'black': 537, 'killed': 538, 'important': 539, 'town': 540, 'watching': 541, 'used': 542, 'drop': 543, 'hang': 544, 'far': 545, 'clear': 546, 'liar': 547, 'mind': 548, 'bored': 549, 'cake': 550, 'naive': 551, 'broken': 552, 'laughed': 553, 'meat': 554, 'next': 555, 'maybe': 556, 'shoes': 557, 'things': 558, 'turned': 559, 'if': 560, 'continue': 561, 'same': 562, \"couldn't\": 563, 'every': 564, 'children': 565, 'three': 566, 'fire': 567, 'fair': 568, 'slow': 569, 'wet': 570, 'kiss': 571, 'ahead': 572, 'grab': 573, 'catch': 574, 'awake': 575, 'blind': 576, 'dying': 577, 'step': 578, 'patient': 579, 'guess': 580, 'hero': 581, 'lonely': 582, 'sleepy': 583, 'trying': 584, 'age': 585, 'saved': 586, 'correct': 587, 'excited': 588, 'worried': 589, 'rain': 590, 'secret': 591, 'send': 592, 'war': 593, 'meet': 594, 'strange': 595, 'feet': 596, 'nose': 597, 'behind': 598, 'into': 599, 'trouble': 600, 'sister': 601, 'sound': 602, 'little': 603, 'brother': 604, 'jump': 605, 'begin': 606, 'beat': 607, 'guys': 608, 'refuse': 609, 'honest': 610, 'head': 611, 'vote': 612, 'even': 613, 'count': 614, 'curious': 615, 'set': 616, 'thirsty': 617, 'winning': 618, 'nuts': 619, 'silent': 620, 'party': 621, 'many': 622, 'shall': 623, 'girls': 624, 'map': 625, 'explain': 626, 'risk': 627, 'cops': 628, 'guilty': 629, 'closed': 630, \"you'll\": 631, 'survive': 632, 'listening': 633, 'later': 634, 'boat': 635, 'tie': 636, 'amazing': 637, 'park': 638, 'plays': 639, 'bike': 640, 'keys': 641, 'rather': 642, 'handle': 643, 'person': 644, 'ill': 645, 'deep': 646, 'fly': 647, 'obey': 648, 'dirty': 649, 'agreed': 650, 'wrote': 651, \"you've\": 652, 'finish': 653, 'hated': 654, 'cooking': 655, 'snow': 656, 'monday': 657, 'simple': 658, 'bath': 659, 'kid': 660, 'pizza': 661, 'white': 662, 'law': 663, 'control': 664, 'followed': 665, 'woman': 666, 'else': 667, \"everyone's\": 668, 'feels': 669, 'japanese': 670, 'mom': 671, 'week': 672, 'danger': 673, 'raining': 674, 'boring': 675, 'minute': 676, 'fishing': 677, 'betrayed': 678, 'brought': 679, 'dangerous': 680, 'order': 681, 'train': 682, 'escape': 683, 'hug': 684, 'stood': 685, 'fit': 686, 'low': 687, 'lock': 688, 'high': 689, 'ugly': 690, 'save': 691, 'cheated': 692, 'relaxed': 693, 'ours': 694, 'thank': 695, 'drives': 696, 'boys': 697, 'jealous': 698, 'fool': 699, 'shocked': 700, 'trapped': 701, 'useless': 702, 'fake': 703, 'talks': 704, 'kissed': 705, 'invited': 706, 'dress': 707, 'proof': 708, 'heart': 709, 'lawyer': 710, 'ears': 711, 'fighting': 712, 'looking': 713, 'sang': 714, 'any': 715, 'smells': 716, 'raise': 717, 'student': 718, 'different': 719, 'sense': 720, 'rules': 721, 'seem': 722, 'makes': 723, 'end': 724, 'somebody': 725, 'mistake': 726, 'truth': 727, 'goal': 728, 'baby': 729, 'bill': 730, 'apple': 731, 'bank': 732, 'feeling': 733, 'message': 734, 'opened': 735, 'speaks': 736, 'hi': 737, 'oh': 738, 'join': 739, 'welcome': 740, 'rude': 741, 'talked': 742, 'bald': 743, 'fantastic': 744, 'retired': 745, 'dizzy': 746, 'naked': 747, 'tough': 748, 'tight': 749, 'idiot': 750, 'worry': 751, 'air': 752, 'shoot': 753, 'ignore': 754, 'cheap': 755, 'green': 756, 'pick': 757, 'apologize': 758, 'cash': 759, 'bet': 760, 'scream': 761, 'dancing': 762, 'staying': 763, 'unlucky': 764, 'watched': 765, 'teach': 766, 'another': 767, 'hey': 768, 'horrible': 769, 'apples': 770, 'deserve': 771, 'plans': 772, 'learn': 773, 'blame': 774, 'writing': 775, 'goes': 776, 'jobs': 777, 'few': 778, 'or': 779, 'beautiful': 780, 'part': 781, 'finally': 782, 'skiing': 783, 'summer': 784, 'advice': 785, 'played': 786, 'prefer': 787, 'trusted': 788, 'surprised': 789, 'helping': 790, 'seemed': 791, 'ball': 792, 'point': 793, 'knife': 794, 'travel': 795, 'chair': 796, 'doors': 797, 'pencil': 798, 'swimming': 799, 'ordered': 800, 'bicycle': 801, 'hide': 802, 'relax': 803, 'attack': 804, 'wash': 805, 'brave': 806, 'stayed': 807, 'glad': 808, 'birds': 809, 'excuse': 810, 'ski': 811, 'noticed': 812, 'armed': 813, 'stinks': 814, '30': 815, 'then': 816, 'wonderful': 817, 'hired': 818, 'moving': 819, 'poor': 820, 'clever': 821, 'lovely': 822, 'doubt': 823, 'famous': 824, 'drinks': 825, 'friendly': 826, 'class': 827, 'bread': 828, 'dumb': 829, 'ashamed': 830, 'driving': 831, 'healthy': 832, 'paper': 833, 'grow': 834, 'bite': 835, 'refused': 836, 'says': 837, 'mess': 838, 'dumped': 839, 'sugar': 840, 'warned': 841, 'divorced': 842, 'innocent': 843, 'involved': 844, 'positive': 845, 'shopping': 846, 'speaking': 847, 'shame': 848, 'special': 849, 'smiling': 850, 'yelling': 851, \"that'll\": 852, 'meant': 853, 'dreaming': 854, 'dry': 855, 'bird': 856, 'downstairs': 857, 'god': 858, 'english': 859, 'foolish': 860, 'studying': 861, 'comes': 862, 'people': 863, 'horses': 864, 'blood': 865, 'available': 866, 'exhausted': 867, 'impressed': 868, 'gets': 869, 'peace': 870, 'table': 871, 'near': 872, 'laughing': 873, 'chance': 874, 'tree': 875, 'insane': 876, 'cup': 877, 'throw': 878, 'trusts': 879, 'believed': 880, 'cookies': 881, 'christmas': 882, 'expensive': 883, 'glass': 884, 'store': 885, 'sons': 886, 'enemy': 887, 'believes': 888, \"everybody's\": 889, 'himself': 890, 'thing': 891, 'shirt': 892, 'smile': 893, 'runs': 894, 'push': 895, 'okay': 896, 'warn': 897, 'choose': 898, 'pass': 899, 'voted': 900, 'along': 901, 'forgive': 902, 'ice': 903, 'promised': 904, 'buying': 905, 'direct': 906, 'losing': 907, 'ruined': 908, 'single': 909, 'skinny': 910, 'thirty': 911, 'decide': 912, 'also': 913, 'burned': 914, 'fruit': 915, 'fear': 916, 'golf': 917, 'rice': 918, 'soup': 919, 'eggs': 920, 'moved': 921, 'manage': 922, 'chicken': 923, 'sincere': 924, 'stunned': 925, 'touched': 926, 'unhappy': 927, 'doll': 928, 'locked': 929, 'closer': 930, 'list': 931, 'date': 932, 'surprise': 933, 'half': 934, 'cab': 935, 'paint': 936, 'thought': 937, 'paris': 938, 'pregnant': 939, 'sleeping': 940, 'thrilled': 941, 'checked': 942, 'cancer': 943, 'nearby': 944, 'snowing': 945, 'walking': 946, 'cruel': 947, 'scary': 948, 'tense': 949, 'stole': 950, 'pale': 951, 'words': 952, 'matter': 953, 'crime': 954, 'deny': 955, 'clock': 956, 'line': 957, 'deserved': 958, 'taxi': 959, 'concerned': 960, 'convinced': 961, 'motivated': 962, 'satisfied': 963, 'screaming': 964, 'coach': 965, 'possible': 966, 'worth': 967, 'window': 968, 'moment': 969, 'shower': 970, 'second': 971, 'floor': 972, 'truck': 973, 'animals': 974, 'blew': 975, 'their': 976, 'side': 977, 'trip': 978, 'dad': 979, 'death': 980, 'relieved': 981, 'noise': 982, 'sounded': 983, 'ridiculous': 984, 'gray': 985, 'daughter': 986, 'remained': 987, 'sore': 988, 'proud': 989, 'weight': 990, \"he'll\": 991, 'parents': 992, 'hello': 993, 'wise': 994, 'jumped': 995, 'phoned': 996, 'deaf': 997, 'odd': 998, 'terrific': 999, 'beg': 1000, 'cheered': 1001, 'promise': 1002, 'woke': 1003, 'fussy': 1004, 'facts': 1005, 'fill': 1006, 'admit': 1007, 'built': 1008, 'envy': 1009, 'accept': 1010, 'amused': 1011, 'strict': 1012, 'happens': 1013, 'nap': 1014, 'cover': 1015, 'fail': 1016, 'prepared': 1017, 'resigned': 1018, 'chose': 1019, 'sell': 1020, 'cars': 1021, 'washed': 1022, 'dieting': 1023, 'trap': 1024, 'cloudy': 1025, 'split': 1026, 'hugged': 1027, 'huge': 1028, 'loud': 1029, 'act': 1030, 'twins': 1031, 'escaped': 1032, 'fall': 1033, 'resist': 1034, 'easily': 1035, 'silly': 1036, 'understood': 1037, 'genius': 1038, 'bluffing': 1039, 'freezing': 1040, 'hopeless': 1041, 'mistaken': 1042, 'powerful': 1043, 'decided': 1044, 'happen': 1045, 'missing': 1046, 'ended': 1047, 'while': 1048, 'gold': 1049, 'uneasy': 1050, 'sent': 1051, 'years': 1052, 'fooled': 1053, 'type': 1054, 'american': 1055, 'fed': 1056, 'badly': 1057, 'fever': 1058, 'soccer': 1059, 'nearly': 1060, 'pleased': 1061, 'wore': 1062, 'prove': 1063, 'ambitious': 1064, 'depressed': 1065, 'terrified': 1066, 'leak': 1067, 'personal': 1068, 'terrible': 1069, 'foot': 1070, 'number': 1071, 'remain': 1072, 'bell': 1073, 'stuff': 1074, 'suit': 1075, 'injured': 1076, 'succeed': 1077, 'doctors': 1078, 'camera': 1079, 'cows': 1080, 'complain': 1081, 'rid': 1082, 'year': 1083, 'keeps': 1084, 'panting': 1085, 'disgusting': 1086, 'wide': 1087, 'spot': 1088, 'secrets': 1089, 'spiders': 1090, 'playing': 1091, 'flowers': 1092, 'lit': 1093, 'sun': 1094, 'wear': 1095, 'glasses': 1096, 'having': 1097, 'making': 1098, 'holiday': 1099, 'picture': 1100, 'radio': 1101, 'desk': 1102, 'students': 1103, 'wind': 1104, 'afford': 1105, \"haven't\": 1106, 'tennis': 1107, 'charge': 1108, 'able': 1109, 'unusual': 1110, 'city': 1111, \"mary's\": 1112, 'mouth': 1113, 'sky': 1114, 'drinking': 1115, 'yourselves': 1116, 'unconscious': 1117, 'breakfast': 1118, 'eye': 1119, 'protect': 1120, 'familiar': 1121, 'example': 1122, 'burn': 1123, 'drove': 1124, 'stink': 1125, 'waved': 1126, 'obeyed': 1127, 'thin': 1128, 'taste': 1129, 'faster': 1130, 'cop': 1131, 'stuck': 1132, 'hers': 1133, 'walks': 1134, 'cooks': 1135, 'breathe': 1136, 'quick': 1137, 'rush': 1138, 'exercise': 1139, 'art': 1140, 'panicked': 1141, 'twin': 1142, 'loaded': 1143, 'pray': 1144, 'comment': 1145, 'sharp': 1146, 'aside': 1147, 'yelled': 1148, 'harder': 1149, 'creative': 1150, 'discreet': 1151, 'punctual': 1152, 'ruthless': 1153, 'cancel': 1154, 'grew': 1155, 'eight': 1156, 'beans': 1157, 'math': 1158, 'gas': 1159, 'attend': 1160, 'popular': 1161, 'smashed': 1162, 'starved': 1163, 'teasing': 1164, 'unarmed': 1165, 'wealthy': 1166, 'fact': 1167, 'ironic': 1168, 'spring': 1169, 'shake': 1170, 'leg': 1171, 'drowned': 1172, 'guessed': 1173, 'evil': 1174, 'confident': 1175, 'objective': 1176, 'kicked': 1177, 'annoying': 1178, 'admire': 1179, 'draw': 1180, 'enjoyed': 1181, 'doubts': 1182, 'chess': 1183, 'games': 1184, 'rose': 1185, 'star': 1186, 'canadian': 1187, 'singer': 1188, 'fearless': 1189, 'offended': 1190, 'reliable': 1191, 'reserved': 1192, 'stubborn': 1193, 'unfair': 1194, 'obvious': 1195, 'quietly': 1196, 'legs': 1197, 'arguing': 1198, 'smoking': 1199, 'dreams': 1200, 'favor': 1201, 'dropped': 1202, 'ignored': 1203, 'sells': 1204, 'tricked': 1205, 'adorable': 1206, 'tokyo': 1207, 'rope': 1208, 'winter': 1209, 'ring': 1210, 'note': 1211, 'nature': 1212, 'ride': 1213, 'volunteered': 1214, 'allow': 1215, 'impatient': 1216, 'powerless': 1217, 'weapon': 1218, 'business': 1219, 'pathetic': 1220, 'standing': 1221, 'gambling': 1222, 'breath': 1223, 'japan': 1224, 'adores': 1225, 'six': 1226, 'cousins': 1227, 'enemies': 1228, 'waiting': 1229, \"you'd\": 1230, 'bright': 1231, 'grass': 1232, 'guns': 1233, 'form': 1234, 'eaten': 1235, 'cannot': 1236, 'lay': 1237, 'slapped': 1238, 'harm': 1239, 'painted': 1240, 'attacked': 1241, 'interested': 1242, 'successful': 1243, 'miracle': 1244, 'large': 1245, 'carefully': 1246, 'helpful': 1247, 'charming': 1248, 'road': 1249, 'brothers': 1250, 'country': 1251, 'towel': 1252, 'hour': 1253, 'writes': 1254, 'husband': 1255, 'photogenic': 1256, 'homework': 1257, 'learned': 1258, 'totally': 1259, 'embarrassed': 1260, 'truly': 1261, 'allowed': 1262, 'fresh': 1263, 'sour': 1264, 'office': 1265, 'tonight': 1266, 'sea': 1267, 'juice': 1268, 'yesterday': 1269, 'cap': 1270, 'traveling': 1271, 'beach': 1272, 'rarely': 1273, 'month': 1274, 'sunday': 1275, 'showed': 1276, 'tire': 1277, \"someone's\": 1278, 'abandoned': 1279, 'heavy': 1280, 'arms': 1281, 'power': 1282, 'flight': 1283, 'loudly': 1284, 'brown': 1285, 'pants': 1286, 'driver': 1287, 'knit': 1288, 'goodbye': 1289, 'pull': 1290, 'tries': 1291, 'nodded': 1292, 'rested': 1293, 'seated': 1294, 'bless': 1295, 'crashed': 1296, 'pack': 1297, 'snowed': 1298, 'pardon': 1299, 'hung': 1300, 'canceled': 1301, 'disagree': 1302, 'listened': 1303, 'screamed': 1304, 'survived': 1305, 'biased': 1306, 'greedy': 1307, 'sneaky': 1308, 'matters': 1309, 'cheat': 1310, 'cooked': 1311, 'dressed': 1312, 'guts': 1313, 'confessed': 1314, 'rock': 1315, 'taxes': 1316, 'succeeded': 1317, 'baffled': 1318, 'certain': 1319, 'falling': 1320, 'furious': 1321, 'psychic': 1322, 'puzzled': 1323, 'selfish': 1324, 'legal': 1325, 'flat': 1326, 'pipe': 1327, 'urgent': 1328, 'return': 1329, 'fainted': 1330, 'fox': 1331, 'coughed': 1332, 'numb': 1333, 'caution': 1334, 'guest': 1335, 'realistic': 1336, 'beef': 1337, 'safely': 1338, 'poet': 1339, 'exciting': 1340, 'apologized': 1341, 'lousy': 1342, 'honey': 1343, 'sushi': 1344, 'smelled': 1345, 'twice': 1346, 'member': 1347, 'bleeding': 1348, 'drowning': 1349, 'faithful': 1350, 'grateful': 1351, 'homesick': 1352, 'saint': 1353, 'outraged': 1354, 'starving': 1355, 'rumor': 1356, 'waste': 1357, 'genuine': 1358, 'digging': 1359, 'closely': 1360, 'approved': 1361, 'polite': 1362, 'stoned': 1363, 'translate': 1364, 'focus': 1365, 'overslept': 1366, 'dating': 1367, 'mature': 1368, 'loser': 1369, 'shock': 1370, \"ain't\": 1371, 'beware': 1372, 'blow': 1373, 'gamble': 1374, 'feed': 1375, 'hole': 1376, 'demented': 1377, 'admired': 1378, 'bananas': 1379, 'orders': 1380, 'cheese': 1381, 'movies': 1382, 'copy': 1383, 'rescued': 1384, 'plane': 1385, 'pool': 1386, 'artist': 1387, 'delighted': 1388, 'expecting': 1389, 'flattered': 1390, 'impulsive': 1391, 'intrigued': 1392, 'saying': 1393, 'skeptical': 1394, 'worse': 1395, 'test': 1396, 'relief': 1397, 'attention': 1398, 'anyway': 1399, 'remembers': 1400, 'violent': 1401, 'nonsense': 1402, \"what'll\": 1403, 'mug': 1404, 'disappeared': 1405, 'flew': 1406, 'video': 1407, 'uncle': 1408, 'outgoing': 1409, 'borrow': 1410, 'arrested': 1411, 'parties': 1412, 'sisters': 1413, 'flu': 1414, 'diary': 1415, 'revenge': 1416, 'cooperate': 1417, 'astonished': 1418, 'diplomatic': 1419, 'optimistic': 1420, 'speechless': 1421, 'vegetarian': 1422, 'bargain': 1423, 'prices': 1424, 'roses': 1425, 'awkward': 1426, 'reply': 1427, 'appeared': 1428, 'illegal': 1429, 'price': 1430, 'fork': 1431, 'remembered': 1432, 'harmless': 1433, 'stalling': 1434, 'earlier': 1435, 'shook': 1436, 'taken': 1437, 'cleaned': 1438, 'cheating': 1439, 'interesting': 1440, 'appreciate': 1441, 'tongue': 1442, 'notice': 1443, 'football': 1444, 'violence': 1445, 'evidence': 1446, 'baseball': 1447, 'seldom': 1448, 'color': 1449, 'comfortable': 1450, 'defenseless': 1451, 'training': 1452, 'introverted': 1453, 'handed': 1454, 'handsome': 1455, 'breathing': 1456, 'ago': 1457, 'impressive': 1458, 'its': 1459, 'terrifying': 1460, 'windy': 1461, 'negotiate': 1462, 'decision': 1463, 'bottle': 1464, 'answered': 1465, 'leaves': 1466, 'alarm': 1467, 'lake': 1468, 'exit': 1469, 'fate': 1470, 'sale': 1471, 'immature': 1472, 'wears': 1473, 'dishes': 1474, 'ideas': 1475, 'organized': 1476, 'prisoners': 1477, 'cost': 1478, 'teaches': 1479, 'startled': 1480, 'blushing': 1481, 'cross': 1482, 'umbrella': 1483, 'debt': 1484, 'headache': 1485, 'egg': 1486, 'computer': 1487, 'bar': 1488, 'church': 1489, 'aggressive': 1490, 'threatened': 1491, 'cousin': 1492, 'shape': 1493, 'overreacting': 1494, 'letter': 1495, 'belongs': 1496, 'necessary': 1497, 'ever': 1498, 'socks': 1499, 'studies': 1500, 'fortunate': 1501, 'hilarious': 1502, \"they've\": 1503, 'fingers': 1504, 'mistakes': 1505, \"weren't\": 1506, 'unique': 1507, 'surrounded': 1508, 'five': 1509, 'advance': 1510, 'question': 1511, 'earth': 1512, \"everything's\": 1513, 'pens': 1514, 'raised': 1515, 'skipped': 1516, 'weather': 1517, 'barely': 1518, 'other': 1519, 'garden': 1520, 'rained': 1521, 'world': 1522, 'downtown': 1523, 'lights': 1524, 'responsible': 1525, 'prisoner': 1526, 'forced': 1527, 'dozed': 1528, 'aim': 1529, 'brief': 1530, 'sighed': 1531, 'lies': 1532, 'east': 1533, 'west': 1534, 'exhaled': 1535, 'groaned': 1536, 'hurried': 1537, 'sober': 1538, 'timid': 1539, 'sand': 1540, 'course': 1541, 'cares': 1542, 'content': 1543, 'prudent': 1544, 'destroy': 1545, 'north': 1546, 'chuckled': 1547, 'fixed': 1548, 'flinched': 1549, 'squinted': 1550, 'baking': 1551, 'hiding': 1552, 'shaken': 1553, 'cd': 1554, 'safer': 1555, 'replace': 1556, 'agrees': 1557, 'snores': 1558, 'sec': 1559, 'cds': 1560, 'bother': 1561, 'cheerful': 1562, 'generous': 1563, 'merciful': 1564, 'sensible': 1565, 'comfort': 1566, 'argue': 1567, 'panic': 1568, 'coin': 1569, 'jerk': 1570, 'nerd': 1571, 'share': 1572, 'disagreed': 1573, 'mice': 1574, 'hesitated': 1575, 'jazz': 1576, 'messed': 1577, 'lips': 1578, 'struggled': 1579, 'third': 1580, 'widow': 1581, 'engaged': 1582, 'sloshed': 1583, 'through': 1584, 'rule': 1585, 'poison': 1586, 'means': 1587, 'burns': 1588, 'card': 1589, 'plants': 1590, 'blushed': 1591, 'stick': 1592, 'grim': 1593, 'slim': 1594, 'listens': 1595, 'pity': 1596, 'owns': 1597, 'rifle': 1598, 'exist': 1599, 'evening': 1600, 'donut': 1601, 'snack': 1602, 'arrogant': 1603, 'romantic': 1604, 'opera': 1605, 'women': 1606, 'jokes': 1607, 'piano': 1608, 'risks': 1609, 'wonder': 1610, 'coward': 1611, 'grounded': 1612, 'obedient': 1613, 'thinking': 1614, 'deer': 1615, 'wolf': 1616, 'vague': 1617, 'hideous': 1618, 'focused': 1619, 'pigs': 1620, 'forward': 1621, 'staring': 1622, 'command': 1623, 'bores': 1624, 'heroes': 1625, 'ink': 1626, 'passed': 1627, 'included': 1628, 'talented': 1629, 'skate': 1630, 'wins': 1631, 'deeply': 1632, 'gear': 1633, 'cookie': 1634, 'maid': 1635, 'thief': 1636, 'toys': 1637, 'diabetic': 1638, 'baked': 1639, 'caused': 1640, 'contributed': 1641, 'despise': 1642, 'dislike': 1643, 'steal': 1644, 'fought': 1645, 'elected': 1646, 'grapes': 1647, 'hiking': 1648, 'insist': 1649, 'hockey': 1650, 'violin': 1651, 'respect': 1652, 'bacon': 1653, 'surrendered': 1654, 'tempted': 1655, 'behave': 1656, 'dentist': 1657, 'plumber': 1658, 'tourist': 1659, 'contented': 1660, 'forgetful': 1661, 'miserable': 1662, 'expert': 1663, 'fan': 1664, 'diet': 1665, 'resilient': 1666, 'sensitive': 1667, 'uninsured': 1668, 'painful': 1669, 'wig': 1670, 'apart': 1671, 'gift': 1672, 'saturday': 1673, 'treat': 1674, '2': 1675, 'unlocked': 1676, 'proceed': 1677, 'offer': 1678, \"name's\": 1679, \"nobody's\": 1680, 'model': 1681, 'clearly': 1682, 'bragging': 1683, 'shouting': 1684, 'tastes': 1685, 'suits': 1686, 'creepy': 1687, 'cow': 1688, 'sheep': 1689, 'joined': 1690, 'misled': 1691, 'scares': 1692, 'texted': 1693, 'adopted': 1694, 'wounded': 1695, 'page': 1696, 'till': 1697, 'before': 1698, 'related': 1699, 'thinks': 1700, 'racist': 1701, 'judge': 1702, 'hint': 1703, 'counts': 1704, 'beard': 1705, 'scolded': 1706, 'sold': 1707, 'prison': 1708, 'nauseous': 1709, 'vision': 1710, 'carrots': 1711, 'turtles': 1712, 'dessert': 1713, 'college': 1714, 'answers': 1715, 'punished': 1716, 'usually': 1717, 'details': 1718, 'insulted': 1719, 'unharmed': 1720, 'testify': 1721, 'against': 1722, 'contagious': 1723, 'devastated': 1724, 'exercising': 1725, 'fascinated': 1726, 'illiterate': 1727, 'methodical': 1728, 'overweight': 1729, 'overworked': 1730, 'winner': 1731, 'undressing': 1732, 'forgotten': 1733, 'remarried': 1734, 'likely': 1735, 'planned': 1736, 'beyond': 1737, 'risky': 1738, 'beauty': 1739, 'angel': 1740, 'counting': 1741, 'rubbish': 1742, 'roof': 1743, 'leaks': 1744, 'complained': 1745, 'ford': 1746, 'precise': 1747, 'similar': 1748, 'calmly': 1749, 'volunteers': 1750, 'recover': 1751, 'sweating': 1752, 'troubled': 1753, 'helpless': 1754, 'partners': 1755, 'tragedy': 1756, 'excused': 1757, 'present': 1758, 'brush': 1759, 'dismissed': 1760, 'interrupt': 1761, 'meal': 1762, 'prayed': 1763, 'signed': 1764, 'expect': 1765, 'solution': 1766, 'acts': 1767, 'hardly': 1768, 'dreamer': 1769, 'stared': 1770, 'studied': 1771, 'partner': 1772, 'adventurous': 1773, \"how'd\": 1774, 'abhor': 1775, 'salad': 1776, 'expected': 1777, 'resign': 1778, 'returned': 1779, 'screams': 1780, \"we'd\": 1781, 'teaching': 1782, 'match': 1783, 'misjudged': 1784, 'hammer': 1785, 'helmet': 1786, 'tissue': 1787, 'rang': 1788, 'taught': 1789, 'witness': 1790, 'kidnapped': 1791, 'zoo': 1792, \"wouldn't\": 1793, 'rent': 1794, 'solve': 1795, 'detective': 1796, 'volunteer': 1797, 'calling': 1798, 'celebrating': 1799, 'daydreaming': 1800, 'extroverted': 1801, 'heartbroken': 1802, 'alarmed': 1803, 'vacation': 1804, 'minded': 1805, 'persevering': 1806, 'resourceful': 1807, 'such': 1808, 'sympathetic': 1809, 'manager': 1810, 'trustworthy': 1811, 'happening': 1812, 'natural': 1813, 'fabulous': 1814, 'shortcut': 1815, 'acceptable': 1816, 'impossible': 1817, 'incredible': 1818, 'season': 1819, 'niece': 1820, 'jeans': 1821, 'seeing': 1822, 'changes': 1823, \"nothing's\": 1824, 'orange': 1825, 'repeat': 1826, 'reads': 1827, 'straight': 1828, 'moon': 1829, 'salt': 1830, 'blocked': 1831, 'held': 1832, 'reality': 1833, 'times': 1834, 'each': 1835, 'rabbits': 1836, 'deranged': 1837, 'understands': 1838, 'suffer': 1839, 'panicking': 1840, 'toes': 1841, 'suffered': 1842, 'freedom': 1843, 'lack': 1844, 'rented': 1845, 'giving': 1846, 'impartial': 1847, 'separated': 1848, 'disaster': 1849, 'pleasure': 1850, 'stolen': 1851, 'prize': 1852, 'comb': 1853, 'punched': 1854, 'fuse': 1855, 'blown': 1856, 'teeth': 1857, 'top': 1858, 'drawer': 1859, 'concentrate': 1860, 'mention': 1861, 'reason': 1862, 'stairs': 1863, 'joy': 1864, 'suddenly': 1865, 'distracted': 1866, 'arabic': 1867, 'gentleman': 1868, 'grown': 1869, 'struck': 1870, 'dumbfounded': 1871, 'sweat': 1872, 'knee': 1873, 'hybrid': 1874, 'ripped': 1875, 'surprises': 1876, 'coughing': 1877, 'led': 1878, 'chocolate': 1879, 'retire': 1880, 'criminal': 1881, 'frightened': 1882, 'frustrated': 1883, 'disappointed': 1884, 'america': 1885, 'living': 1886, 'company': 1887, 'threat': 1888, 'rainy': 1889, 'sunny': 1890, 'complicated': 1891, 'size': 1892, 'repair': 1893, 'cards': 1894, 'planet': 1895, 'smokes': 1896, 'promoted': 1897, 'limit': 1898, 'tank': 1899, \"water's\": 1900, 'guard': 1901, 'entered': 1902, 'glanced': 1903, 'sports': 1904, 'monster': 1905, 'mystery': 1906, 'sarcastic': 1907, 'smiles': 1908, 'guitar': 1909, 'released': 1910, 'murdered': 1911, 'considered': 1912, 'briefly': 1913, 'soldiers': 1914, 'taking': 1915, 'eater': 1916, 'nightmare': 1917, 'mirror': 1918, 'hobby': 1919, 'under': 1920, 'build': 1921, 'but': 1922, 'rely': 1923, 'screw': 1924, 'knees': 1925, 'days': 1926, 'goodnight': 1927, 'twisted': 1928, 'scarf': 1929, 'colors': 1930, 'candles': 1931, 'hotel': 1932, 'photo': 1933, \"should've\": 1934, \"would've\": 1935, 'total': 1936, 'sort': 1937, 'pure': 1938, 'depressing': 1939, 'destiny': 1940, 'greasy': 1941, 'emergency': 1942, 'sight': 1943, 'rats': 1944, 'bothering': 1945, 'turning': 1946, 'wall': 1947, 'market': 1948, 'courageous': 1949, 'handcuffed': 1950, 'productive': 1951, 'remarkable': 1952, 'suspicious': 1953, 'knocked': 1954, 'meeting': 1955, 'changing': 1956, \"what're\": 1957, 'jacket': 1958, 'using': 1959, 'king': 1960, 'accident': 1961, 'address': 1962, 'confirm': 1963, 'jail': 1964, 'challenge': 1965, 'comic': 1966, 'learning': 1967, 'wow': 1968, '19': 1969, 'bury': 1970, 'snore': 1971, 'skip': 1972, 'beats': 1973, 'goofed': 1974, 'moaned': 1975, 'tidy': 1976, 'marry': 1977, 'speed': 1978, 'bark': 1979, 'film': 1980, 'dj': 1981, 'sexy': 1982, '5': 1983, 'blinked': 1984, 'cringed': 1985, 'grinned': 1986, 'inhaled': 1987, 'loyal': 1988, '8': 1989, 'above': 1990, 'swam': 1991, \"time's\": 1992, 'unlock': 1993, \"who'll\": 1994, 'aboard': 1995, 'carry': 1996, 'dig': 1997, 'calls': 1998, 'south': 1999, 'absurd': 2000, 'tragic': 2001, 'human': 2002, 'cpr': 2003, 'objected': 2004, 'relented': 2005, 'shrugged': 2006, 'threw': 2007, 'whistled': 2008, 'chubby': 2009, 'humble': 2010, 'paying': 2011, 'pooped': 2012, 'soaked': 2013, 'wasted': 2014, '7': 2015, 'fad': 2016, 'magic': 2017, 'phony': 2018, 'jesus': 2019, 'wept': 2020, 'chat': 2021, 'alert': 2022, 'notes': 2023, 'flies': 2024, 'braked': 2025, 'thorough': 2026, 'gloat': 2027, 'shout': 2028, 'flip': 2029, 'slob': 2030, 'adore': 2031, 'monk': 2032, 'exercised': 2033, 'protested': 2034, 'recovered': 2035, 'snickered': 2036, 'surrender': 2037, 'baker': 2038, 'medic': 2039, 'blessed': 2040, 'fasting': 2041, 'finicky': 2042, 'humming': 2043, 'jittery': 2044, 'neutral': 2045, 'psyched': 2046, 'stuffed': 2047, 'fatal': 2048, 'foggy': 2049, 'yen': 2050, 'scam': 2051, 'memorize': 2052, 'lift': 2053, 'lame': 2054, 'neat': 2055, 'sweated': 2056, 'older': 2057, 'bore': 2058, 'dope': 2059, 'loss': 2060, 'ship': 2061, 'attentive': 2062, 'describe': 2063, 'ghosts': 2064, 'morning': 2065, 'avoids': 2066, 'denied': 2067, 'cranky': 2068, 'driven': 2069, 'heroic': 2070, 'chased': 2071, 'giddy': 2072, 'jogging': 2073, 'liars': 2074, 'honor': 2075, 'trips': 2076, 'space': 2077, 'lion': 2078, 'beaten': 2079, 'sue': 2080, 'barber': 2081, 'farmer': 2082, 'addicted': 2083, 'adult': 2084, 'autistic': 2085, 'eighteen': 2086, 'gullible': 2087, 'managing': 2088, 'rational': 2089, 'reformed': 2090, 'restless': 2091, 'shooting': 2092, 'ticklish': 2093, 'truthful': 2094, 'unbiased': 2095, 'identify': 2096, 'iron': 2097, 'amazed': 2098, 'curse': 2099, 'bedtime': 2100, 'complex': 2101, 'garbage': 2102, 'ladies': 2103, 'lead': 2104, 'itch': 2105, 'recess': 2106, \"school's\": 2107, 'pushing': 2108, 'trash': 2109, 'pig': 2110, 'spy': 2111, 'obese': 2112, 'stoic': 2113, 'vegan': 2114, 'unbelievable': 2115, 'adults': 2116, 'doomed': 2117, 'minors': 2118, 'scare': 2119, 'bossy': 2120, 'moody': 2121, 'questions': 2122, 'reasonable': 2123, 'body': 2124, 'security': 2125, 'pitch': 2126, 'dies': 2127, 'exhale': 2128, 'haircut': 2129, 'kite': 2130, 'eats': 2131, 'skating': 2132, 'pinched': 2133, 'insecure': 2134, 'delicious': 2135, 'muslim': 2136, 'runner': 2137, 'pie': 2138, 'belong': 2139, 'cough': 2140, 'clue': 2141, 'visa': 2142, 'tenure': 2143, 'camels': 2144, 'cities': 2145, 'garlic': 2146, 'salmon': 2147, 'trains': 2148, 'yellow': 2149, 'autumn': 2150, 'object': 2151, 'crew': 2152, 'lamp': 2153, 'ought': 2154, 'rescheduled': 2155, 'support': 2156, 'crushed': 2157, 'mask': 2158, 'poems': 2159, 'songs': 2160, 'soldier': 2161, 'surgeon': 2162, 'adaptable': 2163, 'orphan': 2164, 'bilingual': 2165, 'committed': 2166, 'dedicated': 2167, 'desperate': 2168, 'disgusted': 2169, 'easygoing': 2170, 'efficient': 2171, 'observant': 2172, 'strike': 2173, 'plastered': 2174, 'shivering': 2175, 'surviving': 2176, 'unmarried': 2177, 'voting': 2178, 'bat': 2179, 'takes': 2180, 'gorgeous': 2181, 'occupied': 2182, 'stealing': 2183, 'suicidal': 2184, 'unlikely': 2185, 'climbing': 2186, \"hair's\": 2187, 'aloud': 2188, 'russia': 2189, 'seal': 2190, 'active': 2191, 'beside': 2192, 'worrying': 2193, 'sweep': 2194, 'differ': 2195, 'saturn': 2196, 'doable': 2197, 'untrue': 2198, 'dvd': 2199, 'false': 2200, 'online': 2201, 'vulgar': 2202, 'frank': 2203, 'annoyed': 2204, 'choking': 2205, 'elderly': 2206, 'packing': 2207, 'snoring': 2208, 'respond': 2209, 'group': 2210, 'growing': 2211, 'lawyers': 2212, 'sinking': 2213, 'mail': 2214, 'hypocrite': 2215, 'qualified': 2216, 'shovel': 2217, 'gate': 2218, \"dinner's\": 2219, 'tigers': 2220, 'force': 2221, 'enter': 2222, 'van': 2223, 'actor': 2224, 'owes': 2225, 'respects': 2226, 'hungarian': 2227, 'gambler': 2228, 'author': 2229, 'ex': 2230, 'brakes': 2231, 'banana': 2232, 'corrected': 2233, 'flunk': 2234, 'honored': 2235, 'sundays': 2236, 'spinach': 2237, 'hiccups': 2238, 'hiccup': 2239, 'history': 2240, 'lobster': 2241, 'mahjong': 2242, 'picnics': 2243, 'puzzles': 2244, 'oven': 2245, 'protest': 2246, 'stamp': 2247, '100': 2248, 'plead': 2249, 'realize': 2250, 'data': 2251, 'file': 2252, 'korean': 2253, 'puppy': 2254, 'justice': 2255, 'barefoot': 2256, 'captured': 2257, 'careless': 2258, 'cleaning': 2259, 'detained': 2260, 'hammered': 2261, 'agony': 2262, 'outdoors': 2263, 'welcomed': 2264, 'guide': 2265, 'freshman': 2266, 'dehydrated': 2267, 'meditating': 2268, 'prejudiced': 2269, 'oldest': 2270, 'unemployed': 2271, 'untalented': 2272, 'bear': 2273, 'wednesday': 2274, 'snowman': 2275, 'revolting': 2276, 'undamaged': 2277, 'idiots': 2278, 'ache': 2279, 'tooth': 2280, 'tune': 2281, 'prepare': 2282, 'meter': 2283, 'science': 2284, 'choked': 2285, 'nurse': 2286, 'sings': 2287, 'teased': 2288, 'gossiping': 2289, 'whistling': 2290, 'logical': 2291, 'barked': 2292, 'melted': 2293, 'snag': 2294, 'muddy': 2295, 'annoys': 2296, 'theirs': 2297, 'tricky': 2298, 'pear': 2299, '65': 2300, 'intervened': 2301, 'crook': 2302, 'moron': 2303, 'callous': 2304, 'immoral': 2305, 'sitting': 2306, 'sobbing': 2307, 'improve': 2308, 'clueless': 2309, 'homeless': 2310, 'crash': 2311, 'guests': 2312, 'action': 2313, 'escaping': 2314, 'quitting': 2315, 'retiring': 2316, 'stronger': 2317, 'causes': 2318, 'wipe': 2319, 'prude': 2320, 'capsized': 2321, 'adjust': 2322, 'round': 2323, 'bees': 2324, 'police': 2325, 'whistle': 2326, 'nails': 2327, 'defend': 2328, 'insult': 2329, 'rub': 2330, 'mercy': 2331, 'bottom': 2332, 'ambition': 2333, 'toyota': 2334, 'ten': 2335, 'painter': 2336, 'gloomy': 2337, 'robot': 2338, 'mentioned': 2339, 'surfing': 2340, 'southpaw': 2341, 'id': 2342, 'mud': 2343, 'unfortunate': 2344, 'bachelor': 2345, 'spain': 2346, 'disobeyed': 2347, 'sunburned': 2348, 'tomatoes': 2349, 'voice': 2350, 'politics': 2351, 'weddings': 2352, 'laptop': 2353, 'showered': 2354, 'army': 2355, 'misunderstood': 2356, 'sword': 2357, 'mayor': 2358, 'relied': 2359, 'scored': 2360, 'vitamins': 2361, 'parrot': 2362, 'refund': 2363, 'acquitted': 2364, 'assaulted': 2365, '10': 2366, 'arrange': 2367, 'assist': 2368, 'addict': 2369, 'tipsy': 2370, 'carpenter': 2371, 'foreigner': 2372, 'geologist': 2373, 'attorney': 2374, 'engineer': 2375, 'cooperating': 2376, 'cracking': 2377, 'experienced': 2378, 'frying': 2379, 'interfering': 2380, 'ammo': 2381, 'unambitious': 2382, 'modest': 2383, 'soft': 2384, 'disgrace': 2385, 'improbable': 2386, 'inevitable': 2387, 'irrelevant': 2388, 'refreshing': 2389, 'typical': 2390, 'sufficient': 2391, 'narrow': 2392, 'humid': 2393, 'practice': 2394, 'sticky': 2395, 'neither': 2396, 'peel': 2397, 'lid': 2398, 'remove': 2399, 'calmed': 2400, 'forgave': 2401, 'typist': 2402, 'graceful': 2403, 'tied': 2404, 'assertive': 2405, 'silence': 2406, 'breather': 2407, 'damp': 2408, \"answer's\": 2409, 'engine': 2410, 'net': 2411, 'feared': 2412, 'greeted': 2413, 'visited': 2414, \"book's\": 2415, 'gifts': 2416, 'friday': 2417, 'acted': 2418, 'tailor': 2419, 'agitated': 2420, 'dejected': 2421, 'forgiven': 2422, 'wavering': 2423, 'mouse': 2424, 'sleeps': 2425, 'repulsive': 2426, 'front': 2427, 'teachers': 2428, 'fools': 2429, 'retreat': 2430, 'sailing': 2431, 'canadians': 2432, 'neighbors': 2433, 'newlyweds': 2434, 'resigning': 2435, 'treasure': 2436, \"what've\": 2437, 'less': 2438, 'than': 2439, 'wings': 2440, 'barking': 2441, 'invisible': 2442, 'flexible': 2443, 'cane': 2444, 'immediately': 2445, 'bridge': 2446, 'street': 2447, 'dial': 2448, 'deceive': 2449, 'faces': 2450, 'meals': 2451, 'costs': 2452, 'gardening': 2453, 'garage': 2454, 'pajamas': 2455, 'hunting': 2456, 'oranges': 2457, 'hunt': 2458, 'moves': 2459, 'france': 2460, 'biologist': 2461, 'intelligent': 2462, 'heaven': 2463, 'ticket': 2464, 'embarrassing': 2465, 'sneezed': 2466, 'professor': 2467, 'brazil': 2468, 'bowed': 2469, 'politely': 2470, 'reschedule': 2471, 'pork': 2472, 'trout': 2473, \"could've\": 2474, 'halloween': 2475, 'chemistry': 2476, 'computers': 2477, 'hypocrisy': 2478, 'receipt': 2479, 'website': 2480, 'allergies': 2481, 'hay': 2482, 'toothache': 2483, 'gunshots': 2484, 'drill': 2485, 'lifted': 2486, 'ocean': 2487, 'candle': 2488, 'wallet': 2489, 'adventure': 2490, 'yolks': 2491, 'hedgehogs': 2492, 'soul': 2493, 'band': 2494, 'view': 2495, 'blanket': 2496, 'tires': 2497, 'pointed': 2498, 'recommend': 2499, 'rematch': 2500, 'vengeance': 2501, '2003': 2502, 'humiliated': 2503, 'victorious': 2504, 'farm': 2505, 'gladly': 2506, 'clerk': 2507, 'alcoholic': 2508, 'between': 2509, 'conservative': 2510, 'enthusiastic': 2511, 'housesitting': 2512, 'killing': 2513, 'stressed': 2514, 'super': 2515, 'volunteering': 2516, 'riddle': 2517, 'valuable': 2518, 'virus': 2519, 'effective': 2520, 'mandatory': 2521, 'race': 2522, 'habit': 2523, 'tradition': 2524, 'settled': 2525, 'frightening': 2526, 'drug': 2527, 'sofa': 2528, 'informed': 2529, 'compromise': 2530, 'mars': 2531, 'tiny': 2532, 'itchy': 2533, 'pulse': 2534, 'gain': 2535, 'complaining': 2536, 'article': 2537, 'italy': 2538, 'search': 2539, 'defeated': 2540, 'despises': 2541, 'tb': 2542, '1960': 2543, 'disliked': 2544, 'obstinate': 2545, 'rejected': 2546, 'wisely': 2547, 'shots': 2548, 'brilliant': 2549, 'ludicrous': 2550, 'curtain': 2551, \"joke's\": 2552, 'rough': 2553, 'switch': 2554, 'deceived': 2555, 'accurate': 2556, 'bounced': 2557, 'rabbit': 2558, 'chickens': 2559, 'problems': 2560, 'conceited': 2561, 'courteous': 2562, 'delirious': 2563, 'difficult': 2564, 'excellent': 2565, 'silently': 2566, 'stepped': 2567, 'tickled': 2568, 'appalled': 2569, 'deported': 2570, 'headed': 2571, 'innovative': 2572, 'undefeated': 2573, 'demand': 2574, 'pictures': 2575, 'visitors': 2576, 'classmates': 2577, 'owners': 2578, 'belt': 2579, 'lady': 2580, 'nicely': 2581, 'younger': 2582, 'traitor': 2583, 'talkative': 2584, 'zip': 2585, 'robbed': 2586, 'add': 2587, 'others': 2588, 'link': 2589, 'cocaine': 2590, 'fuss': 2591, 'weapons': 2592, 'vase': 2593, 'scientist': 2594, 'forty': 2595, 'incompetent': 2596, 'influential': 2597, 'unrealistic': 2598, 'land': 2599, 'sailor': 2600, 'travels': 2601, 'rapidly': 2602, 'ballistic': 2603, 'pink': 2604, 'verify': 2605, 'clothes': 2606, 'bags': 2607, 'intervene': 2608, 'graduate': 2609, 'grade': 2610, 'hangover': 2611, 'passport': 2612, 'proposal': 2613, 'schedule': 2614, 'privacy': 2615, 'regrets': 2616, 'everywhere': 2617, 'skirt': 2618, 'hats': 2619, 'style': 2620, \"must've\": 2621, 'picked': 2622, 'ignorance': 2623, 'pulled': 2624, 'victory': 2625, \"shouldn't\": 2626, 'dawn': 2627, 'plate': 2628, 'apology': 2629, 'overwhelmed': 2630, 'gym': 2631, 'wreck': 2632, 'guessing': 2633, 'wild': 2634, 'dubious': 2635, 'neighbor': 2636, 'deliberate': 2637, 'unexpected': 2638, 'aching': 2639, 'toy': 2640, 'reconsider': 2641, 'rising': 2642, 'gained': 2643, 'attractive': 2644, 'unsociable': 2645, 'bitterly': 2646, 'fashionable': 2647, 'hyperactive': 2648, \"somebody's\": 2649, 'somehow': 2650, 'harassing': 2651, 'aspirin': 2652, 'wood': 2653, 'classified': 2654, 'disturbing': 2655, 'opinion': 2656, \"door's\": 2657, 'giggled': 2658, 'shop': 2659, 'thick': 2660, 'system': 2661, 'worst': 2662, 'damage': 2663, 'foxes': 2664, 'alike': 2665, 'permanent': 2666, 'sickening': 2667, 'articulate': 2668, 'hopeful': 2669, 'recognized': 2670, 'suffocating': 2671, 'cowards': 2672, 'pessimistic': 2673, 'pulling': 2674, 'revelation': 2675, 'future': 2676, 'terms': 2677, 'murderer': 2678, 'flute': 2679, 'advised': 2680, 'invite': 2681, 'snails': 2682, 'desire': 2683, 'hospital': 2684, 'remote': 2685, 'banged': 2686, 'classmate': 2687, 'chinese': 2688, 'unimpressed': 2689, 'filthy': 2690, 'position': 2691, 'advise': 2692, 'information': 2693, 'somewhere': 2694, 'custom': 2695, 'outfit': 2696, 'lived': 2697, 'kissing': 2698, 'spilled': 2699, 'learner': 2700, 'gotten': 2701, 'unavoidable': 2702, 'coincidence': 2703, 'corner': 2704, 'crowded': 2705, 'suitcase': 2706, 'owls': 2707, 'schools': 2708, 'frozen': 2709, 'urgency': 2710, 'unreliable': 2711, 'scout': 2712, 'volume': 2713, 'duck': 2714, 'cheers': 2715, 'hop': 2716, 'fled': 2717, 'froze': 2718, 'swore': 2719, 'kick': 2720, 'pair': 2721, 'cheer': 2722, 'cuff': 2723, 'cursed': 2724, 'chill': 2725, 'humor': 2726, 'frowned': 2727, 'gloated': 2728, 'grunted': 2729, 'prepaid': 2730, 'shouted': 2731, 'tripped': 2732, 'cured': 2733, 'needy': 2734, 'poured': 2735, '3': 2736, 'loosen': 2737, 'aah': 2738, 'below': 2739, 'seize': 2740, 'seriously': 2741, 'dived': 2742, 'knits': 2743, 'limps': 2744, 'rocks': 2745, 'higher': 2746, 'bottoms': 2747, 'fret': 2748, 'swiss': 2749, 'shivered': 2750, 'flabby': 2751, 'immune': 2752, 'begun': 2753, 'bogus': 2754, 'bulky': 2755, 'taboo': 2756, 'lighten': 2757, 'lasts': 2758, 'mama': 2759, 'shadow': 2760, 'cheats': 2761, 'cusses': 2762, 'gasped': 2763, 'sobbed': 2764, 'winced': 2765, 'yawned': 2766, 'unscrew': 2767, 'sunk': 2768, 'specific': 2769, 'watchful': 2770, \"beer's\": 2771, 'bowl': 2772, 'stare': 2773, 'nasty': 2774, 'hunk': 2775, 'faking': 2776, 'taller': 2777, 'assume': 2778, 'buried': 2779, 'tapes': 2780, 'fined': 2781, 'nailed': 2782, 'glue': 2783, 'oppose': 2784, '17': 2785, 'frantic': 2786, '50': 2787, 'futile': 2788, 'warmer': 2789, 'across': 2790, 'timing': 2791, 'clap': 2792, 'record': 2793, 'release': 2794, 'settle': 2795, 'curt': 2796, 'icky': 2797, \"tv's\": 2798, 'gambles': 2799, 'gargled': 2800, 'glum': 2801, 'meek': 2802, 'vain': 2803, 'wary': 2804, 'reacted': 2805, 'sneered': 2806, 'sniffed': 2807, 'snorted': 2808, 'hell': 2809, 'drag': 2810, 'dump': 2811, 'heel': 2812, \"what'd\": 2813, 'drew': 2814, 'abandon': 2815, 'backup': 2816, 'litter': 2817, 'ramble': 2818, 'slouch': 2819, 'warmly': 2820, 'examine': 2821, 'spoon': 2822, 'mocked': 2823, 'bigot': 2824, 'dare': 2825, 'caviar': 2826, 'faint': 2827, 'carded': 2828, 'ax': 2829, 'handled': 2830, 'hives': 2831, 'improvised': 2832, 'r': 2833, 'b': 2834, 'rugby': 2835, 'rewrote': 2836, 'suppose': 2837, 'sympathize': 2838, 'canned': 2839, 'framed': 2840, 'weighed': 2841, 'wimped': 2842, '99': 2843, 'dancer': 2844, 'priest': 2845, 'purist': 2846, 'surfer': 2847, 'agent': 2848, 'cultured': 2849, 'famished': 2850, 'hungover': 2851, 'rebel': 2852, 'worn': 2853, 'solid': 2854, 'elk': 2855, 'noisy': 2856, 'heal': 2857, 'plant': 2858, 'setup': 2859, 'suicide': 2860, 'bounce': 2861, 'review': 2862, 'hip': 2863, 'cared': 2864, 'shrieked': 2865, 'sued': 2866, 'filming': 2867, 'gawking': 2868, 'pouting': 2869, 'whining': 2870, 'yawning': 2871, 'whiff': 2872, 'approve': 2873, 'spam': 2874, \"this'll\": 2875, 'approves': 2876, 'enlisted': 2877, 'grumbled': 2878, 'insisted': 2879, 'pudgy': 2880, 'sniffled': 2881, 'stutters': 2882, 'arabs': 2883, 'starve': 2884, 'nerve': 2885, 'ufo': 2886, 'vanished': 2887, 'amuse': 2888, 'imbecile': 2889, 'gross': 2890, 'futon': 2891, 'slipping': 2892, 'respectful': 2893, 'supportive': 2894, 'blindfold': 2895, 'drown': 2896, 'despair': 2897, 'mock': 2898, 'sass': 2899, 'circle': 2900, 'healthily': 2901, 'peas': 2902, 'ham': 2903, 'advises': 2904, 'cracked': 2905, 'dug': 2906, 'braces': 2907, 'british': 2908, 'grouch': 2909, 'jesuit': 2910, 'senior': 2911, 'tycoon': 2912, 'bled': 2913, 'honk': 2914, 'horn': 2915, 'thrilling': 2916, 'acquired': 2917, 'borrowed': 2918, 'bribed': 2919, 'classes': 2920, 'designed': 2921, 'poker': 2922, 'exaggerated': 2923, 'queasy': 2924, 'unwell': 2925, 'reborn': 2926, 'forbid': 2927, 'freaked': 2928, 'bonus': 2929, 'scammed': 2930, 'crowds': 2931, 'flying': 2932, 'rights': 2933, 'sirens': 2934, 'clocks': 2935, 'prunes': 2936, 'poetry': 2937, 'outrank': 2938, 'yacht': 2939, 'squash': 2940, 'funds': 2941, 'resent': 2942, 'queen': 2943, 'firefox': 2944, 'pony': 2945, 'dazzled': 2946, 'drugged': 2947, 'nights': 2948, 'trainee': 2949, 'parole': 2950, 'resentful': 2951, 'damaged': 2952, 'gag': 2953, 'flaw': 2954, 'sickens': 2955, 'bomb': 2956, 'hoax': 2957, 'superb': 2958, 'viral': 2959, 'parody': 2960, 'rental': 2961, 'sequel': 2962, 'homemade': 2963, 'indecent': 2964, 'instinct': 2965, 'midnight': 2966, 'obsolete': 2967, 'outdated': 2968, 'rat': 2969, 'hustling': 2970, 'paddling': 2971, 'italian': 2972, 'mortal': 2973, 'aches': 2974, 'lungs': 2975, 'gentle': 2976, 'obeys': 2977, 'livid': 2978, 'cutie': 2979, 'ease': 2980, 'stir': 2981, 'clapping': 2982, 'frowning': 2983, 'spitting': 2984, 'straighten': 2985, 'heap': 2986, 'myth': 2987, 'rad': 2988, 'mooed': 2989, 'embraced': 2990, 'asian': 2991, 'spies': 2992, 'pun': 2993, 'basic': 2994, 'shoe': 2995, 'exercises': 2996, 'graduated': 2997, 'sexist': 2998, 'somber': 2999, 'stable': 3000, 'touchy': 3001, 'unhurt': 3002, 'upbeat': 3003, 'winded': 3004, 'overdosed': 3005, 'rushed': 3006, 'shuddered': 3007, 'staggered': 3008, 'stiffened': 3009, 'tensed': 3010, 'testified': 3011, 'wax': 3012, 'assumed': 3013, 'trees': 3014, 'tools': 3015, 'candy': 3016, 'rebuild': 3017, 'anxious': 3018, 'sync': 3019, 'stalled': 3020, 'winners': 3021, 'matured': 3022, 'bummer': 3023, 'fiasco': 3024, 'hassle': 3025, 'absent': 3026, 'legibly': 3027, 'charlatan': 3028, 'hoot': 3029, 'snob': 3030, 'crafty': 3031, 'grumpy': 3032, 'morons': 3033, 'wicked': 3034, 'coke': 3035, 'intruding': 3036, 'hiring': 3037, 'avoid': 3038, 'clichés': 3039, 'boats': 3040, 'sink': 3041, 'juggle': 3042, 'contact': 3043, 'annoy': 3044, 'purr': 3045, 'recycle': 3046, 'crude': 3047, 'struggle': 3048, 'tease': 3049, 'tempt': 3050, 'farts': 3051, 'gasps': 3052, 'lines': 3053, 'afternoon': 3054, 'birthday': 3055, 'holidays': 3056, 'lip': 3057, 'dislikes': 3058, 'tan': 3059, 'gazed': 3060, 'writer': 3061, 'bankrupt': 3062, 'delicate': 3063, 'jelly': 3064, 'slacker': 3065, 'con': 3066, 'outlaw': 3067, 'henpecked': 3068, 'ached': 3069, 'perceptive': 3070, 'nail': 3071, 'decorated': 3072, 'gossip': 3073, 'draft': 3074, 'seasick': 3075, 'snubbed': 3076, 'suntan': 3077, 'expelled': 3078, 'guarantee': 3079, 'mishap': 3080, 'stroke': 3081, 'hailed': 3082, 'mondays': 3083, 'insects': 3084, 'ironing': 3085, 'karaoke': 3086, 'zealots': 3087, 'amnesia': 3088, 'thud': 3089, 'voices': 3090, 'almonds': 3091, 'castles': 3092, 'oysters': 3093, 'sashimi': 3094, 'seafood': 3095, 'stories': 3096, 'upstate': 3097, 'lasagna': 3098, 'sunsets': 3099, 'muffins': 3100, 'decline': 3101, 'asap': 3102, 'surgery': 3103, 'predicted': 3104, 'cattle': 3105, 'serve': 3106, 'sneeze': 3107, 'urge': 3108, 'impolite': 3109, 'pardoned': 3110, 'prosper': 3111, 'memo': 3112, 'scold': 3113, 'merchant': 3114, 'minister': 3115, 'musician': 3116, 'salesman': 3117, 'thumbs': 3118, 'dependable': 3119, 'farsighted': 3120, 'firing': 3121, 'kyoto': 3122, 'quitter': 3123, 'bitter': 3124, 'remodeling': 3125, 'killer': 3126, 'credible': 3127, 'common': 3128, 'fluke': 3129, 'magical': 3130, 'classic': 3131, 'firefly': 3132, 'ambush': 3133, 'brand': 3134, 'dishonest': 3135, 'forbidden': 3136, 'inspiring': 3137, 'redundant': 3138, 'vibrating': 3139, 'searching': 3140, 'lend': 3141, 'clues': 3142, 'larger': 3143, \"mum's\": 3144, 'joints': 3145, 'itches': 3146, 'tummy': 3147, 'biting': 3148, 'ditched': 3149, 'brains': 3150, 'prudish': 3151, 'bach': 3152, 'swims': 3153, 'types': 3154, 'hottie': 3155, 'looker': 3156, 'snap': 3157, 'grumbling': 3158, 'poking': 3159, 'quibbling': 3160, 'resisting': 3161, 'sniffling': 3162, 'wheel': 3163, 'sir': 3164, 'bunch': 3165, 'tower': 3166, 'alright': 3167, 'evident': 3168, 'flag': 3169, 'siren': 3170, 'quarreled': 3171, 'babies': 3172, 'bites': 3173, 'unsafe': 3174, 'dice': 3175, \"today's\": 3176, 'hectic': 3177, 'draws': 3178, 'issues': 3179, 'scurvy': 3180, 'talent': 3181, 'felon': 3182, 'giant': 3183, 'lefty': 3184, 'mason': 3185, 'pilot': 3186, 'cynical': 3187, 'devoted': 3188, 'nodding': 3189, 'pompous': 3190, 'radical': 3191, 'shaving': 3192, 'smarter': 3193, 'spoiled': 3194, 'unfazed': 3195, 'unkempt': 3196, 'unmoved': 3197, 'tofu': 3198, 'maps': 3199, 'retaliated': 3200, 'stranded': 3201, 'unstable': 3202, 'sauce': 3203, 'brain': 3204, 'rear': 3205, 'blast': 3206, 'landed': 3207, 'couple': 3208, 'butchers': 3209, 'letdown': 3210, 'atm': 3211, 'disgust': 3212, 'screwed': 3213, 'amusing': 3214, 'elusive': 3215, 'obscene': 3216, 'pro': 3217, 'reinstated': 3218, 'suggestions': 3219, 'purple': 3220, 'ghost': 3221, 'envious': 3222, 'insured': 3223, 'balls': 3224, 'bullet': 3225, 'boil': 3226, 'anytime': 3227, 'boxes': 3228, 'clip': 3229, 'hatch': 3230, 'congratulations': 3231, 'crows': 3232, 'rap': 3233, 'freak': 3234, 'interfere': 3235, 'overdo': 3236, 'remind': 3237, 'danced': 3238, 'fasten': 3239, 'fetch': 3240, 'fold': 3241, 'popcorn': 3242, 'onto': 3243, 'daddy': 3244, 'racket': 3245, 'intrigues': 3246, 'ethiopian': 3247, 'sweets': 3248, 'puts': 3249, 'airs': 3250, 'whisky': 3251, 'shouts': 3252, 'swindled': 3253, 'comedian': 3254, 'frat': 3255, 'gardener': 3256, 'lad': 3257, 'newcomer': 3258, 'slowpoke': 3259, 'hoist': 3260, 'sails': 3261, '12': 3262, '45': 3263, 'humiliating': 3264, 'hypnotism': 3265, 'egypt': 3266, 'booked': 3267, 'compete': 3268, 'carp': 3269, 'chickened': 3270, 'dealt': 3271, 'downloaded': 3272, 'dried': 3273, 'feverish': 3274, 'isolated': 3275, 'seizure': 3276, 'fanatics': 3277, 'funerals': 3278, 'raccoons': 3279, 'reptiles': 3280, 'heat': 3281, 'rug': 3282, 'bruise': 3283, 'alibi': 3284, 'dandruff': 3285, 'diabetes': 3286, 'immunity': 3287, 'rains': 3288, 'imagined': 3289, 'lent': 3290, 'cartoons': 3291, 'westerns': 3292, 'hyogo': 3293, 'interest': 3294, 'barbecue': 3295, 'comedies': 3296, 'eggplant': 3297, 'brownies': 3298, 'supper': 3299, 'internet': 3300, 'caffeine': 3301, 'guidance': 3302, 'tape': 3303, 'shave': 3304, 'outwitted': 3305, 'bills': 3306, 'biking': 3307, 'orchids': 3308, 'respected': 3309, 'pattern': 3310, 'convicted': 3311, 'horrified': 3312, 'coma': 3313, 'patrol': 3314, 'petrified': 3315, 'wondering': 3316, 'double': 3317, 'azerbaijani': 3318, 'cameraman': 3319, 'chauffeur': 3320, 'housewife': 3321, 'lifeguard': 3322, 'masochist': 3323, 'owl': 3324, 'begging': 3325, 'catching': 3326, 'zambia': 3327, 'hardworking': 3328, 'nearsighted': 3329, 'deck': 3330, 'replaceable': 3331, 'spontaneous': 3332, 'captain': 3333, 'unconvinced': 3334, 'hazardous': 3335, 'poisonous': 3336, 'river': 3337, 'ethical': 3338, 'poorly': 3339, 'option': 3340, 'burnt': 3341, 'tasted': 3342, 'ages': 3343, 'enticing': 3344, 'handmade': 3345, 'mushroom': 3346, 'travesty': 3347, '11': 3348, 'outrage': 3349, 'artificial': 3350, 'dirt': 3351, 'inadequate': 3352, 'misleading': 3353, 'loan': 3354, 'secure': 3355, 'sweltering': 3356, 'tax': 3357, 'scarce': 3358, 'paging': 3359, 'covered': 3360, 'koalas': 3361, 'lemons': 3362, 'celebrate': 3363, 'kites': 3364, 'improvise': 3365, \"life's\": 3366, 'smaller': 3367, 'merry': 3368, 'shrank': 3369, \"shift's\": 3370, 'squeak': 3371, 'natto': 3372, 'october': 3373, 'wonders': 3374, 'planning': 3375, 'pour': 3376, 'rake': 3377, 'saddle': 3378, 'sharks': 3379, 'stabbed': 3380, 'brazilian': 3381, 'roll': 3382, 'silk': 3383, 'spanish': 3384, 'steady': 3385, 'nosy': 3386, 'squabbling': 3387, 'whimpering': 3388, 'chances': 3389, 'frankly': 3390, 'plastic': 3391, 'pagoda': 3392, 'puzzle': 3393, 'barbaric': 3394, 'doubtful': 3395, 'peculiar': 3396, \"baby's\": 3397, \"bike's\": 3398, 'growled': 3399, \"food's\": 3400, 'stank': 3401, \"soup's\": 3402, 'tub': 3403, 'howled': 3404, 'cure': 3405, 'actors': 3406, 'melons': 3407, 'pilots': 3408, 'farce': 3409, 'hogwash': 3410, 'private': 3411, 'pleases': 3412, 'wasting': 3413, 'burps': 3414, 'dances': 3415, 'exaggerates': 3416, 'ipad': 3417, 'client': 3418, 'player': 3419, 'welder': 3420, 'anorexic': 3421, 'athletic': 3422, 'cautious': 3423, 'childish': 3424, 'depraved': 3425, 'drenched': 3426, 'eloquent': 3427, 'giggling': 3428, 'immobile': 3429, 'insolent': 3430, 'knocking': 3431, 'likeable': 3432, 'perverse': 3433, 'pleasant': 3434, 'reckless': 3435, 'resolute': 3436, 'skittish': 3437, 'sneezing': 3438, 'spirited': 3439, 'studious': 3440, 'tactless': 3441, 'tireless': 3442, 'tolerant': 3443, 'unafraid': 3444, 'unnerved': 3445, 'learns': 3446, 'dazed': 3447, 'falls': 3448, 'stops': 3449, 'sees': 3450, 'sipped': 3451, 'slowed': 3452, 'photos': 3453, 'evasive': 3454, 'moaning': 3455, 'paralyzed': 3456, 'earned': 3457, 'yawn': 3458, 'walls': 3459, 'declared': 3460, 'raw': 3461, 'ponchos': 3462, 'waffles': 3463, 'experts': 3464, 'shared': 3465, 'farmers': 3466, 'camp': 3467, 'attorneys': 3468, 'comedians': 3469, 'fixing': 3470, 'gardeners': 3471, 'gentlemen': 3472, 'incorrect': 3473, 'newcomers': 3474, 'past': 3475, 'relatives': 3476, 'soulmates': 3477, 'survivors': 3478, 'unrelated': 3479, 'blessing': 3480, 'prospect': 3481, 'weakling': 3482, 'dude': 3483, 'gpa': 3484, 'oar': 3485, 'jello': 3486, 'naughty': 3487, 'unsure': 3488, 'devil': 3489, \"mustn't\": 3490, 'menace': 3491, 'disloyal': 3492, 'picky': 3493, 'accidents': 3494, 'apply': 3495, 'catholic': 3496, 'golfer': 3497, 'maniac': 3498, 'wizard': 3499, 'dyslexic': 3500, 'crack': 3501, 'atlantis': 3502, 'snakes': 3503, 'boxing': 3504, 'brace': 3505, 'normally': 3506, 'spell': 3507, 'climb': 3508, 'blinds': 3509, 'consider': 3510, 'consult': 3511, 'supply': 3512, 'wire': 3513, '110': 3514, 'delicately': 3515, 'pasta': 3516, 'disturb': 3517, 'exaggerate': 3518, 'rip': 3519, 'yell': 3520, 'veggies': 3521, 'groans': 3522, 'hamster': 3523, 'floating': 3524, 'purpose': 3525, 'useful': 3526, 'without': 3527, 'flow': 3528, 'croissant': 3529, 'hobo': 3530, 'noon': 3531, 'recently': 3532, 'backward': 3533, 'speech': 3534, 'picasso': 3535, 'joker': 3536, 'acrobat': 3537, 'ratted': 3538, 'shares': 3539, 'soundly': 3540, 'tenacious': 3541, 'bartender': 3542, 'lover': 3543, 'historian': 3544, 'nonsmoker': 3545, 'sophomore': 3546, 'senile': 3547, 'hone': 3548, 'skills': 3549, 'melodramatic': 3550, \"how're\": 3551, 'norway': 3552, 'witch': 3553, 'weekly': 3554, 'appreciated': 3555, 'bumped': 3556, 'budge': 3557, 'reach': 3558, 'confiscated': 3559, 'deliver': 3560, 'pizzas': 3561, 'disregarded': 3562, 'drugs': 3563, 'dilemma': 3564, 'empowered': 3565, 'protected': 3566, 'refreshed': 3567, 'goosebumps': 3568, 'texts': 3569, 'reasons': 3570, 'fireworks': 3571, 'paperwork': 3572, 'diploma': 3573, 'grenade': 3574, 'request': 3575, 'heartburn': 3576, 'insurance': 3577, 'pneumonia': 3578, 'standards': 3579, 'journal': 3580, 'ropes': 3581, 'astrology': 3582, 'elephants': 3583, 'novel': 3584, 'uncles': 3585, 'mysteries': 3586, 'pop': 3587, 'papers': 3588, 'temper': 3589, 'australia': 3590, 'astronomy': 3591, 'libraries': 3592, 'fortune': 3593, 'kleenex': 3594, 'escort': 3595, 'envelopes': 3596, 'soap': 3597, 'subtitles': 3598, 'planted': 3599, 'regret': 3600, 'require': 3601, 'rubbed': 3602, 'umbrellas': 3603, 'strongly': 3604, 'divorce': 3605, 'martini': 3606, 'pal': 3607, 'raccoon': 3608, 'scooter': 3609, '13': 3610, 'dumbstruck': 3611, 'unprepared': 3612, 'raffle': 3613, 'demonstrate': 3614, '18': 3615, '25': 3616, 'bookkeeper': 3617, 'programmer': 3618, 'shutterbug': 3619, 'ambidextrous': 3620, 'disorganized': 3621, 'dissatisfied': 3622, 'fairly': 3623, 'freaking': 3624, 'croatia': 3625, 'romania': 3626, 'fbi': 3627, 'heading': 3628, 'homeschooled': 3629, 'ignoring': 3630, 'attic': 3631, 'inviting': 3632, 'beggar': 3633, 'paranoid': 3634, 'row': 3635, 'youngest': 3636, 'drawn': 3637, 'conscious': 3638, 'accessible': 3639, '223': 3640, '1374': 3641, 'euros': 3642, 'trick': 3643, 'freaks': 3644, 'washing': 3645, 'excessive': 3646, 'hype': 3647, 'april': 3648, 'snowstorm': 3649, 'sunflower': 3650, 'balmy': 3651, 'conceivable': 3652, 'cooler': 3653, 'fetched': 3654, 'regrettable': 3655, 'transparent': 3656, 'unnecessary': 3657, 'asia': 3658, 'camping': 3659, 'darts': 3660, 'lower': 3661, 'fleas': 3662, 'inbox': 3663, \"rifle's\": 3664, 'stomach': 3665, 'sunburn': 3666, \"wallet's\": 3667, 'responded': 3668, 'stung': 3669, 'oil': 3670, 'windows': 3671, 'parrots': 3672, 'pets': 3673, 'pump': 3674, 'sock': 3675, 'bellyaching': 3676, 'hassling': 3677, 'ending': 3678, 'rome': 3679, 'idolized': 3680, 'scene': 3681, 'repulses': 3682, 'rode': 3683, 'camel': 3684, 'worships': 3685, 'bench': 3686, 'pitied': 3687, 'spit': 3688, 'apologizing': 3689, 'showing': 3690, 'touching': 3691, 'precautions': 3692, 'kindly': 3693, 'million': 3694, 'explains': 3695, 'avoidable': 3696, 'blackmail': 3697, 'idle': 3698, 'affair': 3699, 'issue': 3700, 'troubling': 3701, 'upsetting': 3702, 'creaked': 3703, 'jury': 3704, 'mass': 3705, 'noes': 3706, \"party's\": 3707, 'icy': 3708, 'limits': 3709, 'scoffed': 3710, 'artists': 3711, 'singers': 3712, 'amateurs': 3713, 'traitors': 3714, \"guy's\": 3715, '839': 3716, 'insanity': 3717, 'official': 3718, 'puzzling': 3719, 'relaxing': 3720, 'required': 3721, 'sabotage': 3722, 'shameful': 3723, 'norm': 3724, \"seat's\": 3725, 'admires': 3726, 'avoided': 3727, 'raft': 3728, 'coughs': 3729, 'forgives': 3730, 'fried': 3731, 'charisma': 3732, 'onions': 3733, 'drummer': 3734, 'gourmet': 3735, 'gymnast': 3736, 'hipster': 3737, 'pianist': 3738, 'realtor': 3739, 'trucker': 3740, 'intern': 3741, 'competent': 3742, 'deceitful': 3743, 'emotional': 3744, 'improving': 3745, 'indignant': 3746, 'inventive': 3747, 'legendary': 3748, 'merciless': 3749, 'oblivious': 3750, 'observing': 3751, 'campus': 3752, 'overjoyed': 3753, 'perplexed': 3754, 'regretful': 3755, 'reluctant': 3756, 'shameless': 3757, 'suspended': 3758, 'owner': 3759, 'sighing': 3760, 'texting': 3761, 'ponies': 3762, 'tulips': 3763, 'overheard': 3764, 'steals': 3765, 'suggested': 3766, 'swears': 3767, 'abducted': 3768, 'babbling': 3769, 'cremated': 3770, 'ecstatic': 3771, 'executed': 3772, 'selected': 3773, 'unshaven': 3774, 'watches': 3775, 'berserk': 3776, 'bonkers': 3777, 'goggles': 3778, 'headstrong': 3779, 'instead': 3780, 'slower': 3781, \"war's\": 3782, 'robbery': 3783, 'swordfish': 3784, 'competed': 3785, 'depend': 3786, 'crisis': 3787, 'theory': 3788, 'injuries': 3789, 'evacuate': 3790, 'withdraw': 3791, 'supplies': 3792, 'ambushed': 3793, 'downsizing': 3794, 'dozing': 3795, 'historians': 3796, 'lifeguards': 3797, 'mates': 3798, 'seek': 3799, 'fails': 3800, 'score': 3801, 'whatever': 3802, 'razor': 3803, '303': 3804, 'cheaper': 3805, 'developed': 3806, 'uses': 3807, 'notified': 3808, 'hamlet': 3809, 'wool': 3810, 'dyes': 3811, 'x': 3812, 'marks': 3813, 'quote': 3814, 'distant': 3815, 'seventh': 3816, 'failure': 3817, 'lunatic': 3818, 'obnoxious': 3819, 'practical': 3820, 'unethical': 3821, 'leaf': 3822, \"screw's\": 3823, 'steps': 3824, 'arrest': 3825, 'bachelors': 3826, 'knackered': 3827, 'religious': 3828, 'policeman': 3829, 'thieves': 3830, 'nests': 3831, 'ambulance': 3832, 'copies': 3833, 'elaborate': 3834, 'champagne': 3835, 'chuck': 3836, 'click': 3837, 'compare': 3838, 'imminent': 3839, 'startle': 3840, 'disable': 3841, 'ants': 3842, 'pet': 3843, 'lager': 3844, 'latin': 3845, 'kratom': 3846, 'wanna': 3847, 'ignorant': 3848, 'petty': 3849, 'threaten': 3850, 'fry': 3851, 'rung': 3852, 'haste': 3853, 'blackmailed': 3854, 'carried': 3855, 'chewed': 3856, 'gum': 3857, 'deals': 3858, 'grain': 3859, 'roughly': 3860, 'earns': 3861, 'employs': 3862, 'fills': 3863, 'grabbed': 3864, 'hanged': 3865, 'ego': 3866, 'blond': 3867, 'curly': 3868, 'remorse': 3869, 'daredevil': 3870, 'dramatist': 3871, 'physicist': 3872, 'frugally': 3873, 'osaka': 3874, 'miles': 3875, 'requested': 3876, 'russian': 3877, 'wakes': 3878, 'imprisoned': 3879, 'raging': 3880, 'scripts': 3881, 'journalist': 3882, 'buff': 3883, 'timer': 3884, 'undergrad': 3885, 'georgia': 3886, 'raking': 3887, 'trusting': 3888, 'heed': 3889, 'warnings': 3890, 'darkened': 3891, \"room's\": 3892, 'handrail': 3893, 'spelled': 3894, 'hamburger': 3895, 'sandwich': 3896, 'baited': 3897, 'hook': 3898, 'bathe': 3899, 'bid': 3900, 'bolted': 3901, 'cactus': 3902, 'webcam': 3903, 'brushed': 3904, 'shelter': 3905, 'chopin': 3906, 'tutor': 3907, 'register': 3908, 'vulnerable': 3909, 'grades': 3910, 'bee': 3911, 'sting': 3912, 'lightly': 3913, 'soaking': 3914, 'ground': 3915, 'breakdown': 3916, 'hypocrites': 3917, 'interviews': 3918, 'mosquitoes': 3919, 'desert': 3920, 'backache': 3921, 'migraine': 3922, 'sailboat': 3923, 'earache': 3924, 'discs': 3925, 'savings': 3926, 'sleeve': 3927, 'jackpot': 3928, 'intend': 3929, 'navy': 3930, 'bitten': 3931, 'practicing': 3932, 'confidence': 3933, 'adventures': 3934, 'challenges': 3935, 'folk': 3936, 'sauerkraut': 3937, 'spicy': 3938, 'odds': 3939, 'watermelon': 3940, 'dam': 3941, 'earring': 3942, 'balance': 3943, 'hamburgers': 3944, 'performing': 3945, 'album': 3946, 'outlive': 3947, 'minutes': 3948, 'keyboard': 3949, 'protection': 3950, 'toothpaste': 3951, 'oversleep': 3952, 'abroad': 3953, 'hood': 3954, 'paused': 3955, 'tambourine': 3956, 'volleyball': 3957, 'pruned': 3958, 'muscle': 3959, 'jaw': 3960, 'pushed': 3961, 'recommended': 3962, '2013': 3963, 'jest': 3964, 'airplane': 3965, 'sunrise': 3966, 'known': 3967, 'sometimes': 3968, 'swallowed': 3969, 'bug': 3970, 'swept': 3971, 'geography': 3972, 'otherwise': 3973, 'highway': 3974, '58': 3975, 'notebook': 3976, 'plates': 3977, 'confess': 3978, 'workout': 3979, 'sympathy': 3980, 'passenger': 3981, 'discouraged': 3982, 'discredited': 3983, 'mugged': 3984, 'misinformed': 3985, 'outnumbered': 3986, 'trespassing': 3987, 'flirting': 3988, 'harvard': 3989, '6': 3990, 'shotgun': 3991, 'trainer': 3992, 'worker': 3993, 'salesperson': 3994, 'accountant': 3995, 'astronomer': 3996, 'aware': 3997, 'awfully': 3998, 'bringing': 3999, 'concentrating': 4000, 'extremely': 4001, 'flabbergasted': 4002, 'bulgaria': 4003, 'irreplaceable': 4004, 'materialistic': 4005, 'persuaded': 4006, 'uncomfortable': 4007, 'evicted': 4008, 'diarrhea': 4009, 'pride': 4010, 'rumors': 4011, 'inflation': 4012, 'insure': 4013, 'notarized': 4014, 'warranted': 4015, 'curfew': 4016, 'reward': 4017, 'stunning': 4018, 'depends': 4019, 'pieces': 4020, 'ways': 4021, 'cooled': 4022, 'optional': 4023, 'heavily': 4024, 'nonstop': 4025, 'massacre': 4026, 'convenient': 4027, 'cumbersome': 4028, 'disastrous': 4029, 'horrendous': 4030, 'flimsy': 4031, 'wobbly': 4032, \"boys'\": 4033, 'club': 4034, 'conspiracy': 4035, 'dictionary': 4036, 'brainer': 4037, 'rage': 4038, 'confidential': 4039, \"brother's\": 4040, 'questionable': 4041, 'imprecise': 4042, 'starting': 4043, 'unauthorized': 4044, 'onerous': 4045, 'chin': 4046, 'knock': 4047, 'straws': 4048, 'investigate': 4049, 'peek': 4050, 'enjoyable': 4051, 'conquers': 4052, 'prevail': 4053, 'prediction': 4054, 'vivacious': 4055, \"heart's\": 4056, 'shoulder': 4057, \"stomach's\": 4058, 'misses': 4059, 'none': 4060, 'opposites': 4061, 'attract': 4062, 'pretend': 4063, 'production': 4064, 'thorns': 4065, 'appeals': 4066, 'figure': 4067, 'beginner': 4068, 'teen': 4069, 'turner': 4070, 'golden': 4071, 'lullaby': 4072, 'flower': 4073, \"something's\": 4074, 'scale': 4075, 'badgering': 4076, 'following': 4077, 'interrupting': 4078, 'termites': 4079, 'essential': 4080, 'rings': 4081, 'fir': 4082, 'exactly': 4083, 'defense': 4084, 'undeniable': 4085, 'handy': 4086, 'crowd': 4087, 'donkey': 4088, 'brayed': 4089, 'squeaked': 4090, 'rotates': 4091, 'jammed': 4092, 'dull': 4093, 'lemon': 4094, \"lock's\": 4095, 'lovers': 4096, 'motor': 4097, 'meager': 4098, \"pizza's\": 4099, 'tactic': 4100, \"train's\": 4101, 'verdict': 4102, 'gods': 4103, 'hunted': 4104, 'tortured': 4105, 'cannibals': 4106, 'identical': 4107, 'murderers': 4108, 'bucket': 4109, 'coconut': 4110, 'appalling': 4111, 'extortion': 4112, 'gibberish': 4113, 'insulting': 4114, 'irregular': 4115, 'justified': 4116, 'offensive': 4117, 'pointless': 4118, 'priceless': 4119, 'tasteless': 4120, 'temporary': 4121, 'worrisome': 4122, 'silver': 4123, 'fishy': 4124, 'moldy': 4125, 'thursday': 4126, 'arrives': 4127, 'praying': 4128, 'behaved': 4129, 'claims': 4130, 'deserves': 4131, 'despised': 4132, 'appear': 4133, 'flinch': 4134, 'expects': 4135, 'iq': 4136, 'iphone': 4137, 'arthritis': 4138, 'skin': 4139, 'frostbite': 4140, 'seniority': 4141, \"hasn't\": 4142, 'imitated': 4143, 'don': 4144, 'juan': 4145, 'bookworm': 4146, 'jeweller': 4147, 'pushover': 4148, 'teenager': 4149, 'werewolf': 4150, 'believable': 4151, 'despondent': 4152, 'determined': 4153, 'custody': 4154, 'therapy': 4155, 'indecisive': 4156, 'insightful': 4157, 'intolerant': 4158, 'passionate': 4159, 'perspiring': 4160, 'possessive': 4161, 'protective': 4162, 'recovering': 4163, 'stuttering': 4164, 'unfaithful': 4165, 'minor': 4166, 'trained': 4167, 'crawling': 4168, 'mumbles': 4169, 'outlived': 4170, 'peeked': 4171, 'peered': 4172, 'poisoned': 4173, 'patiently': 4174, 'sensed': 4175, 'served': 4176, 'shifted': 4177, 'gears': 4178, 'sneezes': 4179, 'bait': 4180, 'vomited': 4181, 'updates': 4182, 'fanatic': 4183, 'negligent': 4184, 'strangled': 4185, 'imaginative': 4186, 'hose': 4187, 'hibernate': 4188, 'beers': 4189, 'acrylic': 4190, 'visit': 4191, 'longer': 4192, 'liquid': 4193, 'flaws': 4194, 'p': 4195, 'm': 4196, 'vaccine': 4197, 'warrant': 4198, 'suppliers': 4199, 'witnesses': 4200, 'parks': 4201, 'canoe': 4202, 'due': 4203, 'battle': 4204, 'mothers': 4205, 'handling': 4206, 'journalists': 4207, 'killers': 4208, 'collection': 4209, 'tacky': 4210, 'happiness': 4211, 'delay': 4212, 'achieved': 4213, 'asking': 4214, 'stain': 4215, 'target': 4216, 'major': 4217, 'arrive': 4218, \"where've\": 4219, 'confucius': 4220, 'drama': 4221, 'c': 4222, 'woods': 4223, 'wriggle': 4224, 'actresses': 4225, 'european': 4226, 'error': 4227, 'stitches': 4228, 'survivor': 4229, 'hurting': 4230, 'particular': 4231, 'scaring': 4232, 'telling': 4233, 'leader': 4234, 'master': 4235, 'unfriendly': 4236, 'scratched': 4237, 'revolt': 4238, 'storm': 4239, 'brewing': 4240, 'admission': 4241, 'demanding': 4242, 'applause': 4243, 'buddhist': 4244, 'believer': 4245, 'mocking': 4246, 'registered': 4247, 'attendance': 4248, 'contains': 4249, 'hops': 4250, 'chirping': 4251, 'fascinate': 4252, 'pillow': 4253, 'rackets': 4254, 'menu': 4255, 'subject': 4256, 'pockets': 4257, 'murder': 4258, 'divide': 4259, 'conquer': 4260, 'tells': 4261, 'blog': 4262, 'mozart': 4263, 'robots': 4264, 'offend': 4265, 'copycat': 4266, 'choosy': 4267, 'patronize': 4268, 'stones': 4269, 'relaxes': 4270, 'dust': 4271, 'shelf': 4272, 'endorse': 4273, 'weekend': 4274, 'dollar': 4275, 'applauded': 4276, 'blanks': 4277, 'breakable': 4278, 'lab': 4279, 'traffic': 4280, 'broom': 4281, 'wrench': 4282, 'thanksgiving': 4283, \"od'd\": 4284, 'foolishly': 4285, 'breathed': 4286, 'mile': 4287, 'cartwheel': 4288, 'cycling': 4289, 'footsteps': 4290, 'daydreamer': 4291, 'fishmonger': 4292, 'colleague': 4293, 'witted': 4294, 'heartless': 4295, 'lacks': 4296, 'judgement': 4297, 'memory': 4298, 'retaliate': 4299, 'gives': 4300, 'rolled': 4301, 'thrust': 4302, 'd': 4303, 'weighs': 4304, '70': 4305, 'kilos': 4306, 'lottery': 4307, 'walker': 4308, 'critic': 4309, 'ghostwriter': 4310, 'keeper': 4311, 'meth': 4312, 'englishman': 4313, 'aristocrat': 4314, 'overconfident': 4315, 'fifty': 4316, 'scapegoat': 4317, 'print': 4318, 'torn': 4319, 'sooty': 4320, 'baggage': 4321, 'eludes': 4322, 'pace': 4323, 'quickened': 4324, 'untidy': 4325, 'refill': 4326, 'economy': 4327, 'museum': 4328, 'absolutely': 4329, 'customers': 4330, 'completely': 4331, 'boiling': 4332, 'fond': 4333, 'portugal': 4334, 'shizuoka': 4335, 'grilling': 4336, 'prophet': 4337, 'fries': 4338, 'potato': 4339, 'chips': 4340, 'peanuts': 4341, 'clutch': 4342, 'exclude': 4343, 'imagine': 4344, 'clicked': 4345, 'sin': 4346, 'detest': 4347, 'vodka': 4348, 'miserably': 4349, 'tests': 4350, 'chilly': 4351, 'fractured': 4352, 'loads': 4353, 'goat': 4354, 'roommate': 4355, 'carpet': 4356, 'complaint': 4357, 'spare': 4358, 'telescope': 4359, 'blonde': 4360, 'frizzy': 4361, 'appetite': 4362, 'patience': 4363, 'religion': 4364, 'siblings': 4365, 'invoice': 4366, 'rehearse': 4367, 'cameras': 4368, 'nephews': 4369, 'tickets': 4370, 'explosions': 4371, 'hid': 4372, 'pans': 4373, 'jog': 4374, 'emailed': 4375, 'redecorated': 4376, 'imagination': 4377, 'mission': 4378, 'irish': 4379, 'places': 4380, 'candlelight': 4381, 'disco': 4382, 'mathematics': 4383, 'raspberries': 4384, 'translating': 4385, 'windsurfing': 4386, 'kakogawa': 4387, 'yokohama': 4388, 'poverty': 4389, 'bearded': 4390, 'butterflies': 4391, 'fairy': 4392, 'tales': 4393, 'pot': 4394, 'roast': 4395, 'promises': 4396, 'photocopies': 4397, 'offense': 4398, 'mopped': 4399, 'pad': 4400, 'secretary': 4401, 'envelope': 4402, 'lotion': 4403, 'inspiration': 4404, 'nutmeg': 4405, 'blamed': 4406, 'doubted': 4407, 'oiled': 4408, 'trunk': 4409, 'trumpet': 4410, 'report': 4411, 'repeated': 4412, 'couch': 4413, 'explosion': 4414, 'slammed': 4415, 'nine': 4416, 'hours': 4417, 'sliced': 4418, 'cigarettes': 4419, 'psychology': 4420, 'suggest': 4421, 'ankle': 4422, 'unloaded': 4423, 'unplugged': 4424, 'boyfriend': 4425, '1972': 4426, '1979': 4427, 'disqualified': 4428, 'fooling': 4429, 'paraphrasing': 4430, 'stiff': 4431, 'consulted': 4432, 'television': 4433, 'nagasaki': 4434, 'election': 4435, 'hire': 4436, 'chef': 4437, 'introduce': 4438, 'rusty': 4439, 'photographer': 4440, 'bats': 4441, \"parents'\": 4442, 'harassed': 4443, 'claustrophobic': 4444, 'singapore': 4445, 'gaining': 4446, 'poorer': 4447, 'mood': 4448, 'health': 4449, 'bathtub': 4450, 'beginning': 4451, 'laying': 4452, 'letting': 4453, 'gangster': 4454, 'magician': 4455, 'pacifist': 4456, 'delusional': 4457, 'denying': 4458, 'invincible': 4459, 'slave': 4460, 'balcony': 4461, 'selling': 4462, 'somewhat': 4463, 'supporting': 4464, 'supposed': 4465, 'terribly': 4466, 'unenthusiastic': 4467, 'laid': 4468, 'bliss': 4469, 'christian': 4470, 'board': 4471, 'compliment': 4472, 'satisfactory': 4473, 'chained': 4474, 'milkman': 4475, 'breaks': 4476, 'improved': 4477, 'deadly': 4478, 'parallel': 4479, 'astonishing': 4480, 'frustrating': 4481, 'handcrafted': 4482, 'mesmerizing': 4483, 'preventable': 4484, 'relevant': 4485, 'concern': 4486, 'extreme': 4487, 'distraction': 4488, 'possibility': 4489, 'proven': 4490, 'effort': 4491, 'typo': 4492, 'seven': 4493, 'experiment': 4494, 'investment': 4495, 'recipe': 4496, 'booby': 4497, 'bound': 4498, 'disappointing': 4499, 'disconcerting': 4500, 'heartbreaking': 4501, 'fridge': 4502, 'brass': 4503, 'merely': 4504, 'disease': 4505, 'pertinent': 4506, 'unforgettable': 4507, 'greece': 4508, 'anywhere': 4509, 'profile': 4510, 'knowledge': 4511, 'lesson': 4512, 'rephrase': 4513, 'trade': 4514, 'squabble': 4515, 'luckily': 4516, 'moons': 4517, 'monopolies': 4518, 'universal': 4519, 'battery': 4520, 'budget': 4521, 'meows': 4522, 'fuel': 4523, 'goals': 4524, 'lofty': 4525, 'hunch': 4526, 'mailbox': 4527, \"wife's\": 4528, 'immortal': 4529, 'forever': 4530, \"now's\": 4531, 'restored': 4532, 'cucumbers': 4533, 'breed': 4534, 'bandage': 4535, 'strength': 4536, 'postcard': 4537, 'aid': 4538, 'manners': 4539, '35': 4540, 'pigeon': 4541, 'toed': 4542, 'ghostly': 4543, 'lonesome': 4544, 'antiques': 4545, 'charity': 4546, 'happily': 4547, 'teaser': 4548, 'supermodel': 4549, 'slip': 4550, 'correcting': 4551, 'losers': 4552, 'tickles': 4553, 'strive': 4554, 'sip': 4555, 'phoning': 4556, 'warning': 4557, 'destroyed': 4558, 'intent': 4559, 'promising': 4560, \"man's\": 4561, 'maximum': 4562, 'unimportant': 4563, 'area': 4564, 'attempt': 4565, 'packed': 4566, \"battery's\": 4567, 'stale': 4568, 'buzzer': 4569, 'case': 4570, \"cat's\": 4571, 'coast': 4572, 'crow': 4573, 'doorknob': 4574, 'flame': 4575, 'fog': 4576, 'caved': 4577, 'melting': 4578, 'rallied': 4579, \"paint's\": 4580, 'drying': 4581, 'path': 4582, 'backfired': 4583, 'server': 4584, 'shops': 4585, 'brightened': 4586, 'cleared': 4587, 'stars': 4588, 'wandered': 4589, 'telephone': 4590, 'squealed': 4591, 'waves': 4592, \"there're\": 4593, 'wrestlers': 4594, 'crept': 4595, '13th': 4596, 'families': 4597, 'hostages': 4598, 'tents': 4599, 'peaceful': 4600, 'christians': 4601, 'carnations': 4602, 'disposable': 4603, 'foreigners': 4604, 'fits': 4605, 'shaggy': 4606, 'painting': 4607, 'triangle': 4608, 'apricot': 4609, 'octagon': 4610, 'astounding': 4611, 'project': 4612, 'outlandish': 4613, 'outrageous': 4614, 'plagiarism': 4615, 'surprising': 4616, 'unbearable': 4617, 'bigger': 4618, 'rag': 4619, 'shoelaces': 4620, 'tighten': 4621, 'comforted': 4622, 'contacted': 4623, 'instantly': 4624, 'lemonade': 4625, 'enjoys': 4626, 'unwanted': 4627, 'follows': 4628, 'headaches': 4629, 'mustache': 4630, 'ponytail': 4631, 'chosen': 4632, \"john's\": 4633, 'candidate': 4634, 'librarian': 4635, 'machinist': 4636, 'activist': 4637, 'imposter': 4638, 'competitive': 4639, 'downhearted': 4640, 'independent': 4641, 'inefficient': 4642, 'insensitive': 4643, 'intoxicated': 4644, 'stark': 4645, 'supervising': 4646, 'parent': 4647, 'names': 4648, 'louder': 4649, 'launders': 4650, 'frazzled': 4651, 'partying': 4652, 'potatoes': 4653, 'pays': 4654, 'drum': 4655, 'refuses': 4656, 'remains': 4657, 'blankly': 4658, 'pacing': 4659, 'traveled': 4660, 'crusader': 4661, 'distraught': 4662, 'distressed': 4663, 'hysterical': 4664, 'irrational': 4665, 'persistent': 4666, 'subpoenaed': 4667, 'unbeatable': 4668, 'payday': 4669, \"tomorrow's\": 4670, 'tuck': 4671, 'affects': 4672, 'argued': 4673, 'chartered': 4674, 'chatted': 4675, 'wheat': 4676, 'contract': 4677, 'deadline': 4678, 'lots': 4679, 'gunshot': 4680, 'sacrifices': 4681, 'strategy': 4682, 'assistance': 4683, 'sacrifice': 4684, 'frequently': 4685, 'passengers': 4686, 'judged': 4687, 'convince': 4688, 'infected': 4689, 'writers': 4690, 'contributing': 4691, 'eaters': 4692, 'halfway': 4693, 'honeymooning': 4694, 'agreement': 4695, 'stock': 4696, 'saving': 4697, 'slowing': 4698, 'unprejudiced': 4699, 'spotted': 4700, 'pumpkin': 4701, 'experience': 4702, 'station': 4703, 'vile': 4704, 'behavior': 4705, 'porcupine': 4706, \"when's\": 4707, 'funeral': 4708, 'hidden': 4709, \"where're\": 4710, 'bakery': 4711, 'butter': 4712, 'chapel': 4713, 'toilet': 4714, 'prevent': 4715}\n",
      "{'<sos>': 1, '<eos>': 2, 'je': 3, 'tom': 4, 'est': 5, 'pas': 6, 'il': 7, 'nous': 8, 'le': 9, 'de': 10, \"c'est\": 11, 'ne': 12, 'suis': 13, \"j'ai\": 14, 'a': 15, 'un': 16, 'tu': 17, 'ce': 18, 'la': 19, 'à': 20, 'vous': 21, 'en': 22, 'les': 23, 'me': 24, 'une': 25, 'ça': 26, 'que': 27, 'elle': 28, 'ils': 29, 'sommes': 30, 'moi': 31, 'sont': 32, \"n'est\": 33, 'es': 34, 'tout': 35, 'fait': 36, 'des': 37, 'mon': 38, 'qui': 39, 'était': 40, 'besoin': 41, 'bien': 42, 'du': 43, 'veux': 44, \"j'aime\": 45, 'faire': 46, 'tous': 47, 'y': 48, 'peux': 49, 'avons': 50, 'te': 51, 'se': 52, 'personne': 53, 'ici': 54, 'toi': 55, 'va': 56, 'très': 57, 'cela': 58, 'ma': 59, 'fais': 60, \"l'air\": 61, 'où': 62, \"c'était\": 63, 'ton': 64, \"s'est\": 65, 'monde': 66, 'été': 67, 'train': 68, 'au': 69, 'as': 70, 'là': 71, 'comment': 72, 'faut': 73, 'trop': 74, 't': 75, 'maintenant': 76, 'êtes': 77, 'déteste': 78, \"j'adore\": 79, 'cette': 80, 'peut': 81, 'lui': 82, \"j'étais\": 83, 'pour': 84, 'ai': 85, 'on': 86, 'dans': 87, \"n'ai\": 88, 'vais': 89, 'bon': 90, \"l'ai\": 91, 'mal': 92, 'puis': 93, \"m'a\": 94, 'sens': 95, 'votre': 96, 'ont': 97, 'être': 98, 'maison': 99, 'vu': 100, 'aller': 101, 'jamais': 102, 'voiture': 103, 'quelle': 104, 'beaucoup': 105, 'si': 106, 'quel': 107, 'dit': 108, 'chien': 109, 'pourquoi': 110, 'sais': 111, 'dois': 112, 'plus': 113, 'ceci': 114, 'viens': 115, 'encore': 116, \"s'il\": 117, \"n'a\": 118, 'mes': 119, 'avec': 120, 'ta': 121, 'avez': 122, \"qu'est\": 123, 'vraiment': 124, 'deux': 125, \"l'a\": 126, 'partir': 127, 'plaît': 128, \"n'y\": 129, 'livre': 130, 'comme': 131, 'aime': 132, \"d'un\": 133, 'français': 134, 'perdu': 135, 'sois': 136, 'arrête': 137, 'sur': 138, 'rien': 139, 'marie': 140, 'juste': 141, 'temps': 142, 'son': 143, 'travail': 144, 'avait': 145, 'seul': 146, 'laisse': 147, 'regarde': 148, 'reste': 149, 'peu': 150, \"j'en\": 151, 'porte': 152, 'voir': 153, 'pouvons': 154, 'heureux': 155, 'donne': 156, 'bonne': 157, 'tellement': 158, 'dis': 159, 'connais': 160, 'notre': 161, 'prends': 162, 'vie': 163, 'chez': 164, 'allons': 165, 'non': 166, 'pris': 167, 'chose': 168, 'occupé': 169, 'nouveau': 170, 'mort': 171, 'quoi': 172, \"d'une\": 173, 'sait': 174, \"aujourd'hui\": 175, 'grand': 176, \"quelqu'un\": 177, 'gros': 178, 'confiance': 179, 'même': 180, 'mauvais': 181, 'eu': 182, 'assez': 183, 'faim': 184, 'parler': 185, 'faites': 186, 'parle': 187, 'manger': 188, 'quelque': 189, 'semble': 190, 'vite': 191, 'entendu': 192, \"n'était\": 193, 'pense': 194, 'coup': 195, 'retard': 196, 'fatigué': 197, 'mary': 198, 'devrais': 199, 'pourrait': 200, \"m'en\": 201, 'prêt': 202, 'mieux': 203, 'facile': 204, 'idée': 205, 'froid': 206, \"l'eau\": 207, 'travaille': 208, 'toujours': 209, 'malade': 210, 'sécurité': 211, 'lit': 212, 'trouvé': 213, 'vrai': 214, 'terminé': 215, 'sa': 216, 'étions': 217, 'déjà': 218, 'quand': 219, 'parti': 220, 'triste': 221, 'tard': 222, 'yeux': 223, 'chat': 224, 'vois': 225, 'veut': 226, 'vient': 227, 'fut': 228, 'colère': 229, 'nager': 230, \"s'agit\": 231, 'homme': 232, 'laissez': 233, \"d'accord\": 234, 'fort': 235, 'aider': 236, 'peur': 237, 'doit': 238, 'elles': 239, 'tes': 240, 'vieux': 241, 'simplement': 242, 'petit': 243, 'adore': 244, 'calme': 245, 'tête': 246, 'bizarre': 247, 'joue': 248, 'voici': 249, 'rester': 250, 'raison': 251, 'boulot': 252, 'mourir': 253, 'chanter': 254, \"t'ai\": 255, 'chance': 256, 'cheveux': 257, 'j’ai': 258, 'essaie': 259, \"j'y\": 260, 'fini': 261, 'tôt': 262, 'mange': 263, 'avoir': 264, 'et': 265, 'ci': 266, 'sans': 267, 'vin': 268, 'dire': 269, 'pleurer': 270, 'idiot': 271, 'enfants': 272, \"l'argent\": 273, 'veuillez': 274, 'femme': 275, 'chercher': 276, 'aussi': 277, 'venu': 278, 'bière': 279, \"n'en\": 280, 'aux': 281, 'aide': 282, 'trouve': 283, 'travailler': 284, 'fou': 285, 'main': 286, 'blessé': 287, 'bus': 288, 'chapeau': 289, 'serai': 290, 'chambre': 291, 'garçon': 292, 'gagné': 293, 'montre': 294, 'lire': 295, 'voulons': 296, \"qu'il\": 297, 'faisons': 298, 'prendre': 299, 'dehors': 300, 'mangé': 301, \"l'école\": 302, 'presque': 303, \"j'irai\": 304, 'garde': 305, 'essayer': 306, 'mis': 307, 'sérieux': 308, 'venir': 309, 'pouvez': 310, 'bois': 311, 'allez': 312, 'dessus': 313, 'prie': 314, 'sûr': 315, 'courir': 316, \"j'espère\": 317, 'vis': 318, 'problème': 319, 'cassé': 320, 'fils': 321, 'enfant': 322, 'café': 323, 'choix': 324, 'oublié': 325, 'riche': 326, 'prenez': 327, 'chaud': 328, 'journée': 329, 'appelé': 330, 'allé': 331, 'acheté': 332, 'tom\\xa0': 333, 'dispose': 334, 'dormir': 335, 'par': 336, 'bas': 337, \"n'avons\": 338, 'attends': 339, 'gentil': 340, 'tomber': 341, 'court': 342, 'c’est': 343, 'attention': 344, 'vas': 345, 'assis': 346, \"j'avais\": 347, 'déjeuner': 348, 'donné': 349, 'verre': 350, 'passe': 351, 'ses': 352, 'ville': 353, 'bras': 354, 'merci': 355, 'demande': 356, 'soyez': 357, 'parlé': 358, 'arrêtez': 359, 'sac': 360, 'dur': 361, \"s'en\": 362, \"l'aide\": 363, 'marcher': 364, 'passé': 365, \"t'es\": 366, 'tort': 367, 'arrivé': 368, 'ami': 369, \"t'a\": 370, 'celui': 371, 'debout': 372, 'chiens': 373, 'difficile': 374, 'thé': 375, 'devons': 376, 'quiconque': 377, 'musique': 378, 'plutôt': 379, 'aimes': 380, 'mère': 381, 'sors': 382, 'marche': 383, 'plein': 384, 'essayé': 385, 'devenu': 386, 'aucun': 387, 'fois': 388, 'désolé': 389, 'côté': 390, 'mauvaise': 391, 'plan': 392, 'parfait': 393, 'amis': 394, 'cet': 395, 'sera': 396, 'grande': 397, 'heures': 398, 'mien': 399, 'attendre': 400, 'écrit': 401, 'fille': 402, 'faux': 403, \"l'as\": 404, 'pièce': 405, 'place': 406, 'jeune': 407, 'chats': 408, 'souvent': 409, 'drôle': 410, 'crois': 411, 'ferme': 412, 'étaient': 413, \"n'aime\": 414, 'continué': 415, 'père': 416, 'ans': 417, 'voilà': 418, 'senti': 419, 'marché': 420, 'sortir': 421, 'gagner': 422, 'continue': 423, 'demandé': 424, 'poisson': 425, 'étais': 426, 'chanson': 427, 'laissé': 428, 'faisait': 429, 'sympa': 430, 'médecin': 431, 'vide': 432, 'devrions': 433, 'ensemble': 434, 'boston': 435, 'manque': 436, 'demain': 437, 'feu': 438, 'menti': 439, 'timide': 440, 'leur': 441, 'libre': 442, 'rouge': 443, 'lis': 444, 'aimé': 445, \"n'étais\": 446, \"l'intérieur\": 447, 'nuit': 448, \"t'en\": 449, 'entrer': 450, 'pourrais': 451, 'lentement': 452, 'super': 453, 'arme': 454, 'stupide': 455, 'cheval': 456, \"d'y\": 457, 'nom': 458, 'famille': 459, 'tu\\u202f': 460, 'jour': 461, 'tiré': 462, 'content': 463, 'partie': 464, 'payé': 465, 'venez': 466, 'nourriture': 467, 'restez': 468, 'prudent': 469, 'intelligent': 470, 'compte': 471, 'carte': 472, 'livres': 473, 'faute': 474, 'chemin': 475, 'peuvent': 476, 'arrêté': 477, 'rêve': 478, 'voulais': 479, 'trouver': 480, \"n'es\": 481, 'ces': 482, 'appelle': 483, 'regardé': 484, 'marrant': 485, 'il\\u202f': 486, 'tranquille': 487, \"l'avons\": 488, 'oui': 489, 'normal': 490, 'également': 491, 'danser': 492, 'lait': 493, 'cœur': 494, 'clé': 495, 'suffit': 496, 'ça\\xa0': 497, 'rire': 498, 'histoire': 499, 'désormais': 500, 'tiens': 501, 'signe': 502, 'pied': 503, 'vous\\u202f': 504, 'rapide': 505, \"qu'on\": 506, 'premier': 507, 'télé': 508, 'cuisine': 509, \"n'importe\": 510, \"l'heure\": 511, \"j'apprécie\": 512, 'héros': 513, 'commencé': 514, 'payer': 515, 'âge': 516, 'dites': 517, 'savoir': 518, \"l'ont\": 519, 'changé': 520, \"d'argent\": 521, 'ceux': 522, 'dormi': 523, 'moment': 524, \"qu'un\": 525, 'manteau': 526, 'jouer': 527, 'dû': 528, \"d'être\": 529, 'réponse': 530, 'ouvre': 531, 'lâche': 532, 'resté': 533, 'bientôt': 534, 'réveillé': 535, 'trois': 536, 'derrière': 537, 'chante': 538, 'souviens': 539, 'vos': 540, 'davantage': 541, 'mets': 542, 'boîte': 543, 'beau': 544, 'nez': 545, 'nerveux': 546, 'seuls': 547, 'blague': 548, 'regarder': 549, 'pieds': 550, 'rapidement': 551, 'devrait': 552, 'dîner': 553, 'film': 554, 'comprends': 555, 'avance': 556, 'pleure': 557, 'retraite': 558, 'sombre': 559, 'ici\\u202f': 560, 'quitté': 561, \"l'amour\": 562, 'amusant': 563, \"n'arrive\": 564, 'secret': 565, 'plait': 566, 'thomas': 567, 'guerre': 568, 'viande': 569, \"m'as\": 570, 'filles': 571, 'pouvais': 572, 'sommeil': 573, 'manqué': 574, 'taxi': 575, 'vérité': 576, 'noir': 577, 'connaît': 578, 'sentait': 579, 'point': 580, 'après': 581, 'danger': 582, 'commence': 583, 'toute': 584, 'fête': 585, 'téléphone': 586, 'santé': 587, 'forme': 588, 'autre': 589, 'haut': 590, 'aidé': 591, 'paresseux': 592, 'reviens': 593, 'vers': 594, 'amusé': 595, 'sale': 596, 'saoul': 597, 'simple': 598, 'apporte': 599, 'hommes': 600, 'envie': 601, 'perdre': 602, 'propre': 603, 'mignon': 604, 'continuez': 605, 'partons': 606, 'occupés': 607, 'mit': 608, 'type': 609, 'curieux': 610, 'attrapé': 611, 'tour': 612, 'ferais': 613, 'demander': 614, 'donnez': 615, \"l'aime\": 616, 'stylo': 617, 'plaisir': 618, 'erreur': 619, 'patron': 620, 'neige': 621, 'choses': 622, 'combien': 623, 'bateau': 624, 'lumière': 625, 'surpris': 626, 'vit': 627, 'battre': 628, 'vélo': 629, 'tué': 630, 'né': 631, 'nouvelle': 632, 'mains': 633, 'frère': 634, 'bonjour': 635, 'lève': 636, 'monte': 637, 'fume': 638, 'terre': 639, 'cours': 640, 'pars': 641, 'échoué': 642, 'souri': 643, 'faible': 644, 'regardez': 645, 'honnête': 646, 'ferai': 647, 'sent': 648, 'ouvert': 649, 'ainsi': 650, 'rentrer': 651, 'cuisiner': 652, 'arrive': 653, 'conduit': 654, 'retour': 655, 'garçons': 656, 'nouvelles': 657, 'gagne': 658, 'honte': 659, 'conduire': 660, 'marié': 661, 'pommes': 662, 'écoute': 663, 'actuellement': 664, 'horreur': 665, 'réparer': 666, 'chaussures': 667, 'meilleur': 668, 'nos': 669, 'part': 670, 'bu': 671, 'rendu': 672, 'semaine': 673, 'prenons': 674, 'loin': 675, 'espoir': 676, 'photo': 677, 'parole': 678, 'bruit': 679, 'clés': 680, 'voyage': 681, 'dangereux': 682, \"qu'as\": 683, 'argent': 684, 'pleuré': 685, 'touché': 686, 'équipe': 687, 'attrape': 688, 'assieds': 689, 'ment': 690, 'choisis': 691, 'oublie': 692, 'mettez': 693, 'tourne': 694, 'mentir': 695, 'prête': 696, 'soit': 697, 'satisfait': 698, 'réussi': 699, \"t'aime\": 700, 'préparé': 701, 'rencontrés': 702, 'silencieux': 703, 'seconde': 704, 'pas\\u202f': 705, 'sauvé': 706, 'sincère': 707, 'chanceux': 708, 'aimons': 709, 'invité': 710, 'avocat': 711, 'pizza': 712, 'loi': 713, 'flics': 714, 'vue': 715, 'fit': 716, 'préfère': 717, 'vivre': 718, 'important': 719, 'soleil': 720, \"j'aimerais\": 721, 'prix': 722, 'étrange': 723, 'classe': 724, 'pleine': 725, 'sœur': 726, 'commandé': 727, 'vraie': 728, 'pue': 729, 'toi\\u202f': 730, 'savons': 731, 'compris': 732, 'savait': 733, 'skier': 734, 'savais': 735, 'aveugle': 736, 'fonctionné': 737, 'huit': 738, 'partis': 739, 'dedans': 740, 'allés': 741, 'clair': 742, 'patient': 743, 'souci': 744, 'doute': 745, 'près': 746, \"d'aide\": 747, 'crie': 748, 'rends': 749, 'amoureux': 750, 'service': 751, 'lundi': 752, 'commençons': 753, 'papier': 754, 'génial': 755, 'maintenant\\u202f': 756, 'avais': 757, 'malheureux': 758, 'droit': 759, \"l'étage\": 760, 'excuses': 761, 'preuve': 762, 'toutes': 763, 'horrible': 764, 'continuer': 765, 'douleur': 766, 'suivi': 767, 'coupable': 768, \"l'aise\": 769, 'gâteau': 770, 'avions': 771, 'disparu': 772, 'mots': 773, \"l'addition\": 774, 'but': 775, 'boire': 776, 'bain': 777, 'possède': 778, 'étudiant': 779, 'professeur': 780, 'pleut': 781, 'minute': 782, 'table': 783, 'cassée': 784, 'fous': 785, 'jeu': 786, 'règles': 787, 'lequel': 788, 'changement': 789, 'pêcher': 790, 'congé': 791, 'apporté': 792, 'courant': 793, 'endroit': 794, 'bureau': 795, 'heure': 796, 'magasin': 797, 'jours': 798, 'banque': 799, 'croit': 800, 'froide': 801, 'conduis': 802, 'réveille': 803, 'aucune': 804, 'chauve': 805, 'mens': 806, 'abandonné': 807, 'frappé': 808, 'chaude': 809, 'entre': 810, \"l'apprécie\": 811, 'fus': 812, 'menteur': 813, \"j'arrive\": 814, 'chouette': 815, 'sujet': 816, 'fait\\u202f': 817, 'commencer': 818, 'souris': 819, 'changer': 820, 'endormi': 821, 'liquide': 822, 'soif': 823, 'exact': 824, 'reposer': 825, 'rencontrer': 826, 'connaissons': 827, 'fatigués': 828, 'pourrions': 829, 'tombé': 830, 'confus': 831, 'facilement': 832, 'sentis': 833, 'blanc': 834, 'écrire': 835, 'pause': 836, 'ri': 837, 'naïf': 838, 'rêver': 839, 'dieu': 840, 'ou': 841, 'morts': 842, 'volontaire': 843, 'dirai': 844, 'belle': 845, 'complètement': 846, 'peine': 847, 'douche': 848, 'risque': 849, 'semblait': 850, 'incroyable': 851, 'mariés': 852, \"qu'y\": 853, 'rencontré': 854, 'couteau': 855, 'télévision': 856, 'bébé': 857, \"d'eau\": 858, \"n'êtes\": 859, 'rarement': 860, 'pomme': 861, 'responsable': 862, 'détendu': 863, 'refuse': 864, 'certain': 865, 'oiseaux': 866, 'cinq': 867, 'remarqué': 868, 'petite': 869, 'trente': 870, 'gardez': 871, 'arrière': 872, 'alors': 873, 'ira': 874, 'levé': 875, 'face': 876, 'dure': 877, 'asseyez': 878, 'gentille': 879, 'étudie': 880, 'voté': 881, 'sourit': 882, 'méchant': 883, 'droite': 884, 'téléphoné': 885, 'arrêter': 886, 'mec': 887, 'sentais': 888, 'dix': 889, 'régime': 890, 'long': 891, 'rit': 892, 'vivant': 893, 'âgé': 894, 'prêts': 895, 'immédiatement': 896, \"m'aider\": 897, 'rentre': 898, 'viendra': 899, 'fis': 900, 'tendu': 901, 'pays': 902, 'ravi': 903, 'sourire': 904, 'vont': 905, 'dingue': 906, 'volé': 907, 'entrez': 908, 'tom\\u202f': 909, 'poids': 910, 'obtenu': 911, 'football': 912, 'rhume': 913, 'mot': 914, 'accord': 915, 'sang': 916, 'convaincu': 917, 'paix': 918, 'cloche': 919, \"d'ici\": 920, 'voulait': 921, 'tasse': 922, 'veulent': 923, 'inquiet': 924, 'surveille': 925, 'coupe': 926, 'visage': 927, 'bicyclette': 928, 'animaux': 929, 'confectionné': 930, 'chaise': 931, 'note': 932, \"l'un\": 933, 'voiture\\u202f': 934, 'différent': 935, 'cher': 936, 'portes': 937, 'joué': 938, 'cravate': 939, \"d'autre\": 940, 'garder': 941, 'devient': 942, 'crayon': 943, 'impressionné': 944, 'brisé': 945, 'vent': 946, 'message': 947, 'ouverte': 948, \"d'avoir\": 949, 'dort': 950, \"l'idée\": 951, 'voulez': 952, 'voyager': 953, 'attendu': 954, 'parents': 955, 'chemise': 956, 'oh': 957, 'essaye': 958, 'doucement': 959, 'promis': 960, 'gras': 961, 'paierai': 962, 'sourd': 963, 'mince': 964, 'maintenant\\xa0': 965, 'emploi': 966, 'voler': 967, 'langue': 968, 'crié': 969, 'serais': 970, 'viendrai': 971, 'seule': 972, 'énervé': 973, 'nu': 974, 'nôtre': 975, 'cool': 976, 'bouger': 977, 'trompé': 978, 'réponds': 979, 'bien\\u202f': 980, 'devoir': 981, 'pauvre': 982, 'malin': 983, 'occupée': 984, 'dernier': 985, 'resterai': 986, 'célibataire': 987, 'vieille': 988, 'essayez': 989, 'fonctionne': 990, 'savez': 991, 'avant': 992, 'siège': 993, 'pain': 994, 'fruits': 995, 'riz': 996, 'vends': 997, 'ivre': 998, 'lavé': 999, 'choqué': 1000, 'pleuvoir': 1001, 'piège': 1002, \"t'aider\": 1003, 'rouges': 1004, 'disponible': 1005, 'lent': 1006, 'démissionner': 1007, 'entendre': 1008, 'asseoir': 1009, 'grossier': 1010, 'buvez': 1011, 'jetez': 1012, 'eut': 1013, \"l'extérieur\": 1014, 'hé': 1015, 'vérifier': 1016, 'largué': 1017, 'plans': 1018, 'sucre': 1019, 'papa': 1020, 'paris': 1021, 'courses': 1022, 'vérifié': 1023, 'cancer': 1024, 'injuste': 1025, 'mensonge': 1026, 'font': 1027, 'finie': 1028, 'fumer': 1029, 'effrayant': 1030, 'sortons': 1031, 'choc': 1032, 'quelques': 1033, 'adorable': 1034, \"n'avais\": 1035, 'gens': 1036, 'prendrai': 1037, 'fantastique': 1038, \"c'en\": 1039, 'affaires': 1040, 'possible': 1041, 'fenêtre': 1042, 'hors': 1043, 'silence': 1044, 'voix': 1045, 'crier': 1046, 'bonnes': 1047, 'arriver': 1048, \"m'asseoir\": 1049, 'retourne': 1050, 'appeler': 1051, 'mer': 1052, 'dimanche': 1053, 'sœurs': 1054, 'adoré': 1055, 'intention': 1056, 'lunettes': 1057, 'seulement': 1058, 'noël': 1059, 'affaire': 1060, 'soyons': 1061, 'nul': 1062, 'formidable': 1063, 'travaillent': 1064, 'continua': 1065, 'sympathique': 1066, \"m'arrêter\": 1067, 'habite': 1068, 'ceci\\xa0': 1069, \"n'as\": 1070, \"n'avait\": 1071, 'enseignant': 1072, 'soulagé': 1073, 'ordinateur': 1074, 'frais': 1075, 'fermé': 1076, 'mangent': 1077, 'ciel': 1078, 'disposons': 1079, 'commença': 1080, \"j'aurais\": 1081, 'œil': 1082, 'fier': 1083, 'jouons': 1084, \"n'ont\": 1085, 'unique': 1086, 'commencez': 1087, 'mangez': 1088, 'câlin': 1089, 'ronfle': 1090, 'grave': 1091, 'courageux': 1092, 'amuse': 1093, 'sorti': 1094, 'revenu': 1095, 'venue': 1096, 'écris': 1097, 'meurs': 1098, 'prépare': 1099, 'triché': 1100, 'l’ai': 1101, 'armé': 1102, 'partir\\u202f': 1103, 'mangeons': 1104, 'regard': 1105, '«': 1106, '»': 1107, 'soin': 1108, 'pleura': 1109, 'engagé': 1110, 'sauter': 1111, 'ressenti': 1112, 'suppose': 1113, 'reçu': 1114, 'écouté': 1115, 'glace': 1116, 'paie': 1117, 'cela\\u202f': 1118, 'terrible': 1119, 'tien': 1120, 'maman': 1121, 'accepté': 1122, 'mordu': 1123, 'boit': 1124, 'riches': 1125, 'raté': 1126, 'arrives': 1127, 'ski': 1128, 'compter': 1129, 'démissionna': 1130, 'brûlé': 1131, 'viré': 1132, 'golf': 1133, \"j'entends\": 1134, 'apprécie': 1135, 'soupe': 1136, 'parie': 1137, 'voitures': 1138, 'œufs': 1139, 'tombe': 1140, 'bourré': 1141, 'minable': 1142, \"t'as\": 1143, 'attendons': 1144, 'dors': 1145, 'libres': 1146, 'séparés': 1147, 'jumeaux': 1148, 'route': 1149, 'approche': 1150, 'moitié': 1151, 'donna': 1152, 'présenté': 1153, 'mérite': 1154, 'embrassé': 1155, 'pari': 1156, 'étudier': 1157, 'preuves': 1158, 'génie': 1159, 'divorcé': 1160, 'innocent': 1161, 'enceinte': 1162, 'épuisé': 1163, 'décidé': 1164, 'spécial': 1165, 'essayons': 1166, 'mignonne': 1167, 'leva': 1168, 'hurler': 1169, 'fera': 1170, 'bons': 1171, 'entré': 1172, \"qu'a\": 1173, 'battu': 1174, 'vus': 1175, 'pâle': 1176, 'tirer': 1177, 'effrayé': 1178, 'stupéfait': 1179, 'célèbre': 1180, 'vivons': 1181, 'repos': 1182, 'envoyé': 1183, 'souhaite': 1184, 'chef': 1185, 'anglais': 1186, 'japonais': 1187, 'chevaux': 1188, \"l'été\": 1189, 'porté': 1190, 'piégé': 1191, 'douloureux': 1192, 'suite': 1193, 'personnel': 1194, 'fin': 1195, 'verrouille': 1196, \"l'homme\": 1197, 'dos': 1198, \"qu'elle\": 1199, \"d'arriver\": 1200, \"jusqu'à\": 1201, 'proches': 1202, 'répondre': 1203, 'médecins': 1204, 'restons': 1205, 'satisfaits': 1206, \"d'attendre\": 1207, 'manière': 1208, \"n'avez\": 1209, 'connaissez': 1210, 'touche': 1211, 'parc': 1212, 'vacances': 1213, 'prison': 1214, 'secrets': 1215, 'araignées': 1216, 'fleurs': 1217, 'contrôle': 1218, \"d'amis\": 1219, 'peint': 1220, \"j'étudie\": 1221, 'voudrais': 1222, 'contre': 1223, 'suffisamment': 1224, 'tient': 1225, 'parlons': 1226, 'utiliser': 1227, 'absurde': 1228, 'radio': 1229, 'penses': 1230, 'gaucher': 1231, \"d'espoir\": 1232, 'allume': 1233, 'échapper': 1234, 'étudiants': 1235, 'regardons': 1236, 'dents': 1237, 'ici\\xa0': 1238, 'portait': 1239, 'gars': 1240, 'femme\\u202f': 1241, 'utile': 1242, 'appris': 1243, 'pluie': 1244, 'lu': 1245, 'plaisanter': 1246, 'ridicule': 1247, 'ennemi': 1248, 'chien\\u202f': 1249, \"m'avez\": 1250, 'prit': 1251, 'taille': 1252, 'grosse': 1253, 'pantalon': 1254, 'exemple': 1255, 'robe': 1256, 'salut': 1257, 'cache': 1258, 'vraiment\\u202f': 1259, 'bouge': 1260, 'quittez': 1261, 'ouvrez': 1262, 'descends': 1263, 'sauté': 1264, 'laid': 1265, 'sien': 1266, 'morte': 1267, \"j'attendrai\": 1268, 'gratuit': 1269, 'immobile': 1270, 'pleurait': 1271, 'demandez': 1272, 'vérifie': 1273, 'pardonne': 1274, \"d'aller\": 1275, \"l'exercice\": 1276, 'direct': 1277, 'déménager': 1278, 'strict': 1279, \"l'amour\\u202f\": 1280, 'fonctionnera': 1281, 'vote': 1282, 'cherche': 1283, 'raisonnable': 1284, 'dérange': 1285, 'puissant': 1286, 'cuisinier': 1287, 'piqué': 1288, 'haricots': 1289, 'déprimé': 1290, 'contrariée': 1291, 'bleu': 1292, 'cacher': 1293, 'impôts': 1294, 'licencié': 1295, 'perplexe': 1296, 'excité': 1297, 'furieux': 1298, 'plaisante': 1299, 'sidéré': 1300, 'discuter': 1301, 'mettre': 1302, 'poupée': 1303, 'ironique': 1304, 'sert': 1305, 'printemps': 1306, 'autour': 1307, 'liste': 1308, 'chauffeur': 1309, 'brûle': 1310, \"d'essayer\": 1311, 'parlez': 1312, 'eux': 1313, 'allumée': 1314, 'deviné': 1315, 'énorme': 1316, 'refusé': 1317, 'saura': 1318, 'éteins': 1319, 'manques': 1320, 'armés': 1321, 'prêtes': 1322, 'sauvés': 1323, 'échappé': 1324, 'ailles': 1325, 'objectif': 1326, 'rappelle': 1327, 'baisse': 1328, 'fâché': 1329, 'ambitieux': 1330, 'souffre': 1331, 'impatient': 1332, 'échecs': 1333, 'jeux': 1334, 'nage': 1335, 'compatis': 1336, 'prévenu': 1337, 'justice': 1338, 'ouïe': 1339, 'gueule': 1340, 'impliqué': 1341, 'offensé': 1342, 'indigné': 1343, 'fiable': 1344, 'réservé': 1345, 'loup': 1346, 'dommage': 1347, 'évident': 1348, 'jambes': 1349, \"l'affaire\": 1350, 'rentré': 1351, 'porc': 1352, 'bête': 1353, 'concentrer': 1354, 'venons': 1355, 'joindre': 1356, 'chic': 1357, 'danse': 1358, 'quitte': 1359, 'petits': 1360, 'profondément': 1361, 'pété': 1362, 'vend': 1363, 'tokyo': 1364, 'failli': 1365, 'mérité': 1366, \"l'hiver\": 1367, 'ordres': 1368, 'j’aime': 1369, 'proximité': 1370, 'nature': 1371, 'conclu': 1372, 'refuser': 1373, 'conseils': 1374, 'coin': 1375, 'distrait': 1376, 'intrigué': 1377, 'terrifié': 1378, 'sucré': 1379, 'contact': 1380, 'lisez': 1381, 'sonne': 1382, 'voit': 1383, 'dernière': 1384, 'forte': 1385, 'genre': 1386, 'fermez': 1387, 'certains': 1388, 'arbre': 1389, 'aiment': 1390, 'jeunes': 1391, 'japon': 1392, 'ennuyeux': 1393, 'motivé': 1394, 'ligne': 1395, 'contrarié': 1396, 'cousins': 1397, \"qu'ai\": 1398, 'travailles': 1399, 'idiots': 1400, 'jolie': 1401, \"t'asseoir\": 1402, 'vaches': 1403, 'chanté': 1404, 'clef': 1405, 'neuf': 1406, 'coûte': 1407, 'trahi': 1408, 'journal': 1409, 'allumé': 1410, 'biscuits': 1411, 'tourné': 1412, 'attaqué': 1413, 'prisonnier': 1414, \"d'étudier\": 1415, 'travaillé': 1416, 'éveillé': 1417, 'jaloux': 1418, 'miracle': 1419, 'correct': 1420, 'merveilleux': 1421, 'repas': 1422, 'bouche': 1423, 'envoie': 1424, 'folle': 1425, 'agréable': 1426, 'fuite': 1427, 'truc': 1428, 'marre': 1429, 'balle': 1430, 'agité': 1431, 'sûrs': 1432, 'invités': 1433, 'étudions': 1434, 'serons': 1435, 'frères': 1436, 'moyens': 1437, 'terrifiant': 1438, 'pitié': 1439, 'serviette': 1440, 'photogénique': 1441, \"l'entendre\": 1442, 'devoirs': 1443, 'connaissais': 1444, 'enseigner': 1445, 'ennuis': 1446, 'joie': 1447, 'gêné': 1448, 'abattu': 1449, 'crime': 1450, 'goût': 1451, 'partout': 1452, 'surprise': 1453, 'dont': 1454, 'impressionnant': 1455, 'décision': 1456, 'gris': 1457, 'alentours': 1458, 'soir': 1459, 'amie': 1460, 'emmenez': 1461, 'bleue': 1462, 'lac': 1463, 'lune': 1464, \"l'équipe\": 1465, 'gérer': 1466, 'vivent': 1467, 'destin': 1468, 'gardé': 1469, 'décédé': 1470, 'retourné': 1471, 'aimez': 1472, 'jus': 1473, 'conseil': 1474, 'escaliers': 1475, 'longs': 1476, 'bar': 1477, 'hier': 1478, 'pu': 1479, 'pire': 1480, 'nouvel': 1481, 'plage': 1482, 'mois': 1483, 'pneu': 1484, 'pratique': 1485, 'camion': 1486, 'sortie': 1487, 'devez': 1488, 'question': 1489, 'faisais': 1490, 'sorte': 1491, 'pouvait': 1492, 'école': 1493, 'restait': 1494, 'saute': 1495, \"j'essaye\": 1496, 'serre': 1497, 'tombée': 1498, \"j'arrête\": 1499, 'écoutez': 1500, 'laissa': 1501, 'tenu': 1502, 'mouillé': 1503, 'passez': 1504, 'le\\u202f': 1505, 'ailleurs': 1506, 'fiche': 1507, 'réaliste': 1508, 'mecs': 1509, 'dépêche': 1510, 'reposé': 1511, 'défense': 1512, 'sauve': 1513, 'quoi\\u202f': 1514, 'humeur': 1515, 'promets': 1516, 'flic': 1517, 'veinard': 1518, 'sobre': 1519, 'joli': 1520, 'ça\\u202f': 1521, 'tombés': 1522, 'écoulé': 1523, 'ce\\u202f': 1524, 'espèce': 1525, 'bord': 1526, 'apportez': 1527, 'bougez': 1528, 'faits': 1529, 'suivez': 1530, 'ruiné': 1531, 'nord': 1532, 'tragédie': 1533, 'construit': 1534, 'annulé': 1535, 'paniqué': 1536, 'couru': 1537, 'survécu': 1538, 'jumeau': 1539, 'crevé': 1540, 'sournois': 1541, 'importe': 1542, 'proche': 1543, 'cd': 1544, 'discutons': 1545, 'commentaire': 1546, 'problème\\u202f': 1547, 'recommence': 1548, 'sauta': 1549, 'cria': 1550, 'ferons': 1551, 'faibles': 1552, 'discret': 1553, 'nettoyez': 1554, 'jouez': 1555, 'panique': 1556, 'tire': 1557, 'finis': 1558, 'lance': 1559, 'trouva': 1560, 'devint': 1561, \"m'aime\": 1562, 'séché': 1563, 'désaccord': 1564, 'devais': 1565, 'détestais': 1566, 'maths': 1567, 'crédule': 1568, \"j'allais\": 1569, 'présent': 1570, 'foies': 1571, 'populaire': 1572, 'égoïste': 1573, 'préoccupé': 1574, 'bien\\xa0': 1575, 'légal': 1576, 'neiger': 1577, 'règle': 1578, 'urgent': 1579, 'roi': 1580, 'partit': 1581, 'remets': 1582, 'revoir': 1583, 'embrassés': 1584, 'nouveaux': 1585, 'écrasé': 1586, 'dérangé': 1587, 'agir': 1588, 'bordel': 1589, 'détient': 1590, 'irez': 1591, 'coupé': 1592, 'bienvenu': 1593, 'terminer': 1594, 'descendez': 1595, 'signé': 1596, \"l'arme\": 1597, 'fusil': 1598, 'cas': 1599, 'véhicule': 1600, 'excitant': 1601, 'appelés': 1602, 'incapable': 1603, 'doutes': 1604, 'moyen': 1605, 'femmes': 1606, 'peinture': 1607, 'perds': 1608, 'étoile': 1609, \"j'enseigne\": 1610, 'sieste': 1611, 'membre': 1612, 'chanteur': 1613, 'drogué': 1614, 'adulte': 1615, 'créatif': 1616, 'fidèle': 1617, 'bats': 1618, 'saint': 1619, 'fatigué\\u202f': 1620, 'réfléchis': 1621, 'impartial': 1622, 'raison\\u202f': 1623, 'vague': 1624, 'rumeur': 1625, \"d'abord\": 1626, 'écoutons': 1627, 'attentivement': 1628, 'jambe': 1629, 'parla': 1630, 'aidera': 1631, 'cruel': 1632, 'connaissent': 1633, \"m'ennuie\": 1634, 'poli': 1635, \"l'espoir\": 1636, 'bienvenue': 1637, 'trompe': 1638, 'seul\\u202f': 1639, 'appelez': 1640, 'poissons': 1641, 'faveur': 1642, 'nie': 1643, \"n'abandonne\": 1644, 'sèche': 1645, 'accorde': 1646, 'trou': 1647, 'tenez': 1648, 'corde': 1649, 'américain': 1650, 'diabétique': 1651, 'acheter': 1652, 'méprise': 1653, 'bananes': 1654, 'fièvre': 1655, 'fallait': 1656, 'raconte': 1657, 'fromage': 1658, 'respecte': 1659, 'avion': 1660, 'fumée': 1661, 'pouvoir': 1662, 'piscine': 1663, 'malchanceux': 1664, 'travaillais': 1665, 'fil': 1666, 'tuer': 1667, 'manquer': 1668, 'artiste': 1669, 'efficace': 1670, 'liberté': 1671, 'fuit': 1672, 'rend': 1673, 'prend': 1674, 'cadeau': 1675, 'magnifique': 1676, 'soulagement': 1677, 'dépassé': 1678, 'improbable': 1679, 'vaut': 1680, 'détendre': 1681, 'courte': 1682, 'mortel': 1683, 'mouillés': 1684, 'rendez': 1685, 'couvre': 1686, 'mise': 1687, 'mannequin': 1688, 'positif': 1689, 'numéro': 1690, 'vache': 1691, 'savent': 1692, 'verts': 1693, 'paye': 1694, 'indemne': 1695, 'optimiste': 1696, 'perdit': 1697, 'bagages': 1698, 'violent': 1699, 'six': 1700, 'dépêcher': 1701, 'comprenons': 1702, 'groupe': 1703, 'ennemis': 1704, 'bourrés': 1705, \"qu'en\": 1706, 'faire\\xa0': 1707, 'lieu': 1708, 'sembles': 1709, 'semblez': 1710, 'appareil': 1711, 'embrasser': 1712, 'toucher': 1713, 'ballon': 1714, \"l'importance\": 1715, 'spectacle': 1716, 'camionnette': 1717, \"d'elle\": 1718, 'promenade': 1719, 'réveiller': 1720, 'jeta': 1721, 'vidéo': 1722, 'pétrin': 1723, 'cru': 1724, 'nourri': 1725, 'inutile': 1726, 'hais': 1727, 'fêtes': 1728, 'hoquet': 1729, 'toit': 1730, 'grippe': 1731, \"l'histoire\": 1732, 'manquez': 1733, 'augmentation': 1734, 'vengeance': 1735, 'préférerais': 1736, \"d'essence\": 1737, 'ras': 1738, 'bol': 1739, 'végétarienne': 1740, 'partez': 1741, \"s'y\": 1742, 'commande': 1743, 'roses': 1744, 'mêle': 1745, 'siffler': 1746, 'poulet': 1747, 'illégal': 1748, 'fondu': 1749, 'miens': 1750, 'fourchette': 1751, 'difficulté': 1752, 'appartient': 1753, 'sous': 1754, 'cartes': 1755, 'remettra': 1756, 'survivra': 1757, 'docteur': 1758, 'transpire': 1759, 'perturbé': 1760, 'donner': 1761, 'quelles': 1762, 'amenez': 1763, 'profond': 1764, 'journée\\u202f': 1765, 'capable': 1766, 'rêveur': 1767, 'continuait': 1768, 'mourut': 1769, 'choisi': 1770, 'chaque': 1771, 'impuissant': 1772, 'violence': 1773, 'baseball': 1774, 'chocolat': 1775, 'celle': 1776, 'loupé': 1777, 'travers': 1778, 'tennis': 1779, 'renvoyé': 1780, 'allée': 1781, 'longtemps': 1782, 'conducteur': 1783, 'oiseau': 1784, \"l'expérience\": 1785, 'extraverti': 1786, 'impossible': 1787, 'inévitable': 1788, 'humide': 1789, 'suivre': 1790, 'monnaie': 1791, 'bouteille': 1792, 'costume': 1793, 'comprend': 1794, 'répondu': 1795, 'change': 1796, 'heureuse': 1797, \"l'alarme\": 1798, \"d'issue\": 1799, \"m'ont\": 1800, 'avaient': 1801, 'visite': 1802, 'mangea': 1803, 'devenait': 1804, 'immature': 1805, 'souffle': 1806, 'oreilles': 1807, 'devant': 1808, 'dingues': 1809, 'prisonniers': 1810, 'ce\\xa0': 1811, 'passe\\u202f': 1812, 'bière\\xa0': 1813, 'livre\\u202f': 1814, 'enseigne': 1815, 'menace': 1816, 'rougis': 1817, 'enfin': 1818, 'nécessaire': 1819, 'applaudi': 1820, 'parapluie': 1821, 'entendit': 1822, 'apprécié': 1823, 'promesse': 1824, 'ferma': 1825, 'inconscient': 1826, 'parles': 1827, 'casquette': 1828, 'mari': 1829, \"d'aider\": 1830, \"l'église\": 1831, 'laver': 1832, 'cousin': 1833, 'stylo\\u202f': 1834, 'lettre': 1835, 'informé': 1836, 'bleus': 1837, 'chaussettes': 1838, 'tués': 1839, 'entraîneur': 1840, 'finalement': 1841, 'sport': 1842, 'trouvera': 1843, 'doigts': 1844, 'dirigeons': 1845, 'garer': 1846, \"s'assit\": 1847, 'remplissez': 1848, 'formulaire': 1849, 'stylos': 1850, 'demanda': 1851, 'donc': 1852, 'cela\\xa0': 1853, 'passer': 1854, 'plu': 1855, 'longue': 1856, 'victoire': 1857, 'jardin': 1858, 'chambre\\u202f': 1859, \"qu'une\": 1860, 'harceler': 1861, 'usage': 1862, 'veste': 1863, \"l'aide\\u202f\": 1864, 'tricote': 1865, '19': 1866, 'possible\\u202f': 1867, 'fantastique\\u202f': 1868, 'allez\\u202f': 1869, 'dégage\\u202f': 1870, 'moi\\u202f': 1871, 'lave': 1872, 'recule\\u2009': 1873, 'belle\\u202f': 1874, 'gaffe': 1875, 'obéi': 1876, 'paumé': 1877, 'épouse': 1878, 'goûte': 1879, 'volent': 1880, 'excuse': 1881, 'pardon\\u202f': 1882, 'dormir\\u202f': 1883, 'dirigez': 1884, \"l'est\": 1885, \"l'ouest\": 1886, \"d'avance\": 1887, \"j'aiderai\": 1888, 'passerai': 1889, 'fauché': 1890, 'grave\\u202f': 1891, 'sable': 1892, 'voyons': 1893, 'allongé': 1894, 'remercie': 1895, 'gauche': 1896, 'réussi\\u202f': 1897, 'écrivez': 1898, 'je\\u202f': 1899, 'aider\\u202f': 1900, 'creuse': 1901, 'pas\\xa0': 1902, \"m'appelle\": 1903, 'charmant': 1904, 'gloussé': 1905, \"l'art\": 1906, \"j'adorais\": 1907, \"d'air\": 1908, \"m'assis\": 1909, 'cuis': 1910, 'connu': 1911, 'rigole': 1912, 'maigrichon': 1913, 'ignore': 1914, 'vert': 1915, 'abandonnons': 1916, 'travaillons': 1917, 'notes': 1918, 'siens': 1919, 'triche': 1920, 'gémissait': 1921, 'obéit': 1922, 'achetons': 1923, 'travaillerons': 1924, 'calmes': 1925, 'perdus': 1926, 'généreux': 1927, 'impitoyable': 1928, 'vie\\u202f': 1929, 'marqué': 1930, 'jazz': 1931, 'rock': 1932, \"j'habite\": 1933, 'merdé': 1934, \"d'eux\": 1935, 'lèvres': 1936, 'ricané': 1937, 'troisième': 1938, 'veuve': 1939, 'jalouse': 1940, 'taquine': 1941, 'brouillard': 1942, 'plat': 1943, 'pipe': 1944, 'verrouillé': 1945, 'ok': 1946, 'date': 1947, 'plantes': 1948, 'instant': 1949, 'dépêchez': 1950, 'charme': 1951, 'renard': 1952, 'collant': 1953, 'sage': 1954, 'défoncé': 1955, 'bruyant': 1956, 'paralysé': 1957, 'impoli': 1958, 'reniflé': 1959, 'coriace': 1960, 'fauchés': 1961, 'perte': 1962, 'tour\\u202f': 1963, 'fou\\u202f': 1964, 'confiant': 1965, 'bœuf': 1966, 'amène': 1967, 'vérifiez': 1968, 'levez': 1969, 'bonsoir': 1970, 'beignet': 1971, 'poète': 1972, 'brave': 1973, \"m'est\": 1974, 'affreusement': 1975, \"d'identité\": 1976, 'miel': 1977, \"l'opéra\": 1978, 'courage': 1979, \"d'espace\": 1980, 'piano': 1981, 'rose': 1982, 'risques': 1983, 'forces': 1984, 'perdrai': 1985, 'demanderai': 1986, 'reviendrai': 1987, \"m'y\": 1988, 'lirai': 1989, 'intrépide': 1990, 'gelé': 1991, 'reconnaissant': 1992, 'désespéré': 1993, 'ponctuel': 1994, 'cerf': 1995, 'moi\\xa0': 1996, 'fruit': 1997, 'compliqué': 1998, 'hideux': 1999, 'creuser': 2000, 'apprends': 2001, 'devine': 2002, \"l'essayer\\u202f\": 2003, 'cochons': 2004, 'dépêcher\\u202f': 2005, 'disputer': 2006, 'pousser': 2007, 'râler': 2008, 'étudiez': 2009, 'commandes': 2010, 'mignons': 2011, \"l'or\": 2012, 'cran': 2013, 'meurt': 2014, 'détesté': 2015, 'fiez': 2016, 'déjeuné': 2017, 'savions': 2018, 'plaisantons': 2019, 'forts': 2020, 'années': 2021, 'joues': 2022, 'heurté': 2023, 'grands': 2024, 'prêt\\u202f': 2025, 'corps': 2026, 'mesure': 2027, 'vendu': 2028, 'noyé': 2029, 'deviens': 2030, 'pousse': 2031, 'hâte': 2032, 'nourris': 2033, 'assiette': 2034, \"l'horloge\": 2035, 'couper': 2036, 'bénisse': 2037, 'accroche': 2038, 'biscuit': 2039, 'ignoré': 2040, 'voleur': 2041, 'jouets': 2042, 'accro': 2043, 'délicieux': 2044, 'expliquer': 2045, 'sentir': 2046, 'causé': 2047, 'coups': 2048, 'élu': 2049, 'lever': 2050, 'cinéma': 2051, \"l'automne\": 2052, 'copie': 2053, 'résister': 2054, 'hockey': 2055, 'violon': 2056, 'abandonner': 2057, 'soutiens': 2058, \"l'avais\": 2059, 'tenté': 2060, \"j'écris\": 2061, 'mangerai': 2062, 'dentiste': 2063, 'plombier': 2064, 'touriste': 2065, 'rentrée': 2066, 'flatté': 2067, 'impulsif': 2068, 'sceptique': 2069, 'plaisanterie': 2070, 'logique': 2071, 'samedi': 2072, 'superbe': 2073, 'vol': 2074, 'déverrouillé': 2075, \"d'appeler\": 2076, 'finir': 2077, 'descendons': 2078, 'gardons': 2079, \"l'avant\": 2080, 'coffre': 2081, 'folie': 2082, 'sentent': 2083, 'haute': 2084, 'hait': 2085, 'française': 2086, 'paraît': 2087, 'démarre': 2088, 'trucs': 2089, 'doivent': 2090, 'heureuses': 2091, 'bizarres': 2092, 'changent': 2093, 'sentit': 2094, 'coincé': 2095, 'crise': 2096, 'maigre': 2097, 'rejoint': 2098, 'aimait': 2099, 'souvient': 2100, 'pédales': 2101, 'adopté': 2102, 'étouffe': 2103, 'page': 2104, 'auparavant': 2105, 'survivrons': 2106, 'prudents': 2107, 'avocats': 2108, 'piégés': 2109, 'inutiles': 2110, 'arrivés': 2111, 'poisse': 2112, 'nous\\u202f': 2113, \"aujourd'hui\\u202f\": 2114, 'brillant': 2115, 'raciste': 2116, 'ceci\\u202f': 2117, \"t'aider\\u202f\": 2118, 'mal\\u202f': 2119, 'obéis': 2120, 'match': 2121, 'montez': 2122, 'sortez': 2123, 'mangé\\u202f': 2124, 'vint': 2125, 'volant': 2126, 'poste': 2127, 'barbe': 2128, 'marque': 2129, 'délicat': 2130, 'oncle': 2131, 'étendu': 2132, \"n'ira\": 2133, 'joueur': 2134, 'dégueulasse': 2135, 'pénétrer': 2136, 'honteux': 2137, 'sentie': 2138, 'trahie': 2139, 'expulsé': 2140, 'accident': 2141, 'vision': 2142, 'dépourvu': 2143, 'carottes': 2144, \"l'anglais\": 2145, 'cookies': 2146, 'tortues': 2147, 'four': 2148, 'réponses': 2149, 'puni': 2150, \"l'espère\": 2151, 'léger': 2152, 'prudence': 2153, 'nettoyer': 2154, 'réfléchir': 2155, 'chargerai': 2156, 'maladroit': 2157, 'contagieux': 2158, 'anéanti': 2159, 'surpoids': 2160, 'préjugés': 2161, 'talent': 2162, 'habitué': 2163, 'remarié': 2164, 'mariée': 2165, 'probable': 2166, \"s'agissait\": 2167, 'risqué': 2168, 'occuper': 2169, 'réalistes': 2170, 'retournons': 2171, 'amusons': 2172, 'asseyons': 2173, 'force': 2174, 'gratte': 2175, 'met': 2176, 'tenue': 2177, 'ange': 2178, 'moins': 2179, \"s'éteignit\": 2180, 'brûlant': 2181, 'leurs': 2182, 'hic': 2183, 'adorent': 2184, 'viennent': 2185, 'sécurisé': 2186, 'jette': 2187, 'dira': 2188, 'excusé': 2189, 'plaint': 2190, 'ford': 2191, 'immoral': 2192, 'précis': 2193, 'insensible': 2194, 'calmement': 2195, 'taisait': 2196, \"s'améliorera\": 2197, 'joyeux': 2198, 'inoffensif': 2199, 'vacille': 2200, 'bûmes': 2201, 'battus': 2202, 'adorons': 2203, 'serrés': 2204, 'stupides': 2205, 'impliqués': 2206, 'partenaires': 2207, 'eh': 2208, 'boston\\xa0': 2209, 'trompés': 2210, 'inquiets': 2211, 'travaillez': 2212, \"m'aider\\u202f\": 2213, 'taire': 2214, 'attraper': 2215, 'celles': 2216, 'manges': 2217, 'cardiaque': 2218, 'toi\\xa0': 2219, \"n'aie\": 2220, 'prié': 2221, 'attendit': 2222, 'tenait': 2223, 'allait': 2224, 'dirais': 2225, 'grand\\u202f': 2226, 'intéressant': 2227, 'aujourd’hui': 2228, 'enfreint': 2229, 'saurais': 2230, 'supporter': 2231, 'ressens': 2232, \"m'attendais\": 2233, 'tapis': 2234, 'portable': 2235, \"n'entends\": 2236, 'vieilles': 2237, 'contrat': 2238, 'marteau': 2239, 'casque': 2240, 'mouchoir': 2241, 'clefs': 2242, 'réglé': 2243, 'répète': 2244, 'totalement': 2245, 'témoin': 2246, 'zoo': 2247, 'corriger': 2248, 'double': 2249, 'détective': 2250, 'pressé': 2251, 'introverti': 2252, 'pont': 2253, 'blaguer': 2254, \"d'esprit\": 2255, 'ressources': 2256, 'compassion': 2257, 'japonaise': 2258, 'inhabituel': 2259, 'naturel': 2260, 'raccourci': 2261, 'acceptable': 2262, 'suffisant': 2263, \"l'esprit\": 2264, 'sushi': 2265, 'nièce': 2266, 'prochaine': 2267, \"t'amuser\": 2268, \"l'appeler\": 2269, 'feuilles': 2270, 'cesse': 2271, 'sol': 2272, 'sienne': 2273, 'énigme': 2274, 'ordre': 2275, 'mauvaises': 2276, 'arrêtée': 2277, 'moteur': 2278, 'attendait': 2279, \"d'urgence\": 2280, 'sel': 2281, 'réalité': 2282, 'lapins': 2283, 'cause': 2284, 'frappe': 2285, 'vif': 2286, 'hurlait': 2287, 'orteils': 2288, 'souffert': 2289, \"d'aucun\": 2290, 'venus': 2291, 'contents': 2292, 'apparentés': 2293, 'trouvait': 2294, 'ressemble': 2295, \"s'appelle\": 2296, 'manger\\u202f': 2297, 'voiture\\xa0': 2298, 'devriez': 2299, 'terriblement': 2300, 'posez': 2301, 'préparez': 2302, 'boisson': 2303, 'rendre': 2304, 'laisser': 2305, 'sauver': 2306, 'tiroir': 2307, \"n'oublie\": 2308, \"m'oblige\": 2309, 'rêves': 2310, 'soudainement': 2311, 'envolé': 2312, 'grosses': 2313, 'cri': 2314, 'utilisé': 2315, 'gentleman': 2316, 'types': 2317, 'diriez': 2318, 'transpirer': 2319, 'genou': 2320, 'remettre': 2321, 'plaindre': 2322, 'drogue': 2323, 'hybride': 2324, 'surprises': 2325, 'tousser': 2326, 'patience': 2327, 'jaunes': 2328, 'commis': 2329, 'arrêt': 2330, 'panne': 2331, 'criminel': 2332, 'menacé': 2333, 'pendant': 2334, 'enthousiaste': 2335, \"l'instant\": 2336, \"m'appartient\": 2337, 'nuageux': 2338, 'pluvieux': 2339, 'canapé': 2340, 'planète': 2341, 'revenir': 2342, 'rythme': 2343, 'montré': 2344, 'pose': 2345, 'gamin': 2346, 'emmène': 2347, 'limite': 2348, 'éteinte': 2349, 'mouillée': 2350, 'œuf': 2351, 'monstre': 2352, 'mystère': 2353, 'organisé': 2354, 'regrets': 2355, 'sarcastique': 2356, 'cessé': 2357, 'guitare': 2358, 'vitesse': 2359, 'erreurs': 2360, \"n'avions\": 2361, 'brièvement': 2362, 'soldats': 2363, 'dépourvus': 2364, 'étiez': 2365, \"qu'ils\": 2366, \"qu'avons\": 2367, 'elle\\u202f': 2368, 'idée\\xa0': 2369, 'miroir': 2370, 'salle': 2371, 'auras': 2372, 'libre\\u202f': 2373, 'mais': 2374, 'parler\\u202f': 2375, 'obtenir': 2376, 'vécu': 2377, 'apprécies': 2378, 'genoux': 2379, \"d'œil\": 2380, 'courts': 2381, 'déménagé': 2382, 'mère\\u202f': 2383, \"j'admets\": 2384, 'vêtements': 2385, \"d'enfants\": 2386, 'couleur': 2387, 'proposition': 2388, \"d'arme\": 2389, 'tant': 2390, 'couleurs': 2391, 'bougies': 2392, 'manquent': 2393, 'serrure': 2394, 'embarrassé': 2395, 'inconsciente': 2396, \"n'écoute\": 2397, 'profonde': 2398, \"d'amour\": 2399, 'familier': 2400, 'déprimant': 2401, 'urgence': 2402, 'rats': 2403, 'vies': 2404, 'dirait': 2405, 'mur': 2406, 'démissionné': 2407, 'sonna': 2408, 'chatte': 2409, 'chèque': 2410, 'verrouillée': 2411, 'remarquable': 2412, 'serré': 2413, 'réunion': 2414, 'dégoûtant': 2415, 'gratuite': 2416, \"d'emploi\": 2417, 'forcé': 2418, 'bandes': 2419, 'dessinées': 2420, \"j'apprends\": 2421, 'amélioré': 2422, 'fermée': 2423, 'batterie': 2424, 'cours\\u202f': 2425, 'suffit\\u202f': 2426, 'poursuis': 2427, 'attaque': 2428, 'achetez': 2429, 'pigé': 2430, 'foutre': 2431, 'entrez\\u202f': 2432, 'recule': 2433, 'aidez': 2434, 'avis': 2435, 'assoupi': 2436, 'joignez': 2437, 'tuez': 2438, 'embrasse': 2439, 'verrouillez': 2440, 'perdîmes': 2441, 'bref': 2442, 'réparez': 2443, 'camp': 2444, 'sagesse': 2445, \"l'utilise\": 2446, 'ordonné': 2447, \"d'entrer\": 2448, 'gagnèrent': 2449, 'essaies': 2450, 'utilise': 2451, 'irons': 2452, 'faire\\u202f': 2453, 'répondez': 2454, 'calmez': 2455, 'aboient': 2456, 'chance\\u202f': 2457, 'dj': 2458, 'sexy': 2459, 'cligné': 2460, 'mouvement': 2461, 'sourcils': 2462, 'grogné': 2463, 'dépêché': 2464, 'sérieux\\u202f': 2465, 'partirais': 2466, \"j'obéirai\": 2467, \"j'arrêterai\": 2468, 'marcherai': 2469, 'décroché': 2470, 'chaud\\xa0': 2471, 'pleuvait': 2472, 'verse': 2473, 'neigé': 2474, 'vrai\\u202f': 2475, 'demandons': 2476, 'reposez': 2477, 'voyez': 2478, \"l'écart\": 2479, 'baissé': 2480, 'relais': 2481, 'nageaient': 2482, 'boite': 2483, 'assure': 2484, 'le\\u2009': 2485, 'bravo': 2486, 'vu\\u202f': 2487, 'pues': 2488, 'chat\\u202f': 2489, 'alentour': 2490, 'chantent': 2491, 'inspire': 2492, 'revenez': 2493, 'donc\\u202f': 2494, 'vite\\u202f': 2495, 'pleurent': 2496, 'achète': 2497, 'cédé': 2498, 'raccroché': 2499, 'fainéant': 2500, 'sud': 2501, 'absurdité': 2502, 'j’y': 2503, \"l'envie\": 2504, 'réparé': 2505, 'j’aide': 2506, 'plais': 2507, 'épaules': 2508, 'plissé': 2509, 'vomi': 2510, \"j'utilise\": 2511, 'partirai': 2512, 'tirerai': 2513, 'grassouillet': 2514, 'cupide': 2515, 'humble': 2516, 'remué': 2517, 'bleu\\xa0': 2518, \"l'heure\\xa0\": 2519, 'sept': 2520, 'pipeau': 2521, 'jésus': 2522, 'détendez': 2523, 'passons': 2524, 'ramasse': 2525, 'file': 2526, 'écarte': 2527, 'application': 2528, 'freiné': 2529, 'cuisiné': 2530, 'jure': 2531, 'hocha': 2532, 'soupira': 2533, 'sanglotait': 2534, 'virez': 2535, 'mourons': 2536, \"l'apprécions\": 2537, 'réussirons': 2538, 'attendrons': 2539, 'foutu': 2540, 'hurlé': 2541, 'vilain': 2542, 'marrante': 2543, 'nouveau\\u202f': 2544, 'minutieux': 2545, 'nombre': 2546, 'couvrez': 2547, 'vaincu': 2548, 'battez': 2549, 'ris': 2550, 'tripes': 2551, 'binoclard': 2552, 'flemmard': 2553, 'voilà\\u202f': 2554, 'moine': 2555, \"m'excuser\": 2556, \"j'achète\": 2557, 'confessé': 2558, 'buvais': 2559, \"m'ennuyer\": 2560, \"j'imagine\": 2561, 'hésité': 2562, 'gâteaux': 2563, 'obéir': 2564, 'colle': 2565, 'opposé': 2566, 'remis': 2567, 'gaz': 2568, 'changerai': 2569, 'boulanger': 2570, 'diète': 2571, 'neutre': 2572, 'remonté': 2573, 'rassasié': 2574, 'désarmé': 2575, 'sers': 2576, 'blessé\\xa0': 2577, 'fatal': 2578, 'allée\\u202f': 2579, 'tout\\u202f': 2580, 'casser': 2581, 'arnaque': 2582, 'couvert': 2583, 'métier': 2584, 'poison': 2585, \"l'autre\": 2586, 'dansons': 2587, 'dépêchons': 2588, 'célébrons': 2589, 'amusante': 2590, 'rapprochez': 2591, 'd’accord': 2592, 'choisissez': 2593, 'monter': 2594, 'rougi': 2595, 'bain\\xa0': 2596, 'glacée': 2597, 'trichait': 2598, 'noya': 2599, 'sinistre': 2600, 'méfiant': 2601, 'transpiré': 2602, 'mourant': 2603, 'demi': 2604, 'démissionnons': 2605, 'tirés': 2606, 'aidons': 2607, 'combattrons': 2608, 'ennuyons': 2609, 'propres': 2610, 'intelligents': 2611, 'désolés': 2612, 'cinglé': 2613, 'raisonnables': 2614, 'amoureuse': 2615, 'occupé\\u202f': 2616, 'froid\\u202f': 2617, 'sûr\\u202f': 2618, 'copine': 2619, 'envoyez': 2620, 'courant\\xa0': 2621, 'fumez': 2622, 'résiste': 2623, 'crains': 2624, 'fantômes': 2625, 'saisis': 2626, \"m'évite\": 2627, 'meure': 2628, 'nié': 2629, 'héroïque': 2630, 'moqué': 2631, 'embêtant': 2632, 'serrez': 2633, \"j'admire\": 2634, 'poursuivi': 2635, 'effet': 2636, 'mords': 2637, 'égal': 2638, 'tremper': 2639, 'menteurs': 2640, \"j'élève\": 2641, 'b': 2642, 'blagues': 2643, 'voyages': 2644, 'grouiller': 2645, 'lion': 2646, 'démarré': 2647, 'soucie': 2648, 'douté': 2649, 'battrai': 2650, \"j'expliquerai\": 2651, 'ensuite': 2652, 'mettrai': 2653, 'joindrai': 2654, 'tuerai': 2655, 'tenterai': 2656, 'signerai': 2657, 'poursuivrai': 2658, 'canadienne': 2659, 'barbier': 2660, 'fermier': 2661, 'autiste': 2662, 'mélange': 2663, 'affamé': 2664, 'crève': 2665, 'têtu': 2666, 'chatouilleux': 2667, 'identifiez': 2668, 'affaire\\u202f': 2669, 'malédiction': 2670, 'concentré': 2671, 'deviner': 2672, 'revue': 2673, 'avancez': 2674, 'pépère': 2675, 'terminée': 2676, 'chanceuse': 2677, \"l'apprécia\": 2678, 'tira': 2679, 'sortit': 2680, 'ordures': 2681, 'détestent': 2682, 'détendus': 2683, \"t'ont\": 2684, 'viendront': 2685, 'sauront': 2686, 'froids': 2687, 'courriel': 2688, 'approuvé': 2689, 'bronché': 2690, 'espion': 2691, 'poil': 2692, 'obèse': 2693, 'stoïque': 2694, 'végan': 2695, 'adorait': 2696, 'rencontra': 2697, 'bégaie': 2698, 'attendez': 2699, \"l'emporter\": 2700, 'réveil': 2701, 'emplois': 2702, 'déciderons': 2703, 'suivrons': 2704, 'mourrons': 2705, 'adultes': 2706, 'condamnés': 2707, 'perdons': 2708, 'mineurs': 2709, 'normaux': 2710, 'charlatan': 2711, 'honte\\u202f': 2712, 'ils\\u202f': 2713, 'cassé\\u202f': 2714, 'construit\\u202f': 2715, 'aller\\xa0': 2716, \"l'encre\": 2717, 'cruelle': 2718, 'mentez': 2719, 'planté': 2720, 'inclus': 2721, 'questions': 2722, 'colère\\u202f': 2723, 'énervé\\xa0': 2724, 'démonte': 2725, 'entrer\\u202f': 2726, 'dorment': 2727, 'mesquin': 2728, 'tue': 2729, 'moque': 2730, 'impertinent': 2731, 'trace': 2732, 'cercle': 2733, 'habillez': 2734, 'chanta': 2735, 'expirez': 2736, 'rétablissement': 2737, 'matériel': 2738, 'uns': 2739, 'conseille': 2740, 'cassés': 2741, 'plombs': 2742, 'ménage': 2743, \"l'enlaça\": 2744, 'patin': 2745, 'tua': 2746, 'lapidé': 2747, 'saignait': 2748, 'comment\\u202f': 2749, 'déjeuner\\xa0': 2750, 'musulman': 2751, 'survivre': 2752, 'tousse': 2753, 'vole': 2754, 'endormie': 2755, 'apeuré': 2756, 'prime': 2757, 'gratuitement': 2758, 'bague': 2759, 'visa': 2760, 'claque': 2761, 'chameaux': 2762, 'villes': 2763, \"l'ail\": 2764, 'raisin': 2765, 'saumon': 2766, 'trains': 2767, 'perdis': 2768, 'lampe': 2769, 'véhiculé': 2770, 'fallut': 2771, 'dépasse': 2772, 'courus': 2773, 'poulets': 2774, \"l'odeur\": 2775, 'montée': 2776, 'masque': 2777, 'poèmes': 2778, 'chansons': 2779, 'permettrai': 2780, \"j'achèterai\": 2781, 'trouverai': 2782, \"t'aiderai\": 2783, 'regarderai': 2784, 'soldat': 2785, 'chirurgien': 2786, 'ambitieuse': 2787, 'orphelin': 2788, 'bilingue': 2789, 'dévoué': 2790, 'dégoûté': 2791, 'épuisée': 2792, 'expert': 2793, 'grève': 2794, \"j'éprouve\": 2795, 'sensible': 2796, \"l'entraîneur\": 2797, 'assuré': 2798, 'plaisante\\xa0': 2799, 'véritable': 2800, 'neige\\u202f': 2801, 'bombe': 2802, 'canular': 2803, 'pagaille': 2804, 'parodie': 2805, 'location': 2806, 'indécent': 2807, '2': 2808, '30': 2809, 'rat': 2810, 'suicidaire': 2811, 'sec': 2812, 'grimper': 2813, 'laissons': 2814, 'douce': 2815, 'offre': 2816, 'rappelez': 2817, 'brûlent': 2818, 'désolée': 2819, 'repose': 2820, 'russie': 2821, 'scellez': 2822, 'arrivée': 2823, 'patiner': 2824, 'plaqué': 2825, 'embauché': 2826, 'beauté': 2827, 'montrez': 2828, \"t'inquiéter\": 2829, 'arrivent': 2830, 'ramenez': 2831, 'chacun': 2832, 'saturne': 2833, 'faisable': 2834, 'savaient': 2835, 'trouvés': 2836, 'saouls': 2837, 'géniaux': 2838, 'mentent': 2839, 'perruque': 2840, \"m'adore\": 2841, 'exercé': 2842, \"s'exerce\": 2843, 'diplôme': 2844, 'projets': 2845, 'moutons': 2846, \"m'aidait\": 2847, 'aidait': 2848, 'offensa': 2849, 'quitta': 2850, 'overdose': 2851, 'sms': 2852, 'pâli': 2853, 'travaillera': 2854, 'mangera': 2855, 'changera': 2856, 'agacé': 2857, 'n’est': 2858, 'arrières': 2859, 'changeons': 2860, 'supposé': 2861, 'échouer': 2862, \"t'avons\": 2863, 'voulions': 2864, 'formons': 2865, 'perplexes': 2866, 'jalouses': 2867, 'populaires': 2868, 'spéciaux': 2869, 'passé\\u202f': 2870, 'trouvé\\xa0': 2871, 'recruté': 2872, 'marchez': 2873, 'iras': 2874, 'amour': 2875, 'rigolo': 2876, 'plaisantes': 2877, 'mature': 2878, 'vilaine': 2879, 'permets': 2880, 'couler': 2881, 'plaisantez\\u202f': 2882, 'vivants': 2883, 'annuler': 2884, 'malins': 2885, 'nourrissent': 2886, 'produisent': 2887, \"t'ennuie\": 2888, 'tigres': 2889, \"m'aimes\": 2890, \"m'entendez\": 2891, 'plains': 2892, 'frimer': 2893, 'tente': 2894, 'haleine': 2895, 'débarrassez': 2896, 'débarrasse': 2897, 'caméra': 2898, 'indice': 2899, 'année': 2900, \"l'admirait\": 2901, 'détestait': 2902, 'visible': 2903, 'gelée': 2904, 'regarda': 2905, 'sensé': 2906, 'gronda': 2907, 'tirait': 2908, 'hongrois': 2909, 'auteur': 2910, 'détenu': 2911, 'boulot\\u202f': 2912, 'banane': 2913, \"l'acquisition\": 2914, 'parviens': 2915, 'corrigé': 2916, 'recalé': 2917, 'présente': 2918, 'honoré': 2919, 'pige': 2920, 'nausée': 2921, 'repasser': 2922, 'épinards': 2923, 'dénué': 2924, 'homard': 2925, 'pique': 2926, 'niques': 2927, 'énigmes': 2928, 'dessert': 2929, 'foyer': 2930, \"j'aie\": 2931, 'fac': 2932, 'timbre': 2933, '100': 2934, 'fermer': 2935, 'données': 2936, 'dossier': 2937, 'reprends': 2938, 'pensé': 2939, \"l'emploi\": 2940, 'détails': 2941, 'nus': 2942, 'insouciant': 2943, 'déchiré': 2944, \"l'agonie\": 2945, \"n'oublierai\": 2946, 'présenterai': 2947, 'environs': 2948, 'coopérerai': 2949, \"j'aurai\": 2950, 'payerai': 2951, 'prierai': 2952, 'travaillerai': 2953, 'canadien': 2954, 'marchand': 2955, 'vendeur': 2956, 'vieil': 2957, 'fatigue': 2958, 'déshydraté': 2959, 'diplomate': 2960, \"m'entraîner\": 2961, 'vire': 2962, \"m'amuse\": 2963, 'analphabète': 2964, 'intéressé': 2965, 'méditer': 2966, 'méthodique': 2967, 'succès': 2968, 'vainqueur': 2969, 'déshabille': 2970, 'chômage': 2971, 'crédible': 2972, 'chapeau\\xa0': 2973, 'tasse\\xa0': 2974, 'foiré': 2975, 'produit': 2976, 'convient': 2977, \"s'améliore\": 2978, \"s'arrête\": 2979, 'réel': 2980, 'magique': 2981, 'prévu': 2982, 'mercredi': 2983, 'classique': 2984, 'bonhomme': 2985, 'embuscade': 2986, 'interdit': 2987, 'signez': 2988, \"d'écouter\": 2989, 'paix\\u202f': 2990, 'décider': 2991, 'continuons': 2992, 'rentrons': 2993, 'cherchez': 2994, 'charmante': 2995, 'dent': 2996, 'remarqua': 2997, 'morceau': 2998, 'prie\\u2009': 2999, 'augmenté': 3000, 'mordre': 3001, 'compteur': 3002, 'science': 3003, \"l'adore\": 3004, 'infirmière': 3005, 'canon': 3006, 'lui\\u2009': 3007, 'retire': 3008, 'monsieur': 3009, 'désir': 3010, 'chantaient': 3011, 'aboyait': 3012, 'seules': 3013, 'boueux': 3014, 'partaient': 3015, 'disposent': 3016, 'détruit': 3017, 'attaquer': 3018, 'effrayés': 3019, 'attache': 3020, 'poire': 3021, 'soixante': 3022, 'dessine': 3023, 'escroc': 3024, 'débile': 3025, 'armes': 3026, 'battra': 3027, 'réussira': 3028, 'bluffe': 3029, 'domicile': 3030, 'anges': 3031, 'utilisez': 3032, 'lavez': 3033, 'acclamèrent': 3034, 'volontaires': 3035, 'manquera': 3036, 'manqueras': 3037, 'gèle': 3038, 'impuissants': 3039, 'ouverts': 3040, 'fiables': 3041, 'meilleurs': 3042, 'feras': 3043, 'pendule': 3044, 'essuie': 3045, 'aimerais': 3046, 'seras': 3047, 'plaira': 3048, 'puritain': 3049, \"d'aucune\": 3050, 'gagnes': 3051, 'ajuste': 3052, 'rétabli': 3053, 'boissons': 3054, 'prêts\\xa0': 3055, 'sûre': 3056, 'blessés': 3057, 'soif\\u202f': 3058, 'nous\\xa0': 3059, 'tranquilles': 3060, 'comporte': 3061, 'bouillir': 3062, 'montrer': 3063, 'ongles': 3064, 'jusque': 3065, 'noirs': 3066, 'défendez': 3067, 'bas\\u202f': 3068, 'aviez': 3069, 'souvent\\xa0': 3070, \"m'apprécie\": 3071, 'déçue': 3072, 'perdez': 3073, 'prudemment': 3074, 'appétit\\u202f': 3075, 'sain': 3076, 'sauf': 3077, 'oubliez': 3078, 'pop': 3079, \"l'ambition\": 3080, 'toyota': 3081, 'peintre': 3082, 'foot': 3083, 'robot': 3084, 'parlait': 3085, 'pêche': 3086, 'surf': 3087, 'étudiante': 3088, \"m'aide\": 3089, 'midi': 3090, 'quarante': 3091, 'rhume\\u202f': 3092, \"d'espagne\": 3093, 'mangeais': 3094, 'salade': 3095, 'appelée': 3096, 'respirer': 3097, 'nier': 3098, 'permettre': 3099, 'prochain': 3100, 'méritais': 3101, 'désobéi': 3102, \"jusqu'au\": 3103, 'cultive': 3104, 'tomates': 3105, 'bagarre': 3106, 'politique': 3107, 'mariages': 3108, 'boulots': 3109, \"l'armée\": 3110, 'maire': 3111, 'vitamines': 3112, 'enseigné': 3113, 'promené': 3114, 'perroquet': 3115, 'partiez': 3116, 'j’étais': 3117, 'acquitté': 3118, 'kidnappé': 3119, 'combat': 3120, 'achèterai': 3121, \"n'abandonnerai\": 3122, 'risquer': 3123, 'tairai': 3124, 'aurais': 3125, \"j'arrangerai\": 3126, \"j'apporterai\": 3127, 'suivrai': 3128, 'commanderai': 3129, 'dormirai': 3130, 'résoudre': 3131, 'éméché': 3132, 'étranger': 3133, 'géologue': 3134, 'ingénieur': 3135, 'supplie': 3136, \"j'appelle\": 3137, 'coopérer': 3138, 'frire': 3139, 'devenir': 3140, 'ivrogne': 3141, 'munitions': 3142, 'fatiguée': 3143, 'tel': 3144, 'sincèrement': 3145, 'modeste': 3146, 'bat': 3147, \"quelqu'un\\u202f\": 3148, 'respire': 3149, 'là\\u202f': 3150, 'possibilité': 3151, \"ce\\xa0n'est\\xa0pas\\xa0joli\": 3152, 'atroce': 3153, 'fabuleux': 3154, 'glacial': 3155, 'valait': 3156, 'finira': 3157, 'étape': 3158, 'cul': 3159, 'mode': 3160, 'balaise': 3161, 'rafraîchissant': 3162, 'connaître': 3163, 'répéter': 3164, 'cerfs': 3165, 'préparons': 3166, 'battons': 3167, 'reposons': 3168, 'arrêtons': 3169, 'songe': 3170, 'jeans': 3171, \"n'oubliez\": 3172, 'retournez': 3173, 'mensonges': 3174, 'répondit': 3175, 'tomba': 3176, \"s'arrêta\": 3177, 'pelez': 3178, 'élevés': 3179, 'obstinée': 3180, 'détourna': 3181, 'égaré': 3182, 'épousé': 3183, \"l'herbe\": 3184, 'apprenez': 3185, 'fonctionner': 3186, 'douteux': 3187, 'filet': 3188, 'police': 3189, 'arriva': 3190, 'brûlante': 3191, 'potage': 3192, 'baignoire': 3193, 'puits': 3194, 'autres': 3195, 'bloquée': 3196, 'sourient': 3197, 'méritent': 3198, 'semblent': 3199, 'devinrent': 3200, 'trouveront': 3201, 'tueront': 3202, 'restent': 3203, 'parlent': 3204, 'pensez': 3205, 'farce': 3206, 'effarant': 3207, 'privé': 3208, 'cadeaux': 3209, 'perd': 3210, 'difficiles': 3211, 'vendredi': 3212, 'trahis': 3213, 'peindre': 3214, 'riposté': 3215, 'tailleur': 3216, 'arrogant': 3217, 'éloquent': 3218, 'pardonné': 3219, 'gravement': 3220, 'incertain': 3221, 'démissionne': 3222, 'réformé': 3223, 'déterminé': 3224, 'romantique': 3225, 'éternue': 3226, 'entêté': 3227, 'embrassa': 3228, 'témoigner': 3229, 'trompait': 3230, 'tranquillement': 3231, 'texto': 3232, 'photos': 3233, 'désirait': 3234, 'souffrir': 3235, 'souviendra': 3236, 'repoussant': 3237, 'efforce': 3238, 'vaisselle': 3239, \"l'aimons\": 3240, \"t'aimons\": 3241, 'imbéciles': 3242, 'assister': 3243, \"n'oublions\": 3244, 'conscience': 3245, 'partagé': 3246, 'idées': 3247, 'faisions': 3248, 'voile': 3249, 'camper': 3250, 'canadiens': 3251, 'différents': 3252, 'impatients': 3253, 'voisins': 3254, 'chichis': 3255, 'objectifs': 3256, 'enneigés': 3257, 'âmes': 3258, 'scores': 3259, 'assurés': 3260, 'trésor': 3261, 'mène': 3262, 'projet\\xa0': 3263, 'coût': 3264, 'précipitation': 3265, 'fille\\u202f': 3266, 'manquèrent': 3267, 'déçu': 3268, 'terme': 3269, 'écouter': 3270, 'chiant': 3271, 'négligent': 3272, 'pathétique': 3273, 'talentueux': 3274, 'vôtre': 3275, 'ailes': 3276, 'policier': 3277, 'invisible': 3278, 'bienvenus': 3279, 'réelle': 3280, 'flexible': 3281, 'canne': 3282, 'chien\\xa0': 3283, 'prouver\\u202f': 3284, 'gosse': 3285, 'maîtrisez': 3286, 'traverse': 3287, 'rue': 3288, 'rencontrée\\u202f': 3289, 'sentez': 3290, 'vivez': 3291, 'amusez': 3292, 'triomphe': 3293, 'explique': 3294, 'expliquez': 3295, 'jardiner': 3296, 'garage': 3297, 'pyjama': 3298, 'chasser': 3299, 'oranges': 3300, 'natation': 3301, 'endetté': 3302, \"l'avoir\": 3303, 'dormait': 3304, \"l'arabe\": 3305, 'tourna': 3306, 'france': 3307, 'tenace': 3308, 'alla': 3309, 'parviendra': 3310, 'biologiste': 3311, 'deuxième': 3312, 'quoi\\xa0': 3313, 'marche\\u202f': 3314, 'coûte\\u202f': 3315, 'passée': 3316, 'brésil': 3317, 'poliment': 3318, \"l'expliquer\": 3319, 'remplacer': 3320, \"l'arrêter\": 3321, 'truite': 3322, \"t'embrasser\": 3323, 'tenir': 3324, 'sentiment': 3325, 'poule': 3326, 'retourner': 3327, 'halloween': 3328, 'chimie': 3329, 'ordinateurs': 3330, \"l'hypocrisie\": 3331, 'bouquin': 3332, 'site': 3333, 'web': 3334, 'allergies': 3335, \"m'échapper\": 3336, 'aille': 3337, 'détonations': 3338, \"j'insiste\": 3339, 'mené': 3340, \"l'attaque\": 3341, \"l'océan\": 3342, 'manche': 3343, 'portefeuille': 3344, \"l'aventure\": 3345, 'hérissons': 3346, 'prévenir': 3347, 'couverture': 3348, 'partenaire': 3349, \"d'or\": 3350, 'pneus': 3351, \"j'ouvris\": 3352, 'étudié': 3353, 'revanche': 3354, '2003': 3355, 'agressive': 3356, 'humilié': 3357, 'victorieux': 3358, \"j'essaierai\": 3359, \"n'aurai\": 3360, 'porter': 3361, 'plainte': 3362, 'protéger': 3363, 'protègerai': 3364, 'employé': 3365, 'comptable': 3366, 'solitaire': 3367, 'alcoolique': 3368, \"d'amérique\": 3369, \"d'idées\": 3370, 'compagnie': 3371, 'conscient': 3372, 'maison\\u202f': 3373, 'virus': 3374, \"l'année\": 3375, 'obligatoire': 3376, 'course': 3377, 'ferait': 3378, 'habitude': 3379, 'tempête': 3380, 'ensoleillé': 3381, 'tradition': 3382, 'saison': 3383, 'entièrement': 3384, 'dis\\u2009': 3385, 'exactement': 3386, 'mars': 3387, 'giflé': 3388, 'ouvrir': 3389, \"l'estomac\": 3390, 'orange': 3391, 'onéreux': 3392, 'garez': 3393, \"m'embêter\": 3394, \"l'article\": 3395, 'récréation': 3396, 'tuberculose': 3397, '1960': 3398, 'certainement': 3399, 'sursauter': 3400, 'menteuse': 3401, 'firent': 3402, 'hilarant': 3403, 'demeure': 3404, 'inquiétant': 3405, 'aisé': 3406, \"l'oiseau\": 3407, 'rideau': 3408, 'faits\\u202f': 3409, 'cds': 3410, 'boivent': 3411, 'reviendra': 3412, 'tabassé': 3413, 'calmé': 3414, 'lapin': 3415, 'poules': 3416, 'courtois': 3417, 'envoyer': 3418, 'arrêta': 3419, 'consterné': 3420, 'déporté': 3421, 'rejeté': 3422, 'libéré': 3423, 'protection': 3424, 'innovateur': 3425, 'tournez': 3426, 'nécessaire\\xa0': 3427, 'difficile\\xa0': 3428, 'gosses': 3429, 'arrivâmes': 3430, \"s'embrasser\": 3431, 'songé': 3432, 'diviser': 3433, 'visiteurs': 3434, 'restés': 3435, 'tînmes': 3436, \"l'avait\": 3437, \"n'étions\": 3438, 'ferions': 3439, 'célibataires': 3440, 'pressés': 3441, 'contrôlons': 3442, 'intéressés': 3443, 'coupables': 3444, 'propriétaires': 3445, 'fille\\xa0': 3446, 'vélo\\u202f': 3447, 'dit\\u202f': 3448, \"qu'avez\": 3449, 'dire\\u202f': 3450, 'qu’est': 3451, 'qu’il': 3452, 'nomme': 3453, \"t'appelles\\u202f\": 3454, 'tu\\xa0': 3455, 'ceinture': 3456, 'peigne': 3457, \"d'où\": 3458, 'laquelle': 3459, 'mentirait': 3460, \"l'endroit\": 3461, 'arrêtes': 3462, 'traître': 3463, 'bavard': 3464, 'naïve': 3465, 'fermeture': 3466, 'dévalisé': 3467, \"s'abattit\": 3468, 'ajoute': 3469, 'liste\\xa0': 3470, 'état': 3471, 'religion': 3472, 'autres\\u202f': 3473, 'lien': 3474, 'cocaïne': 3475, 'musique\\u202f': 3476, 'vol\\u202f': 3477, 'pleins': 3478, 'connait': 3479, 'vase': 3480, 'bruyamment': 3481, 'blonds': 3482, 'marron': 3483, 'cou': 3484, 'incompétent': 3485, 'influent': 3486, 'irréaliste': 3487, 'refusa': 3488, 'marin': 3489, 'secoué': 3490, 'dérobé': 3491, 'tordu': 3492, 'marchait': 3493, 'poches': 3494, 'griller': 3495, 'va\\xa0': 3496, 'verrouillai': 3497, 'blâmer': 3498, 'ralentir': 3499, 'intervenir': 3500, 'inscrit': 3501, 'première': 3502, 'descendu': 3503, 'grincé': 3504, 'cauchemar': 3505, \"d'autres\": 3506, 'passeport': 3507, 'solution': 3508, 'fond': 3509, 'rappeler': 3510, 'défis': 3511, 'jupe': 3512, 'appartement': 3513, 'écharpe': 3514, 'style': 3515, \"l'hôtel\": 3516, \"l'ignorance\": 3517, \"l'arbre\": 3518, \"l'aube\": 3519, 'défenses': 3520, 'remporté': 3521, 'façon': 3522, 'voterai': 3523, 'loque': 3524, 'penser': 3525, 'actuelle': 3526, \"l'ennemi\": 3527, 'maladie': 3528, 'voisin': 3529, \"d'entre\": 3530, 'vous\\xa0': 3531, 'pur\\u202f': 3532, 'là\\xa0': 3533, 'vieillit': 3534, 'plut': 3535, 'fortement': 3536, 'désastre': 3537, 'délibéré': 3538, 'épouvantable': 3539, 'destinée': 3540, 'inattendu': 3541, 'début': 3542, 'délicieuse': 3543, 'projet': 3544, 'tirons': 3545, 'paille': 3546, 'jetons': 3547, 'chantons': 3548, 'chanson\\u202f': 3549, 'attend': 3550, 'vivante': 3551, 'jouet': 3552, 'tourner': 3553, 'enfile': 3554, 'connaissait': 3555, 'amèrement': 3556, \"t'approche\": 3557, 'ôtez': 3558, 'foule': 3559, 'fusible': 3560, 'acide': 3561, 'phares': 3562, 'système': 3563, 'jugement': 3564, 'pure': 3565, 'renards': 3566, 'parfaits': 3567, 'semblables': 3568, 'pèse': 3569, 'lourd': 3570, 'noix': 3571, 'tableau': 3572, 'permanent': 3573, 'comporté': 3574, 'blesser': 3575, 'nombreux': 3576, 'agressif': 3577, 'menotté': 3578, 'productif': 3579, 'tricoter': 3580, 'empoisonné': 3581, 'reconnu': 3582, 'écoutait': 3583, 'particulier': 3584, 'venger': 3585, \"d'imagination\": 3586, 'fûmes': 3587, 'lâches': 3588, 'retirons': 3589, 'portez': 3590, 'révélation': 3591, 'caché': 3592, 'révélé': 3593, \"s'appelle\\xa0\": 3594, 'réalisé': 3595, 'tache': 3596, 'numéro\\u202f': 3597, 'odeur\\u202f': 3598, 'il\\xa0': 3599, 'vol\\xa0': 3600, 'passés': 3601, 'hommes\\xa0': 3602, 'personne\\u202f': 3603, 'horloge': 3604, 'blanche': 3605, \"t'y\": 3606, 'problèmes': 3607, 'conditions': 3608, 'meurtrier': 3609, 'éclaté': 3610, \"aujourd'hui\\xa0\": 3611, 'flûte': 3612, 'emprunter': 3613, 'ci\\u202f': 3614, 'croire': 3615, 'mentionné': 3616, 'dormi\\u202f': 3617, 'escargots': 3618, 'tennis\\u202f': 3619, 'signifie': 3620, 'réveillez': 3621, \"t'apprécie\": 3622, 'excusez': 3623, 'obtiens': 3624, 'télécommande': 3625, 'inspiration': 3626, 'chèvre': 3627, 'environ': 3628, 'camarade': 3629, 'remercier': 3630, 'chinois': 3631, 'repoussé': 3632, 'fausse': 3633, 'nôtres': 3634, 'grises': 3635, 'bruns': 3636, 'position': 3637, 'verre\\xa0': 3638, 'ci\\xa0': 3639, 'parvenu': 3640, 'confirmer': 3641, 'beurre': 3642, 'informations': 3643, 'adresse': 3644, 'défi': 3645, 'coutume': 3646, 'assise': 3647, 'renversé': 3648, 'pensais': 3649, 'basse': 3650, 'rende': 3651, 'promu': 3652, 'message\\xa0': 3653, 'pertinent': 3654, 'effort': 3655, 'œuvre': 3656, 'expérience': 3657, \"n'existe\": 3658, 'furent': 3659, 'crut': 3660, 'valise': 3661, 'hiboux': 3662, 'écoles': 3663, 'fermées': 3664, 'devenue': 3665, 'secours': 3666, 'éloigne': 3667, 'boîte\\xa0': 3668, 'mienne': 3669, \"n'aide\": 3670, 'serait': 3671, 'idée\\u202f': 3672, 'lumières': 3673, 'verte': 3674, 'attaqués': 3675, 'scout': 3676, 'digne': 3677, 'histoire\\u202f': 3678, 'gare': 3679, 'discuté': 3680, 'sac\\u202f': 3681, 'alors\\u202f': 3682, 'terre\\xa0': 3683, 'souriez\\u202f': 3684, 'pardon': 3685, 'pigé\\u202f': 3686, 'fui': 3687, 'payais': 3688, 'brûlez': 3689, 'enterrez': 3690, 'rentrez': 3691, 'adieu': 3692, 'conduisis': 3693, 'figé': 3694, \"j'essayai\": 3695, 'bibi\\u202f': 3696, 'parfait\\u202f': 3697, 'tirez': 3698, 'appuie': 3699, 'taisez': 3700, 'inscrivez': 3701, 'bienvenue\\u202f': 3702, 'courrait': 3703, 'visez': 3704, 'courage\\u202f': 3705, 'détends': 3706, 'menottez': 3707, 'suis\\u202f': 3708, 'joué\\u202f': 3709, 'mignon\\u202f': 3710, 'profondeur\\u202f': 3711, 'grossièreté': 3712, 'juré': 3713, 'râlé': 3714, 'téléphonai': 3715, 'soupiré': 3716, 'repu\\u202f': 3717, \"n'entrez\": 3718, 'fuyez': 3719, 'fort\\u202f': 3720, 'accélère': 3721, 'touchez': 3722, 'avertis': 3723, 'marrés': 3724, 'tombé\\xa0': 3725, 'démissionne\\xa0': 3726, 'souhaits\\u202f': 3727, 'viens\\xa0': 3728, 'courez': 3729, 'filmez': 3730, 'touche\\u202f': 3731, 'dollars': 3732, 'halte': 3733, 'affreux\\u202f': 3734, \"j'acclamais\": 3735, \"j'eus\": 3736, 'recul': 3737, 'expiré': 3738, 'froncé': 3739, \"j'abandonne\": 3740, 'jubilé': 3741, 'gémi': 3742, 'inspiré': 3743, 'trébuché': 3744, \"j'appellerai\": 3745, 'cuisinerai': 3746, 'vivrai': 3747, \"j'abandonnerai\": 3748, 'chanterai': 3749, 'nagerai': 3750, 'parlerai': 3751, 'guéri': 3752, 'loyal': 3753, 'coincée': 3754, 'éloigné': 3755, 'demie': 3756, 'distance': 3757, 'reculez': 3758, 'romps': 3759, 'détourne': 3760, 'ahhh': 3761, 'dessous': 3762, 'capturez': 3763, 'le\\xa0': 3764, 'ralentis': 3765, 'plongée': 3766, 'choisissait': 3767, 'déverrouillez': 3768, 'discutâmes': 3769, 'attendîmes': 3770, 'essayerons': 3771, \"l'emporterons\": 3772, 'tristes': 3773, 'timides': 3774, 'préoccupe\\u202f': 3775, 'sait\\u202f': 3776, 'génial\\u202f': 3777, \"d'imbécile\\u202f\": 3778, 'commences': 3779, 'vise': 3780, 'partant\\xa0': 3781, 'attention\\u202f': 3782, 'attrapez': 3783, 'assez\\u202f': 3784, 'détruisez': 3785, 'tracasse': 3786, \"n'insiste\": 3787, 'précipite': 3788, \"n'attends\": 3789, 'pardonnez': 3790, \"t'échauffer\": 3791, 'suisse': 3792, 'l’admets': 3793, 'humain': 3794, \"j'envie\": 3795, 'cafard': 3796, 'tristesse': 3797, 'tressailli': 3798, \"n'espère\": 3799, 'rcp': 3800, 'protestais': 3801, 'enfuit': 3802, 'vues': 3803, 'tremblé': 3804, 'haussé': 3805, 'sifflé': 3806, \"n'irai\": 3807, \"j'accepterais\": 3808, 'vérifierai': 3809, 'conduirai': 3810, \"j'entrerai\": 3811, 'dépêcherai': 3812, 'commencerai': 3813, 'flasque': 3814, 'immunisé': 3815, 'trempée': 3816, 'affaiblie': 3817, 'gratuit\\u202f': 3818, 'passade': 3819, 'vivant\\xa0': 3820, 'encombrant': 3821, 'magie': 3822, 'tabou': 3823, 'donc\\u2009': 3824, 'embrassons': 3825, 'prions': 3826, 'relaxe': 3827, 'blesse': 3828, 'oh\\u202f': 3829, 'remplacez': 3830, 'reculez\\u2009': 3831, 'gardes': 3832, 'somme': 3833, \"l'abri\\xa0\": 3834, 'trichent': 3835, \"s'enfuit\": 3836, 'haleté': 3837, 'reposait': 3838, 'grimace': 3839, 'bailla': 3840, 'paiera': 3841, 'dévissez': 3842, 'mentons': 3843, 'échouerons': 3844, 'apporterons': 3845, 'obéirons': 3846, 'nagerons': 3847, 'marcherons': 3848, 'quittes': 3849, 'cuisiné\\xa0': 3850, \"l'a\\xa0\": 3851, 'vu\\xa0': 3852, 'resté\\xa0': 3853, 'soucier': 3854, 'décide': 3855, 'vainqueurs': 3856, 'chaud\\u202f': 3857, 'créatives': 3858, 'amicales': 3859, 'clément': 3860, 'ponctuelles': 3861, 'spécifique': 3862, 'annule': 3863, 'revérifie': 3864, 'consolez': 3865, 'mangé\\xa0': 3866, 'fois\\u202f': 3867, 'bowling': 3868, 'pêchez\\xa0': 3869, 'discute': 3870, 'jubilez': 3871, 'fixez': 3872, \"t'inquiète\": 3873, 'habille': 3874, 'gloussa': 3875, 'venu\\u202f': 3876, 'haï': 3877, 'loucha': 3878, 'simule': 3879, 'blindé': 3880, 're': 3881, \"t'adore\": 3882, 'enterré': 3883, 'cassettes': 3884, 'partager': 3885, 'entraîné': 3886, 'vertiges': 3887, 'amende': 3888, \"t'aimais\": 3889, 'poche': 3890, 'skie': 3891, 'protesté': 3892, 'stop': 3893, 'lutté': 3894, 'fie': 3895, 'veillé': 3896, \"m'ennuyais\": 3897, 'sou': 3898, 'tournait': 3899, 'ému': 3900, 'pleurerai': 3901, \"l'achète\": 3902, \"j'annulerai\": 3903, 'déciderai': 3904, \"j'arriverai\": 3905, 'lèverai': 3906, 'sortirai': 3907, 'crierai': 3908, \"l'essayerai\": 3909, 'toubib': 3910, 'béni': 3911, 'fiancé': 3912, 'méticuleux': 3913, 'affolé': 3914, 'fredonne': 3915, 'frousse': 3916, 'patiente': 3917, 'voyant': 3918, 'retraité': 3919, 'fracassé': 3920, 'gavé': 3921, 'piégée': 3922, 'mécontent': 3923, 'schcoumoune': 3924, 'paresseux\\u202f': 3925, \"l'art\\xa0\": 3926, '50': 3927, 'yen': 3928, \"d'équerre\": 3929, 'vain': 3930, 'sautez': 3931, \"d'avancer\": 3932, 'buvons': 3933, 'divisons': 3934, 'souhait': 3935, 'mémorise': 3936, 'calculé': 3937, 'attristé': 3938, 'pioche': 3939, 'poussent': 3940, 'applaudis': 3941, 'déplacez': 3942, 'voter': 3943, 'patienter': 3944, 'place\\u2009': 3945, 'enregistrez': 3946, 'relâche': 3947, 'riposte': 3948, 'frappa': 3949, 'enfoirée': 3950, 'cinglée': 3951, 'geste': 3952, 'surprenez': 3953, 'croque': 3954, 'enlacés': 3955, 'repenses': 3956, 'crème': 3957, 'toussota': 3958, 'grimacé': 3959, 'expirait': 3960, 'gargarisé': 3961, 'souriait': 3962, 'inspira': 3963, 'moral': 3964, 'zéro': 3965, 'doux': 3966, 'mental': 3967, 'vaniteux': 3968, 'm’a': 3969, 'réagi': 3970, 'détendait': 3971, 'appellera': 3972, \"s'ennuie\": 3973, \"l'enfer\": 3974, 'tort\\u202f': 3975, 'bon\\xa0': 3976, 'mangions': 3977, 'promîmes': 3978, 'souvenons': 3979, 'survécûmes': 3980, 'vérifierons': 3981, 'danserons': 3982, 'conduirons': 3983, 'dépêcherons': 3984, 'partagerons': 3985, 'tirerons': 3986, 'tiendrons': 3987, 'commencerons': 3988, 'coincés': 3989, 'emmerdeur': 3990, 'andouille': 3991, 'boulet': 3992, 'taudis': 3993, 'imbécile\\xa0': 3994, 'malandrin': 3995, 'plaie': 3996, 'dommage\\u202f': 3997, \"qu'était\": 3998, 'triché\\xa0': 3999, 'dessiné\\xa0': 4000, 'évanoui': 4001, 'méchante': 4002, 'malade\\u202f': 4003, 'abandonnez': 4004, 'navire': 4005, 'selon': 4006, 'nouveaux\\xa0': 4007, 'perdu\\u202f': 4008, 'attentif': 4009, 'renforts': 4010, 'nager\\u202f': 4011, 'rejoindre': 4012, 'remplace': 4013, 'décris': 4014, 'chanté\\xa0': 4015, 'nagé\\xa0': 4016, 'voté\\xa0': 4017, \"d'accord\\u202f\": 4018, 'enseignante': 4019, 'mieux\\u202f': 4020, \"l'oubliez\": 4021, 'déverser': 4022, \"d'immondices\": 4023, 'radote': 4024, 'prudemment\\u202f': 4025, 'examinez': 4026, 'trouvez': 4027, 'existent': 4028, 'cuillère': 4029, 'plaquée': 4030, 'excentrique': 4031, 'attendra': 4032, 'bigot': 4033, 'soutenez': 4034, 'moment\\u202f': 4035, 'arrogance': 4036, 'oses': 4037, 'romantique\\u202f': 4038, \"t'admire\": 4039, 'caviar': 4040, 'débrouiller': 4041, 'dessiner': 4042, \"l'ignore\": 4043, \"m'évanouir\": 4044, 'veine': 4045, 'vertige': 4046, 'hache': 4047, 'mouches': 4048, \"l'urticaire\": 4049, 'besoins': 4050, \"j'honore\": 4051, \"l'étreignis\": 4052, 'improvisé': 4053, 'r': 4054, 'sushis': 4055, 'effectué': 4056, 'inventé': 4057, 'élaboré': 4058, 'rugby': 4059, 'réécrit': 4060, 'saqué': 4061, 'esseulé': 4062, 'pesé': 4063, \"j'apprendrai\": 4064, 'dégonflé': 4065, \"l'achèterais\": 4066, \"l'ouvrirai\": 4067, '99': 4068, 'couard': 4069, 'danseur': 4070, 'prêtre': 4071, 'puriste': 4072, 'surfeur': 4073, 'agent': 4074, 'saigner': 4075, 'flan': 4076, 'pinceaux': 4077, 'cultivé': 4078, 'noyer': 4079, 'cloué': 4080, 'rebelle': 4081, 'abruti': 4082, 'obéissant': 4083, 'rationnel': 4084, 'amendé': 4085, 'solide': 4086, 'fer': 4087, 'saoul\\xa0': 4088, 'piège\\xa0': 4089, 'élan': 4090, 'nuageux\\u202f': 4091, 'imitation': 4092, 'épaté': 4093, 'brûler': 4094, 'guérira': 4095, 'arrivera': 4096, 'plante': 4097, 'gaspillage': 4098, 'conneries': 4099, 'manquant': 4100, 'matin': 4101, 'suicide': 4102, 'informez': 4103, 'rebondissons': 4104, 'interrompre\\u202f': 4105, 'démangent': 4106, 'hanche': 4107, 'souciait': 4108, 'fout': 4109, 'bougea': 4110, 'répare': 4111, 'croisés': 4112, 'priez': 4113, 'libère': 4114, 'tranchante': 4115, 'perturbée': 4116, 'chantait': 4117, 'filmer': 4118, 'bayer': 4119, 'corneilles': 4120, 'fredonner': 4121, 'bouder': 4122, 'fixer': 4123, 'bailler': 4124, 'beaux': 4125, 'rêves\\u202f': 4126, 'bouffée': 4127, 'commandement': 4128, 'emporte': 4129, 'faudra': 4130, 'approuvent': 4131, 'entrés': 4132, 'écrasés': 4133, 'échappés': 4134, 'aident': 4135, \"m'aiment\": 4136, 'dirent': 4137, 'appelleront': 4138, 'grandiront': 4139, 'décédés': 4140, 'rapides': 4141, 'paresseuses': 4142, 'laids': 4143, 'cassent': 4144, 'vie\\xa0': 4145, 'indésirable': 4146, 'effraction': 4147, 'grogna': 4148, 'insisté': 4149, 'étourdi': 4150, 'soûl': 4151, 'écouta': 4152, 'céder': 4153, 'haussa': 4154, 'chaleureux': 4155, 'siffla': 4156, 'traduisez': 4157, 'devinez\\xa0': 4158, 'buvant': 4159, 'accompagne': 4160, 'drôle\\xa0': 4161, 'présentons': 4162, 'arabes': 4163, 'entendons': 4164, 'apprêtés': 4165, \"t'aimions\": 4166, 'mourions': 4167, 'rendons': 4168, 'mangerons': 4169, 'attaquerons': 4170, 'assisterons': 4171, 'arriverons': 4172, 'biaisé': 4173, 'fermés': 4174, 'directs': 4175, 'cachons': 4176, 'honnêtes': 4177, 'matures': 4178, 'crevés': 4179, 'ruinés': 4180, 'remués': 4181, 'stricts': 4182, 'culot\\xa0': 4183, 'gâchis': 4184, 'ovni\\u202f': 4185, 'venu\\xa0': 4186, 'démissionné\\xa0': 4187, 'qui\\xa0': 4188, 'payer\\u202f': 4189, 'gagner\\u202f': 4190, 'vivra': 4191, 'importants\\xa0': 4192, \"m'amuses\": 4193, \"d'imbécile\\xa0\": 4194, 'mourras': 4195, \"t'assures\": 4196, 'malpoli': 4197, 'lunatique': 4198, \"l'erreur\": 4199, 'passa': 4200, 'aère': 4201, 'futon': 4202, 'm’approuve': 4203, 'glisse': 4204, 'doté': 4205, 'talent\\u202f': 4206, 'occupées': 4207, 'morts\\u202f': 4208, 'ennuyez': 4209, 'contents\\u202f': 4210, 'respectueuse': 4211, 'solidaire': 4212, 'dégagez': 4213, 'gamins\\u202f': 4214, 'bande': 4215, 'courent': 4216, 'aussi\\xa0': 4217, 'conduire\\u202f': 4218, 'lancer': 4219, 'patiner\\u202f': 4220, 'cuisez': 4221, 'criminalité': 4222, 'mèche': 4223, 'connais\\u202f': 4224, 'rêvent': 4225, 'captes': 4226, 'désespérez': 4227, \"l'ouvre\": 4228, 'bouchon': 4229, 'égard': 4230, 'veille': 4231, 'larmes': 4232, 'sainement': 4233, 'pois': 4234, \"l'oiseau\\u202f\": 4235, 'accrochez': 4236, 'jambon': 4237, 'creusé': 4238, 'dupa': 4239, 'bagues': 4240, 'dentaires': 4241, 'britannique': 4242, 'genre\\u202f': 4243, 'aima': 4244, 'pincé': 4245, 'floué': 4246, \"s'efforce\": 4247, 'rouspéteur': 4248, 'jésuite': 4249, 'aîné': 4250, 'magnat': 4251, 'servez': 4252, 'emporter': 4253, 'retiens': 4254, 'klaxonne': 4255, \"l'école\\xa0\": 4256, 'j’en': 4257, 'l’acquisition': 4258, \"j'admirais\": 4259, 'coureur': 4260, 'tarte': 4261, 'emprunté': 4262, 'soudoyés': 4263, 'brûlés': 4264, 'contribué': 4265, 'conçu': 4266, 'bougé': 4267, \"m'abstiens\": 4268, 'poker': 4269, 'exagéré': 4270, 'renaître': 4271, \"j'interdis\": 4272, 'devenais': 4273, 'arnaqué': 4274, 'rêvé': 4275, 'foules': 4276, 'rencard': 4277, 'droits': 4278, 'titulaire': 4279, 'sirènes': 4280, 'craques': 4281, 'laissés': 4282, 'montres': 4283, 'pruneaux': 4284, 'jaune': 4285, 'baissai': 4286, 'lundi\\u202f': 4287, 'films': 4288, 'poésie': 4289, 'insister': 4290, 'émettre': 4291, 'objection': 4292, 'équipage': 4293, 'plaisance': 4294, 'squash': 4295, 'collecte': 4296, 'fonds': 4297, 'déplaît': 4298, 'voyais': 4299, 'reine': 4300, 'flaire': 4301, 'flingue': 4302, 't’ai': 4303, 'firefox': 4304, \"jusqu'ici\": 4305, 'poney': 4306, 'prudente': 4307, 'curieuse': 4308, 'ébloui': 4309, 'blaguais': 4310, 'scié': 4311, 'inquiète': 4312, 'excursion': 4313, 'tiendrai': 4314, 'brève': 4315, 'nettoierai': 4316, \"j'obtiendrai\": 4317, 'prouverai': 4318, 'sauverai': 4319, 'montrerai': 4320, \"j'essayerai\": 4321, 'préviendrai': 4322, 'stagiaire': 4323, \"m'adapte\": 4324, 'attentive': 4325, 'affairé': 4326, 'e': 4327, 'différente': 4328, 'impressionnée': 4329, \"j'écoute\": 4330, 'motivée': 4331, 'admirateurs': 4332, 'observateur': 4333, 'conditionnelle': 4334, 'ressentiment': 4335, 'endurant': 4336, 'tremble': 4337, 'survis': 4338, 'trouvé\\u202f': 4339, 'parages': 4340, 'endommagé': 4341, 'perruque\\xa0': 4342, 'plus\\xa0': 4343, 'empire': 4344, 'défaut': 4345, 'test': 4346, 'barbant': 4347, 'épidémie': 4348, 'marchera': 4349, \"s'évanouira\": 4350, 'agaçant': 4351, \"l'instinct\": 4352, 'minuit': 4353, 'équitable': 4354, 'chiqué': 4355, 'vieillot': 4356, 'lutter': 4357, 'démener': 4358, 'plait\\u202f': 4359, 'pagayer': 4360, \"l'italien\": 4361, 'déguerpissez': 4362, 'en\\u202f': 4363, 'rencontrez': 4364, 'bouffé': 4365, 'poumons': 4366, 'rejoue': 4367, 'descendre': 4368, 'renvoyez': 4369, 'haïssait': 4370, 'jumelle': 4371, 'active': 4372, 'livide': 4373, 'distinctement': 4374, 'vanter': 4375, \"d'applaudir\": 4376, 'froncer': 4377, 'cracher\\xa0': 4378, 'balayer': 4379, 'goûts': 4380, 'tonnes': 4381, 'mercis': 4382, \"m'arrange\": 4383, 'mythe': 4384, 'astucieux': 4385, 'horripilant': 4386, 'dément': 4387, 'meuglait': 4388, 'prenait': 4389, 'asiatiques': 4390, 'éveillés': 4391, \"s'ennuient\": 4392, 'espions': 4393, 'dvd': 4394, 'encre': 4395, 'affreux': 4396, 'basique': 4397, 'idiot\\u202f': 4398, 'noue': 4399, 'chaussure': 4400, 'mangeait': 4401, 'avoué': 4402, 'ressentait': 4403, 'dodu': 4404, 'mûr': 4405, 'sexiste': 4406, 'stable': 4407, 'susceptible': 4408, 'vulgaire': 4409, 'essoufflé': 4410, \"t'aimait\": 4411, 'manquait': 4412, 'protestait': 4413, 'rétablissait': 4414, 'précipité': 4415, 'frissonné': 4416, 'chancela': 4417, 'raidi': 4418, 'débattu': 4419, 'crispé': 4420, 'témoigné': 4421, 'entra': 4422, 'échouera': 4423, 'obéira': 4424, 'démissionnera': 4425, 'pleurerait': 4426, 'ronfler': 4427, 'blague\\xa0': 4428, 'cirez': 4429, 'plancher': 4430, 'admirons': 4431, \"t'admirons\": 4432, 'excusés': 4433, 'buvions': 4434, 'aidions': 4435, 'restâmes': 4436, 'arbres': 4437, 'intentions': 4438, 'focaliser': 4439, \"d'outils\": 4440, 'nageons': 4441, 'bonbons': 4442, 'ennuyions': 4443, 'expliquerons': 4444, 'reconstruirons': 4445, 'prendrons': 4446, 'anxieux': 4447, 'fiancés': 4448, 'grandissons': 4449, 'veinards': 4450, 'souffrons': 4451, 'synchronisés': 4452, 'nerveuses': 4453, 'patients': 4454, 'choqués': 4455, 'sincères': 4456, 'coulons': 4457, 'occupés\\xa0': 4458, \"l'arrêt\": 4459, 'affamés': 4460, 'gavés': 4461, 'sidérés': 4462, 'touchés': 4463, 'gagneurs': 4464, 'mûri': 4465, 'fiasco': 4466, 'cri\\xa0': 4467, \"l'intérieur\\xa0\": 4468, 'absent\\u202f': 4469, 'souvient\\xa0': 4470, 'lavée': 4471, 'volant\\u202f': 4472, 'reste\\xa0': 4473, 'parle\\xa0': 4474, 'accuser': 4475, 'lisible': 4476, 'bourré\\u202f': 4477, 'courrier': 4478, 'hypocrite\\xa0': 4479, 'reposes': 4480, 'restes': 4481, 'adorerais': 4482, 'snob': 4483, 'célébrité': 4484, 'partiale': 4485, \"m'ennuyez\": 4486, 'rusé': 4487, 'avide': 4488, 'bougon': 4489, 'maigrichonne': 4490, 'idiote': 4491, 'plaît\\u202f': 4492, 'coca': 4493, 'agis': 4494, 'qualifié\\u202f': 4495, 'réels': 4496, 'pleures': 4497, 'embauches': 4498, 'folle\\u202f': 4499, 'évite': 4500, 'clichés': 4501, 'mouche': 4502, 'bateaux': 4503, 'pelle': 4504, 'jongler': 4505, 'bénéfique': 4506, 'portail': 4507, 'pourriez': 4508, \"d'herbe\": 4509, 'blessé\\u202f': 4510, 'objections\\xa0': 4511, 'allés\\xa0': 4512, 'sortie\\u202f': 4513, 'trente\\xa0': 4514, 'plaira\\u202f': 4515, 'ronronnent': 4516, 'nies': 4517, 'détestes': 4518, \"l'entends\": 4519, \"m'entends\\u202f\": 4520, 'aimes\\u202f': 4521, 'pratiques': 4522, 'recyclage': 4523, 'boit\\xa0': 4524, 'salace': 4525, \"n'achète\": 4526, 'forcez': 4527, 'jugez': 4528, \"l'arrête\": 4529, 'lutte': 4530, 'gaspille': 4531, 'profite': 4532, 'pète': 4533, 'formez': 4534, 'lignes': 4535, 'enfourche': 4536, 'cheval\\xa0': 4537, 'bisou': 4538, 'chercher\\u202f': 4539, 'mug': 4540, 'anniversaire\\u202f': 4541, 'l’a': 4542, 'mordit': 4543, 'lèvre': 4544, 'bronze': 4545, 'quittés': 4546, 'écrivain': 4547, 'acteur': 4548, 'faillite': 4549, 'giflée': 4550, 'vendus': 4551, 'fié': 4552, 'souffrait': 4553, 'travailla': 4554, 'ancien': 4555, 'harcelé': 4556, 'monde\\u202f': 4557, 'hé\\u202f': 4558, 'neuf\\u202f': 4559, 'freinez': 4560, 'perdre\\u202f': 4561, 'profondeur': 4562, 'combien\\u202f': 4563, 'perspicacité': 4564, 'taille\\u202f': 4565, 'largeur': 4566, 'fils\\xa0': 4567, 'croyais': 4568, \"j'emprunte\": 4569, 'ongle': 4570, \"t'entendre\": 4571, 'prouver': 4572, \"l'utiliser\": 4573, 'décoré': 4574, \"t'avais\": 4575, 'prévenue': 4576, 'disputé': 4577, 'commère': 4578, 'bénit': 4579, 'ignorée': 4580, 'hâlé': 4581, 'mélangé': 4582, 'grandi': 4583, 'garantis': 4584, 'mésaventure': 4585, 'vasculaire': 4586, 'cérébral': 4587, 'amusée': 4588, 'fallu': 4589, 'hélé': 4590, 'lundis': 4591, 'régimes': 4592, 'insectes': 4593, 'karaoké': 4594, 'prosélytes': 4595, \"d'amnésie\": 4596, 'moindre': 4597, \"j'entendis\": 4598, 'filai': 4599, 'tins': 4600, 'amandes': 4601, 'châteaux': 4602, 'jogging': 4603, 'mah': 4604, 'jong': 4605, 'huîtres': 4606, 'sashimi': 4607, 'histoires': 4608, 'réside': 4609, \"l'état\": 4610, 'lasagnes': 4611, 'couchers': 4612, 'muffins': 4613, 'nostalgie': 4614, 'décliner': 4615, 'soulever': 4616, 'protestation': 4617, 'collation': 4618, 'soutien': 4619, 'opération': 4620, \"m'avoue\": 4621, 'prédit': 4622, 'bétail': 4623, \"j'éternue\": 4624, 'parlais': 4625, 'coréen': 4626, \"j'exhorte\": 4627, 'habituellement': 4628, 'déplace': 4629, 'cheminé': 4630, 'désire': 4631, \"l'éventail\": 4632, 'bluffer': 4633, 'incarcéré': 4634, 'gracié': 4635, 'crevais': 4636, 'accueilli': 4637, 'prospérer': 4638, 'survivrai': 4639, 'témoignerai': 4640, \"l'achèterai\": 4641, 'rédigé': 4642, 'appellerai': 4643, \"l'annulerai\": 4644, 'façons': 4645, 'guiderai': 4646, 'gérerai': 4647, \"t'épouserai\": 4648, 'gronderai': 4649, \"t'inviterai\": 4650, 'réessayer': 4651, 'novice': 4652, 'ministre': 4653, 'musicien': 4654, \"m'utilise\": 4655, 'fasciné': 4656, 'kyoto': 4657, \"m'embête\": 4658, 'amer': 4659, 'grincheux': 4660, 'surchargé': 4661, 'réaménager': 4662, \"j'ai\\u202f\": 4663, 'tueur': 4664, 'savais\\u202f': 4665, 'travaille\\xa0': 4666, 'américain\\u202f': 4667, 'consommer': 4668, 'fiable\\xa0': 4669, 'ours': 4670, 'oiseau\\xa0': 4671, 'bon\\u202f': 4672, 'neigeait': 4673, 'fonctionnait': 4674, 'dorénavant': 4675, 'ver': 4676, 'luisant': 4677, 'malhonnête': 4678, 'exaltant': 4679, 'immonde': 4680, 'intact': 4681, 'vibre': 4682, 'cruels': 4683, 'clairs': 4684, 'francs': 4685, 'appelons': 4686, 'finissons': 4687, 'espérons': 4688, 'partageons': 4689, 'indices': 4690, 'agrandissez': 4691, 'simplifie': 4692, 'péri': 4693, 'simples': 4694, 'motus': 4695, 'cousue': 4696, 'articulations': 4697, 'bide': 4698, 'évadé': 4699, 'précaution': 4700, 'emballe': 4701, 'poursuivre': 4702, 'prouve': 4703, 'moi\\u2009': 4704, 'réserve': 4705, 'clairement': 4706, 'redis': 4707, \"l'appela\": 4708, \"l'étrangla\": 4709, 'berna': 4710, 'jugeotte': 4711, \"l'aida\": 4712, 'maladroite': 4713, 'déplacement': 4714, 'prude': 4715, \"s'exprimer\": 4716, 'vienne': 4717, 'bach': 4718, 'taquina': 4719, 'tape': 4720, 'innocente': 4721, 'bruyante': 4722, 'apparut': 4723, 'esprits': 4724, 'bavarder': 4725, \"m'asticoter\": 4726, \"d'ergoter\": 4727, 'renifler': 4728, \"c'tait\": 4729, 'délit': 4730, 'incroyable\\u202f': 4731, 'drapeau': 4732, 'hissé': 4733, 'sirène': 4734, 'retenti': 4735, 'regards': 4736, 'croisèrent': 4737, 'découvert': 4738, 'haïssaient': 4739, \"m'aidaient\": 4740, 'laissèrent': 4741, 'aimaient': 4742, 'disputées': 4743, 'puent': 4744, 'morflé': 4745, 'endormis': 4746, 'bébés': 4747, 'essaient': 4748, 'positivement': 4749, 'gave': 4750, 'mord': 4751, 'chouettes': 4752, 'dé': 4753, \"l'avenir\": 4754, 'buvait': 4755, 'effondré': 4756, 'larguer': 4757, 'fuir': 4758, 'scorbut': 4759, 'intervint': 4760, 'félon': 4761, 'géant': 4762, 'juge': 4763, 'maçon': 4764, 'aviateur': 4765, 'cynique': 4766, 'sot': 4767, 'serviable': 4768, 'faction': 4769, 'halète': 4770, 'pompeux': 4771, 'radical': 4772, 'rase': 4773, 'similaire': 4774, 'sanglote': 4775, 'gâté': 4776, 'taquin': 4777, 'assoiffé': 4778, 'impassible': 4779, 'débraillé': 4780, 'tofu': 4781, 'routières': 4782, 'induit': 4783, 'souvenait': 4784, 'représailles': 4785, 'tendit': 4786, \"l'arrêta\": 4787, \"l'abri\": 4788, 'n’était': 4789, 'vérifiera': 4790, 'conduira': 4791, 'commencera': 4792, 'dérangera': 4793, 'noie': 4794, 'fixe': 4795, 'instable': 4796, 'traduis': 4797, 'sauce': 4798, 'cerveaux': 4799, \"l'arrière\": 4800, 'procéder': 4801, 'écraser': 4802, 'éclatés': 4803, 'arrêtions': 4804, \"d'atterrir\": 4805, 'connaissions': 4806, \"d'action\": 4807, 'rendîmes': 4808, 'portâmes': 4809, 'partions': 4810, 'plaisantions': 4811, 'cuits': 4812, \"t'enterrerons\": 4813, 'appellerons': 4814, 'continuerons': 4815, \"t'aiderons\": 4816, 'peindrons': 4817, 'sauverons': 4818, 'couple': 4819, 'bouchers': 4820, 'discrets': 4821, 'divorcés': 4822, 'reconnaissants': 4823, 'rentrés': 4824, 'innocents': 4825, 'obéissants': 4826, 'positifs': 4827, 'puissants': 4828, 'ponctuels': 4829, 'réservés': 4830, 'impitoyables': 4831, 'têtus': 4832, 'derniers': 4833, 'pareils': 4834, 'déception': 4835, 'causes\\xa0': 4836, \"j'échoue\\u202f\": 4837, 'pris\\xa0': 4838, 'dab': 4839, 'bourse': 4840, 'gagné\\u202f': 4841, 'appelé\\xa0': 4842, 'nettoyée': 4843, 'assistait': 4844, 'intervenu\\xa0': 4845, 't’a': 4846, 'tué\\xa0': 4847, 'fera\\u202f': 4848, 'soucierait': 4849, 'parle\\u202f': 4850, 'homme\\xa0': 4851, 'demandes': 4852, 'remonte': 4853, 'changé\\u202f': 4854, 'dégoûtes': 4855, 'mine': 4856, \"t'ennuyer\": 4857, 'passera': 4858, 'marrer': 4859, 'insaisissable': 4860, 'excusée': 4861, 'tatillon': 4862, 'imprudent': 4863, 'hideuse': 4864, 'conviens': 4865, 'obscène': 4866, 'voyante': 4867, 'professionnel': 4868, 'chavira': 4869, 'heure\\u202f': 4870, 'présents': 4871, 'fonctions': 4872, 'suggestions': 4873, 'gratuites\\u202f': 4874, 'réels\\xa0': 4875, 'vôtres\\u202f': 4876, 'violets': 4877, 'tiens\\xa0': 4878, 'fantôme': 4879, 'habillé\\xa0': 4880, 'envieux': 4881, 'énervé\\u202f': 4882, 'assuré\\xa0': 4883, 'regardes': 4884, 'marié\\u202f': 4885, 'sourire\\xa0': 4886, 'malchanceux\\xa0': 4887, 'gagnes\\xa0': 4888, 'balles': 4889, 'rondes': 4890, 'abeilles': 4891, 'brosse': 4892, 'police\\u202f': 4893, 'arranger': 4894, 'prouver\\xa0': 4895, 'lâcher': 4896, 'boîtes': 4897, 'trappe': 4898, 'peux\\u202f': 4899, 'grimpe': 4900, 'félicitations': 4901, 'corbeaux': 4902, 'soucié': 4903, 'mouillé\\xa0': 4904, 'l’intention': 4905, 'manqué\\u202f': 4906, 'cravate\\xa0': 4907, 'viande\\u202f': 4908, 'un\\u202f': 4909, 'massage': 4910, 'connaissez\\u202f': 4911, 'rap\\u202f': 4912, 'rappelles': 4913, 'chose\\u202f': 4914, 'lui\\u202f': 4915, \"t'excuse\": 4916, \"m'attaque\": 4917, 'cède': 4918, 'pattes': 4919, 'flipe': 4920, 'fâche': 4921, \"m'insultez\": 4922, \"n'interrompez\": 4923, \"l'imbécile\": 4924, 'serine': 4925, 'mouton': 4926, 'séjour': 4927, 'dansait': 4928, 'regardait': 4929, \"n'espérez\": 4930, 'attachez': 4931, 'grille': 4932, 'ramène': 4933, 'solution\\xa0': 4934, 'repliez': 4935, \"d'elles\": 4936, 'arrivez': 4937, 'folles': 4938, 'corn': 4939, 'envoya': 4940, 'ayez': 4941, 'agit': 4942, 'trahissait': 4943, 'acheta': 4944, 'abandonna': 4945, 'raquette': 4946, \"m'intrigue\": 4947, 'éthiopien': 4948, 'médium': 4949, 'sucreries': 4950, 'mentionna': 4951, 'airs': 4952, 'whisky': 4953, 'fixa': 4954, 'étudiait': 4955, 'escroquée': 4956, 'tricher': 4957, 'comédien': 4958, 'fraternité': 4959, 'bizuth': 4960, 'jardinier': 4961, 'lambin': 4962, 'époux': 4963, 'associé': 4964, 'revoilà': 4965, 'salut\\u202f': 4966, 'va\\u202f': 4967, 'falsifiée': 4968, 'réputation': 4969, 'hissez': 4970, 'voiles': 4971, 'aventure': 4972, 'humiliant': 4973, 'part\\u202f': 4974, 'malheur': 4975, 'maniez': 4976, \"l'hypnose\": 4977, \"n'admets\": 4978, \"d'égypte\": 4979, 'mesurer': 4980, 'simuler': 4981, 'empêcher': 4982, 'carpe': 4983, 'poisson\\xa0': 4984, 'réellement': 4985, 'téléchargé': 4986, 'fiévreux': 4987, 'isolé': 4988, 'délaissé': 4989, 'détoner': 4990, \"j'obéis\": 4991, '6': 4992, 'surmonté': 4993, 'débarrassé': 4994, 'dus': 4995, 'fanatiques': 4996, 'obsèques': 4997, 'ratons': 4998, 'laveurs': 4999, 'reptiles': 5000, 'chaleur': 5001, 'alibi': 5002, 'pellicules': 5003, \"l'immunité\": 5004, 'hurlements': 5005, 'guide': 5006, 'gagnera': 5007, 'pleuvra': 5008, 'imaginé': 5009, 'recevoir': 5010, \"l'emporterions\": 5011, 'prêté': 5012, 'dessins': 5013, 'animés': 5014, 'j‘aime': 5015, 'westerns': 5016, 'craquai': 5017, \"l'allumette\": 5018, 'hyogo': 5019, 'intérêt': 5020, 'dissipé': 5021, 'barbecues': 5022, 'comédies': 5023, 'aubergines': 5024, 't’adore': 5025, 'moelleux': 5026, 'dise': 5027, \"d'internet\": 5028, 'caféine': 5029, 'épée': 5030, 'scotch': 5031, 'raser': 5032, 'rencontre': 5033, 'factures': 5034, 'réglais': 5035, 'jouais': 5036, 'orchidées': 5037, 'sonner': 5038, 'compté': 5039, 'souvenais': 5040, 'respectais': 5041, 'pressenti': 5042, 'motif': 5043, 'dormis': 5044, 'parlai': 5045, 'éteint': 5046, \"j'emploie\": 5047, 'remboursement': 5048, 'combattre': 5049, 'condamné': 5050, 'horrifié': 5051, 'coma': 5052, 'n’étais': 5053, 'patrouille': 5054, 'pétrifié': 5055, 'demandais': 5056, 'quérir': 5057, 'continuerai': 5058, '10': 5059, \"t'arrêterai\": 5060, \"l'avertirai\": 5061, \"j'effectue\": 5062, 'referais': 5063, 'aiderai': 5064, 'détruirai': 5065, 'rechercherai': 5066, 'cesserai': 5067, 'louerai': 5068, 'azeri': 5069, 'caméraman': 5070, 'menuisier': 5071, 'sauveteur': 5072, 'masochiste': 5073, \"m'apprête\": 5074, 'aventureuse': 5075, \"t'appelle\": 5076, 'capte': 5077, 'daltonien': 5078, 'aise': 5079, 'craque': 5080, 'zambie': 5081, 'appliqué': 5082, 'vaincre': 5083, 'formation': 5084, 'myope': 5085, \"m'alarme\": 5086, 'dispute': 5087, 'persévère': 5088, 'remplaçable': 5089, 'spontanée': 5090, 'capitaine': 5091, 'gérant': 5092, \"d'ambition\": 5093, 'd’une': 5094, 'croyons': 5095, 'membre\\xa0': 5096, 'acteur\\xa0': 5097, 'nager\\xa0': 5098, 'enseignant\\u202f': 5099, \"d'ici\\xa0\": 5100, 'toxique': 5101, 'dur\\xa0': 5102, 'moto': 5103, 'autorisé\\xa0': 5104, 'rêve\\xa0': 5105, 'rivière\\u202f': 5106, 'éthique': 5107, 'neuve\\xa0': 5108, 'explosé': 5109, 'sembler': 5110, 'super\\u202f': 5111, 'stimulant': 5112, 'mou': 5113, 'repoussera': 5114, 'champignon': 5115, 'onze': 5116, 'outrage': 5117, 'artificiel': 5118, 'basses': 5119, 'œuvres': 5120, 'inapproprié': 5121, 'phénomène': 5122, 'trompeur': 5123, 'galant': 5124, 'con': 5125, 'stéréotypé': 5126, 'néanmoins': 5127, 'étouffant': 5128, \"l'époque\": 5129, 'étroit': 5130, 'rare': 5131, \"d'ignorer\": 5132, 'maintenez': 5133, 'souriants': 5134, 'biper': 5135, 'koalas': 5136, 'commentez': 5137, 'citrons': 5138, 'acides': 5139, 'taisons': 5140, 'collaborons': 5141, 'volants': 5142, 'oublions': 5143, 'enivrons': 5144, 'improvisons': 5145, 'assurons': 5146, 'négocions': 5147, 'disputons': 5148, 'jubilons': 5149, 'paniquons': 5150, 'retournons\\u202f': 5151, \"l'emprunter\\xa0\": 5152, 'lit\\u202f': 5153, \"t'interrompre\": 5154, '14\\xa0h\\xa030': 5155, 'devraient': 5156, 'noël\\u202f': 5157, 'requis': 5158, 'enfui': 5159, 'rétréci': 5160, 'grincent': 5161, 'natto': 5162, 'terrifiante': 5163, 'flancha': 5164, 'émis': 5165, \"d'objection\": 5166, 'téloche': 5167, 'octobre': 5168, 'amusantes': 5169, \"m'ennuient\": 5170, \"l'orange\": 5171, 'planification': 5172, 'essentielle': 5173, 'presser': 5174, 'ratissez': 5175, 'enlève': 5176, 'répétez': 5177, 'sellez': 5178, 'requins': 5179, 'calmée': 5180, 'pardonna': 5181, 'levée': 5182, 'disposait': 5183, 'coureuse': 5184, 'dactylographe': 5185, 'gracieuse': 5186, 'miséricordieuse': 5187, 'puissante': 5188, 'pinça': 5189, 'sermonna': 5190, 'gifla': 5191, 'poignarda': 5192, \"l'incita\": 5193, \"l'attacha\": 5194, 'parfaite': 5195, \"l'essayera\": 5196, 'réveilla': 5197, 'brésilienne': 5198, \"l'assurance\": 5199, 'déprimée': 5200, 'chanteuse': 5201, 'la\\u202f': 5202, 'soie': 5203, 'toussé': 5204, \"l'espagnol\": 5205, 'chamailler': 5206, 'taquiner': 5207, 'geindre': 5208, 'balaie': 5209, 'franchement': 5210, 'durer': 5211, 'plastique': 5212, 'examen': 5213, 'pagode': 5214, 'barbare\\xa0': 5215, 'trop\\u202f': 5216, 'l’enfant': 5217, \"l'auto\": 5218, 'branle': 5219, 'puait': 5220, 'tombèrent': 5221, 'rougit': 5222, 'couché': 5223, 'mugissait': 5224, 'remède': 5225, 'n’y': 5226, 'd’or': 5227, 'prirent': 5228, 'acteurs': 5229, 'melons': 5230, 'pilotes': 5231, 'fichent': 5232, \"n'aident\": 5233, 'craignaient': 5234, 'souhaité': 5235, 'tenaient': 5236, \"s'ennuyer\": 5237, 'eurent': 5238, 'crédules': 5239, 'vôtres': 5240, 'incroyables': 5241, 'plaisantent': 5242, 'partent': 5243, 'similaires': 5244, 'attendent': 5245, 'massif': 5246, 'foutaises': 5247, 'mahjong': 5248, 'promo': 5249, 'balivernes': 5250, 'singulier': 5251, 'agi': 5252, 'semblant': 5253, 'rote': 5254, 'rappela': 5255, 'poursuivait': 5256, 'contribua': 5257, 'exagère': 5258, 'ipad': 5259, 'client': 5260, 'soudeur': 5261, 'anorexique': 5262, 'sportif': 5263, 'dépravé': 5264, 'trempé': 5265, 'noie\\xa0': 5266, 'aimable': 5267, 'glousse': 5268, 'élégant': 5269, 'perdue': 5270, 'miséricordieux': 5271, 'lamentable': 5272, 'pervers': 5273, 'studieux': 5274, 'infatigable': 5275, 'tolérant': 5276, \"s'entraîne\": 5277, 'venait': 5278, 'placé': 5279, 'apprend': 5280, 'hébété': 5281, \"s'effraie\": 5282, 'ralenti': 5283, 'bizarrement': 5284, 'provoqué': 5285, 'rebroussa': 5286, 'porta': 5287, 'avertit': 5288, 'évasif': 5289, 'emballé': 5290, 'plaisantait': 5291, 'randonnée': 5292, 'décidera': 5293, 'corrigera': 5294, \"s'acquiert\": 5295, 'bâiller': 5296, 'souvenir\\xa0': 5297, 'ventilateur': 5298, 'déverrouille': 5299, 'précisément': 5300, 'murs': 5301, 'indice\\xa0': 5302, 'poses': 5303, 'détestons': 5304, 'enseignants': 5305, 'comptons': 5306, 'déclaré': 5307, 'disposions': 5308, 'changés': 5309, 'ponchos': 5310, 'manquons': 5311, 'gaufres': 5312, 'réussir': 5313, 'experts': 5314, 'parlions': 5315, 'loué': 5316, 'respectons': 5317, 'courons': 5318, 'voyageons': 5319, 'récupérer': 5320, 'agriculteurs': 5321, 'choquées': 5322, \"t'attraperons\": 5323, 'coopérerons': 5324, 'parviendrons': 5325, 'resterons': 5326, 'arrêterons': 5327, 'flexibles': 5328, 'disponibles': 5329, 'comédiens': 5330, 'engagés': 5331, 'dévoués': 5332, 'déprimés': 5333, 'épuisés': 5334, 'flattés': 5335, 'jardiniers': 5336, 'gentilshommes': 5337, 'impartiaux': 5338, 'impulsifs': 5339, 'charge': 5340, 'fautifs': 5341, 'motivés': 5342, 'organisés': 5343, 'endurants': 5344, 'sensibles': 5345, 'séparées': 5346, 'survivons': 5347, 'survivants': 5348, 'pleurais': 5349, 'gâteau\\xa0': 5350, 'bénédiction': 5351, 'catastrophe': 5352, 'perspective': 5353, 'personnage\\xa0': 5354, 'faible\\xa0': 5355, 'dit\\u2009': 5356, 'dessus\\xa0': 5357, 'manque\\u202f': 5358, 'volé\\u202f': 5359, 'coûtera': 5360, 'manger\\xa0': 5361, 'retenu\\xa0': 5362, 'récompense': 5363, 'but\\xa0': 5364, 'plan\\u202f': 5365, 'moyenne': 5366, 'générale': 5367, 'métier\\u202f': 5368, 'terminé\\u202f': 5369, 'allé\\u202f': 5370, 'peigne\\xa0': 5371, 'bague\\xa0': 5372, 'clé\\xa0': 5373, 'rame': 5374, 'tous\\u202f': 5375, 'participé': 5376, 'homme\\u202f': 5377, 'reprogrammé\\xa0': 5378, 'jouait': 5379, 'perdant\\xa0': 5380, 'pauvres\\xa0': 5381, \"t'il\": 5382, 'menti\\u202f': 5383, 'rêvons': 5384, \"l'acheter\\xa0\": 5385, 'comptes': 5386, 'sacré': 5387, 'veinard\\u202f': 5388, 'réjoui': 5389, 'séjourner': 5390, 'gagneur': 5391, 'saignez': 5392, 'triches': 5393, 'déloyal': 5394, 'splendide': 5395, 'incorrigible': 5396, 'hideuses': 5397, 'trompez': 5398, 'sociable': 5399, 'autoritaire': 5400, 'temporises': 5401, 'débout': 5402, 'dit\\xa0': 5403, '«\\xa0regarde': 5404, '\\xa0»': 5405, 'aboie': 5406, 'plomb': 5407, 'accidents': 5408, 'surviennent': 5409, 'moururent': 5410, 'téléphone\\u202f': 5411, 'candidature': 5412, 'amis\\u202f': 5413, 'catholique\\xa0': 5414, 'japonais\\u202f': 5415, 'médecin\\u202f': 5416, 'golfeur\\xa0': 5417, 'maniaque': 5418, 'dactylo': 5419, 'sorcier': 5420, 'perdus\\u202f': 5421, 'idiot\\xa0': 5422, 'frères\\u202f': 5423, 'occupés\\u202f': 5424, 'dyslexique\\xa0': 5425, 'existes': 5426, 'abri\\xa0': 5427, 'crack': 5428, 'enceinte\\u202f': 5429, 'heureux\\u202f': 5430, 'atlantis': 5431, 'serpents': 5432, 'boxe': 5433, 'ennuyante': 5434, 'respirez': 5435, 'normalement': 5436, 'brossez': 5437, \"n'avancent\": 5438, 'utile\\xa0': 5439, 'câlin\\xa0': 5440, 'renseigner': 5441, 'rencontrer\\u202f': 5442, \"l'épeler\": 5443, 'soigneusement': 5444, 'sommet': 5445, 'stores': 5446, \"d'agir\": 5447, 'debout\\u202f': 5448, 'concentre': 5449, 'considère': 5450, 'consulte': 5451, 'maîtrise': 5452, 'téléphonez': 5453, '110': 5454, 'mal\\xa0': 5455, 'aimais': 5456, 'voté\\u202f': 5457, 'aurait': 5458, 'délicatement': 5459, 'beaucoup\\xa0': 5460, 'pâtes': 5461, 'entendez': 5462, 'poisson\\u202f': 5463, 'soucies': 5464, 'possèdes': 5465, 'golf\\xa0': 5466, 'connard': 5467, 'alarmé': 5468, 'dérangez': 5469, \"n'exagérez\": 5470, 'grimaces': 5471, \"m'arnaque\": 5472, 'balancez': 5473, 'deviennent': 5474, 'légumes': 5475, 'râle': 5476, 'hamster': 5477, 'terminez': 5478, 'flotter': 5479, 'but\\u202f': 5480, 'surfe': 5481, 'grandis': 5482, 'patientez': 5483, 'croissant\\xa0': 5484, 'diné\\u202f': 5485, 'l’as': 5486, 'vagabond': 5487, 'sabordé': 5488, 'nettoya': 5489, 'récemment': 5490, 'répara': 5491, 'discours': 5492, 'enlacée': 5493, 'picasso': 5494, 'longues': 5495, 'joker': 5496, 'acrobate': 5497, 'soucis': 5498, 'intime': 5499, 'tint': 5500, 'meut': 5501, \"t'aimer\": 5502, 'dénoncés': 5503, '65': 5504, 'partage': 5505, \"l'habitude\": 5506, 'arabe': 5507, 'tenancier': 5508, 'historien': 5509, 'fumeur': 5510, 'sénile': 5511, 'foudre': 5512, 'pauvres': 5513, \"m'observe\": 5514, 'resurgit': 5515, 'ticket': 5516, 'perfectionnez': 5517, 'compétences': 5518, 'chope\\u202f': 5519, 'portent': 5520, 'enfants\\u202f': 5521, 'trouves': 5522, 'bonnard': 5523, 'salade\\xa0': 5524, 'avons\\u202f': 5525, 'mélodrame': 5526, 'imbécile': 5527, 'mesures': 5528, 'nourriture\\xa0': 5529, 'match\\xa0': 5530, 'sieste\\xa0': 5531, 'grandi\\u202f': 5532, 'famille\\xa0': 5533, 'éternuer': 5534, 'norvège': 5535, 'sorcière': 5536, 'payée': 5537, 'relativement': 5538, \"m'inclinai\": 5539, 'cogné': 5540, \"l'atteindre\": 5541, 'souvenir': 5542, 'redresser': 5543, 'chopé': 5544, 'confisqué': 5545, 'livreur': 5546, 'pizzas': 5547, 'charles': 5548, 'noisettes': 5549, \"t'envie\": 5550, 'dilemme': 5551, 'investi': 5552, 'protégé': 5553, 'revigoré': 5554, 'merveilleusement': 5555, 'chair': 5556, 'arnaquer': 5557, 'textes': 5558, 'vacciner': 5559, 'raisons': 5560, 'feux': 5561, \"d'artifice\": 5562, 'tâches': 5563, 'administratives': 5564, 'audace': 5565, 'grenade': 5566, 'neuve': 5567, 'requête': 5568, 'foins': 5569, 'brûlures': 5570, \"d'estomac\": 5571, 'assurance': 5572, \"d'excuse\": 5573, 'pneumonie': 5574, 'critères': 5575, 'souffrant': 5576, 'virer': 5577, \"l'ouvrir\": 5578, 'filé': 5579, 'ficelles': 5580, 'soulevé': 5581, \"l'astrologie\": 5582, 'éléphants': 5583, 'roman': 5584, 'oncles': 5585, 'mystères': 5586, 'ouvrage': 5587, \"j'allumai\": 5588, 'chandelle': 5589, 'papiers': 5590, \"l'australie\": 5591, \"l'astronomie\": 5592, 'd’œufs': 5593, 'bibliothèques': 5594, 'ouvrages': 5595, 'anciens': 5596, 'nourritures': 5597, 'amassé': 5598, 'fortune': 5599, 'kleenex': 5600, 'escorte': 5601, \"d'enveloppes\": 5602, 'savon': 5603, 'titres': 5604, \"m'aides\": 5605, 'grasse': 5606, 'matinée': 5607, 'dette': 5608, 'envers': 5609, 'désigné': 5610, 'précipitai': 5611, 'tombai': 5612, \"d'encre\": 5613, 'restaurant': 5614, 'l’espère': 5615, 'kiffe': 5616, 'recommande': 5617, 'refusai': 5618, 'regrette': 5619, 'requiers': 5620, 'frotté': 5621, \"j'aperçus\": 5622, 'parapluies': 5623, 'visité': 5624, \"j'attendis\": 5625, 'marchant': 5626, 'divorcer': 5627, 'martini': 5628, 'correspondant': 5629, 'raton': 5630, 'laveur': 5631, 'trottinette': 5632, 'gagnions': 5633, 'treize': 5634, 'étonné': 5635, 'apeurée': 5636, \"m'amusais\": 5637, 'buter': 5638, \"l'enseignerai\": 5639, 'traduirai': 5640, 'tombola': 5641, \"j'adorerais\": 5642, 'cogner': 5643, 'revérifierai': 5644, 'démontrerai': 5645, 'préparer': 5646, 'pardonnerai': 5647, 'volontiers': 5648, 'déjeunerai': 5649, 'ignorer': 5650, \"n'apprendrai\": 5651, \"j'étudierai\": 5652, 'attaché': 5653, 'tenter': 5654, 'plats': 5655, 'vingt': 5656, 'programmeur': 5657, 'désorienté': 5658, 'ambidextre': 5659, 'traditionaliste': 5660, 'désorganisé': 5661, 'déjeune': 5662, 'flippe': 5663, 'croatie': 5664, 'roumanie': 5665, 'f': 5666, 'i': 5667, 'coucher\\u202f': 5668, 'scolarisé': 5669, \"t'ignore\": 5670, 'grenier': 5671, 'invite': 5672, 'mendiant': 5673, 'frime': 5674, 'paranoïaque': 5675, 'couloir': 5676, 'réagis': 5677, 'glandes': 5678, 'stressée': 5679, 'détendue': 5680, \"t'observe\": 5681, 'dessiné': 5682, 'n’ai': 5683, \"t'appelles\": 5684, 'accessible': 5685, 'ordre\\xa0': 5686, 'vendre': 5687, 'chat\\xa0': 5688, 'mère\\xa0': 5689, 'ouverte\\u202f': 5690, 'terminé\\xa0': 5691, '223': 5692, '1374': 5693, 'vente': 5694, 'haut\\xa0': 5695, 'valeur': 5696, 'dvd\\u202f': 5697, 'méchant\\u202f': 5698, 'horrible\\xa0': 5699, 'euros': 5700, 'flipper': 5701, 'foncé': 5702, 'excessif': 5703, 'battage': 5704, 'médiatique': 5705, \"c'était\\xa0très\\xa0sympa\": 5706, \"c'était\\xa0fort\\xa0laid\": 5707, 'deviendra': 5708, 'fonctionna': 5709, 'avril': 5710, 'période': 5711, 'tournesol': 5712, 'venteux': 5713, 'réconfortant': 5714, 'radieux': 5715, 'concevable': 5716, 'aisément': 5717, 'ça\\xa0fait\\xa0peur': 5718, \"l'une\": 5719, 'miennes': 5720, 'regrettable': 5721, 'passionnant': 5722, 'table\\xa0': 5723, 'transparent': 5724, 'asie': 5725, 'amies': 5726, 'compromis': 5727, 'traversons': 5728, 'donnons': 5729, 'fléchettes': 5730, 'maman\\u202f': 5731, 'cierge': 5732, 'élégante': 5733, 'excusé\\u202f': 5734, 'neigera': 5735, 'puces': 5736, 'minuscule': 5737, 'réception': 5738, 'pouls': 5739, 'engourdis': 5740, \"s'inquiéter\": 5741, \"m'aida\": 5742, 'prévenus': 5743, 'souciera': 5744, 'pétrole': 5745, 'fenêtres': 5746, 'perroquets': 5747, 'meurent': 5748, 'parleront': 5749, 'autorisés': 5750, 'copiez': 5751, 'prie\\xa0': 5752, 'assurer': 5753, 'signer': 5754, 'gonflez': 5755, 'sourdine': 5756, 'mains\\u202f': 5757, 'termine': 5758, 'rome': 5759, 'italie': 5760, 'fouille': 5761, 'midi\\u202f': 5762, 'recommencé': 5763, \"l'aimait\": 5764, 'chevelure': 5765, \"l'idolâtrait\": 5766, \"l'insulta\": 5767, 'décontractée': 5768, 'scène': 5769, 'rejeta': 5770, 'repousse': 5771, 'chameau': 5772, 'fixé': 5773, 'ardemment': 5774, 'promue': 5775, 'banc': 5776, 'mignonnes': 5777, 'crache': 5778, \"t'excuser\": 5779, \"d'interférer\": 5780, 'mentir\\xa0': 5781, 'précautions': 5782, \"l'explique\": 5783, \"l'éviter\": 5784, 'chantage': 5785, 'paroles': 5786, 'tragique': 5787, 'déplaisant': 5788, 'grinça': 5789, \"s'ouvrirent\": 5790, 'dindons': 5791, 'jury': 5792, 'divisé': 5793, 'claire': 5794, 'messe': 5795, 'dite': 5796, 'aigre': 5797, \"l'emporte\": 5798, 'agitée': 5799, 'dégagé': 5800, \"l'interrupteur\": 5801, 'enclanché': 5802, 'réservoir': 5803, 'aidaient': 5804, 'sourirent': 5805, \"s'assécha\": 5806, 'limites': 5807, 'noyés': 5808, 'entrèrent': 5809, 'raillé': 5810, 'arrêtés': 5811, 'disputent': 5812, 'artistes': 5813, 'chanteurs': 5814, 'croient': 5815, 'calmées': 5816, 'méprisent': 5817, 'tus': 5818, 'emplettes': 5819, \"s'approchèrent\": 5820, \"n'avaient\": 5821, 'apprécient': 5822, \"l'obligèrent\": 5823, 'jouent': 5824, 'faisaient': 5825, 'amateurs': 5826, \"s'échappent\": 5827, 'battent': 5828, 'inoffensifs': 5829, 'immatures': 5830, 'rient': 5831, 'drôles': 5832, 'temporiser': 5833, 'traîtres': 5834, 'costaud': 5835, '839': 5836, 'fâcheux': 5837, 'officiel': 5838, 'saucisses': 5839, 'lamentable\\xa0': 5840, 'relaxant': 5841, 'sabotage': 5842, 'norme': 5843, 'admirait': 5844, 'admire': 5845, 'évité': 5846, 'pistolet': 5847, 'rebondi': 5848, 'radeau': 5849, 'judicieux': 5850, 'manifestement': 5851, 'cuire': 5852, 'détourné': 5853, 'embrouillé': 5854, 'rôle': 5855, 'saluait': 5856, 'jean': 5857, 'charisme': 5858, 'roux': 5859, 'travails': 5860, 'oignons': 5861, 'ignorait': 5862, \"l'ex\": 5863, 'batteur': 5864, 'gastronome': 5865, 'gymnaste': 5866, 'hipster': 5867, 'pianiste': 5868, 'courtier': 5869, 'routier': 5870, 'interne': 5871, 'reprend': 5872, 'compétent': 5873, 'prétentieux': 5874, 'fourbe': 5875, 'délire': 5876, \"d'émotion\": 5877, 'excellent': 5878, 'paradis': 5879, 'inventif': 5880, 'légendaire': 5881, 'observe': 5882, 'obstiné': 5883, 'campus': 5884, 'qualifié': 5885, 'craquant': 5886, 'réticent': 5887, 'suspendu': 5888, 'propriétaire': 5889, 'contenté': 5890, \"d'éternuer\": 5891, \"d'observer\": 5892, 'soupirer': 5893, 'dupe': 5894, 'poneys': 5895, 'tulipes': 5896, 'toma': 5897, 'horriblement': 5898, 'suggéré': 5899, 'chatouillait': 5900, 'redouble': 5901, \"d'efforts\": 5902, 'bafouillait': 5903, 'bluffait': 5904, 'vantait': 5905, 'incinéré': 5906, 'noyait': 5907, 'extase': 5908, 'exécuté': 5909, 'riait': 5910, 'sélectionné': 5911, 'mourait': 5912, 'enchanté': 5913, 'rasé': 5914, 'tuera': 5915, 'aimera': 5916, 'prendra': 5917, 'invaincu': 5918, 'matière': 5919, 'paniquer': 5920, 'calmer': 5921, 'assassiné': 5922, 'feu\\xa0': 5923, 'mot\\xa0': 5924, 'assez\\xa0': 5925, 'arrose': 5926, 'premiers': 5927, \"l'espadon\": 5928, 'concouru': 5929, 'parvenons': 5930, 'admettre': 5931, 'défaite': 5932, 'exigeons': 5933, 'actes': 5934, 'dépendons': 5935, 'rapprochés': 5936, 'trouvons': 5937, 'théorie': 5938, 'blessures': 5939, 'cris': 5940, 'partîmes': 5941, 'conserve': 5942, 'commettons': 5943, 'évacuer': 5944, 'remédier': 5945, 'retirer': 5946, \"d'exercice\": 5947, 'provisions': 5948, 'reviennes': 5949, 'entretînmes': 5950, 'capturés': 5951, 'trompions': 5952, 'fiers': 5953, 'réparerons': 5954, \"n'échouerons\": 5955, 'souhaitons': 5956, 'reverrons': 5957, 'saurons': 5958, 'payerons': 5959, 'discuterons': 5960, 'uniques': 5961, 'stupéfaits': 5962, 'exploite': 5963, 'copains': 5964, 'diplomates': 5965, 'réduisons': 5966, 'voilure': 5967, \"s'assoupit\": 5968, 'fascinés': 5969, 'pigeons': 5970, 'historiens': 5971, 'analphabètes': 5972, 'situation': 5973, 'sauveteurs': 5974, 'méthodiques': 5975, \"d'acheter\": 5976, 'réussite': 5977, 'cernés': 5978, 'décoller': 5979, 'déshabillons': 5980, 'perdent': 5981, 'film\\xa0': 5982, 'mangeur\\u202f': 5983, 'tireur\\u202f': 5984, 'lourd\\u202f': 5985, 'hypocrite': 5986, 'pourrie\\xa0': 5987, 'horreur\\u202f': 5988, 'voir\\xa0': 5989, 'acheté\\u202f': 5990, 'eu\\u202f': 5991, 'abeilles\\u202f': 5992, 'avez\\u202f': 5993, 'besoin\\u202f': 5994, 'cherches': 5995, 'échoue\\u202f': 5996, 'espère': 5997, 'manigance': 5998, \"qu'étais\": 5999, \"qu'allons\": 6000, 'réveillé\\u202f': 6001, 'moment\\xa0': 6002, 'oiseau\\u202f': 6003, 'truc\\u202f': 6004, 'fouillis': 6005, 'taille\\xa0': 6006, 'souhait\\u202f': 6007, 'finit\\u202f': 6008, 'siège\\u202f': 6009, 'brosse\\xa0': 6010, 'rasoir': 6011, 'toilette\\xa0': 6012, '303\\xa0': 6013, 'balle\\xa0': 6014, 'sac\\xa0': 6015, 'père\\u202f': 6016, 'correct\\xa0': 6017, 'auto': 6018, 'développé\\xa0': 6019, 'rencontré\\u202f': 6020, \"l'utilise\\xa0\": 6021, \"m'aide\\u202f\": 6022, 'remarquerait\\xa0': 6023, 'hamlet\\xa0': 6024, 'commande\\xa0': 6025, 'professeur\\u202f': 6026, \"l'auteur\\xa0\": 6027, 'appelé\\u202f': 6028, 'démissionné\\u202f': 6029, 'arrêté\\xa0': 6030, 'étudies': 6031, 'apprendre': 6032, 'main\\u202f': 6033, 'joindras': 6034, 'diras': 6035, 'laine': 6036, 'teint': 6037, 'joliment': 6038, \"m'aiderait\": 6039, 'x': 6040, \"d'œufs\": 6041, 'hésitez': 6042, '5': 6043, \"m'acheter\": 6044, '«\\xa0non\\xa0»': 6045, 'mérites': 6046, 'méritez': 6047, 'effectivement': 6048, 'probablement': 6049, 'décontracté': 6050, 'citer': 6051, 'sacrement': 6052, 'distant': 6053, 'utiles': 6054, 'septième': 6055, 'obéiras': 6056, 'survivrez': 6057, 'aimer': 6058, 'tocard': 6059, 'licenciés': 6060, 'comprendre': 6061, 'odieux': 6062, \"l'observation\": 6063, 'cries': 6064, 'frissonnes': 6065, 'braguette': 6066, 'mordue': 6067, 'feuille': 6068, 'freins': 6069, 'compréhensible': 6070, 'surréagis': 6071, \"d'arrestation\": 6072, \"l'amérique\": 6073, 'n’importe': 6074, 'conviendra': 6075, 'parfaitement': 6076, 'canadiens\\xa0': 6077, 'japonaises': 6078, 'sympathiques': 6079, 'valent': 6080, 'coup\\xa0': 6081, 'étudiant\\u202f': 6082, 'enseignante\\xa0': 6083, 'prêts\\u202f': 6084, 'ambitieux\\xa0': 6085, 'bacheliers': 6086, 'respires': 6087, 'confiant\\xa0': 6088, 'coin\\u202f': 6089, 'sors\\xa0': 6090, 'libres\\u202f': 6091, 'danger\\xa0': 6092, 'écoutes\\u202f': 6093, 'motivé\\xa0': 6094, 'faim\\u202f': 6095, 'voleurs': 6096, 'construisent': 6097, 'nids': 6098, 'inspirez': 6099, 'ambulance': 6100, 'directement\\u202f': 6101, 'puisse': 6102, 'bouchée\\xa0': 6103, 'copies': 6104, 'voler\\u202f': 6105, 'marcher\\u202f': 6106, 'rapprocher': 6107, 'pêcher\\u202f': 6108, 'développer': 6109, 'corde\\xa0': 6110, 'traduire': 6111, 'champagne': 6112, 'rechargez': 6113, 'cliquez': 6114, 'admets': 6115, 'compare': 6116, 'distribue': 6117, 'imminente': 6118, 'décrivez': 6119, 'endormie\\u202f': 6120, 'sérieux\\xa0': 6121, \"l'endroit\\xa0\": 6122, 'longtemps\\xa0': 6123, 'gagné\\xa0': 6124, 'arme\\xa0': 6125, 'lus': 6126, 'envoyés\\xa0': 6127, 'sorti\\u202f': 6128, 'alimentaire': 6129, 'désactive': 6130, 'fièvre\\xa0': 6131, 'fourmis': 6132, 'même\\u202f': 6133, 'parvenus': 6134, \"t'arrive\": 6135, 'disposez': 6136, 'carte\\xa0': 6137, 'animal': 6138, 'compagnie\\u202f': 6139, 'seconde\\xa0': 6140, 'blonde': 6141, \"l'argent\\u202f\": 6142, 'latin': 6143, 'sachet\\u202f': 6144, \"d'argent\\u202f\": 6145, 'nages': 6146, 'comprenez': 6147, 'kratom\\xa0': 6148, 'cornet': 6149, 'aller\\u202f': 6150, 'œufs\\u202f': 6151, 'pourquoi\\xa0': 6152, 'connaît\\xa0': 6153, 'fidèles': 6154, 'ignorant': 6155, 'refaites': 6156, 'cochonneries': 6157, \"n'essaye\": 6158, \"t'endors\": 6159, \"n'ayez\": 6160, 'supplier': 6161, 'précipitez': 6162, \"m'attendez\": 6163, 'vexé': 6164, 'selle': 6165, 'dégage': 6166, 'aboule': 6167, 'fric': 6168, \"l'épée\": 6169, 'suite\\u202f': 6170, 'états': 6171, 'unis': 6172, 'mesdames': 6173, 'raccrochez': 6174, 'sonné\\u202f': 6175, 'crée': 6176, 'fini\\u202f': 6177, 'foin': 6178, 'paraissait': 6179, 'encombre': 6180, 'réclamé': 6181, 'barré': 6182, 'appela': 6183, 'mâcha': 6184, 'gomme': 6185, 'grains': 6186, \"n'écouta\": 6187, 'protesta': 6188, 'brutalement': 6189, 'emploie': 6190, 'expira': 6191, 'transmis': 6192, \"s'enivra\": 6193, 'remit': 6194, 'saisit': 6195, 'pendu': 6196, 'ego': 6197, 'dimensionné': 6198, 'frisés': 6199, 'remords': 6200, 'mangeur': 6201, 'casse': 6202, 'dramaturge': 6203, 'physicien': 6204, 'taiseux': 6205, 'scientifique': 6206, 'quarantaine': 6207, 'tv': 6208, 'parvenir': 6209, 'cessa': 6210, 'suicidé': 6211, \"n'habite\": 6212, 'frugale': 6213, 'osaka': 6214, \"s'occupe\": 6215, 'honneur': 6216, 'confectionna': 6217, 'courut': 6218, 'miles': 6219, 'russe': 6220, 'frotta': 6221, 'allumette': 6222, 'lança': 6223, 'emprisonné': 6224, 'rage': 6225, 'rentra': 6226, \"m'excusera\": 6227, 'scénarios': 6228, 'journaliste': 6229, 'cycle': 6230, 'originaire': 6231, 'géorgie': 6232, 'avertissements': 6233, \"s'assombrirent\": 6234, 'rampe': 6235, 'une\\u202f': 6236, 'penseriez': 6237, 'courir\\u202f': 6238, 'être\\u202f': 6239, 'répondu\\u202f': 6240, \"l'arrêtons\": 6241, \"jusqu'où\": 6242, \"l'épelle\": 6243, 'longueur': 6244, 'as\\u202f': 6245, 'coûtent': 6246, 'donnes': 6247, 'séjour\\u202f': 6248, 'test\\u202f': 6249, 'promenade\\u202f': 6250, 'réussirait': 6251, 'trouverais': 6252, 'sœur\\xa0': 6253, 'accepte': 6254, \"j'ai\\xa0accepté\\xa0de\\xa0le\\xa0faire\": 6255, 'débiteur': 6256, 'hamburger': 6257, 'sandwich': 6258, 'appât': 6259, \"l'hameçon\": 6260, 'cactus': 6261, 'webcam': 6262, 'brossé': 6263, 'abri': 6264, 'consoler': 6265, 'difficilement': 6266, 'chopin': 6267, \"m'appuyer\": 6268, \"d'avis\": 6269, 'enregistré': 6270, 'considération': 6271, 'capté': 6272, 'pus': 6273, 'achetés': 6274, 'diplômé': 6275, \"j'ignorais\": 6276, \"l'accepte\": 6277, 'reproche': 6278, 'négocie': 6279, 'vulnérable': 6280, 'issue': 6281, 'l’argent': 6282, 'abeille': 6283, 'chahutée': 6284, 'hypocrites': 6285, 'entretiens': 6286, 'moustiques': 6287, 'désert': 6288, 'coupure': 6289, 'crâne': 6290, 'migraine': 6291, 'voilier': 6292, 'otite': 6293, 'châtains': 6294, 'disques': 6295, \"n'exerce\": 6296, 'détail': 6297, \"d'intimité\": 6298, \"d'économies\": 6299, 'lot': 6300, 'saine': 6301, \"l'intention\": 6302, 'marine': 6303, \"d'en\": 6304, 'titre': 6305, 'propriété': 6306, \"j'ignore\": 6307, 'continuais': 6308, 'viendrais': 6309, 'laissai': 6310, 'aventures': 6311, 'grandes': 6312, 'choucroute': 6313, 'épicée': 6314, 'chapeaux': 6315, 'probabilités': 6316, 'pastèque': 6317, 'souliers': 6318, 'trouvais': 6319, 'confortablement': 6320, 'barrage': 6321, 'boucle': 6322, \"d'oreille\": 6323, \"l'équilibre\": 6324, 'hamburgers': 6325, 'public': 6326, 'album': 6327, \"t'enterre\": 6328, 'manqués': 6329, 'minutes': 6330, 'clavier': 6331, 'vacances\\u202f': 6332, 'intimité': 6333, 'dentifrice': 6334, 'su': 6335, 'hoché': 6336, \"l'étranger\": 6337, 'capot': 6338, 'yens': 6339, 'crocheté': 6340, 'prévois': 6341, 'tambourin': 6342, 'volley': 6343, 'plaide': 6344, 'élagué': 6345, 'muscle': 6346, 'distendu': 6347, 'mâchoire': 6348, 'repoussai': 6349, 'embouti': 6350, 'recommandé': 6351, '2013': 6352, \"l'appréciais\": 6353, 'assisté': 6354, 'parfois': 6355, 'avalé': 6356, 'bestiole': 6357, 'balayé': 6358, 'géographie': 6359, 'autrement': 6360, 'je\\xa0pense\\xa0que\\xa0nous\\xa0nous\\xa0en\\xa0sommes\\xa0bien\\xa0sortis': 6361, \"l'autoroute\": 6362, '58': 6363, 'congés': 6364, 'plates': 6365, \"l'aimais\": 6366, \"d'habitude\": 6367, \"d'ordinaire\": 6368, 'assiettes': 6369, 'confesser': 6370, 'mouriez': 6371, 'passager': 6372, 'célébrais': 6373, 'dissuada': 6374, 'discrédité': 6375, 'minorité': 6376, 'bouleversé': 6377, \"j'éprouvais\": 6378, 'bornes': 6379, 'draguais': 6380, 'harvard': 6381, 'choisir': 6382, 'séjournerai': 6383, '6h30': 6384, 'je\\xa0ne\\xa0cèderai\\xa0pas': 6385, 'nierai': 6386, 'négocierai': 6387, \"l'apprécierais\": 6388, \"j'adorerais\\xa0le\\xa0faire\": 6389, 'rentrerai': 6390, 'nourrir': 6391, 'rendrai': 6392, 'garderai': 6393, 'manquerez': 6394, 'recommanderai': 6395, \"j'enverrai\": 6396, 'libèrerai': 6397, \"m'assoirai\": 6398, \"t'attendrai\": 6399, 'éducateur': 6400, 'canin': 6401, 'bourreau': 6402, 'normale': 6403, 'astronome': 6404, 'observé': 6405, \"j'apporte\": 6406, 'extrêmement': 6407, 'bulgarie': 6408, 'réjouis': 6409, 'irremplaçable': 6410, 'supposer': 6411, 'matérialiste': 6412, 'divination': 6413, 'gobe': 6414, 'sauvage': 6415, 'servante': 6416, 'débordé': 6417, 'je\\xa0suis\\xa0encore\\xa0sceptique': 6418, \"j'attends\": 6419, 'chiasse': 6420, 'fierté': 6421, 'rumeurs': 6422, \"l'inflation\": 6423, 'assurez': 6424, 'notarié': 6425, 'garanti': 6426, 'finie\\xa0': 6427, 'levé\\xa0': 6428, 'récompense\\xa0': 6429, 'profond\\xa0': 6430, 'meilleur\\xa0': 6431, 'dépend': 6432, 'morceaux': 6433, 'rafraîchi': 6434, 'facultatif': 6435, 'chargée': 6436, 'massacre': 6437, 'fastidieux': 6438, 'désastreux': 6439, 'convaincant': 6440, 'branlant': 6441, 'nuageuse': 6442, 'conspiration': 6443, 'dictionnaire': 6444, 'chimérique': 6445, 'insensé': 6446, 'confidentiel': 6447, 'gênant': 6448, 'rafraîchit': 6449, \"s'assombrit\": 6450, 'gentiment': 6451, 'humaine': 6452, 'débat': 6453, 'imprécis': 6454, 'autorisé': 6455, 'onéreux\\u202f': 6456, 'ressemblant': 6457, 'coucher': 6458, 'distances': 6459, 'concentrons': 6460, 'refaisons': 6461, 'calcul': 6462, 'pile': 6463, 'marions': 6464, 'commençons\\u202f': 6465, 'mettons': 6466, 'ignorons\\xa0cela\\xa0': 6467, 'enquêtons': 6468, 'disons': 6469, 'essayons\\u202f': 6470, 'serrons': 6471, 'recommençons': 6472, 'entrons': 6473, 'votons': 6474, 'occupe': 6475, 'prévaudra': 6476, 'prédiction': 6477, 'accompagner': 6478, 'puissance': 6479, 'éloignez': 6480, 'froides': 6481, 'liées': 6482, 'aiguisé': 6483, 'ennuyeuse': 6484, \"l'épaule\": 6485, \"s'échapper\": 6486, 'comprit': 6487, \"n'\": 6488, 'terrifie': 6489, 'clochait': 6490, 'opposés': 6491, \"s'attirent\": 6492, 'payez': 6493, 'augmentent': 6494, 'production': 6495, 'protège': 6496, \"l'air\\u202f\": 6497, 'épines': 6498, 'visse': 6499, 'suites': 6500, 'fascinait': 6501, 'détentrice': 6502, 'dépourvue': 6503, 'silhouette': 6504, 'débutante': 6505, 'attirante': 6506, '31': 6507, 'asociale': 6508, \"l'adolescente\": 6509, 'malheureuse': 6510, 'turner': 6511, 'argument': 6512, 'hyperactive': 6513, 'berceuse': 6514, 'fleur': 6515, 'résolvez': 6516, 'pourtant': 6517, 'balance': 6518, 'm’embêter': 6519, \"d'interrompre\": 6520, 'cessez': 6521, 'réagir': 6522, 'excessive': 6523, 'hypothèse': 6524, 'ôte': 6525, \"l'aspirine\": 6526, 'aspirine': 6527, 'termites': 6528, 'lourde': 6529, 'essentiel': 6530, 'amuser': 6531, 'craint\\u202f': 6532, \"m'évoque\": 6533, 'cela\\xa0a\\xa0vite\\xa0changé': 6534, 'supposition': 6535, 'volera': 6536, 'sapin': 6537, 'dérangeant': 6538, \"c'est\\xa0simplement\\xa0atroce\": 6539, 'opinion': 6540, 'constitue': 6541, 'risible': 6542, 'indéniable': 6543, 'chaviré': 6544, 'provision': 6545, 'policiers': 6546, \"l'équipage\": 6547, 'fila': 6548, \"l'âne\": 6549, 'brait': 6550, 'tombées': 6551, 'pouffèrent': 6552, 'enrayée': 6553, 'emporté': 6554, 'émoussé': 6555, 'citron': 6556, 'couvercle': 6557, 'allumés': 6558, \"l'argent\\xa0a\\xa0disparu\": 6559, \"l'avion\": 6560, 'loyer': 6561, 'épaisse': 6562, 'l’interrupteur': 6563, 'tactique': 6564, 'cuve': 6565, 'prononcé': 6566, 'dieux': 6567, 'véritables': 6568, 'regardent': 6569, 'mènent': 6570, 'aisée': 6571, 'croyaient': 6572, 'rirent': 6573, \"d'emplois\": 6574, 'chassaient': 6575, 'cessent': 6576, 'enlevé': 6577, 'ressemblent': 6578, 'relâché': 6579, 'parlaient': 6580, 'torturé': 6581, 'voyagent': 6582, 'tiraient': 6583, 'survivront': 6584, 'mangeront': 6585, 'aimeront': 6586, 'négocieront': 6587, 'essayeront': 6588, 'cannibales': 6589, 'excellentes': 6590, 'identiques': 6591, 'écoutent': 6592, 'meurtriers': 6593, 'chics': 6594, 'intacts': 6595, 'merveilleuses': 6596, 'caisse': 6597, 'légère': 6598, 'seau': 6599, 'or': 6600, 'extra': 6601, 'coco': 6602, \"l'extorsion\": 6603, 'charabia': 6604, 'tordant': 6605, 'insultant': 6606, 'irrégulier': 6607, 'justifié': 6608, 'offensant': 6609, 'révoltant': 6610, 'écœurant': 6611, 'temporaire': 6612, 'louche': 6613, 'moisi': 6614, 'jeudi': 6615, \"s'étouffer\": 6616, 'prier': 6617, 'croyait': 6618, 'trahit': 6619, 'décrit': 6620, 'prétend': 6621, 'toussa': 6622, 'méprisait': 6623, 'apparu': 6624, 'n’a': 6625, \"n'écoutait\": 6626, 'vraiment\\xa0': 6627, 'nauséeux': 6628, 'qi': 6629, 'élevé': 6630, 'iphone': 6631, \"l'arthrite\": 6632, 'peau': 6633, 'foncée': 6634, 'engelures': 6635, 'aidés': 6636, 'imita': 6637, 'insulté': 6638, 'don': 6639, 'juan': 6640, 'bibliothèque': 6641, 'bijoutier': 6642, 'chiffe': 6643, 'molle': 6644, 'adolescent': 6645, 'garou': 6646, 'frustré': 6647, 'grandir': 6648, \"l'université\": 6649, 'thérapie': 6650, 'indécis': 6651, 'perspicace': 6652, 'intolérant': 6653, 'passionné': 6654, 'possessif': 6655, 'protecteur': 6656, 'rétablit': 6657, 'infidèle': 6658, 'insociable': 6659, 'mineur': 6660, 'formé': 6661, \"n'écrit\": 6662, \"n'arrêtait\": 6663, 'ramper': 6664, 'country': 6665, 'marmonne': 6666, 'renonça': 6667, 'rassit': 6668, 'patiemment': 6669, 'servi': 6670, \"d'odeur\": 6671, 'retrait': 6672, 'resta': 6673, \"l'alignement\": 6674, \"l'appât\": 6675, 'comprenait': 6676, 'fumait': 6677, 'autrefois': 6678, \"m'attendit\": 6679, 'mises': 6680, 'fanatique': 6681, 'agresser': 6682, 'respirait': 6683, 'délirait': 6684, 'étranglé': 6685, 'plaindra': 6686, 'continuera': 6687, \"t'obéira\": 6688, 'tarder': 6689, 'cédera': 6690, 'approuverait': 6691, 'réfléchira': 6692, 'comprendra': 6693, 'suffoquer': 6694, \"l'alimentation\": 6695, 'tuyau': 6696, 'hibernent': 6697, 'bières': 6698, 'employez': 6699, 'acrylique': 6700, 'sépare': 6701, 'langage': 6702, 'abhorrons': 6703, 'sentions': 6704, 'défauts': 6705, 'camarades': 6706, 'construire': 6707, \"n'arrivons\": 6708, 'fermons': 6709, 'pouvions': 6710, 'pleurâmes': 6711, 'donnâmes': 6712, 'levâmes': 6713, 'vaccin': 6714, 'mandat': 6715, 'fournisseurs': 6716, 'témoins': 6717, 'familière': 6718, 'aspirons': 6719, 'occupons': 6720, 'cherchée': 6721, 'jeté': 6722, 'parcs': 6723, 'mourûmes': 6724, 'répétons': 6725, 'louâmes': 6726, 'canoë': 6727, 'entraînons': 6728, 'fîmes': 6729, 'essayés': 6730, 'nous\\xa0avions\\xa0tout\\xa0faux': 6731, 'préoccupés': 6732, 'impressionnés': 6733, 'sceptiques': 6734, 'terrifiés': 6735, 'bataille': 6736, \"nous\\xa0n'emploierons\\xa0pas\\xa0cela\": 6737, 'gérerons': 6738, 'protégerons': 6739, 'aventureux': 6740, 'mères': 6741, 'nous\\xa0sommes\\xa0tous\\xa0retraités': 6742, 'fêtons': 6743, 'coopérons': 6744, 'extravertis': 6745, 'devenons': 6746, 'introvertis': 6747, 'journalistes': 6748, 'habillés': 6749, 'tueurs': 6750, 'clous': 6751, 'persévérons': 6752, 'pessimistes': 6753, 'responsables': 6754, 'dignes': 6755, 'on\\xa0nous\\xa0a\\xa0avertis': 6756, 'chauds': 6757, 'obéissant\\xa0': 6758, 'collection': 6759, 'brillante': 6760, 'judicieuse': 6761, 'goût\\xa0': 6762, 'portiez': 6763, 'bonheur\\u202f': 6764, 'délai': 6765, 'prix\\u202f': 6766, 'consiste': 6767, 'disais': 6768, 'intention\\u202f': 6769, 'nom\\xa0': 6770, 'passerait': 6771, 'quels': 6772, 'faits\\xa0': 6773, 'réponse\\xa0': 6774, 'cible': 6775, 'chose\\xa0': 6776, 'spécialité\\u202f': 6777, 'venus\\u202f': 6778, 'arrivons': 6779, 'lieu\\u202f': 6780, 'née\\u202f': 6781, 'valises': 6782, 'être\\xa0': 6783, 'habites': 6784, 'où\\xa0te\\xa0gares': 6785, 'situe': 6786, 'billet': 6787, 'argent\\xa0': 6788, \"l'arnaque\": 6789, 'miel\\u202f': 6790, 'téléphone\\xa0': 6791, 'validé': 6792, 'pain\\u202f': 6793, 'blâmer\\xa0': 6794, 'fabriqué': 6795, 'poupée\\u202f': 6796, 'tarte\\u202f': 6797, 'pizza\\xa0': 6798, 'savait\\xa0': 6799, 'appeler\\xa0': 6800, 'confucius': 6801, 'plaint\\xa0': 6802, 'ami\\xa0': 6803, 'faute\\u202f': 6804, 'enfant\\xa0': 6805, 'drame': 6806, 'pourquoi\\xa0ai': 6807, 'je\\xa0fait\\xa0ça\\xa0': 6808, '«\\xa0satisfaisant\\xa0»\\xa0': 6809, 'parti\\xa0': 6810, 'résistes': 6811, 'souffrir\\xa0': 6812, \"l'essayer\": 6813, 'encourir': 6814, 'rirais': 6815, 'prêt\\xa0': 6816, 'rendras': 6817, 'payerez': 6818, 'waou\\u202f': 6819, 'marché\\u202f': 6820, 'remuez': 6821, 'actrices': 6822, 'tromper': 6823, 'donnas': 6824, 'cinglés': 6825, 'feriez': 6826, 'avenir': 6827, 'battes': 6828, 'européen': 6829, 'resplendissant': 6830, \"l'aider\": 6831, 'points': 6832, 'suture': 6833, \"m'appelles\": 6834, 'baiser': 6835, 'tirera': 6836, \"n'auras\": 6837, 'réussiras': 6838, 'trouveras': 6839, 'disgrâce': 6840, 'survivant': 6841, 'malades': 6842, \"t'exprimes\": 6843, 'diplomatie': 6844, 'dégueulasse\\u202f': 6845, 'tues': 6846, 'surmené': 6847, 'cerné': 6848, \"l'expert\": 6849, 'maître': 6850, 'hostile': 6851, 'griffé': 6852, 'révolte': 6853, 'éclata': 6854, \"l'entrée\": 6855, \"l'âge\": 6856, 'mortes': 6857, 'visions': 6858, \"j'exige\": 6859, 'applaudissements': 6860, 'inclus\\xa0': 6861, 'vendre\\u202f': 6862, 'bouddhiste': 6863, 'croyant\\xa0': 6864, 'courageux\\xa0': 6865, 'effrayé\\xa0': 6866, 'pressé\\u202f': 6867, 'intéressé\\xa0': 6868, 'moquez': 6869, 'optimiste\\xa0': 6870, 'productif\\xa0': 6871, 'malade\\xa0': 6872, 'neuves': 6873, 'participation': 6874, 'contient': 6875, 'houblon': 6876, 'fascinent': 6877, 'abattus': 6878, 'oreiller\\u202f': 6879, 'remboursement\\xa0': 6880, 'louer': 6881, 'raquettes\\u202f': 6882, 'menu\\u202f': 6883, 'accomplir': 6884, 'travail\\u202f': 6885, 'pardonner\\xa0': 6886, 'regarder\\xa0': 6887, 'traire': 6888, 'prendre\\u202f': 6889, 'conseillée': 6890, 'changez': 6891, 'bazar': 6892, 'comptez': 6893, 'croisons': 6894, 'cru\\xa0': 6895, 'dîné\\xa0': 6896, 'armé\\xa0': 6897, 'habité': 6898, 'réveillé\\xa0': 6899, 'invité\\u202f': 6900, 'régner': 6901, 'étudier\\u202f': 6902, 'parole\\u202f': 6903, 'blog': 6904, \"d'identité\\u202f\": 6905, 'français\\u202f': 6906, 'mozart\\xa0': 6907, 'pommes\\u202f': 6908, 'café\\xa0': 6909, 'films\\u202f': 6910, 'robots': 6911, 'sport\\u202f': 6912, \"l'été\\u202f\": 6913, 'souvenez': 6914, 'voyagez': 6915, 'beaucoup\\u202f': 6916, \"l'aide\\xa0\": 6917, 'sauvent': 6918, 'mary\\xa0': 6919, \"t'offense\": 6920, 'convient\\u202f': 6921, 'mord\\u202f': 6922, 'imitateur': 6923, 'sélectif': 6924, 'avare': 6925, \"n'appelez\": 6926, 'autant': 6927, \"m'interromps\": 6928, 'attirez': 6929, \"d'ennuis\": 6930, 'rate': 6931, 'traite': 6932, 'condescendance': 6933, 'pierres': 6934, \"n'écris\": 6935, 'détend': 6936, 'dépoussiérez': 6937, \"l'étagère\": 6938, 'endosse': 6939, 'soirée': 6940, 'profitez': 6941, 'week': 6942, 'end': 6943, 'dollar': 6944, 'paniqua': 6945, 'hésita': 6946, 'appréciait': 6947, 'vigilant': 6948, 'blancs': 6949, 'commencement': 6950, 'emporter\\u202f': 6951, 'écartez': 6952, 'passage': 6953, 'argent\\u202f': 6954, 'cassant': 6955, 'laboratoire': 6956, \"l'hôpital\": 6957, 'balai': 6958, 'thanksgiving': 6959, 'haine': 6960, 'conseilla': 6961, 'enquis': 6962, 'cogna': 6963, 'ennuie': 6964, 'descendit': 6965, 'finit': 6966, '1': 6967, 'mile': 6968, 'parvient': 6969, 'écrasa': 6970, 'roue': 6971, \"n'aimait\": 6972, 'retenu': 6973, 'respiration': 6974, 'poissonnier': 6975, 'perdant': 6976, 'déjà\\xa0là': 6977, 'collègue': 6978, 'borné': 6979, 'érudit': 6980, 'garda': 6981, 'tapa': 6982, 'effrontément': 6983, 'alluma': 6984, 'cierges': 6985, 'mémoire': 6986, 'présenta': 6987, 'riposter': 6988, 'ouvrit': 6989, 'abandonne': 6990, 'dépouillé': 6991, 'roula': 6992, 'montra': 6993, 'toucha': 6994, 'vieillissait': 6995, 'kilos': 6996, 'loterie': 6997, \"t'attendra\": 6998, 'marcheur': 6999, 'critique': 7000, 'gastronomique': 7001, 'nègre': 7002, 'gardien': 7003, 'méthamphétamines': 7004, 'aristocrate': 7005, \"s'approche\": 7006, 'concret': 7007, 'bougre': 7008, 'frôle': 7009, 'cinquante': 7010, 'bouc': 7011, 'émissaire': 7012, 'imprimer': 7013, 'déchirés': 7014, 'suie': 7015, 'bagage': 7016, \"l'adresse\": 7017, 'où\\xa0': 7018, 'épatant': 7019, 'dérobèrent': 7020, \"s'accélérait\": 7021, 'théâtre': 7022, 'désordre': 7023, 'précision': 7024, 'servir': 7025, 'oublier': 7026, 'résister\\u202f': 7027, \"l'économie\": 7028, 'famille\\u202f': 7029, 'vue\\xa0': 7030, \"d'années\": 7031, 'télé\\u202f': 7032, 'musée\\xa0': 7033, 'recherche': 7034, \"j'accepte\": 7035, 'clients': 7036, \"l'acheter\": 7037, \"d'enseigner\": 7038, 'portugal': 7039, 'shizuoka': 7040, 'prophète': 7041, 'répondis': 7042, 'frites': 7043, 'chips': 7044, 'cacahuètes': 7045, 'cuisis': 7046, \"l'embrayage\": 7047, 'amené': 7048, 'brulé': 7049, 'procurer': 7050, 'autoriser': 7051, 'contrôler': 7052, \"l'exclure\": 7053, \"l'excuser\": 7054, \"l'oublier\": 7055, 'renoncer': 7056, \"l'imaginer\": 7057, 'n’arrive': 7058, 'supporte': 7059, 'nettoyé': 7060, 'cliqué': 7061, 'craché': 7062, \"l'ignorais\": 7063, 'transige': 7064, 'vodka': 7065, 'n’aime': 7066, 'guigne': 7067, 'roule': 7068, 'lamentablement': 7069, 'examens': 7070, 'craignis': 7071, 'berné': 7072, 'procuré': 7073, 'photographique': 7074, 'tardif': 7075, 'marré': 7076, \"l'accepter\": 7077, 'tendis': 7078, 'colocataire': 7079, 'dégarni': 7080, 'toux': 7081, 'aquarium': 7082, 'télescope': 7083, 'crêpus': 7084, \"d'appétit\": 7085, 'petites': 7086, 'facture': 7087, \"m'habiller\": 7088, \"m'exercer\": 7089, \"l'avertir\": 7090, 'appareils': 7091, 'neveux': 7092, 'tickets': 7093, 'explosions': 7094, \"j'aidais\": 7095, \"m'intégrerai\": 7096, \"s'amuse\": 7097, 'trouverons': 7098, 'viendras': 7099, \"d'obtenir\": 7100, 'salaire': 7101, 'fiancer': 7102, 'marier': 7103, 'refaire': 7104, 'décoration': 7105, 'prenante': 7106, 'mission': 7107, 'laissée': 7108, \"m'attraper\": 7109, 'irlandaise': 7110, 'endroits': 7111, 'débordant': 7112, \"d'activité\": 7113, 'disco': 7114, 'mathématiques': 7115, 'professeurs': 7116, 'framboises': 7117, 'traduction': 7118, 'planche': 7119, 'kakogawa': 7120, 'yokohama': 7121, 'pauvreté': 7122, 'regardai': 7123, 'coréenne': 7124, \"d'orange\": 7125, 'barbus': 7126, 'papillons': 7127, 'contes': 7128, 'fées': 7129, \"d'été\": 7130, 'appels': 7131, 'rôti': 7132, \"d'erreurs\": 7133, 'promesses': 7134, 'photocopies': 7135, 'mourrai': 7136, 'offenser': 7137, 'connaissance': 7138, 'détruire': 7139, 'secrétaire': 7140, 'enveloppe': 7141, 'lotion': 7142, \"l'inspiration\": 7143, 'muscade': 7144, 'blâmé': 7145, 'lubrifié': 7146, 'trompette': 7147, \"j'enfile\": 7148, 'rapport': 7149, 'rappelé': 7150, 'répétai': 7151, 'explosion': 7152, 'images': 7153, 'quotidiennement': 7154, 'claqué': 7155, 'baffe': 7156, '9': 7157, 'tranché': 7158, 'cigarettes': 7159, 'psychologie': 7160, 'suggère': 7161, 'hâtions': 7162, 'égalité': 7163, 'saviez': 7164, 'retirai': 7165, 'foulé': 7166, 'cheville': 7167, 'déchargé': 7168, 'débranché': 7169, 'marchai': 7170, 'perde': 7171, 'nombreuses': 7172, 'entendue': 7173, 'profiter': 7174, \"m'amuser\": 7175, 'avertir': 7176, 'aidiez': 7177, 'chantes': 7178, 'parliez': 7179, '1972': 7180, '1979': 7181, 'disqualifié': 7182, 'attendais\\u202f': 7183, \"m'apprêtais\": 7184, 'malchanceuse': 7185, 'téléphonais': 7186, 'paraphrasais': 7187, 'éduqué': 7188, 'dormais': 7189, 'consulté': 7190, 'bavardais': 7191, 'nagasaki': 7192, \"l'élection\": 7193, 'déranger': 7194, 'confirmerai': 7195, 'pincer': 7196, 'laisserai': 7197, \"l'aurais\": 7198, \"n'engagerais\": 7199, 'rapporterai': 7200, 'couvrir': 7201, 'plonge': 7202, 'débarrasserai': 7203, \"m'occupe\": 7204, 'essai': 7205, 'gèrerai': 7206, 'saurai': 7207, 'arriverai': 7208, 'jouerai': 7209, 'souviendrai': 7210, 'reverrai': 7211, 'verrai': 7212, 'bourrée': 7213, 'rouillé': 7214, 'photographe': 7215, 'chauves': 7216, 'suivie': 7217, 'saigne': 7218, 'chiot': 7219, 'claustrophobe': 7220, 'singapour': 7221, \"d'attraper\": 7222, \"m'appauvris\": 7223, 'licencie': 7224, 'gangster': 7225, 'magicien': 7226, 'pacifiste': 7227, 'lubies': 7228, 'invincible': 7229, 'esclave': 7230, 'gym': 7231, 'balcon': 7232, 'incontrôlable': 7233, 'démarrer': 7234, \"d'apprendre\": 7235, \"j'essaie\": 7236, 'enthousiasme': 7237, \"d'écrire\": 7238, 'méjugé': 7239, 'rencontrée': 7240, 'félicité': 7241, 'fox': 7242, 'news': 7243, 'partial': 7244, 'chrétien\\xa0': 7245, 'retour\\u202f': 7246, 'compliment': 7247, 'ouvert\\xa0': 7248, 'urgence\\xa0': 7249, 'heures\\xa0': 7250, 'satisfaisant': 7251, 'évident\\xa0': 7252, 'aussi\\u202f': 7253, 'sœur\\u202f': 7254, 'lampe\\xa0': 7255, 'chargée\\xa0': 7256, 'futur\\xa0': 7257, 'compris\\xa0': 7258, 'sûr\\xa0': 7259, 'enchaîné': 7260, 'laitier\\u202f': 7261, 'sucre\\u202f': 7262, 'signe\\xa0': 7263, 'chargée\\u202f': 7264, 'propre\\xa0': 7265, 'écœurant\\xa0': 7266, 'inhabituel\\xa0': 7267, 'brise': 7268, 'mena': 7269, \"s'agir\": 7270, 'parallèle': 7271, 'suffise': 7272, 'ensoleillée': 7273, 'stupéfiant': 7274, 'frustrant': 7275, 'fascinant': 7276, 'évitable': 7277, 'durera': 7278, 'préoccupation': 7279, 'extrême': 7280, 'coïncidence': 7281, 'distraction': 7282, 'prouvé': 7283, 'collectif': 7284, \"d'art\": 7285, '7': 7286, 'investissement': 7287, 'recette': 7288, 'décevant': 7289, 'déconcertant': 7290, 'entraînement': 7291, 'frigo': 7292, 'laiton': 7293, 'lumineux': 7294, 'bondé': 7295, 'inoubliable': 7296, 'précieux': 7297, \"l'italie\": 7298, 'grèce': 7299, 'juges': 7300, 'uniquement': 7301, 'profil': 7302, \"l'œil\": 7303, 'pelouse\\u202f': 7304, 'pelouse': 7305, 'interdite': 7306, 'apparue': 7307, 'tombent': 7308, 'leçon': 7309, 'lâchez': 7310, \"m'occuper\": 7311, 'permettez': 7312, 'reformuler': 7313, 'kiki\\u202f': 7314, 'divorçons': 7315, 'apprenons': 7316, 'bougeons': 7317, 'chamaillons': 7318, 'concentrés': 7319, 'utilisons': 7320, 'heureusement': 7321, 'dotée': 7322, 'lunes': 7323, 'séduisante': 7324, 'clé\\u202f': 7325, 'boîte\\u202f': 7326, 'chèque\\u202f': 7327, 'joigne': 7328, 'commises': 7329, 'monopoles': 7330, 'nuisibles': 7331, 'universelle': 7332, 'budget': 7333, 'miaule': 7334, \"mon\\xa0entraîneur\\xa0m'a\\xa0aidé\": 7335, 'chienne': 7336, 'ruinée': 7337, 'irrités': 7338, 'taciturne': 7339, 'jauge': 7340, 'nobles': 7341, 'engourdies': 7342, 'intuition': 7343, 'lettres': 7344, 'furieuse': 7345, 'coule': 7346, 'exposée': 7347, 'immortel': 7348, 'verra': 7349, 'souffrira': 7350, 'souscrit': 7351, 'remarquer': 7352, 'éternellement': 7353, 'planifié': 7354, 'pareil': 7355, \"l'ordre\": 7356, 'pourvus': 7357, 'concombres': 7358, 'ayant': 7359, 'bondi': 7360, 'enfonce': 7361, 'reproduisent': 7362, 'vrais': 7363, 'pansement': 7364, 'économise': 7365, 'construites': 7366, 'postale': 7367, 'agiter': 7368, 'utilisation': 7369, 'parut': 7370, \"d'ennemis\": 7371, \"l'entendit\": 7372, 'piètre': 7373, 'cuisinière': 7374, 'américaine': 7375, '35': 7376, \"l'embrasse\": 7377, 'fâchée': 7378, \"l'écoute\": 7379, 'excitée': 7380, 'linge': 7381, 'paumée': 7382, 'antiquités': 7383, 'expliqué': 7384, 'rendit': 7385, 'cuisit': 7386, 'cueilli': 7387, 'désigna': 7388, 'gère': 7389, 'charitable': 7390, 'secoua': 7391, 'bonheur': 7392, 'menaça': 7393, 'née': 7394, 'bordé': 7395, 'nouilles': 7396, 'pressée': 7397, 'intelligente': 7398, \"d'élite\": 7399, 'je\\xa0les\\xa0aider\\xa0': 7400, 'tais': 7401, 'écoute\\u202f': 7402, 'déplacent': 7403, 'stade': 7404, \"l'aimes\": 7405, 'certaine': 7406, 'venait\\u202f': 7407, 'reculer': 7408, 'tocards': 7409, 'chahuter': 7410, 'dévisager': 7411, 'chatouille': 7412, 'gorgée': 7413, \"d'op\": 7414, 'coûté': 7415, 'ressent': 7416, \"m'agace\": 7417, 'permis': 7418, \"ce\\xa0n'est\\xa0pas\\xa0compliqué\": 7419, 'payait': 7420, 'produire': 7421, 'avertissement': 7422, 'prometteur': 7423, \"d'homme\": 7424, \"c'est\\xa0ainsi\\xa0qu'est\\xa0la\\xa0vie\": 7425, 'hasard': 7426, 'maximum': 7427, 'zone': 7428, 'tentative': 7429, 'échoua': 7430, 'déserte': 7431, 'rassis': 7432, 'sonnerie': 7433, 'retentit': 7434, 'classée': 7435, \"l'occasion\": 7436, \"l'enfant\": 7437, 'indique': 7438, 'côte': 7439, 'dégagée': 7440, 'corbeau': 7441, 'haleter': 7442, \"s'ouvrit\": 7443, 'claqua': 7444, 'bouton': 7445, 'ouvertes': 7446, 'ronde': 7447, 'flamme': 7448, 'céda': 7449, 'avarié': 7450, 'effondrée': 7451, 'éteintes': 7452, 'redressé': 7453, 'congelée': 7454, 'rendent': 7455, 'éclatante': 7456, 'fraîche': 7457, 'aboya': 7458, 'sécher': 7459, \"l'assiette\": 7460, \"l'électricité\": 7461, 'coupée': 7462, 'silencieuse': 7463, 'serveur': 7464, 'magasins': 7465, \"s'illumina\": 7466, 'éclairci': 7467, 'décollé': 7468, 'étoiles': 7469, 'apparues': 7470, 'dévié': 7471, 'sonné': 7472, 'crissé': 7473, 'vagues': 7474, 'hautes': 7475, 'soufflait': 7476, 'nue': 7477, 'additionnel': 7478, \"d'erreur\": 7479, 'chopés': 7480, 'crevées': 7481, 'bienveillants': 7482, 'lutteurs': 7483, \"n'arrivent\": 7484, 'glissés': 7485, '13e': 7486, 'donnèrent': 7487, 'familles': 7488, 'otages': 7489, 'continuèrent': 7490, 'tentes': 7491, 'désorientées': 7492, 'atteint': 7493, \"l'objectif\": 7494, 'entretenus': 7495, 'marchèrent': 7496, 'allaient': 7497, 'paisibles': 7498, 'passeront': 7499, 'aideront': 7500, 'arriveront': 7501, 'comprendront': 7502, 'chrétiens': 7503, 'œillets': 7504, 'jetables': 7505, 'étrangers': 7506, 'menottés': 7507, 'discussion': 7508, 'réfléchissez': 7509, 'laide': 7510, 'hirsute': 7511, 'hôpital': 7512, 'routière': 7513, 'triangle': 7514, 'abricot': 7515, 'octogone': 7516, 'renversant': 7517, 'classé': 7518, 'troublant': 7519, 'plagiat': 7520, 'surprenant': 7521, 'suspect': 7522, 'top': 7523, 'insupportable': 7524, 'perceuse': 7525, 'chiffon': 7526, 'lacets': 7527, 'resserre': 7528, 'férié': 7529, 'abandonnés': 7530, 'incliné': 7531, 'pêché': 7532, 'consolé': 7533, 'contacté': 7534, 'persuada': 7535, 'pensait': 7536, \"l'an\": 7537, 'limonade': 7538, 'naviguer': 7539, 'suit': 7540, 'retrouvé': 7541, 'monté': 7542, 'gémit': 7543, 'moustache': 7544, 'queue': 7545, 'courtes': 7546, 'dès': 7547, 'débrouillait': 7548, 'circuit': 7549, 'ignorés': 7550, 'john': 7551, 'candidat': 7552, 'charpentier': 7553, 'bibliothécaire': 7554, 'machiniste': 7555, 'nerd': 7556, 'chercheur': 7557, 'militant': 7558, 'imposteur': 7559, 'muet': 7560, 'compétitif': 7561, 'rêvasser': 7562, 'hyperactif': 7563, 'indépendant': 7564, 'inefficace': 7565, \"d'ébriété\": 7566, 'accablé': 7567, 'persévérant': 7568, 'pessimiste': 7569, 'supervise': 7570, 'parent': 7571, 'amical': 7572, \"d'avouer\": 7573, \"s'arrêtait\": 7574, 'kidnappa': 7575, 'noms': 7576, 'blanchit': 7577, 'vivait': 7578, 'ait': 7579, 'jugé': 7580, \"d'entraînement\": 7581, 'fourré': 7582, 'fichu': 7583, 'découragé': 7584, 'stressé': 7585, 'air': 7586, 'ébahi': 7587, 'cent': 7588, \"l'anneau\": 7589, 'vedette': 7590, 'voyagé': 7591, 'essaya': 7592, 'voudrait': 7593, 'croisé': 7594, 'désemparé': 7595, 'hystérique': 7596, 'irrationnel': 7597, 'persistant': 7598, 'cité': 7599, 'comparaître': 7600, 'entouré': 7601, 'suspicieux': 7602, 'imbattable': 7603, 'agitait': 7604, \"s'excusera\": 7605, 'rappellera': 7606, 'mordra': 7607, 'boira': 7608, 'rangée': 7609, 'tâche': 7610, 'mouiller': 7611, 'affecte': 7612, 'compliqué\\xa0': 7613, 'intéressant\\u2009': 7614, 'envoyée\\xa0': 7615, 'insulte': 7616, 'importante': 7617, 'mangeâmes': 7618, 'affrétâmes': 7619, 'car': 7620, \"n'aimons\": 7621, 'sentons': 7622, 'frustrés': 7623, 'trouvée': 7624, 'trouvâmes': 7625, 'raisins': 7626, 'blé': 7627, 'amusés': 7628, 'butoir': 7629, 'nous\\xa0avons\\xa0davantage\\xa0à\\xa0faire': 7630, 'entendîmes': 7631, 'sacrifices': 7632, 'stratégie': 7633, 'courûmes': 7634, 'sacrifions': 7635, 'commençâmes': 7636, 'nagé': 7637, 'fréquemment': 7638, 'boue': 7639, 'équitables': 7640, 'lavons': 7641, 'allâmes': 7642, 'dormions': 7643, 'saoules': 7644, 'justement': 7645, 'passagers': 7646, 'entourés': 7647, 'invaincus': 7648, 'fatiguées': 7649, 'jugés': 7650, 'travaillions': 7651, 'aimerions': 7652, 'convaincrons': 7653, 'finirons': 7654, 'nés': 7655, 'infectés': 7656, 'mêmes': 7657, 'écrivains': 7658, 'conservateurs': 7659, 'contribuons': 7660, 'déçues': 7661, 'entretien': 7662, 'enthousiastes': 7663, 'mi': 7664, 'stock': 7665, 'réagissons': 7666, 'horaire': 7667, 'enfuyons': 7668, 'sauvons': 7669, 'actifs': 7670, 'excités': 7671, 'bénévolat': 7672, 'dotés': 7673, \"d'oreilles\": 7674, 'repérées': 7675, 'citrouille\\u202f': 7676, 'géniale\\xa0': 7677, 'coïncidence\\u202f': 7678, 'tas': 7679, 'quelle\\xa0chouette\\xa0famille\\xa0': 7680, 'parfait\\xa0': 7681, 'quel\\xa0parfait\\xa0imbécile\\xa0': 7682, 'servent': 7683, 'voulaient': 7684, \"t'appeler\": 7685, 'conseilles': 7686, 'désirez': 7687, 'besoin\\xa0': 7688, 'a\\u202f': 7689, 'ce\\xa0que\\xa0ça\\xa0dit\\xa0': 7690, 'constitué\\u202f': 7691, 'offre\\xa0': 7692, 'étroits': 7693, 'comportement': 7694, 'ignoble\\xa0': 7695, 'fabriqueras': 7696, 'comment\\xa0sera': 7697, 'doué': 7698, 'épic\\xa0': 7699, 'volé\\xa0': 7700, 'dessert\\u202f': 7701, 'sert\\xa0': 7702, 'redire': 7703, \"l'urgence\\xa0\": 7704, 'excuse\\xa0': 7705, 'emménager': 7706, 'lèves': 7707, \"l'employez\": 7708, 'viré\\xa0': 7709, 'funérailles': 7710, 'armes\\xa0': 7711, 'chapeaux\\xa0': 7712, 'on\\u202f': 7713, \"d'où\\u202f\": 7714, 'regardé\\xa0': 7715, 'séjourné': 7716, 'caché\\u202f': 7717, 'bureau\\xa0': 7718, 'crayon\\xa0': 7719, 'rencontrerons': 7720, 'chaussures\\u202f': 7721, 'frère\\xa0': 7722, 'boulangerie': 7723, 'chapelle': 7724, 'médecin\\xa0': 7725, 'pelle\\xa0': 7726, 'toilettes': 7727, 'hôtel\\xa0': 7728, 'oncle\\xa0': 7729, 'montre\\xa0': 7730, 'tien\\u202f': 7731, 'tienne\\xa0': 7732, 'chapeau\\u202f': 7733, 'd’autre': 7734, 'donné\\xa0': 7735, 'avocat\\u202f': 7736, 'entrer\\xa0': 7737, 'gâteau\\u202f': 7738}\n"
     ]
    }
   ],
   "source": [
    "print(len(source_dict))\n",
    "print(len(target_dict))\n",
    "print(source_dict)\n",
    "print(target_dict)"
   ]
  },
  {
   "cell_type": "code",
   "execution_count": 20,
   "metadata": {
    "executionInfo": {
     "elapsed": 3804,
     "status": "ok",
     "timestamp": 1617658463987,
     "user": {
      "displayName": "Vladimir Vuksanovic",
      "photoUrl": "https://lh3.googleusercontent.com/a-/AOh14GhDVInHUBph5hXktgkKO4i2JKO7UL5JRrz87Y5touM=s64",
      "userId": "04006842609994023267"
     },
     "user_tz": -120
    },
    "id": "gIrdpn_w59YB"
   },
   "outputs": [],
   "source": [
    "# Tokenize sentences to sequences\n",
    "source_sequences = source_tokenizer.texts_to_sequences(source_sentences)\n",
    "target_sequences_input = target_tokenizer.texts_to_sequences(target_sentences_input)\n",
    "target_sequences_output = target_tokenizer.texts_to_sequences(target_sentences_output)\n",
    "\n",
    "# Reverse source sequnces\n",
    "for sequence in source_sequences:\n",
    "    sequence.reverse()\n",
    "\n",
    "max_source_len = max([len(sequence) for sequence in source_sequences])\n",
    "max_target_len = max([len(sequence) for sequence in target_sequences_output])\n",
    "\n",
    "encoder_input_sequences = pad_sequences(source_sequences, maxlen=max_source_len, padding='pre')\n",
    "decoder_input_sequences = pad_sequences(target_sequences_input, maxlen=max_target_len, padding='post')\n",
    "decoder_output_sequences = pad_sequences(target_sequences_output, maxlen=max_target_len, padding='post')"
   ]
  },
  {
   "cell_type": "code",
   "execution_count": 21,
   "metadata": {
    "colab": {
     "base_uri": "https://localhost:8080/"
    },
    "executionInfo": {
     "elapsed": 442,
     "status": "ok",
     "timestamp": 1617636596081,
     "user": {
      "displayName": "Vladimir Vuksanovic",
      "photoUrl": "https://lh3.googleusercontent.com/a-/AOh14GhDVInHUBph5hXktgkKO4i2JKO7UL5JRrz87Y5touM=s64",
      "userId": "04006842609994023267"
     },
     "user_tz": -120
    },
    "id": "fuJm2exi59YB",
    "outputId": "520a7de9-2efd-4852-d7d7-46efeed83517"
   },
   "outputs": [
    {
     "name": "stdout",
     "output_type": "stream",
     "text": [
      "6\n",
      "12\n"
     ]
    }
   ],
   "source": [
    "print(max_source_len)\n",
    "print(max_target_len)"
   ]
  },
  {
   "cell_type": "code",
   "execution_count": 22,
   "metadata": {
    "colab": {
     "base_uri": "https://localhost:8080/"
    },
    "executionInfo": {
     "elapsed": 613,
     "status": "ok",
     "timestamp": 1617543204556,
     "user": {
      "displayName": "Vladimir Vuksanovic",
      "photoUrl": "https://lh3.googleusercontent.com/a-/AOh14GhDVInHUBph5hXktgkKO4i2JKO7UL5JRrz87Y5touM=s64",
      "userId": "04006842609994023267"
     },
     "user_tz": -120
    },
    "id": "0C72MCIp59YB",
    "outputId": "823b824f-5f04-4fbe-ffd5-d6dbb29ab67f"
   },
   "outputs": [
    {
     "name": "stdout",
     "output_type": "stream",
     "text": [
      "Go.\n",
      "[ 0  0  0  0  0 28]\n",
      "<sos> Va !\n",
      "[ 1 56  0  0  0  0  0  0  0  0  0  0]\n",
      "Hi.\n",
      "[  0   0   0   0   0 737]\n",
      "<sos> Salut !\n",
      "[   1 1257    0    0    0    0    0    0    0    0    0    0]\n",
      "Run!\n",
      "[  0   0   0   0   0 238]\n",
      "<sos> Cours !\n",
      "[   1 2425    0    0    0    0    0    0    0    0    0    0]\n",
      "Run.\n",
      "[  0   0   0   0   0 238]\n",
      "<sos> Cours !\n",
      "[   1 2425    0    0    0    0    0    0    0    0    0    0]\n",
      "Who?\n",
      "[ 0  0  0  0  0 57]\n",
      "<sos> Qui ?\n",
      "[ 1 39  0  0  0  0  0  0  0  0  0  0]\n",
      "Wow!\n",
      "[   0    0    0    0    0 1968]\n",
      "<sos> Ça alors !\n",
      "[   1   26 3682    0    0    0    0    0    0    0    0    0]\n",
      "Duck!\n",
      "[   0    0    0    0    0 2714]\n",
      "<sos> À terre !\n",
      "[   1   20 3683    0    0    0    0    0    0    0    0    0]\n",
      "Fire!\n",
      "[  0   0   0   0   0 567]\n",
      "<sos> Au feu !\n",
      "[  1  69 438   0   0   0   0   0   0   0   0   0]\n",
      "Help!\n",
      "[ 0  0  0  0  0 70]\n",
      "<sos> À l'aide !\n",
      "[   1   20 1864    0    0    0    0    0    0    0    0    0]\n",
      "Hide.\n",
      "[  0   0   0   0   0 802]\n",
      "<sos> Cache-toi.\n",
      "[   1 1258   55    0    0    0    0    0    0    0    0    0]\n"
     ]
    }
   ],
   "source": [
    "for i in range(0, 10):\n",
    "    print(source_sentences[i])\n",
    "    print(str(encoder_input_sequences[i]))\n",
    "    print(target_sentences_input[i])\n",
    "    print(str(decoder_input_sequences[i]))"
   ]
  },
  {
   "cell_type": "markdown",
   "metadata": {
    "id": "pRvk2e3t59YC"
   },
   "source": [
    "## Model Building"
   ]
  },
  {
   "cell_type": "markdown",
   "metadata": {
    "id": "Xg5F2_T_59YC"
   },
   "source": [
    "The most common model for neural machine translation (NMT) is the sequence-to-sequence model which is a combination of recurrent neural network and encoder-decoder architectures. The enocder maps variable-length input sequence to a fixed-length representation, and the decoder uses that representation to generate an output sequence one word at a time.\n",
    "\n",
    "This type of model is used by Google for its translation service (https://arxiv.org/pdf/1609.08144.pdf, https://ai.googleblog.com/2016/09/a-neural-network-for-machine.html)."
   ]
  },
  {
   "cell_type": "code",
   "execution_count": 39,
   "metadata": {
    "executionInfo": {
     "elapsed": 604,
     "status": "ok",
     "timestamp": 1617636603406,
     "user": {
      "displayName": "Vladimir Vuksanovic",
      "photoUrl": "https://lh3.googleusercontent.com/a-/AOh14GhDVInHUBph5hXktgkKO4i2JKO7UL5JRrz87Y5touM=s64",
      "userId": "04006842609994023267"
     },
     "user_tz": -120
    },
    "id": "AUkD9YhW59YC"
   },
   "outputs": [],
   "source": [
    "from tensorflow.keras import Model\n",
    "from tensorflow.keras.layers import Input, Embedding, LSTM, Dense "
   ]
  },
  {
   "cell_type": "code",
   "execution_count": 40,
   "metadata": {
    "executionInfo": {
     "elapsed": 765,
     "status": "ok",
     "timestamp": 1617658467380,
     "user": {
      "displayName": "Vladimir Vuksanovic",
      "photoUrl": "https://lh3.googleusercontent.com/a-/AOh14GhDVInHUBph5hXktgkKO4i2JKO7UL5JRrz87Y5touM=s64",
      "userId": "04006842609994023267"
     },
     "user_tz": -120
    },
    "id": "8rCUvgLu59YD"
   },
   "outputs": [],
   "source": [
    "# Number of tokens is expected to be 1 greater than the number of words\n",
    "n_encoder_tokens = len(source_dict)+1\n",
    "n_decoder_tokens = len(target_dict)+1\n",
    "\n",
    "EMBEDDING_DIM = 100\n",
    "LSTM_DIM = 256"
   ]
  },
  {
   "cell_type": "markdown",
   "metadata": {
    "id": "ZNLRCJ3F59YE"
   },
   "source": [
    "### Embedding layer\n",
    "\n",
    "Keras documentation: https://keras.io/api/layers/core_layers/embedding/\n",
    "\n",
    "Turns positive integers (indexes) into dense vectors of fixed size.\n",
    "\n",
    "e.g. [[4], [20]] -> [[0.25, 0.1], [0.6, -0.2]]\n",
    "\n",
    "This layer can only be used as the first layer in a model.\n",
    "\n",
    "Arguments:\n",
    "- **input_dim**: Integer. Size of the vocabulary, i.e. maximum integer index + 1.\n",
    "- **output_dim**: Integer. Dimension of the dense embedding."
   ]
  },
  {
   "cell_type": "markdown",
   "metadata": {
    "id": "90wEs2lN59YE"
   },
   "source": [
    "### LSTM layer\n",
    "\n",
    "Keras documentation: https://keras.io/api/layers/recurrent_layers/lstm/\n",
    "\n",
    "Long Short-Term Memory layer\n",
    "\n",
    "Arguments:\n",
    "- **units**: Positive integer, dimensionality of the output space.\n",
    "- **kernel_initializer**: Initializer for the kernel weights matrix\n",
    "- **return_sequences**: Boolean. Whether to return the last output in the output sequence, or the full sequence. Default: False.\n",
    "- **return_state**: Boolean. Whether to return the last state in addition to the output. Default: False.\n",
    "\n",
    "return_state returns the lstm output, last hidden state and last cell state and return_sequences returns hidden states for each step as the main output. Both flags can be used at the same time and will return all hidden states, last hidden state and last cell state.\n",
    "\n",
    "For more information on return_sequences and return_state read [this](https://machinelearningmastery.com/return-sequences-and-return-states-for-lstms-in-keras/)"
   ]
  },
  {
   "cell_type": "markdown",
   "metadata": {
    "id": "haweG4_h59YF"
   },
   "source": [
    "### Layer initializers\n",
    "\n",
    "Keras documentation: https://keras.io/api/layers/initializers/\n",
    "\n",
    "Initializers define the way to set the initial random weights of Keras layers.\n",
    "\n",
    "Some of the available initializers:\n",
    "- RandomNormal\n",
    "- RandomUniform\n",
    "- Zeros\n",
    "- Ones"
   ]
  },
  {
   "cell_type": "markdown",
   "metadata": {
    "id": "2a36PnqK59YG"
   },
   "source": [
    "### GloVe Embeddings\n",
    "\n",
    "Instead of learning the embeddings for english words during training, a pre-trained model called [GloVe](https://nlp.stanford.edu/projects/glove/) will be used. It has been trained on 6 billion words from [Wikipedia 2014](https://dumps.wikimedia.org/enwiki/latest/) and [Gigaworld 5](https://catalog.ldc.upenn.edu/LDC2011T07). The french word embeddings will be learned during training."
   ]
  },
  {
   "cell_type": "code",
   "execution_count": 13,
   "metadata": {
    "executionInfo": {
     "elapsed": 12760,
     "status": "ok",
     "timestamp": 1617636623686,
     "user": {
      "displayName": "Vladimir Vuksanovic",
      "photoUrl": "https://lh3.googleusercontent.com/a-/AOh14GhDVInHUBph5hXktgkKO4i2JKO7UL5JRrz87Y5touM=s64",
      "userId": "04006842609994023267"
     },
     "user_tz": -120
    },
    "id": "dDKdyDm459YG"
   },
   "outputs": [],
   "source": [
    "embeddings_dict = {}\n",
    "with open('datasets/glove.6B.100d.txt', encoding=\"utf8\") as glove_file:\n",
    "    for line in glove_file:\n",
    "        record = line.split()\n",
    "        word = record[0]\n",
    "        word_embedding = np.asarray(record[1:], dtype='float32')\n",
    "        embeddings_dict[word] = word_embedding"
   ]
  },
  {
   "cell_type": "code",
   "execution_count": 41,
   "metadata": {
    "executionInfo": {
     "elapsed": 630,
     "status": "ok",
     "timestamp": 1617658471600,
     "user": {
      "displayName": "Vladimir Vuksanovic",
      "photoUrl": "https://lh3.googleusercontent.com/a-/AOh14GhDVInHUBph5hXktgkKO4i2JKO7UL5JRrz87Y5touM=s64",
      "userId": "04006842609994023267"
     },
     "user_tz": -120
    },
    "id": "pHFjbvD059YH"
   },
   "outputs": [],
   "source": [
    "embedding_matrix = np.zeros((n_encoder_tokens, EMBEDDING_DIM))\n",
    "for word, index in source_dict.items():\n",
    "    embedding_vector = embeddings_dict.get(word)\n",
    "    if embedding_vector is not None:\n",
    "        embedding_matrix[index] = embedding_vector"
   ]
  },
  {
   "cell_type": "code",
   "execution_count": 15,
   "metadata": {
    "colab": {
     "base_uri": "https://localhost:8080/"
    },
    "executionInfo": {
     "elapsed": 1213,
     "status": "ok",
     "timestamp": 1617645208252,
     "user": {
      "displayName": "Vladimir Vuksanovic",
      "photoUrl": "https://lh3.googleusercontent.com/a-/AOh14GhDVInHUBph5hXktgkKO4i2JKO7UL5JRrz87Y5touM=s64",
      "userId": "04006842609994023267"
     },
     "user_tz": -120
    },
    "id": "1-K-a9ml59YH",
    "outputId": "0a60a552-307f-4485-a96f-85264ff270c8"
   },
   "outputs": [
    {
     "name": "stdout",
     "output_type": "stream",
     "text": [
      "[ 0.26688    0.39632    0.6169    -0.77451   -0.1039     0.26697\n",
      "  0.2788     0.30992    0.0054685 -0.085256   0.73602   -0.098432\n",
      "  0.5479    -0.030305   0.33479    0.14094   -0.0070003  0.32569\n",
      "  0.22902    0.46557   -0.19531    0.37491   -0.7139    -0.51775\n",
      "  0.77039    1.0881    -0.66011   -0.16234    0.9119     0.21046\n",
      "  0.047494   1.0019     1.1133     0.70094   -0.08696    0.47571\n",
      "  0.1636    -0.44469    0.4469    -0.93817    0.013101   0.085964\n",
      " -0.67456    0.49662   -0.037827  -0.11038   -0.28612    0.074606\n",
      " -0.31527   -0.093774  -0.57069    0.66865    0.45307   -0.34154\n",
      " -0.7166    -0.75273    0.075212   0.57903   -0.1191    -0.11379\n",
      " -0.10026    0.71341   -1.1574    -0.74026    0.40452    0.18023\n",
      "  0.21449    0.37638    0.11239   -0.53639   -0.025092   0.31886\n",
      " -0.25013   -0.63283   -0.011843   1.377      0.86013    0.20476\n",
      " -0.36815   -0.68874    0.53512   -0.46556    0.27389    0.4118\n",
      " -0.854     -0.046288   0.11304   -0.27326    0.15636   -0.20334\n",
      "  0.53586    0.59784    0.60469    0.13735    0.42232   -0.61279\n",
      " -0.38486    0.35842   -0.48464    0.30728  ]\n"
     ]
    }
   ],
   "source": [
    "print(embeddings_dict[\"hello\"])"
   ]
  },
  {
   "cell_type": "markdown",
   "metadata": {
    "id": "v3fkJkIw59YI"
   },
   "source": [
    "### Encoder"
   ]
  },
  {
   "cell_type": "code",
   "execution_count": 42,
   "metadata": {
    "executionInfo": {
     "elapsed": 1040,
     "status": "ok",
     "timestamp": 1617658474553,
     "user": {
      "displayName": "Vladimir Vuksanovic",
      "photoUrl": "https://lh3.googleusercontent.com/a-/AOh14GhDVInHUBph5hXktgkKO4i2JKO7UL5JRrz87Y5touM=s64",
      "userId": "04006842609994023267"
     },
     "user_tz": -120
    },
    "id": "r5JXak2Q59YI"
   },
   "outputs": [],
   "source": [
    "encoder_inputs = Input(shape=(max_source_len,))\n",
    "encoder_embedding = Embedding(n_encoder_tokens, EMBEDDING_DIM, weights=[embedding_matrix], input_length=max_source_len)\n",
    "encoder_lstm = LSTM(\n",
    "    LSTM_DIM,\n",
    "    kernel_initializer = tf.keras.initializers.RandomUniform(minval=-0.08, maxval=0.08, seed=None),\n",
    "    return_state=True\n",
    ")\n",
    "\n",
    "encoder = encoder_embedding(encoder_inputs)\n",
    "encoder, state_h, state_c = encoder_lstm(encoder)\n",
    "\n",
    "encoder_states = [state_h, state_c]"
   ]
  },
  {
   "cell_type": "markdown",
   "metadata": {
    "id": "uVo-ojRe59YJ"
   },
   "source": [
    "### Decoder"
   ]
  },
  {
   "cell_type": "code",
   "execution_count": 43,
   "metadata": {
    "executionInfo": {
     "elapsed": 987,
     "status": "ok",
     "timestamp": 1617658476692,
     "user": {
      "displayName": "Vladimir Vuksanovic",
      "photoUrl": "https://lh3.googleusercontent.com/a-/AOh14GhDVInHUBph5hXktgkKO4i2JKO7UL5JRrz87Y5touM=s64",
      "userId": "04006842609994023267"
     },
     "user_tz": -120
    },
    "id": "JOBd8_VO59YJ"
   },
   "outputs": [],
   "source": [
    "decoder_inputs = Input(shape=(max_target_len,))\n",
    "decoder_embedding = Embedding(n_decoder_tokens, EMBEDDING_DIM)\n",
    "decoder_lstm = LSTM(\n",
    "    LSTM_DIM, \n",
    "    kernel_initializer = tf.keras.initializers.RandomUniform(minval=-0.08, maxval=0.08, seed=None),\n",
    "    return_sequences=True,\n",
    "    return_state=True\n",
    ")\n",
    "decoder_dense = Dense(n_decoder_tokens, activation='softmax')\n",
    "\n",
    "decoder = decoder_embedding(decoder_inputs)\n",
    "decoder, _, _ = decoder_lstm(decoder, initial_state=encoder_states)\n",
    "decoder = decoder_dense(decoder)"
   ]
  },
  {
   "cell_type": "markdown",
   "metadata": {
    "id": "kVXX3WjA59YK"
   },
   "source": [
    "### Model"
   ]
  },
  {
   "cell_type": "code",
   "execution_count": 44,
   "metadata": {},
   "outputs": [],
   "source": [
    "# It is possible to use beam search during training by definig a custom loss function\n",
    "# https://towardsdatascience.com/advanced-keras-constructing-complex-custom-losses-and-metrics-c07ca130a618\n",
    "\n",
    "# TODO Make adaptive learning rate using keras.callbacks.LearningRateScheduler\n",
    "# https://machinelearningmastery.com/understand-the-dynamics-of-learning-rate-on-deep-learning-neural-networks/\n",
    "# TODO Use SGD optimizer with no momentum, start rate 0.7\n",
    "# https://keras.io/api/optimizers/sgd/\n",
    "\n",
    "OPTIMIZER = 'rmsprop'\n",
    "LOSS = 'categorical_crossentropy'"
   ]
  },
  {
   "cell_type": "code",
   "execution_count": 45,
   "metadata": {
    "executionInfo": {
     "elapsed": 661,
     "status": "ok",
     "timestamp": 1617658479460,
     "user": {
      "displayName": "Vladimir Vuksanovic",
      "photoUrl": "https://lh3.googleusercontent.com/a-/AOh14GhDVInHUBph5hXktgkKO4i2JKO7UL5JRrz87Y5touM=s64",
      "userId": "04006842609994023267"
     },
     "user_tz": -120
    },
    "id": "jwqAmg1f59YK"
   },
   "outputs": [],
   "source": [
    "model = Model([encoder_inputs, decoder_inputs], decoder)\n",
    "model.compile(optimizer=OPTIMIZER, loss=LOSS, metrics=['accuracy'])"
   ]
  },
  {
   "cell_type": "code",
   "execution_count": 46,
   "metadata": {
    "colab": {
     "base_uri": "https://localhost:8080/"
    },
    "executionInfo": {
     "elapsed": 620,
     "status": "ok",
     "timestamp": 1617658483597,
     "user": {
      "displayName": "Vladimir Vuksanovic",
      "photoUrl": "https://lh3.googleusercontent.com/a-/AOh14GhDVInHUBph5hXktgkKO4i2JKO7UL5JRrz87Y5touM=s64",
      "userId": "04006842609994023267"
     },
     "user_tz": -120
    },
    "id": "lA3E3Pvs59YK",
    "outputId": "12d7c7f0-f92e-4567-cf0c-b3eec9ca55c9"
   },
   "outputs": [
    {
     "name": "stdout",
     "output_type": "stream",
     "text": [
      "Model: \"functional_7\"\n",
      "__________________________________________________________________________________________________\n",
      "Layer (type)                    Output Shape         Param #     Connected to                     \n",
      "==================================================================================================\n",
      "input_6 (InputLayer)            [(None, 5)]          0                                            \n",
      "__________________________________________________________________________________________________\n",
      "input_7 (InputLayer)            [(None, 12)]         0                                            \n",
      "__________________________________________________________________________________________________\n",
      "embedding_2 (Embedding)         (None, 5, 100)       345300      input_6[0][0]                    \n",
      "__________________________________________________________________________________________________\n",
      "embedding_3 (Embedding)         (None, 12, 100)      712700      input_7[0][0]                    \n",
      "__________________________________________________________________________________________________\n",
      "lstm_2 (LSTM)                   [(None, 256), (None, 365568      embedding_2[0][0]                \n",
      "__________________________________________________________________________________________________\n",
      "lstm_3 (LSTM)                   [(None, 12, 256), (N 365568      embedding_3[0][0]                \n",
      "                                                                 lstm_2[0][1]                     \n",
      "                                                                 lstm_2[0][2]                     \n",
      "__________________________________________________________________________________________________\n",
      "dense_1 (Dense)                 (None, 12, 7127)     1831639     lstm_3[0][0]                     \n",
      "==================================================================================================\n",
      "Total params: 3,620,775\n",
      "Trainable params: 3,620,775\n",
      "Non-trainable params: 0\n",
      "__________________________________________________________________________________________________\n"
     ]
    }
   ],
   "source": [
    "model.summary()"
   ]
  },
  {
   "cell_type": "markdown",
   "metadata": {
    "id": "TUuSblOS59YL"
   },
   "source": [
    "### Plot the model"
   ]
  },
  {
   "cell_type": "code",
   "execution_count": 47,
   "metadata": {
    "colab": {
     "base_uri": "https://localhost:8080/",
     "height": 533
    },
    "executionInfo": {
     "elapsed": 755,
     "status": "ok",
     "timestamp": 1617524079681,
     "user": {
      "displayName": "Vladimir Vuksanovic",
      "photoUrl": "https://lh3.googleusercontent.com/a-/AOh14GhDVInHUBph5hXktgkKO4i2JKO7UL5JRrz87Y5touM=s64",
      "userId": "04006842609994023267"
     },
     "user_tz": -120
    },
    "id": "CDeb0hL359YL",
    "outputId": "a0e87ac9-e4d8-44bb-c74a-4e004384541f"
   },
   "outputs": [
    {
     "data": {
      "image/png": "[encoded data removed]",
      "text/plain": [
       "<IPython.core.display.Image object>"
      ]
     },
     "execution_count": 47,
     "metadata": {},
     "output_type": "execute_result"
    }
   ],
   "source": [
    "from tensorflow.keras.utils import plot_model\n",
    "plot_model(model, to_file='plot/model.png', show_shapes=True, show_layer_names=True)"
   ]
  },
  {
   "cell_type": "markdown",
   "metadata": {
    "id": "_-7lLngS59YL"
   },
   "source": [
    "## Model Training"
   ]
  },
  {
   "cell_type": "code",
   "execution_count": 23,
   "metadata": {
    "colab": {
     "base_uri": "https://localhost:8080/"
    },
    "executionInfo": {
     "elapsed": 1324,
     "status": "ok",
     "timestamp": 1617636686142,
     "user": {
      "displayName": "Vladimir Vuksanovic",
      "photoUrl": "https://lh3.googleusercontent.com/a-/AOh14GhDVInHUBph5hXktgkKO4i2JKO7UL5JRrz87Y5touM=s64",
      "userId": "04006842609994023267"
     },
     "user_tz": -120
    },
    "id": "rMe9QYkJ59YL",
    "outputId": "52132489-63be-4ce9-8ed8-2de30ee8e7ef"
   },
   "outputs": [
    {
     "name": "stdout",
     "output_type": "stream",
     "text": [
      "(20000, 6)\n",
      "(20000, 12)\n",
      "(20000, 12)\n"
     ]
    }
   ],
   "source": [
    "print(encoder_input_sequences.shape)\n",
    "print(decoder_input_sequences.shape)\n",
    "print(decoder_output_sequences.shape)"
   ]
  },
  {
   "cell_type": "code",
   "execution_count": 49,
   "metadata": {
    "executionInfo": {
     "elapsed": 670,
     "status": "ok",
     "timestamp": 1617645224200,
     "user": {
      "displayName": "Vladimir Vuksanovic",
      "photoUrl": "https://lh3.googleusercontent.com/a-/AOh14GhDVInHUBph5hXktgkKO4i2JKO7UL5JRrz87Y5touM=s64",
      "userId": "04006842609994023267"
     },
     "user_tz": -120
    },
    "id": "GYX4be3m59YL"
   },
   "outputs": [],
   "source": [
    "EPOCHS = 10\n",
    "BATCH_SIZE = 64\n",
    "VALIDATION_SPLIT = 0.1"
   ]
  },
  {
   "cell_type": "markdown",
   "metadata": {},
   "source": [
    "### Data Generator"
   ]
  },
  {
   "cell_type": "code",
   "execution_count": 50,
   "metadata": {
    "executionInfo": {
     "elapsed": 2303,
     "status": "ok",
     "timestamp": 1617636694190,
     "user": {
      "displayName": "Vladimir Vuksanovic",
      "photoUrl": "https://lh3.googleusercontent.com/a-/AOh14GhDVInHUBph5hXktgkKO4i2JKO7UL5JRrz87Y5touM=s64",
      "userId": "04006842609994023267"
     },
     "user_tz": -120
    },
    "id": "7WXyPc--59YM"
   },
   "outputs": [],
   "source": [
    "from tensorflow.keras.utils import Sequence, to_categorical\n",
    "from sklearn.model_selection import train_test_split"
   ]
  },
  {
   "cell_type": "code",
   "execution_count": 51,
   "metadata": {
    "executionInfo": {
     "elapsed": 736,
     "status": "ok",
     "timestamp": 1617658490459,
     "user": {
      "displayName": "Vladimir Vuksanovic",
      "photoUrl": "https://lh3.googleusercontent.com/a-/AOh14GhDVInHUBph5hXktgkKO4i2JKO7UL5JRrz87Y5touM=s64",
      "userId": "04006842609994023267"
     },
     "user_tz": -120
    },
    "id": "C6IBM0ot59YO"
   },
   "outputs": [],
   "source": [
    "class DataGenerator(Sequence):\n",
    "    def __init__(self, encoder_input, decoder_input, decoder_output, n_classes, batch_size=32, shuffle=True):\n",
    "        self.encoder_input = encoder_input\n",
    "        self.decoder_input = decoder_input\n",
    "        self.decoder_output = decoder_output\n",
    "        self.n_classes = n_classes\n",
    "        self.batch_size = batch_size\n",
    "        self.shuffle = shuffle\n",
    "        self.on_epoch_end()\n",
    "\n",
    "    # Number of batches per epoch\n",
    "    def __len__(self):\n",
    "        return int(np.floor(len(self.encoder_input) / self.batch_size))\n",
    "\n",
    "    # Generate one batch\n",
    "    def __getitem__(self, index):\n",
    "        indexes = self.indexes[index*self.batch_size:(index+1)*self.batch_size]\n",
    "        X = [self.encoder_input[indexes], self.decoder_input[indexes]]\n",
    "        # Decoder outputs have to be one-hot-encoded\n",
    "        y = np.asarray([to_categorical(self.decoder_output[index], num_classes=self.n_classes) for index in indexes])\n",
    "        return X, y\n",
    "\n",
    "    # Update indexes for next epoch\n",
    "    def on_epoch_end(self):\n",
    "        self.indexes = np.arange(len(self.encoder_input))\n",
    "        if self.shuffle:\n",
    "            np.random.shuffle(self.indexes)"
   ]
  },
  {
   "cell_type": "code",
   "execution_count": 52,
   "metadata": {
    "executionInfo": {
     "elapsed": 665,
     "status": "ok",
     "timestamp": 1617658492538,
     "user": {
      "displayName": "Vladimir Vuksanovic",
      "photoUrl": "https://lh3.googleusercontent.com/a-/AOh14GhDVInHUBph5hXktgkKO4i2JKO7UL5JRrz87Y5touM=s64",
      "userId": "04006842609994023267"
     },
     "user_tz": -120
    },
    "id": "7Wunksq_59YO"
   },
   "outputs": [],
   "source": [
    "if USE_DATA_GENERATORS:\n",
    "    indexes = np.arange(len(encoder_input_sequences))\n",
    "    np.random.shuffle(indexes)\n",
    "\n",
    "    validation_size = int(np.floor(len(encoder_input_sequences) * VALIDATION_SPLIT))\n",
    "\n",
    "    train_indexes = indexes[:-validation_size]\n",
    "    validation_indexes = indexes[-validation_size:]\n",
    "\n",
    "    training_generator = DataGenerator(\n",
    "        encoder_input_sequences[train_indexes],\n",
    "        decoder_input_sequences[train_indexes],\n",
    "        decoder_output_sequences[train_indexes],\n",
    "        n_decoder_tokens,\n",
    "        BATCH_SIZE\n",
    "    )\n",
    "\n",
    "    validation_generator = DataGenerator(\n",
    "        encoder_input_sequences[validation_indexes],\n",
    "        decoder_input_sequences[validation_indexes],\n",
    "        decoder_output_sequences[validation_indexes],\n",
    "        n_decoder_tokens,\n",
    "        BATCH_SIZE\n",
    "    )"
   ]
  },
  {
   "cell_type": "code",
   "execution_count": 33,
   "metadata": {},
   "outputs": [],
   "source": [
    "if not USE_DATA_GENERATORS:\n",
    "    # Decoder outputs need to be one-hot-encoded for the dense softmax layer to work\n",
    "    decoder_output = np.array([to_categorical(output, num_classes=n_decoder_tokens) for output in decoder_output_sequences])"
   ]
  },
  {
   "cell_type": "markdown",
   "metadata": {},
   "source": [
    "### Training"
   ]
  },
  {
   "cell_type": "code",
   "execution_count": 69,
   "metadata": {
    "id": "-CMQe2zY59YP"
   },
   "outputs": [],
   "source": [
    "import matplotlib.pyplot as plt"
   ]
  },
  {
   "cell_type": "code",
   "execution_count": 68,
   "metadata": {
    "colab": {
     "base_uri": "https://localhost:8080/",
     "height": 282
    },
    "executionInfo": {
     "elapsed": 754,
     "status": "ok",
     "timestamp": 1617549466014,
     "user": {
      "displayName": "Vladimir Vuksanovic",
      "photoUrl": "https://lh3.googleusercontent.com/a-/AOh14GhDVInHUBph5hXktgkKO4i2JKO7UL5JRrz87Y5touM=s64",
      "userId": "04006842609994023267"
     },
     "user_tz": -120
    },
    "id": "qQAVp8g459YP",
    "outputId": "523783a0-d568-4998-91ff-f0fa79c9c556"
   },
   "outputs": [],
   "source": [
    "def plot_history(history):\n",
    "    plt.plot(history.epoch, history.history['accuracy'])\n",
    "    plt.plot(history.epoch, history.history['val_accuracy'])\n",
    "    plt.legend(['Training accuracy', 'Validation accuracy'])"
   ]
  },
  {
   "cell_type": "code",
   "execution_count": 53,
   "metadata": {
    "scrolled": true
   },
   "outputs": [
    {
     "name": "stdout",
     "output_type": "stream",
     "text": [
      "Epoch 1/10\n",
      "281/281 [==============================] - ETA: 0s - loss: 2.0477 - accuracy: 0.7126\n",
      "Epoch 00001: saving model to model/checkpoint\n",
      "281/281 [==============================] - 126s 449ms/step - loss: 2.0477 - accuracy: 0.7126 - val_loss: 1.6787 - val_accuracy: 0.7547\n",
      "Epoch 2/10\n",
      "281/281 [==============================] - ETA: 0s - loss: 1.5029 - accuracy: 0.7723\n",
      "Epoch 00002: saving model to model/checkpoint\n",
      "281/281 [==============================] - 139s 494ms/step - loss: 1.5029 - accuracy: 0.7723 - val_loss: 1.4273 - val_accuracy: 0.7886\n",
      "Epoch 3/10\n",
      "281/281 [==============================] - ETA: 0s - loss: 1.3057 - accuracy: 0.7987\n",
      "Epoch 00003: saving model to model/checkpoint\n",
      "281/281 [==============================] - 145s 517ms/step - loss: 1.3057 - accuracy: 0.7987 - val_loss: 1.3018 - val_accuracy: 0.8048\n",
      "Epoch 4/10\n",
      "281/281 [==============================] - ETA: 0s - loss: 1.1817 - accuracy: 0.8138\n",
      "Epoch 00004: saving model to model/checkpoint\n",
      "281/281 [==============================] - 135s 481ms/step - loss: 1.1817 - accuracy: 0.8138 - val_loss: 1.2186 - val_accuracy: 0.8149\n",
      "Epoch 5/10\n",
      "281/281 [==============================] - ETA: 0s - loss: 1.0883 - accuracy: 0.8249\n",
      "Epoch 00005: saving model to model/checkpoint\n",
      "281/281 [==============================] - 151s 536ms/step - loss: 1.0883 - accuracy: 0.8249 - val_loss: 1.1499 - val_accuracy: 0.8237\n",
      "Epoch 6/10\n",
      "281/281 [==============================] - ETA: 0s - loss: 1.0099 - accuracy: 0.8346\n",
      "Epoch 00006: saving model to model/checkpoint\n",
      "281/281 [==============================] - 134s 476ms/step - loss: 1.0099 - accuracy: 0.8346 - val_loss: 1.1076 - val_accuracy: 0.8281\n",
      "Epoch 7/10\n",
      "281/281 [==============================] - ETA: 0s - loss: 0.9464 - accuracy: 0.8438\n",
      "Epoch 00007: saving model to model/checkpoint\n",
      "281/281 [==============================] - 141s 502ms/step - loss: 0.9464 - accuracy: 0.8438 - val_loss: 1.0702 - val_accuracy: 0.8333\n",
      "Epoch 8/10\n",
      "281/281 [==============================] - ETA: 0s - loss: 0.8918 - accuracy: 0.8515\n",
      "Epoch 00008: saving model to model/checkpoint\n",
      "281/281 [==============================] - 131s 465ms/step - loss: 0.8918 - accuracy: 0.8515 - val_loss: 1.0387 - val_accuracy: 0.8390\n",
      "Epoch 9/10\n",
      "281/281 [==============================] - ETA: 0s - loss: 0.8407 - accuracy: 0.8594\n",
      "Epoch 00009: saving model to model/checkpoint\n",
      "281/281 [==============================] - 125s 447ms/step - loss: 0.8407 - accuracy: 0.8594 - val_loss: 1.0183 - val_accuracy: 0.8413\n",
      "Epoch 10/10\n",
      "281/281 [==============================] - ETA: 0s - loss: 0.7985 - accuracy: 0.8659\n",
      "Epoch 00010: saving model to model/checkpoint\n",
      "281/281 [==============================] - 148s 525ms/step - loss: 0.7985 - accuracy: 0.8659 - val_loss: 0.9931 - val_accuracy: 0.8459\n",
      "WARNING:tensorflow:From /home/vladimir/anaconda3/envs/main/lib/python3.8/site-packages/tensorflow/python/training/tracking/tracking.py:111: Model.state_updates (from tensorflow.python.keras.engine.training) is deprecated and will be removed in a future version.\n",
      "Instructions for updating:\n",
      "This property should not be used in TensorFlow 2.0, as updates are applied automatically.\n",
      "WARNING:tensorflow:From /home/vladimir/anaconda3/envs/main/lib/python3.8/site-packages/tensorflow/python/training/tracking/tracking.py:111: Layer.updates (from tensorflow.python.keras.engine.base_layer) is deprecated and will be removed in a future version.\n",
      "Instructions for updating:\n",
      "This property should not be used in TensorFlow 2.0, as updates are applied automatically.\n",
      "INFO:tensorflow:Assets written to: model/translator_20000_10_64_20210418_163834/assets\n"
     ]
    },
    {
     "ename": "NameError",
     "evalue": "name 'plot_history' is not defined",
     "output_type": "error",
     "traceback": [
      "\u001b[0;31m---------------------------------------------------------------------------\u001b[0m",
      "\u001b[0;31mNameError\u001b[0m                                 Traceback (most recent call last)",
      "\u001b[0;32m<ipython-input-53-a14f35fb90fb>\u001b[0m in \u001b[0;36m<module>\u001b[0;34m\u001b[0m\n\u001b[1;32m     29\u001b[0m     \u001b[0mf\u001b[0m\u001b[0;34m.\u001b[0m\u001b[0mwrite\u001b[0m\u001b[0;34m(\u001b[0m\u001b[0;34mf'BATCH:\\t {BATCH_SIZE}\\n'\u001b[0m\u001b[0;34m)\u001b[0m\u001b[0;34m\u001b[0m\u001b[0;34m\u001b[0m\u001b[0m\n\u001b[1;32m     30\u001b[0m     \u001b[0mf\u001b[0m\u001b[0;34m.\u001b[0m\u001b[0mwrite\u001b[0m\u001b[0;34m(\u001b[0m\u001b[0;34mf'VALIDATION:\\t {VALIDATION_SPLIT}\\n'\u001b[0m\u001b[0;34m)\u001b[0m\u001b[0;34m\u001b[0m\u001b[0;34m\u001b[0m\u001b[0m\n\u001b[0;32m---> 31\u001b[0;31m \u001b[0mplot_history\u001b[0m\u001b[0;34m(\u001b[0m\u001b[0mhistory\u001b[0m\u001b[0;34m)\u001b[0m\u001b[0;34m\u001b[0m\u001b[0;34m\u001b[0m\u001b[0m\n\u001b[0m\u001b[1;32m     32\u001b[0m \u001b[0mplt\u001b[0m\u001b[0;34m.\u001b[0m\u001b[0msavefig\u001b[0m\u001b[0;34m(\u001b[0m\u001b[0;34mf'{model_name}/history.png'\u001b[0m\u001b[0;34m)\u001b[0m\u001b[0;34m\u001b[0m\u001b[0;34m\u001b[0m\u001b[0m\n",
      "\u001b[0;31mNameError\u001b[0m: name 'plot_history' is not defined"
     ]
    }
   ],
   "source": [
    "model_name = f'model/translator_{NUM_LINES}_{EPOCHS}_{BATCH_SIZE}_{time.strftime(\"%Y%m%d_%H%M%S\")}'\n",
    "\n",
    "checkpoint_callback = tf.keras.callbacks.ModelCheckpoint(\n",
    "    filepath='model/checkpoint',\n",
    "    save_weights_only=True,\n",
    "    monitor='val_accuracy',\n",
    "    mode='max',\n",
    "    verbose=1\n",
    ")\n",
    "\n",
    "if USE_DATA_GENERATORS:\n",
    "    history = model.fit(\n",
    "        training_generator,\n",
    "        validation_data=validation_generator,\n",
    "        epochs=EPOCHS,\n",
    "        batch_size=BATCH_SIZE,\n",
    "        callbacks=[checkpoint_callback]\n",
    "    )\n",
    "else:\n",
    "    history = model.fit(\n",
    "        [encoder_input_sequences, decoder_input_sequences],\n",
    "        decoder_output,\n",
    "        validation_split=VALIDATION_SPLIT,\n",
    "        epochs=EPOCHS,\n",
    "        batch_size=BATCH_SIZE,\n",
    "        callbacks=[checkpoint_callback]\n",
    "    )\n",
    "\n",
    "# Save trained model, compilation and training data and history plot\n",
    "model.save(model_name)\n",
    "with open(f'{model_name}/training.txt', 'w') as f:\n",
    "    f.write(f'LINES:\\t {NUM_LINES}\\n')\n",
    "    f.write(f'OPTIMIZER:\\t {OPTIMIZER}\\n')\n",
    "    f.write(f'LOSS:\\t {LOSS}\\n')\n",
    "    f.write(f'EPOCHS:\\t {EPOCHS}\\n')\n",
    "    f.write(f'BATCH:\\t {BATCH_SIZE}\\n')\n",
    "    f.write(f'VALIDATION:\\t {VALIDATION_SPLIT}\\n')\n",
    "plot_history(history)\n",
    "plt.savefig(f'{model_name}/history.png')"
   ]
  },
  {
   "cell_type": "code",
   "execution_count": 71,
   "metadata": {},
   "outputs": [
    {
     "data": {
      "image/png": "[encoded data removed]",
      "text/plain": [
       "<Figure size 432x288 with 1 Axes>"
      ]
     },
     "metadata": {
      "needs_background": "light"
     },
     "output_type": "display_data"
    }
   ],
   "source": [
    "plot_history(history)"
   ]
  },
  {
   "cell_type": "markdown",
   "metadata": {
    "id": "KFOyNxbb59YP"
   },
   "source": [
    "### Save / Load"
   ]
  },
  {
   "cell_type": "code",
   "execution_count": null,
   "metadata": {
    "id": "igezKvsM59YQ"
   },
   "outputs": [],
   "source": [
    "# model.save_weights('model/translator_weights')"
   ]
  },
  {
   "cell_type": "code",
   "execution_count": null,
   "metadata": {
    "colab": {
     "base_uri": "https://localhost:8080/"
    },
    "executionInfo": {
     "elapsed": 9510,
     "status": "ok",
     "timestamp": 1617644405864,
     "user": {
      "displayName": "Vladimir Vuksanovic",
      "photoUrl": "https://lh3.googleusercontent.com/a-/AOh14GhDVInHUBph5hXktgkKO4i2JKO7UL5JRrz87Y5touM=s64",
      "userId": "04006842609994023267"
     },
     "user_tz": -120
    },
    "id": "eLvAB9xQ59YQ",
    "outputId": "a8a0ad7d-ae1f-4529-d229-1ecf6a42288c"
   },
   "outputs": [],
   "source": [
    "# model.save('model/translator')"
   ]
  },
  {
   "cell_type": "code",
   "execution_count": null,
   "metadata": {
    "id": "b-on90rt59YQ"
   },
   "outputs": [],
   "source": [
    "# model.load_weights('model/translator_weights')"
   ]
  },
  {
   "cell_type": "code",
   "execution_count": 73,
   "metadata": {
    "colab": {
     "base_uri": "https://localhost:8080/",
     "height": 306
    },
    "executionInfo": {
     "elapsed": 649,
     "status": "error",
     "timestamp": 1617644387751,
     "user": {
      "displayName": "Vladimir Vuksanovic",
      "photoUrl": "https://lh3.googleusercontent.com/a-/AOh14GhDVInHUBph5hXktgkKO4i2JKO7UL5JRrz87Y5touM=s64",
      "userId": "04006842609994023267"
     },
     "user_tz": -120
    },
    "id": "FgTyMq8t59YQ",
    "outputId": "0436d2ac-2e44-4b89-96a1-00da86bd3f68"
   },
   "outputs": [],
   "source": [
    "# model = keras.models.load_model('model/translator_30000_10_64_20210405_181843')"
   ]
  },
  {
   "cell_type": "markdown",
   "metadata": {},
   "source": [
    "## Inference"
   ]
  },
  {
   "cell_type": "markdown",
   "metadata": {
    "id": "MGBcVHGk59YR"
   },
   "source": [
    "### Build the model"
   ]
  },
  {
   "cell_type": "markdown",
   "metadata": {
    "id": "GnWJ8jVu59YR"
   },
   "source": [
    "To predict outputs a separate model is needed because the previous decoder output has to be passed in as an input for the next word"
   ]
  },
  {
   "cell_type": "code",
   "execution_count": 74,
   "metadata": {
    "executionInfo": {
     "elapsed": 1236,
     "status": "ok",
     "timestamp": 1617659310150,
     "user": {
      "displayName": "Vladimir Vuksanovic",
      "photoUrl": "https://lh3.googleusercontent.com/a-/AOh14GhDVInHUBph5hXktgkKO4i2JKO7UL5JRrz87Y5touM=s64",
      "userId": "04006842609994023267"
     },
     "user_tz": -120
    },
    "id": "uzftVvmd59YR"
   },
   "outputs": [],
   "source": [
    "encoder_model = Model(encoder_inputs, encoder_states)\n",
    "\n",
    "decoder_state_h = Input(shape=(LSTM_DIM,))\n",
    "decoder_state_c = Input(shape=(LSTM_DIM,))\n",
    "decoder_states = [decoder_state_h, decoder_state_c]\n",
    "\n",
    "decoder_input_word = Input(shape=(1,))\n",
    "\n",
    "inference_decoder = decoder_embedding(decoder_input_word)\n",
    "inference_decoder, state_h, state_c = decoder_lstm(inference_decoder, initial_state=decoder_states)\n",
    "inference_decoder = decoder_dense(inference_decoder)\n",
    "\n",
    "inference_states = [state_h, state_c]\n",
    "\n",
    "decoder_model = Model(\n",
    "    [decoder_input_word] + decoder_states,\n",
    "    [inference_decoder] + inference_states\n",
    ")"
   ]
  },
  {
   "cell_type": "code",
   "execution_count": 25,
   "metadata": {
    "colab": {
     "base_uri": "https://localhost:8080/"
    },
    "executionInfo": {
     "elapsed": 801,
     "status": "ok",
     "timestamp": 1617644427395,
     "user": {
      "displayName": "Vladimir Vuksanovic",
      "photoUrl": "https://lh3.googleusercontent.com/a-/AOh14GhDVInHUBph5hXktgkKO4i2JKO7UL5JRrz87Y5touM=s64",
      "userId": "04006842609994023267"
     },
     "user_tz": -120
    },
    "id": "PpaRHpXv59YR",
    "outputId": "98507c8d-f327-470a-b8fc-f017f7ad48c5"
   },
   "outputs": [
    {
     "name": "stdout",
     "output_type": "stream",
     "text": [
      "Model: \"functional_3\"\n",
      "_________________________________________________________________\n",
      "Layer (type)                 Output Shape              Param #   \n",
      "=================================================================\n",
      "input_1 (InputLayer)         [(None, 5)]               0         \n",
      "_________________________________________________________________\n",
      "embedding (Embedding)        (None, 5, 100)            345300    \n",
      "_________________________________________________________________\n",
      "lstm (LSTM)                  [(None, 256), (None, 256) 365568    \n",
      "=================================================================\n",
      "Total params: 710,868\n",
      "Trainable params: 710,868\n",
      "Non-trainable params: 0\n",
      "_________________________________________________________________\n",
      "Model: \"functional_5\"\n",
      "__________________________________________________________________________________________________\n",
      "Layer (type)                    Output Shape         Param #     Connected to                     \n",
      "==================================================================================================\n",
      "input_5 (InputLayer)            [(None, 1)]          0                                            \n",
      "__________________________________________________________________________________________________\n",
      "embedding_1 (Embedding)         multiple             712700      input_5[0][0]                    \n",
      "__________________________________________________________________________________________________\n",
      "input_3 (InputLayer)            [(None, 256)]        0                                            \n",
      "__________________________________________________________________________________________________\n",
      "input_4 (InputLayer)            [(None, 256)]        0                                            \n",
      "__________________________________________________________________________________________________\n",
      "lstm_1 (LSTM)                   multiple             365568      embedding_1[1][0]                \n",
      "                                                                 input_3[0][0]                    \n",
      "                                                                 input_4[0][0]                    \n",
      "__________________________________________________________________________________________________\n",
      "dense (Dense)                   multiple             1831639     lstm_1[1][0]                     \n",
      "==================================================================================================\n",
      "Total params: 2,909,907\n",
      "Trainable params: 2,909,907\n",
      "Non-trainable params: 0\n",
      "__________________________________________________________________________________________________\n"
     ]
    }
   ],
   "source": [
    "encoder_model.summary()\n",
    "decoder_model.summary()"
   ]
  },
  {
   "cell_type": "code",
   "execution_count": null,
   "metadata": {
    "id": "eW6pWiEe59YR"
   },
   "outputs": [],
   "source": [
    "plot_model(decoder_model, to_file='plot/inference_model.png', show_shapes=True, show_layer_names=True)"
   ]
  },
  {
   "cell_type": "markdown",
   "metadata": {
    "id": "Bz7t6J5o59YS"
   },
   "source": [
    "### Greedy Search"
   ]
  },
  {
   "cell_type": "code",
   "execution_count": 75,
   "metadata": {
    "executionInfo": {
     "elapsed": 803,
     "status": "ok",
     "timestamp": 1617659315107,
     "user": {
      "displayName": "Vladimir Vuksanovic",
      "photoUrl": "https://lh3.googleusercontent.com/a-/AOh14GhDVInHUBph5hXktgkKO4i2JKO7UL5JRrz87Y5touM=s64",
      "userId": "04006842609994023267"
     },
     "user_tz": -120
    },
    "id": "SVQ7bK9q59YS"
   },
   "outputs": [],
   "source": [
    "reverse_source_dict = { v:k for k,v in source_dict.items() }\n",
    "reverse_target_dict = { v:k for k,v in target_dict.items() }"
   ]
  },
  {
   "cell_type": "code",
   "execution_count": 76,
   "metadata": {
    "executionInfo": {
     "elapsed": 875,
     "status": "ok",
     "timestamp": 1617659315545,
     "user": {
      "displayName": "Vladimir Vuksanovic",
      "photoUrl": "https://lh3.googleusercontent.com/a-/AOh14GhDVInHUBph5hXktgkKO4i2JKO7UL5JRrz87Y5touM=s64",
      "userId": "04006842609994023267"
     },
     "user_tz": -120
    },
    "id": "DOtrlVHT59YS"
   },
   "outputs": [],
   "source": [
    "def sentence_to_sequence(sentence):\n",
    "    sequence = source_tokenizer.texts_to_sequences([sentence])\n",
    "    sequence.reverse()\n",
    "    sequence = pad_sequences([sequence], maxlen=max_source_len, padding='pre')\n",
    "    return sequence"
   ]
  },
  {
   "cell_type": "code",
   "execution_count": 77,
   "metadata": {
    "executionInfo": {
     "elapsed": 1052,
     "status": "ok",
     "timestamp": 1617659316063,
     "user": {
      "displayName": "Vladimir Vuksanovic",
      "photoUrl": "https://lh3.googleusercontent.com/a-/AOh14GhDVInHUBph5hXktgkKO4i2JKO7UL5JRrz87Y5touM=s64",
      "userId": "04006842609994023267"
     },
     "user_tz": -120
    },
    "id": "cR07SmQF59YS"
   },
   "outputs": [],
   "source": [
    "def sequence_to_sentence(sequence):\n",
    "    SOS_ID = target_dict[SOS_TOKEN]\n",
    "    EOS_ID = target_dict[EOS_TOKEN]\n",
    "    words = []\n",
    "    for i in sequence:\n",
    "        if i == SOS_ID:\n",
    "            continue\n",
    "        elif i == EOS_ID:\n",
    "            break\n",
    "        elif i > 0:\n",
    "            words.append(reverse_target_dict[i])\n",
    "        else:\n",
    "            words.append(UNK_TOKEN)\n",
    "    return ' '.join(words)"
   ]
  },
  {
   "cell_type": "code",
   "execution_count": 78,
   "metadata": {
    "executionInfo": {
     "elapsed": 831,
     "status": "ok",
     "timestamp": 1617659317906,
     "user": {
      "displayName": "Vladimir Vuksanovic",
      "photoUrl": "https://lh3.googleusercontent.com/a-/AOh14GhDVInHUBph5hXktgkKO4i2JKO7UL5JRrz87Y5touM=s64",
      "userId": "04006842609994023267"
     },
     "user_tz": -120
    },
    "id": "tW1Bi-DI59YS"
   },
   "outputs": [],
   "source": [
    "def predict_sequence(source_sequence):\n",
    "    # Predict the encoder result directly\n",
    "    current_state = encoder_model.predict(source_sequence)\n",
    "    \n",
    "    # Predict ouput words one at a time until <eos> token or max_target_len\n",
    "    EOS_ID = target_dict[EOS_TOKEN]\n",
    "    \n",
    "    # Decoder_model expects a tensor as input\n",
    "    decoder_input = np.zeros((1, 1))\n",
    "    decoder_input[0, 0] = target_dict[SOS_TOKEN]\n",
    "    target_sequence = []\n",
    "    \n",
    "    for _ in range(max_target_len):\n",
    "        dense_outputs, state_h, state_c = decoder_model.predict([decoder_input] + current_state)\n",
    "        token = np.argmax(dense_outputs[0, 0, :])\n",
    "        if token == EOS_ID:\n",
    "            break\n",
    "        else:\n",
    "            target_sequence.append(token)\n",
    "        \n",
    "        # Replace decoder inputs to last generated token and states\n",
    "        decoder_input[0, 0] = token\n",
    "        current_state = [state_h, state_c]\n",
    "    return target_sequence\n",
    "\n",
    "def predict(source_sequence):\n",
    "    target_sequence = predict_sequence(source_sequence)\n",
    "    return sequence_to_sentence(target_sequence)"
   ]
  },
  {
   "cell_type": "markdown",
   "metadata": {
    "id": "HVafMsk559YS"
   },
   "source": [
    "### Beam Search\n",
    "\n",
    "The beam search algorithm is used as an improvement to the greedy search algorithm for determining the next word in the sequence. It works by taking the k best options at each step and then using those for all next steps. The best options are evalueted by maximizing the average log probability of each word is the output. For k=1 this is equivalent to the greedy algorithm. Increasing the k value gives better results but also increases processing time exponentially."
   ]
  },
  {
   "cell_type": "code",
   "execution_count": 79,
   "metadata": {
    "executionInfo": {
     "elapsed": 614,
     "status": "ok",
     "timestamp": 1617659319407,
     "user": {
      "displayName": "Vladimir Vuksanovic",
      "photoUrl": "https://lh3.googleusercontent.com/a-/AOh14GhDVInHUBph5hXktgkKO4i2JKO7UL5JRrz87Y5touM=s64",
      "userId": "04006842609994023267"
     },
     "user_tz": -120
    },
    "id": "gbeOSGUz59YT"
   },
   "outputs": [],
   "source": [
    "def beam_search_predict_sequence(source_sequence, k=1):\n",
    "    encoder_output_state = encoder_model.predict([source_sequence])\n",
    "    decoder_input = np.zeros((1, 1))\n",
    "    \n",
    "    # (log(1), initial_sos_token, current_state)\n",
    "    k_beam = [(0, [target_dict[SOS_TOKEN]], encoder_output_state)]\n",
    "\n",
    "    EOS_ID = target_dict[EOS_TOKEN]\n",
    "    for i in range(max_target_len):\n",
    "        all_k_beams = []\n",
    "        for prob, predictions, state in k_beam:\n",
    "            if predictions[-1] == EOS_ID:\n",
    "                all_k_beams.append((prob, predictions, state))\n",
    "                continue\n",
    "            \n",
    "            decoder_input[0,0] = predictions[-1]\n",
    "            dense_outputs, state_h, state_c = decoder_model.predict([decoder_input] + state)\n",
    "            \n",
    "            # Get indices of top k predictions (last k when sorted)\n",
    "            top_k = dense_outputs[0,0].argsort()[-k:]\n",
    "\n",
    "            # Add to all possible candidates for k-beams\n",
    "            all_k_beams += [\n",
    "                (\n",
    "                    # We subtract the log because it's negative\n",
    "                    # Same as adding but sorting in reverse\n",
    "                    prob - np.log(dense_outputs[0,0,next_word]),\n",
    "                    # Append next word to the copy of existing list\n",
    "                    list(predictions)+[next_word],\n",
    "                    # Set state to new decoder state\n",
    "                    [state_h, state_c]\n",
    "                )\n",
    "                for next_word in top_k\n",
    "            ]\n",
    "\n",
    "        # Get k best tuples sorted by score/length\n",
    "        k_beam = sorted(all_k_beams, key = lambda t: t[0]/len(t[1]))[:k]\n",
    "\n",
    "    # Return best sequence\n",
    "    return k_beam[0][1]\n",
    "\n",
    "def beam_search_predict(source_sequence, k=1):\n",
    "    target_sequence = beam_search_predict_sequence(source_sequence, k)\n",
    "    return sequence_to_sentence(target_sequence)"
   ]
  },
  {
   "cell_type": "markdown",
   "metadata": {
    "id": "Tyg7ka6K59YT"
   },
   "source": [
    "### Testing"
   ]
  },
  {
   "cell_type": "code",
   "execution_count": 89,
   "metadata": {
    "colab": {
     "base_uri": "https://localhost:8080/"
    },
    "executionInfo": {
     "elapsed": 11659,
     "status": "ok",
     "timestamp": 1617659336507,
     "user": {
      "displayName": "Vladimir Vuksanovic",
      "photoUrl": "https://lh3.googleusercontent.com/a-/AOh14GhDVInHUBph5hXktgkKO4i2JKO7UL5JRrz87Y5touM=s64",
      "userId": "04006842609994023267"
     },
     "user_tz": -120
    },
    "id": "8vxdsYJM59YT",
    "outputId": "0fce8a15-152a-47bb-f16b-298d94c7f3ff"
   },
   "outputs": [
    {
     "name": "stdout",
     "output_type": "stream",
     "text": [
      "source:\tWe run together.\n",
      "target:\tNous courons ensemble.\n",
      "greedy:\tnous avons vite\n",
      "beam:\tnous avons vite\n",
      "\n",
      "source:\tTom likes that.\n",
      "target:\tTom aime cela.\n",
      "greedy:\ttom aime ça\n",
      "beam:\ttom aime ça\n",
      "\n",
      "source:\tSee you tomorrow.\n",
      "target:\tNous nous verrons demain.\n",
      "greedy:\tà nous demain\n",
      "beam:\tà nous demain\n",
      "\n",
      "source:\tGive them to him.\n",
      "target:\tDonne-les-lui.\n",
      "greedy:\tdonne le lui\n",
      "beam:\tdonne le lui\n",
      "\n",
      "source:\tForget it!\n",
      "target:\tOubliez-le !\n",
      "greedy:\toublie\n",
      "beam:\toubliez ça\n",
      "\n",
      "source:\tI need more gold.\n",
      "target:\tJ'ai besoin de plus d'or.\n",
      "greedy:\tj'ai besoin de plus plus\n",
      "beam:\tj'ai besoin de plus plus\n",
      "\n",
      "source:\tI'll warn Tom.\n",
      "target:\tJe préviendrai Tom.\n",
      "greedy:\tje tom tom\n",
      "beam:\tje tom tom\n",
      "\n",
      "source:\tLet's vote.\n",
      "target:\tPassons au vote.\n",
      "greedy:\tallons nous\n",
      "beam:\tfaisons\n",
      "\n",
      "source:\tI keep a journal.\n",
      "target:\tJe tiens un journal.\n",
      "greedy:\tje vois un ami\n",
      "beam:\tje vois un ami\n",
      "\n",
      "source:\tI saw you.\n",
      "target:\tJe vous vis.\n",
      "greedy:\tje vous ai vu\n",
      "beam:\tje vous ai vu\n",
      "\n"
     ]
    }
   ],
   "source": [
    "indexes = np.random.randint(0, len(source_sentences), 10)\n",
    "\n",
    "sample_input_sequences = np.asarray(encoder_input_sequences[indexes])\n",
    "\n",
    "for i, index in enumerate(indexes):\n",
    "    print(\"source:\\t\" + source_sentences[index])\n",
    "    print(\"target:\\t\" + target_sentences_output[index][:-6])\n",
    "    print(\"greedy:\\t\" + predict(np.asarray([sample_input_sequences[i]])))\n",
    "    print(\"beam:\\t\" + beam_search_predict(np.asarray([sample_input_sequences[i]]), k=3))\n",
    "    print()"
   ]
  },
  {
   "cell_type": "markdown",
   "metadata": {
    "id": "F0l_RcVj59YT"
   },
   "source": [
    "## Analysis"
   ]
  },
  {
   "cell_type": "markdown",
   "metadata": {
    "id": "mzLP9jZZ59YT"
   },
   "source": [
    "### Ground truth comparison"
   ]
  },
  {
   "cell_type": "code",
   "execution_count": null,
   "metadata": {
    "id": "hCGJ6eEF59YU"
   },
   "outputs": [],
   "source": [
    "def to_sequence(sentence):\n",
    "    sequences = source_tokenizer.texts_to_sequences([sentence])\n",
    "    sequences[0].reverse()\n",
    "    sequences = pad_sequences(sequences, maxlen=max_source_len, padding='pre')\n",
    "#     print(sequences)\n",
    "    return sequences"
   ]
  },
  {
   "cell_type": "code",
   "execution_count": null,
   "metadata": {},
   "outputs": [],
   "source": [
    "print(predict(to_sequence(\"what time is it?\")))\n",
    "print(beam_search_predict(to_sequence(\"what time is it?\"), k=3))"
   ]
  },
  {
   "cell_type": "markdown",
   "metadata": {
    "id": "ImG_ayqq59YU"
   },
   "source": [
    "### 2D Encoder hidden state PCA"
   ]
  },
  {
   "cell_type": "code",
   "execution_count": null,
   "metadata": {
    "id": "9buyYthr59YU"
   },
   "outputs": [],
   "source": [
    "import pandas as pd\n",
    "from sklearn.decomposition import PCA\n",
    "import matplotlib.pyplot as plt"
   ]
  },
  {
   "cell_type": "code",
   "execution_count": null,
   "metadata": {
    "id": "ugvAMD5359YU"
   },
   "outputs": [],
   "source": [
    "# TODO Predict state for some sentences\n",
    "i = 0\n",
    "n = 5\n",
    "\n",
    "# Sample_sentences = [ ]\n",
    "sample_sentences = source_sentences[i:i+n+1]\n",
    "\n",
    "# TODO make make_sequence function\n",
    "source_sequences = source_tokenizer.texts_to_sequences(sample_sentences)\n",
    "# Reverse source sequnces\n",
    "for sequence in source_sequences:\n",
    "    sequence.reverse()\n",
    "sample_sequences = pad_sequences(source_sequences, maxlen=max_source_len, padding='pre')\n",
    "\n",
    "sample_inputs = encoder_model.predict(sample_sequences)[0]\n",
    "\n",
    "# print(sample_sentences)\n",
    "# print(sample_inputs)\n",
    "\n",
    "pca = PCA(n_components=2)\n",
    "pca.fit(sample_inputs)\n",
    "pca_inputs = pca.transform(sample_inputs)\n",
    "\n",
    "plt.scatter(pca_inputs[:,0], pca_inputs[:,1])\n",
    "for i in range(len(sample_sentences)):\n",
    "    plt.text(pca_inputs[i,0], pca_inputs[i, 1], sample_sentences[i])"
   ]
  },
  {
   "cell_type": "markdown",
   "metadata": {
    "id": "bcq1whW159YU"
   },
   "source": [
    "### BLEU score\n",
    "\n",
    "BLEU (Bilingual Evaluation Understudy) is a score for comparing machine-translated text to one or more reference translations made by a human. Scoring usuall works on indiviual sentences and is then averaged on the entire text. Scores have a value between 0 and 1.\n",
    "\n",
    "For more info:\n",
    "- https://en.wikipedia.org/wiki/BLEU\n",
    "- https://machinelearningmastery.com/calculate-bleu-score-for-text-python/\n",
    "- https://towardsdatascience.com/bleu-bilingual-evaluation-understudy-2b4eab9bcfd1"
   ]
  },
  {
   "cell_type": "code",
   "execution_count": 25,
   "metadata": {
    "id": "uu-PwXCQ59YV"
   },
   "outputs": [],
   "source": [
    "from nltk.translate.bleu_score import sentence_bleu, corpus_bleu"
   ]
  },
  {
   "cell_type": "code",
   "execution_count": null,
   "metadata": {},
   "outputs": [],
   "source": [
    "indexes = np.random.randint(0, len(source_sentences), 10)\n",
    "\n",
    "sample_input_sequences = np.asarray(encoder_input_sequences[indexes])\n",
    "sample_output_sequences = []\n",
    "sample_predictions = []\n",
    "sample_predictions_beam = []\n",
    "\n",
    "for index in indexes:\n",
    "    target_sequence = target_sentences_output[index].split(' ')[:-1]\n",
    "    prediction_sequence = predict_sequence(np.asarray([sample_input_sequences[i]]))\n",
    "    prediction_sequence_beam = beam_search_predict_sequence(np.asarray([sample_input_sequences[i]]), k=3)\n",
    "    \n",
    "    sample_output_sequences.append([target_sequence])\n",
    "    sample_predictions.append(prediction_sequence)\n",
    "    sample_predictions_beam.append(prediction_sequence_beam)\n",
    "    \n",
    "    print(f\"source:\\t {source_sentences[index]}\")\n",
    "    print(f\"target:\\t {target_sequence}\")\n",
    "    print(f\"prediction:\\t {prediction_sequence}\")\n",
    "    print(f\"beam:\\t {prediction_sequence_beam}\")\n",
    "    print(f\"score:\\t {sentence_bleu([target], prediction_sequence)}\")\n",
    "    print(f\"score:\\t {sentence_bleu([target], prediction_sequence_beam)}\")\n",
    "\n",
    "print(f\"regular corpus score:\\t {corpus_bleu(sample_output_sequences, sample_predictions)}\")\n",
    "print(f\"beam corpus score:\\t {corpus_bleu(sample_output_sequences, sample_predictions_beam)}\")"
   ]
  },
  {
   "cell_type": "markdown",
   "metadata": {
    "id": "rLz-6PUz59YV"
   },
   "source": [
    "# References"
   ]
  },
  {
   "cell_type": "markdown",
   "metadata": {
    "id": "7rabl2a859YV"
   },
   "source": [
    "- https://arxiv.org/abs/1409.3215\n",
    "- https://arxiv.org/abs/1406.1078\n",
    "- https://arxiv.org/abs/1609.08144\n",
    "- https://keras.io/examples/nlp/lstm_seq2seq/\n",
    "- https://nlp.stanford.edu/projects/glove/"
   ]
  }
 ],
 "metadata": {
  "colab": {
   "name": "Automatic_Translation.ipynb",
   "provenance": [],
   "toc_visible": true
  },
  "kernelspec": {
   "display_name": "Python 3 (ipykernel)",
   "language": "python",
   "name": "python3"
  },
  "language_info": {
   "codemirror_mode": {
    "name": "ipython",
    "version": 3
   },
   "file_extension": ".py",
   "mimetype": "text/x-python",
   "name": "python",
   "nbconvert_exporter": "python",
   "pygments_lexer": "ipython3",
   "version": "3.8.10"
  }
 },
 "nbformat": 4,
 "nbformat_minor": 1
}
